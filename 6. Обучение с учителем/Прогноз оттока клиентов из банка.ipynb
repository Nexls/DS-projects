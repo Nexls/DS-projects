{
 "cells": [
  {
   "cell_type": "markdown",
   "metadata": {},
   "source": [
    "# Отток клиентов"
   ]
  },
  {
   "cell_type": "markdown",
   "metadata": {},
   "source": [
    "Из «Бета-Банка» стали уходить клиенты. Каждый месяц. Немного, но заметно. Банковские маркетологи посчитали: сохранять текущих клиентов дешевле, чем привлекать новых.\n",
    "\n",
    "Нужно спрогнозировать, уйдёт клиент из банка в ближайшее время или нет. Вам предоставлены исторические данные о поведении клиентов и расторжении договоров с банком. \n",
    "\n",
    "Постройте модель с предельно большим значением *F1*-меры. Чтобы сдать проект успешно, нужно довести метрику до 0.59. Проверьте *F1*-меру на тестовой выборке самостоятельно.\n",
    "\n",
    "Дополнительно измеряйте *AUC-ROC*, сравнивайте её значение с *F1*-мерой.\n",
    "\n",
    "Источник данных: [https://www.kaggle.com/barelydedicated/bank-customer-churn-modeling](https://www.kaggle.com/barelydedicated/bank-customer-churn-modeling)"
   ]
  },
  {
   "cell_type": "markdown",
   "metadata": {},
   "source": [
    "---\n",
    "# 1. Подготовка данных"
   ]
  },
  {
   "cell_type": "markdown",
   "metadata": {},
   "source": [
    "### Импортируем необходимые библиотеки"
   ]
  },
  {
   "cell_type": "code",
   "execution_count": 861,
   "metadata": {},
   "outputs": [],
   "source": [
    "import pandas as pd\n",
    "import numpy as np\n",
    "import matplotlib.pyplot as plt\n",
    "from sklearn.model_selection import train_test_split\n",
    "from sklearn.metrics import f1_score"
   ]
  },
  {
   "cell_type": "markdown",
   "metadata": {},
   "source": [
    "### Считываем данные"
   ]
  },
  {
   "cell_type": "code",
   "execution_count": 862,
   "metadata": {},
   "outputs": [
    {
     "name": "stdout",
     "output_type": "stream",
     "text": [
      "<class 'pandas.core.frame.DataFrame'>\n",
      "RangeIndex: 10000 entries, 0 to 9999\n",
      "Data columns (total 15 columns):\n",
      "Unnamed: 0         10000 non-null int64\n",
      "RowNumber          10000 non-null int64\n",
      "CustomerId         10000 non-null int64\n",
      "Surname            10000 non-null object\n",
      "CreditScore        10000 non-null int64\n",
      "Geography          10000 non-null object\n",
      "Gender             10000 non-null object\n",
      "Age                10000 non-null int64\n",
      "Tenure             9091 non-null float64\n",
      "Balance            10000 non-null float64\n",
      "NumOfProducts      10000 non-null int64\n",
      "HasCrCard          10000 non-null int64\n",
      "IsActiveMember     10000 non-null int64\n",
      "EstimatedSalary    10000 non-null float64\n",
      "Exited             10000 non-null int64\n",
      "dtypes: float64(3), int64(9), object(3)\n",
      "memory usage: 1.1+ MB\n",
      "None\n"
     ]
    },
    {
     "data": {
      "text/html": [
       "<div>\n",
       "<style scoped>\n",
       "    .dataframe tbody tr th:only-of-type {\n",
       "        vertical-align: middle;\n",
       "    }\n",
       "\n",
       "    .dataframe tbody tr th {\n",
       "        vertical-align: top;\n",
       "    }\n",
       "\n",
       "    .dataframe thead th {\n",
       "        text-align: right;\n",
       "    }\n",
       "</style>\n",
       "<table border=\"1\" class=\"dataframe\">\n",
       "  <thead>\n",
       "    <tr style=\"text-align: right;\">\n",
       "      <th></th>\n",
       "      <th>Unnamed: 0</th>\n",
       "      <th>RowNumber</th>\n",
       "      <th>CustomerId</th>\n",
       "      <th>Surname</th>\n",
       "      <th>CreditScore</th>\n",
       "      <th>Geography</th>\n",
       "      <th>Gender</th>\n",
       "      <th>Age</th>\n",
       "      <th>Tenure</th>\n",
       "      <th>Balance</th>\n",
       "      <th>NumOfProducts</th>\n",
       "      <th>HasCrCard</th>\n",
       "      <th>IsActiveMember</th>\n",
       "      <th>EstimatedSalary</th>\n",
       "      <th>Exited</th>\n",
       "    </tr>\n",
       "  </thead>\n",
       "  <tbody>\n",
       "    <tr>\n",
       "      <td>0</td>\n",
       "      <td>0</td>\n",
       "      <td>1</td>\n",
       "      <td>15634602</td>\n",
       "      <td>Hargrave</td>\n",
       "      <td>619</td>\n",
       "      <td>France</td>\n",
       "      <td>Female</td>\n",
       "      <td>42</td>\n",
       "      <td>2.0</td>\n",
       "      <td>0.00</td>\n",
       "      <td>1</td>\n",
       "      <td>1</td>\n",
       "      <td>1</td>\n",
       "      <td>101348.88</td>\n",
       "      <td>1</td>\n",
       "    </tr>\n",
       "    <tr>\n",
       "      <td>1</td>\n",
       "      <td>1</td>\n",
       "      <td>2</td>\n",
       "      <td>15647311</td>\n",
       "      <td>Hill</td>\n",
       "      <td>608</td>\n",
       "      <td>Spain</td>\n",
       "      <td>Female</td>\n",
       "      <td>41</td>\n",
       "      <td>1.0</td>\n",
       "      <td>83807.86</td>\n",
       "      <td>1</td>\n",
       "      <td>0</td>\n",
       "      <td>1</td>\n",
       "      <td>112542.58</td>\n",
       "      <td>0</td>\n",
       "    </tr>\n",
       "    <tr>\n",
       "      <td>2</td>\n",
       "      <td>2</td>\n",
       "      <td>3</td>\n",
       "      <td>15619304</td>\n",
       "      <td>Onio</td>\n",
       "      <td>502</td>\n",
       "      <td>France</td>\n",
       "      <td>Female</td>\n",
       "      <td>42</td>\n",
       "      <td>8.0</td>\n",
       "      <td>159660.80</td>\n",
       "      <td>3</td>\n",
       "      <td>1</td>\n",
       "      <td>0</td>\n",
       "      <td>113931.57</td>\n",
       "      <td>1</td>\n",
       "    </tr>\n",
       "    <tr>\n",
       "      <td>3</td>\n",
       "      <td>3</td>\n",
       "      <td>4</td>\n",
       "      <td>15701354</td>\n",
       "      <td>Boni</td>\n",
       "      <td>699</td>\n",
       "      <td>France</td>\n",
       "      <td>Female</td>\n",
       "      <td>39</td>\n",
       "      <td>1.0</td>\n",
       "      <td>0.00</td>\n",
       "      <td>2</td>\n",
       "      <td>0</td>\n",
       "      <td>0</td>\n",
       "      <td>93826.63</td>\n",
       "      <td>0</td>\n",
       "    </tr>\n",
       "    <tr>\n",
       "      <td>4</td>\n",
       "      <td>4</td>\n",
       "      <td>5</td>\n",
       "      <td>15737888</td>\n",
       "      <td>Mitchell</td>\n",
       "      <td>850</td>\n",
       "      <td>Spain</td>\n",
       "      <td>Female</td>\n",
       "      <td>43</td>\n",
       "      <td>2.0</td>\n",
       "      <td>125510.82</td>\n",
       "      <td>1</td>\n",
       "      <td>1</td>\n",
       "      <td>1</td>\n",
       "      <td>79084.10</td>\n",
       "      <td>0</td>\n",
       "    </tr>\n",
       "  </tbody>\n",
       "</table>\n",
       "</div>"
      ],
      "text/plain": [
       "   Unnamed: 0  RowNumber  CustomerId   Surname  CreditScore Geography  Gender  \\\n",
       "0           0          1    15634602  Hargrave          619    France  Female   \n",
       "1           1          2    15647311      Hill          608     Spain  Female   \n",
       "2           2          3    15619304      Onio          502    France  Female   \n",
       "3           3          4    15701354      Boni          699    France  Female   \n",
       "4           4          5    15737888  Mitchell          850     Spain  Female   \n",
       "\n",
       "   Age  Tenure    Balance  NumOfProducts  HasCrCard  IsActiveMember  \\\n",
       "0   42     2.0       0.00              1          1               1   \n",
       "1   41     1.0   83807.86              1          0               1   \n",
       "2   42     8.0  159660.80              3          1               0   \n",
       "3   39     1.0       0.00              2          0               0   \n",
       "4   43     2.0  125510.82              1          1               1   \n",
       "\n",
       "   EstimatedSalary  Exited  \n",
       "0        101348.88       1  \n",
       "1        112542.58       0  \n",
       "2        113931.57       1  \n",
       "3         93826.63       0  \n",
       "4         79084.10       0  "
      ]
     },
     "execution_count": 862,
     "metadata": {},
     "output_type": "execute_result"
    }
   ],
   "source": [
    "churn_df = pd.read_csv('D:/3D Objects/Praktikum/Data/Churn.csv')\n",
    "print(churn_df.info())\n",
    "churn_df.head()"
   ]
  },
  {
   "cell_type": "markdown",
   "metadata": {},
   "source": [
    "Имеем таблицу с **10000** строками, есть около 1000 проусков в столбце **Tenure** (количество недвижимости).\n",
    "\n",
    "### Описание данных\n",
    " - **RowNumber** — индекс строки в данных\n",
    " - **CustomerId** — уникальный идентификатор клиента\n",
    " - **Surname** — фамилия\n",
    " - **CreditScore** — кредитный рейтинг\n",
    " - **Geography** — страна проживания\n",
    " - **Gender** — пол\n",
    " - **Age** — возраст\n",
    " - **Tenure** — количество недвижимости у клиента\n",
    " - **Balance** — баланс на счёте\n",
    " - **NumOfProducts** — количество продуктов банка, используемых клиентом\n",
    " - **HasCrCard** — наличие кредитной карты\n",
    " - **IsActiveMember** — активность клиента\n",
    " - **EstimatedSalary** — предполагаемая зарплата\n",
    " - **Exited** — факт ухода клиента\n",
    "\n",
    "Предстоит предсказывать значение столбца **Exited** по значениям в других столбцах."
   ]
  },
  {
   "cell_type": "markdown",
   "metadata": {},
   "source": [
    "### Предобработка данных\n",
    "\n",
    "Необходимо заполнить пропуски в столбце **Tenure**.\n",
    "Для выбора метода заполнения взглянем, какие значения встречаются в этом столбце:"
   ]
  },
  {
   "cell_type": "code",
   "execution_count": 863,
   "metadata": {},
   "outputs": [
    {
     "data": {
      "text/plain": [
       "1.0     952\n",
       "2.0     950\n",
       "8.0     933\n",
       "3.0     928\n",
       "5.0     927\n",
       "7.0     925\n",
       "4.0     885\n",
       "9.0     882\n",
       "6.0     881\n",
       "10.0    446\n",
       "0.0     382\n",
       "Name: Tenure, dtype: int64"
      ]
     },
     "execution_count": 863,
     "metadata": {},
     "output_type": "execute_result"
    }
   ],
   "source": [
    "churn_df.Tenure.value_counts()"
   ]
  },
  {
   "cell_type": "markdown",
   "metadata": {},
   "source": [
    "Видим, что данные в столбце распределены равномерно в диапазоне от 0 до 10, выбросов нет.\\\n",
    "Уместным будет заполнение **медианой**, округленной до ближайшего целого числа (т.к. количество недвижимости может быть представлено только целыми числами)."
   ]
  },
  {
   "cell_type": "code",
   "execution_count": 864,
   "metadata": {},
   "outputs": [
    {
     "data": {
      "text/plain": [
       "5.0     1836\n",
       "1.0      952\n",
       "2.0      950\n",
       "8.0      933\n",
       "3.0      928\n",
       "7.0      925\n",
       "4.0      885\n",
       "9.0      882\n",
       "6.0      881\n",
       "10.0     446\n",
       "0.0      382\n",
       "Name: Tenure, dtype: int64"
      ]
     },
     "execution_count": 864,
     "metadata": {},
     "output_type": "execute_result"
    }
   ],
   "source": [
    "churn_df['Tenure'] = churn_df.Tenure.fillna(round(churn_df.Tenure.median()))\n",
    "churn_df.Tenure.value_counts()"
   ]
  },
  {
   "cell_type": "markdown",
   "metadata": {},
   "source": [
    "### Подготовка данных для обучения моделей\n",
    "Для корректного обучения некоторых моделей необходимо заменить строковые данные на численные, т.е. провести кодирование.\\\n",
    "Это столбцы: **Surname, Geography, Gender**.\n",
    "\n",
    "Также стоит исключить столбцы **RowNumber** и **Unnamed: 0** из таблицы, поскольку они не несут в себе никакой информации о клиентах, а лишь показывают номер строки.\\\n",
    "Аналогично, столбец **CustomerId**, указывает лишь номер id клиента в базе банка, никак не характеризуя его.\\\n",
    "Столбец **Surname** содержит фамилию, следовательно, не несет в себе информацию, полезную для выявления клиентов, планирующих уход из банка (в теории, может присутствовать некоторая зависимость между фамилией и шансом ухода из банка, однако модель, очевидно, не сможет распознать её)."
   ]
  },
  {
   "cell_type": "code",
   "execution_count": 865,
   "metadata": {},
   "outputs": [
    {
     "data": {
      "text/html": [
       "<div>\n",
       "<style scoped>\n",
       "    .dataframe tbody tr th:only-of-type {\n",
       "        vertical-align: middle;\n",
       "    }\n",
       "\n",
       "    .dataframe tbody tr th {\n",
       "        vertical-align: top;\n",
       "    }\n",
       "\n",
       "    .dataframe thead th {\n",
       "        text-align: right;\n",
       "    }\n",
       "</style>\n",
       "<table border=\"1\" class=\"dataframe\">\n",
       "  <thead>\n",
       "    <tr style=\"text-align: right;\">\n",
       "      <th></th>\n",
       "      <th>CreditScore</th>\n",
       "      <th>Geography</th>\n",
       "      <th>Gender</th>\n",
       "      <th>Age</th>\n",
       "      <th>Tenure</th>\n",
       "      <th>Balance</th>\n",
       "      <th>NumOfProducts</th>\n",
       "      <th>HasCrCard</th>\n",
       "      <th>IsActiveMember</th>\n",
       "      <th>EstimatedSalary</th>\n",
       "      <th>Exited</th>\n",
       "    </tr>\n",
       "  </thead>\n",
       "  <tbody>\n",
       "    <tr>\n",
       "      <td>0</td>\n",
       "      <td>619</td>\n",
       "      <td>France</td>\n",
       "      <td>Female</td>\n",
       "      <td>42</td>\n",
       "      <td>2.0</td>\n",
       "      <td>0.00</td>\n",
       "      <td>1</td>\n",
       "      <td>1</td>\n",
       "      <td>1</td>\n",
       "      <td>101348.88</td>\n",
       "      <td>1</td>\n",
       "    </tr>\n",
       "    <tr>\n",
       "      <td>1</td>\n",
       "      <td>608</td>\n",
       "      <td>Spain</td>\n",
       "      <td>Female</td>\n",
       "      <td>41</td>\n",
       "      <td>1.0</td>\n",
       "      <td>83807.86</td>\n",
       "      <td>1</td>\n",
       "      <td>0</td>\n",
       "      <td>1</td>\n",
       "      <td>112542.58</td>\n",
       "      <td>0</td>\n",
       "    </tr>\n",
       "    <tr>\n",
       "      <td>2</td>\n",
       "      <td>502</td>\n",
       "      <td>France</td>\n",
       "      <td>Female</td>\n",
       "      <td>42</td>\n",
       "      <td>8.0</td>\n",
       "      <td>159660.80</td>\n",
       "      <td>3</td>\n",
       "      <td>1</td>\n",
       "      <td>0</td>\n",
       "      <td>113931.57</td>\n",
       "      <td>1</td>\n",
       "    </tr>\n",
       "  </tbody>\n",
       "</table>\n",
       "</div>"
      ],
      "text/plain": [
       "   CreditScore Geography  Gender  Age  Tenure    Balance  NumOfProducts  \\\n",
       "0          619    France  Female   42     2.0       0.00              1   \n",
       "1          608     Spain  Female   41     1.0   83807.86              1   \n",
       "2          502    France  Female   42     8.0  159660.80              3   \n",
       "\n",
       "   HasCrCard  IsActiveMember  EstimatedSalary  Exited  \n",
       "0          1               1        101348.88       1  \n",
       "1          0               1        112542.58       0  \n",
       "2          1               0        113931.57       1  "
      ]
     },
     "execution_count": 865,
     "metadata": {},
     "output_type": "execute_result"
    }
   ],
   "source": [
    "churn_df = churn_df.drop(['RowNumber', 'Unnamed: 0', 'CustomerId', 'Surname'], axis=1)\n",
    "churn_df.head(3)"
   ]
  },
  {
   "cell_type": "markdown",
   "metadata": {},
   "source": [
    "#### Gender\n",
    "\n",
    "Поскольку данные в этом столбце могут принимать всего два значения, применим **прямое кодирование** (**One-Hot Encoding**).\\\n",
    "Подойдет метод **get_dummies** библиотеки **pandas**, однако, чтобы не создавать новые столбцы, воспользуемся методом **replace()**."
   ]
  },
  {
   "cell_type": "code",
   "execution_count": 866,
   "metadata": {},
   "outputs": [
    {
     "name": "stdout",
     "output_type": "stream",
     "text": [
      "Male      5457\n",
      "Female    4543\n",
      "Name: Gender, dtype: int64\n"
     ]
    },
    {
     "data": {
      "text/plain": [
       "0    5457\n",
       "1    4543\n",
       "Name: Gender, dtype: int64"
      ]
     },
     "execution_count": 866,
     "metadata": {},
     "output_type": "execute_result"
    }
   ],
   "source": [
    "print(churn_df.Gender.value_counts())\n",
    "churn_df['Gender'] = churn_df.Gender.replace(['Male', 'Female'], [0, 1])\n",
    "churn_df.Gender.value_counts()"
   ]
  },
  {
   "cell_type": "markdown",
   "metadata": {},
   "source": [
    "#### Geography\n",
    "\n",
    "Для выбора подходящего метода кодирования узнаем, сколько различных значений могут принимать данные в этом столбце."
   ]
  },
  {
   "cell_type": "code",
   "execution_count": 867,
   "metadata": {},
   "outputs": [
    {
     "data": {
      "text/plain": [
       "France     5014\n",
       "Germany    2509\n",
       "Spain      2477\n",
       "Name: Geography, dtype: int64"
      ]
     },
     "execution_count": 867,
     "metadata": {},
     "output_type": "execute_result"
    }
   ],
   "source": [
    "churn_df.Geography.value_counts()"
   ]
  },
  {
   "cell_type": "markdown",
   "metadata": {},
   "source": [
    "Всего 3 различных значения. Оптимальным будет **прямое кодирование** (**One-Hot Encoding**).\\\n",
    "Воспользуемся методом **pd.get_dummies** с параметром **drop_first=True**, чтобы не создавать третий столбец, данные в котором напрямую зависят от двух других столбцов."
   ]
  },
  {
   "cell_type": "code",
   "execution_count": 868,
   "metadata": {},
   "outputs": [
    {
     "data": {
      "text/html": [
       "<div>\n",
       "<style scoped>\n",
       "    .dataframe tbody tr th:only-of-type {\n",
       "        vertical-align: middle;\n",
       "    }\n",
       "\n",
       "    .dataframe tbody tr th {\n",
       "        vertical-align: top;\n",
       "    }\n",
       "\n",
       "    .dataframe thead th {\n",
       "        text-align: right;\n",
       "    }\n",
       "</style>\n",
       "<table border=\"1\" class=\"dataframe\">\n",
       "  <thead>\n",
       "    <tr style=\"text-align: right;\">\n",
       "      <th></th>\n",
       "      <th>CreditScore</th>\n",
       "      <th>Gender</th>\n",
       "      <th>Age</th>\n",
       "      <th>Tenure</th>\n",
       "      <th>Balance</th>\n",
       "      <th>NumOfProducts</th>\n",
       "      <th>HasCrCard</th>\n",
       "      <th>IsActiveMember</th>\n",
       "      <th>EstimatedSalary</th>\n",
       "      <th>Exited</th>\n",
       "      <th>Geography_Germany</th>\n",
       "      <th>Geography_Spain</th>\n",
       "    </tr>\n",
       "  </thead>\n",
       "  <tbody>\n",
       "    <tr>\n",
       "      <td>0</td>\n",
       "      <td>619</td>\n",
       "      <td>1</td>\n",
       "      <td>42</td>\n",
       "      <td>2.0</td>\n",
       "      <td>0.00</td>\n",
       "      <td>1</td>\n",
       "      <td>1</td>\n",
       "      <td>1</td>\n",
       "      <td>101348.88</td>\n",
       "      <td>1</td>\n",
       "      <td>0</td>\n",
       "      <td>0</td>\n",
       "    </tr>\n",
       "    <tr>\n",
       "      <td>1</td>\n",
       "      <td>608</td>\n",
       "      <td>1</td>\n",
       "      <td>41</td>\n",
       "      <td>1.0</td>\n",
       "      <td>83807.86</td>\n",
       "      <td>1</td>\n",
       "      <td>0</td>\n",
       "      <td>1</td>\n",
       "      <td>112542.58</td>\n",
       "      <td>0</td>\n",
       "      <td>0</td>\n",
       "      <td>1</td>\n",
       "    </tr>\n",
       "    <tr>\n",
       "      <td>2</td>\n",
       "      <td>502</td>\n",
       "      <td>1</td>\n",
       "      <td>42</td>\n",
       "      <td>8.0</td>\n",
       "      <td>159660.80</td>\n",
       "      <td>3</td>\n",
       "      <td>1</td>\n",
       "      <td>0</td>\n",
       "      <td>113931.57</td>\n",
       "      <td>1</td>\n",
       "      <td>0</td>\n",
       "      <td>0</td>\n",
       "    </tr>\n",
       "  </tbody>\n",
       "</table>\n",
       "</div>"
      ],
      "text/plain": [
       "   CreditScore  Gender  Age  Tenure    Balance  NumOfProducts  HasCrCard  \\\n",
       "0          619       1   42     2.0       0.00              1          1   \n",
       "1          608       1   41     1.0   83807.86              1          0   \n",
       "2          502       1   42     8.0  159660.80              3          1   \n",
       "\n",
       "   IsActiveMember  EstimatedSalary  Exited  Geography_Germany  Geography_Spain  \n",
       "0               1        101348.88       1                  0                0  \n",
       "1               1        112542.58       0                  0                1  \n",
       "2               0        113931.57       1                  0                0  "
      ]
     },
     "execution_count": 868,
     "metadata": {},
     "output_type": "execute_result"
    }
   ],
   "source": [
    "churn_df = pd.get_dummies(churn_df, columns=['Geography'], drop_first=True)\n",
    "churn_df.head(3)"
   ]
  },
  {
   "cell_type": "markdown",
   "metadata": {},
   "source": [
    "### Масштабирование признаков\n",
    "\n",
    "Поскольку в таблице присутствуют признаки с разными разбросами значений, модель может посчитать признаки с большими значениями и разбросами важнее. Чтобы избежать этого, проведем стандартизацию данных."
   ]
  },
  {
   "cell_type": "code",
   "execution_count": 869,
   "metadata": {},
   "outputs": [
    {
     "data": {
      "text/html": [
       "<div>\n",
       "<style scoped>\n",
       "    .dataframe tbody tr th:only-of-type {\n",
       "        vertical-align: middle;\n",
       "    }\n",
       "\n",
       "    .dataframe tbody tr th {\n",
       "        vertical-align: top;\n",
       "    }\n",
       "\n",
       "    .dataframe thead th {\n",
       "        text-align: right;\n",
       "    }\n",
       "</style>\n",
       "<table border=\"1\" class=\"dataframe\">\n",
       "  <thead>\n",
       "    <tr style=\"text-align: right;\">\n",
       "      <th></th>\n",
       "      <th>CreditScore</th>\n",
       "      <th>Gender</th>\n",
       "      <th>Age</th>\n",
       "      <th>Tenure</th>\n",
       "      <th>Balance</th>\n",
       "      <th>NumOfProducts</th>\n",
       "      <th>HasCrCard</th>\n",
       "      <th>IsActiveMember</th>\n",
       "      <th>EstimatedSalary</th>\n",
       "      <th>Exited</th>\n",
       "      <th>Geography_Germany</th>\n",
       "      <th>Geography_Spain</th>\n",
       "    </tr>\n",
       "  </thead>\n",
       "  <tbody>\n",
       "    <tr>\n",
       "      <td>0</td>\n",
       "      <td>-0.326221</td>\n",
       "      <td>1</td>\n",
       "      <td>0.293517</td>\n",
       "      <td>-1.086246</td>\n",
       "      <td>-1.225848</td>\n",
       "      <td>-0.911583</td>\n",
       "      <td>1</td>\n",
       "      <td>1</td>\n",
       "      <td>0.021886</td>\n",
       "      <td>1</td>\n",
       "      <td>0</td>\n",
       "      <td>0</td>\n",
       "    </tr>\n",
       "    <tr>\n",
       "      <td>1</td>\n",
       "      <td>-0.440036</td>\n",
       "      <td>1</td>\n",
       "      <td>0.198164</td>\n",
       "      <td>-1.448581</td>\n",
       "      <td>0.117350</td>\n",
       "      <td>-0.911583</td>\n",
       "      <td>0</td>\n",
       "      <td>1</td>\n",
       "      <td>0.216534</td>\n",
       "      <td>0</td>\n",
       "      <td>0</td>\n",
       "      <td>1</td>\n",
       "    </tr>\n",
       "    <tr>\n",
       "      <td>2</td>\n",
       "      <td>-1.536794</td>\n",
       "      <td>1</td>\n",
       "      <td>0.293517</td>\n",
       "      <td>1.087768</td>\n",
       "      <td>1.333053</td>\n",
       "      <td>2.527057</td>\n",
       "      <td>1</td>\n",
       "      <td>0</td>\n",
       "      <td>0.240687</td>\n",
       "      <td>1</td>\n",
       "      <td>0</td>\n",
       "      <td>0</td>\n",
       "    </tr>\n",
       "    <tr>\n",
       "      <td>3</td>\n",
       "      <td>0.501521</td>\n",
       "      <td>1</td>\n",
       "      <td>0.007457</td>\n",
       "      <td>-1.448581</td>\n",
       "      <td>-1.225848</td>\n",
       "      <td>0.807737</td>\n",
       "      <td>0</td>\n",
       "      <td>0</td>\n",
       "      <td>-0.108918</td>\n",
       "      <td>0</td>\n",
       "      <td>0</td>\n",
       "      <td>0</td>\n",
       "    </tr>\n",
       "    <tr>\n",
       "      <td>4</td>\n",
       "      <td>2.063884</td>\n",
       "      <td>1</td>\n",
       "      <td>0.388871</td>\n",
       "      <td>-1.086246</td>\n",
       "      <td>0.785728</td>\n",
       "      <td>-0.911583</td>\n",
       "      <td>1</td>\n",
       "      <td>1</td>\n",
       "      <td>-0.365276</td>\n",
       "      <td>0</td>\n",
       "      <td>0</td>\n",
       "      <td>1</td>\n",
       "    </tr>\n",
       "  </tbody>\n",
       "</table>\n",
       "</div>"
      ],
      "text/plain": [
       "   CreditScore  Gender       Age    Tenure   Balance  NumOfProducts  \\\n",
       "0    -0.326221       1  0.293517 -1.086246 -1.225848      -0.911583   \n",
       "1    -0.440036       1  0.198164 -1.448581  0.117350      -0.911583   \n",
       "2    -1.536794       1  0.293517  1.087768  1.333053       2.527057   \n",
       "3     0.501521       1  0.007457 -1.448581 -1.225848       0.807737   \n",
       "4     2.063884       1  0.388871 -1.086246  0.785728      -0.911583   \n",
       "\n",
       "   HasCrCard  IsActiveMember  EstimatedSalary  Exited  Geography_Germany  \\\n",
       "0          1               1         0.021886       1                  0   \n",
       "1          0               1         0.216534       0                  0   \n",
       "2          1               0         0.240687       1                  0   \n",
       "3          0               0        -0.108918       0                  0   \n",
       "4          1               1        -0.365276       0                  0   \n",
       "\n",
       "   Geography_Spain  \n",
       "0                0  \n",
       "1                1  \n",
       "2                0  \n",
       "3                0  \n",
       "4                1  "
      ]
     },
     "execution_count": 869,
     "metadata": {},
     "output_type": "execute_result"
    }
   ],
   "source": [
    "from sklearn.preprocessing import StandardScaler\n",
    "\n",
    "# столбцы для масштабирования\n",
    "numeric = ['CreditScore', 'Age', 'Tenure', 'Balance', 'NumOfProducts', 'EstimatedSalary']\n",
    "\n",
    "scaler = StandardScaler()\n",
    "scaler.fit(churn_df[numeric])\n",
    "churn_df_scaled = churn_df\n",
    "churn_df_scaled[numeric] = scaler.transform(churn_df[numeric])\n",
    "churn_df_scaled.head(5)"
   ]
  },
  {
   "cell_type": "markdown",
   "metadata": {},
   "source": [
    "### Разделение на выборки\n",
    "\n",
    "Поскольку мы не имеем отдельных тестовых данных для проверки моделей, разделим данные в соотношении **3:1:1** \\\n",
    "**- Обучающая, Валидационная и Тестовая** выборки соответственно."
   ]
  },
  {
   "cell_type": "code",
   "execution_count": 870,
   "metadata": {},
   "outputs": [
    {
     "name": "stdout",
     "output_type": "stream",
     "text": [
      "train lenght: 6000\n",
      "valid lenght: 2000\n",
      "test lenght: 2000\n"
     ]
    }
   ],
   "source": [
    "from sklearn.model_selection import train_test_split\n",
    "\n",
    "df_train, df_test_and_valid = train_test_split(churn_df_scaled, test_size=0.4, random_state=42)\n",
    "df_test, df_valid = train_test_split(df_test_and_valid, test_size=0.5, random_state=42)\n",
    "print('train lenght:', len(df_train))\n",
    "print('valid lenght:', len(df_valid))\n",
    "print('test lenght:', len(df_test))"
   ]
  },
  {
   "cell_type": "markdown",
   "metadata": {},
   "source": [
    "Теперь создадим функцию, которая разделит выборки на **признаки (features)** и **целевой признак (target)**."
   ]
  },
  {
   "cell_type": "code",
   "execution_count": 871,
   "metadata": {},
   "outputs": [],
   "source": [
    "def features_target_split(df, target):\n",
    "    features = df.drop([target], axis=1)\n",
    "    target = df[target]\n",
    "    return features, target\n",
    "\n",
    "train_features, train_target = features_target_split(df_train, 'Exited')\n",
    "valid_features, valid_target = features_target_split(df_valid, 'Exited')\n",
    "test_features, test_target = features_target_split(df_test, 'Exited')"
   ]
  },
  {
   "cell_type": "markdown",
   "metadata": {},
   "source": [
    "Также подготовим объединенный датасет из обучающей и валидационной выборок, чтобы модели лучше обучились перед финальным тестированием."
   ]
  },
  {
   "cell_type": "code",
   "execution_count": 872,
   "metadata": {},
   "outputs": [
    {
     "name": "stdout",
     "output_type": "stream",
     "text": [
      "features: 8000 target: 8000\n"
     ]
    }
   ],
   "source": [
    "final_features = train_features.append(valid_features)\n",
    "final_target = train_target.append(valid_target)\n",
    "print('features:', len(final_features), 'target:', len(final_target))"
   ]
  },
  {
   "cell_type": "markdown",
   "metadata": {},
   "source": [
    "## Вывод\n",
    "\n",
    "Загружена и изучена таблица с данными о поведении клиентов, устранены имевшиеся проблемы, а именно:\n",
    "- Пропуски в столбце **Tenure** (Недвижимость) заменены **медианой**.\n",
    "- Удалены столбцы, не требующиеся для обучения модели: **Unnamed: 0, RowNumber, CustomerId, Surname**.\n",
    "- Проведено прямое кодирование столбцов **Gender** и **Geography**.\n",
    "- Выполнено масштабирование признаков.\n",
    "- Данные разделены на три выборки: **обучающую, валидационную и тестовую**.\n",
    "\n",
    "Все готово для обучения моделей."
   ]
  },
  {
   "cell_type": "markdown",
   "metadata": {},
   "source": [
    "---\n",
    "# 2. Исследование задачи"
   ]
  },
  {
   "cell_type": "markdown",
   "metadata": {},
   "source": [
    "### Баланс классов"
   ]
  },
  {
   "cell_type": "markdown",
   "metadata": {},
   "source": [
    "Изучим баланс классов в столбцах, в которых может наблюдаться дисбаланс, а именно:\\\n",
    "**Gender, HasCrCard, IsActiveMember, Exited, Geography_Germany, Geography_Spain**"
   ]
  },
  {
   "cell_type": "code",
   "execution_count": 873,
   "metadata": {},
   "outputs": [
    {
     "data": {
      "text/plain": [
       "0    7963\n",
       "1    2037\n",
       "Name: Exited, dtype: int64"
      ]
     },
     "execution_count": 873,
     "metadata": {},
     "output_type": "execute_result"
    }
   ],
   "source": [
    "churn_df_scaled.Exited.value_counts()"
   ]
  },
  {
   "cell_type": "markdown",
   "metadata": {},
   "source": [
    "Записей с целевым признаком **Exited = 0** всего **20%** от общего числа, имеем дело с дисбалансом классов."
   ]
  },
  {
   "cell_type": "markdown",
   "metadata": {},
   "source": [
    "### Обучение без учета дисбаланса"
   ]
  },
  {
   "cell_type": "markdown",
   "metadata": {},
   "source": [
    "Имеем дело с задачей бинарной классификации, поэтому используем **Логистическую регрессию, Решающее дерево и Случайный лес**.\\\n",
    "Для оценки эффективности моделей используем **f1-меру**, поскольку при дисбалансе классов эта метрика предпочтительнее."
   ]
  },
  {
   "cell_type": "markdown",
   "metadata": {},
   "source": [
    "#### Логистическая регрессия"
   ]
  },
  {
   "cell_type": "markdown",
   "metadata": {},
   "source": [
    "Обучим модель и сравним значение f1_score сразу на обучающей и валидационной выборках"
   ]
  },
  {
   "cell_type": "code",
   "execution_count": 874,
   "metadata": {},
   "outputs": [
    {
     "name": "stdout",
     "output_type": "stream",
     "text": [
      "Logistic Regression train f1_score 0.3240963855421687\n",
      "Logistic Regression valid f1_score 0.31918505942275044\n"
     ]
    }
   ],
   "source": [
    "from sklearn.linear_model import LogisticRegression\n",
    "\n",
    "model = LogisticRegression(solver='liblinear')\n",
    "model.fit(train_features, train_target)\n",
    "\n",
    "print('Logistic Regression train f1_score', f1_score(train_target, model.predict(train_features)))\n",
    "print('Logistic Regression valid f1_score', f1_score(valid_target, model.predict(valid_features)))"
   ]
  },
  {
   "cell_type": "markdown",
   "metadata": {},
   "source": [
    "Получаем плохой результат на обеих выборках, значит проблема не в переобучении/недообучении модели.\\\n",
    "Очевидно, сильно улучшить модель изменяя гиперпараметры не получится, требуется дополнительная работа со входными данными."
   ]
  },
  {
   "cell_type": "markdown",
   "metadata": {},
   "source": [
    "#### Решающее дерево и Случайный лес"
   ]
  },
  {
   "cell_type": "markdown",
   "metadata": {},
   "source": [
    "Аналогично, обучим модели решающего дерева и случайного леса, задав для обоих алгоритмов **max_depth**, чтобы избежать переобучения.\\\n",
    "Проводить оценку будем также при помощи **f1_score**."
   ]
  },
  {
   "cell_type": "code",
   "execution_count": 875,
   "metadata": {},
   "outputs": [
    {
     "name": "stdout",
     "output_type": "stream",
     "text": [
      "Tree train f1_score 0.5784215784215785\n",
      "Forest train f1_score 0.723963599595551\n",
      "\n",
      "Tree valid f1_score 0.5824964131994261\n",
      "Forest valid f1_score 0.5988200589970502\n"
     ]
    }
   ],
   "source": [
    "from sklearn.tree import DecisionTreeClassifier\n",
    "from sklearn.ensemble import RandomForestClassifier\n",
    "\n",
    "model_tree = DecisionTreeClassifier(random_state=42, max_depth=5)\n",
    "model_forest = RandomForestClassifier(random_state=42, max_depth=10, n_estimators=1000)\n",
    "\n",
    "model_tree.fit(train_features, train_target)\n",
    "model_forest.fit(train_features, train_target)\n",
    "\n",
    "print('Tree train f1_score', f1_score(model_tree.predict(train_features), train_target))\n",
    "print('Forest train f1_score', f1_score(model_forest.predict(train_features), train_target))\n",
    "print()\n",
    "print('Tree valid f1_score', f1_score(model_tree.predict(valid_features), valid_target))\n",
    "print('Forest valid f1_score', f1_score(model_forest.predict(valid_features), valid_target))"
   ]
  },
  {
   "cell_type": "markdown",
   "metadata": {},
   "source": [
    "Получаем **f1_score = 0.58** для дерева, что несколько ниже необходимого, и \n",
    "**0.599** для леса, то есть достаточное значение.\n",
    "\n",
    "При этом для леса есть небольшое переобучение на обучающей выборке из-за параметра **max_depth = 10**, однако при снижении максимальной глубины, падает качество и на валидационной выборке."
   ]
  },
  {
   "cell_type": "markdown",
   "metadata": {},
   "source": [
    "#### Выводы\n",
    "\n",
    "- Даже не учитывая дисбаланс классов, модель **случайного леса** показала удовлетворительные (**f1_score = 0.599**) результаты на валидационной выборке.\n",
    "- Модель **решающего дерева** показала себя также неплохо (**f1_score = 0.58**), однако значение **f1-меры** меньше необходимого.\n",
    "- **Логистическая регрессия** показала неудовлетворительные (**f1_score = 0.32**) результаты, т.е. модель чувствительна к дисбалансу классов."
   ]
  },
  {
   "cell_type": "markdown",
   "metadata": {},
   "source": [
    "---\n",
    "# 3. Борьба с дисбалансом"
   ]
  },
  {
   "cell_type": "markdown",
   "metadata": {},
   "source": [
    "Для борьбы с дисбалансом используем несколько подходов:\n",
    "\n",
    "- Изменение порога\n",
    "- Взвешивание классов\n",
    "- Увеличение выборки (Upsampling)\n",
    "- Уменьшение выборки (Downsampling)\n",
    "\n",
    "#### Для удобства создадим несколько функций, которые облегчат создание, настройку и тестирование различных моделей.\n",
    "\n",
    "При этом изменение порога и взвешивание классов проведем внутри этих функций.\\\n",
    "Таким образом мы сможем легко комбинировать разные подходы, изменяя при этом только обучающие выборки."
   ]
  },
  {
   "cell_type": "markdown",
   "metadata": {},
   "source": [
    "---\n",
    "### Логистическая регрессия\n",
    "\n",
    "Функция **optimize_log_regression** будет брать на вход две выборки - обучающую и валидационную, с соответствующими целевыми значениями.\\\n",
    "Затем:\n",
    "- Создавать и обучать модель логистической регрессии\n",
    "- Выводить **f1_score** при взвешивании классов и без него\n",
    "- Для лучшего варианта подбирать оптимальный порог\n",
    "- Выводить наибольшее значение **f1_score** и **ROC-AUC** \n",
    "- Возвращать оптимальные значения веса и порога"
   ]
  },
  {
   "cell_type": "code",
   "execution_count": 876,
   "metadata": {},
   "outputs": [],
   "source": [
    "def optimize_log_regression(train_features, train_target, valid_features, valid_target):\n",
    "    \n",
    "    from sklearn.linear_model import LogisticRegression\n",
    "    from sklearn.metrics import f1_score, roc_auc_score\n",
    "    \n",
    "    f1_best = 0\n",
    "    threshold_best = 0\n",
    "    class_weight_best = None\n",
    "    \n",
    "    for class_weight in [None, 'balanced']:\n",
    "        \n",
    "        model = LogisticRegression(solver='liblinear', class_weight=class_weight)\n",
    "        model.fit(train_features, train_target)\n",
    "        predictions = model.predict(valid_features)\n",
    "        f1 = f1_score(valid_target, predictions)\n",
    "        \n",
    "        if f1 >= f1_best:\n",
    "            f1_best = f1\n",
    "            class_weight_best = class_weight\n",
    "    \n",
    "    print('Оптимальный вес: {} | f1_score: {:.3f}'.format(class_weight_best, f1_best))\n",
    "    print()\n",
    "    \n",
    "    model = LogisticRegression(solver='liblinear', class_weight=class_weight_best)\n",
    "    model.fit(train_features, train_target)\n",
    "    \n",
    "    valid_probabilities = model.predict_proba(valid_features)\n",
    "    valid_probabilities_one = valid_probabilities[:, 1]\n",
    "    \n",
    "    roc_auc = roc_auc_score(valid_target, valid_probabilities_one)\n",
    "    \n",
    "    # choose best threshold\n",
    "    for threshold in np.arange(0.1, 0.8, 0.025):\n",
    "          \n",
    "        valid_predicted = valid_probabilities_one > threshold\n",
    "        \n",
    "        f1 = f1_score(valid_target, valid_predicted)\n",
    "        \n",
    "        if (f1 > f1_best):\n",
    "            f1_best = f1\n",
    "            threshold_best = threshold\n",
    "        \n",
    "        print('Порог = {:.2f} | F1-Мера = {:.3f}'.format(\n",
    "        threshold, f1))\n",
    "\n",
    "    print()\n",
    "    # results\n",
    "    \n",
    "    # roc_auc_score\n",
    "    model = LogisticRegression(solver='liblinear', class_weight=class_weight_best)\n",
    "    model.fit(train_features, train_target)\n",
    "    valid_probabilities = model.predict_proba(valid_features)\n",
    "    valid_probabilities_one = valid_probabilities[:, 1]\n",
    "    \n",
    "    print('Оптимальный вес: {} | Оптимальный порог: {:.2f} | ROC-AUC: {:.3f} | Наибольшее значение F1-меры: {:.3f} '.format(\n",
    "        class_weight_best, threshold_best, roc_auc, f1_best))"
   ]
  },
  {
   "cell_type": "markdown",
   "metadata": {},
   "source": [
    "---\n",
    "### Решающее дерево\n",
    "\n",
    "Функция **optimize_decision_tree** будет брать на вход две выборки - обучающую и валидационную, с соответствующими целевыми значениями.\\\n",
    "Затем:\n",
    "- Создавать и обучать модель решающего дерева\n",
    "- Выводить **f1_score** при различных значениях максимальной глубины\n",
    "- Выводить наибольшее значение **f1_score** и **ROC-AUC** \n",
    "- Возвращать оптимальную максимальную глубину дерева."
   ]
  },
  {
   "cell_type": "code",
   "execution_count": 877,
   "metadata": {},
   "outputs": [],
   "source": [
    "def optimize_decision_tree(train_features, train_target, valid_features, valid_target):\n",
    "    from sklearn.tree import DecisionTreeClassifier\n",
    "    from sklearn.metrics import f1_score, roc_auc_score\n",
    "    \n",
    "    f1_best = 0\n",
    "    max_depth_best = 0\n",
    "    class_weight_best = None\n",
    "    \n",
    "    # class_weight\n",
    "    for class_weight in [None, 'balanced']:\n",
    "        \n",
    "        model = DecisionTreeClassifier(random_state=42, class_weight=class_weight)\n",
    "        model.fit(train_features, train_target)\n",
    "        predictions = model.predict(valid_features)\n",
    "        f1 = f1_score(valid_target, predictions)\n",
    "        \n",
    "        if f1 >= f1_best:\n",
    "            f1_best = f1\n",
    "            class_weight_best = class_weight\n",
    "    \n",
    "    print('Оптимальный вес: {} | f1_score: {:.3f}'.format(class_weight_best, f1_best))\n",
    "    print()\n",
    "    \n",
    "    # data for ploting\n",
    "    f1_train_data=[]\n",
    "    f1_valid_data=[]\n",
    "    \n",
    "    for max_depth in np.arange(2, 13, 1):\n",
    "        \n",
    "        model = DecisionTreeClassifier(random_state=42, max_depth=max_depth, class_weight=class_weight_best)\n",
    "        model.fit(train_features, train_target)\n",
    "        \n",
    "        train_predictions = model.predict(train_features)\n",
    "        valid_predictions = model.predict(valid_features)\n",
    "        \n",
    "        f1_train = f1_score(train_target, train_predictions)\n",
    "        f1_valid = f1_score(valid_target, valid_predictions)\n",
    "        \n",
    "        f1_train_data.append(f1_train)\n",
    "        f1_valid_data.append(f1_valid)\n",
    "        \n",
    "        if f1_valid > f1_best:\n",
    "            f1_best = f1_valid\n",
    "            max_depth_best = max_depth\n",
    "        \n",
    "    plt.figure()\n",
    "    plt.grid(True)\n",
    "    plt.plot(np.arange(2, 13, 1), f1_train_data, label='train')\n",
    "    plt.plot(np.arange(2, 13, 1), f1_valid_data, label='valid')\n",
    "    plt.xlabel('max_depth')\n",
    "    plt.ylabel('f1_score')\n",
    "    plt.legend()\n",
    "    plt.show()\n",
    "    \n",
    "    # roc-auc\n",
    "    model = DecisionTreeClassifier(random_state=42, max_depth=max_depth_best, class_weight=class_weight_best)\n",
    "    model.fit(train_features, train_target)\n",
    "    valid_probabilities = model.predict_proba(valid_features)\n",
    "    valid_probabilities_one = valid_probabilities[:, 1]\n",
    "    \n",
    "    roc_auc = roc_auc_score(valid_target, valid_probabilities_one)\n",
    "    \n",
    "    print('Оптимальный вес: {} | Оптимальная глубина: {} | ROC-AUC: {:.3f} | Наибольшее значение F1-Меры: {:.3f}'.format(\n",
    "    class_weight_best, max_depth_best, roc_auc, f1_best,))"
   ]
  },
  {
   "cell_type": "markdown",
   "metadata": {},
   "source": [
    "---\n",
    "### Случайный лес\n",
    "\n",
    "Функция **optimize_random_forest** будет брать на вход две выборки - обучающую и валидационную, с соответствующими целевыми значениями.\\\n",
    "Затем:\n",
    "- Создавать и обучать модель случайного леса\n",
    "- Выводить **f1_score** при различных значениях максимальной глубины и числа деревьев\n",
    "- Выводить наибольшее значение **f1_score** и **ROC-AUC** \n",
    "- Возвращать оптимальную максимальную глубину одного дерева и оптимальное число деревьев"
   ]
  },
  {
   "cell_type": "code",
   "execution_count": 878,
   "metadata": {},
   "outputs": [],
   "source": [
    "def optimize_random_forest(train_features, train_target, valid_features, valid_target):\n",
    "    from sklearn.ensemble import RandomForestClassifier\n",
    "    from sklearn.metrics import f1_score, roc_auc_score\n",
    "    \n",
    "    f1_best = 0\n",
    "    max_depth_best = 2\n",
    "    n_estimators_best = 25\n",
    "    class_weight_best = None\n",
    "    \n",
    "    # class_weight\n",
    "    for class_weight in [None, 'balanced']:\n",
    "        \n",
    "        model = RandomForestClassifier(random_state=42, max_depth=max_depth_best, n_estimators=25, class_weight=class_weight)\n",
    "        model.fit(train_features, train_target)\n",
    "        predictions = model.predict(valid_features)\n",
    "        f1 = f1_score(valid_target, predictions)\n",
    "        \n",
    "        if f1 >= f1_best:\n",
    "            f1_best = f1\n",
    "            class_weight_best = class_weight\n",
    "    \n",
    "    print('Оптимальный вес: {} | f1_score: {:.3f}'.format(class_weight_best, f1_best))\n",
    "    print()\n",
    "    \n",
    "    # data for ploting\n",
    "    f1_train_data=[]\n",
    "    f1_valid_data=[]\n",
    "    \n",
    "    # max_depth\n",
    "    for max_depth in np.arange(2, 13, 1):\n",
    "        \n",
    "        model = RandomForestClassifier(\n",
    "            random_state=42, max_depth=max_depth, n_estimators=25, class_weight=class_weight_best)\n",
    "        model.fit(train_features, train_target)\n",
    "        \n",
    "        train_predictions = model.predict(train_features)\n",
    "        valid_predictions = model.predict(valid_features)\n",
    "        \n",
    "        f1_train = f1_score(train_target, train_predictions)\n",
    "        f1_valid = f1_score(valid_target, valid_predictions)\n",
    "        \n",
    "        f1_train_data.append(f1_train)\n",
    "        f1_valid_data.append(f1_valid)\n",
    "        \n",
    "        if f1_valid >= f1_best:\n",
    "            f1_best = f1_valid\n",
    "            max_depth_best = max_depth\n",
    "        \n",
    "    plt.figure()\n",
    "    plt.grid(True)\n",
    "    plt.plot(np.arange(2, 13, 1), f1_train_data, label='train')\n",
    "    plt.plot(np.arange(2, 13, 1), f1_valid_data, label='valid')\n",
    "    plt.xlabel('max_depth')\n",
    "    plt.ylabel('f1_score')\n",
    "    plt.legend()\n",
    "    plt.show()\n",
    "    \n",
    "    # n_estimators\n",
    "    \n",
    "    f1_train_data=[]\n",
    "    f1_valid_data=[]\n",
    "    \n",
    "    for n_estimators in np.arange(25, 400, 25):\n",
    "        \n",
    "        model = RandomForestClassifier(\n",
    "            random_state=42, max_depth=max_depth_best, n_estimators=n_estimators, class_weight=class_weight_best)\n",
    "        model.fit(train_features, train_target)\n",
    "        \n",
    "        train_predictions = model.predict(train_features)\n",
    "        valid_predictions = model.predict(valid_features)\n",
    "        \n",
    "        f1_train = f1_score(train_target, train_predictions)\n",
    "        f1_valid = f1_score(valid_target, valid_predictions)\n",
    "        \n",
    "        f1_train_data.append(f1_train)\n",
    "        f1_valid_data.append(f1_valid)\n",
    "        \n",
    "        if f1_valid > f1_best:\n",
    "            f1_best = f1_valid\n",
    "            n_estimators_best = n_estimators\n",
    "        \n",
    "    plt.figure()\n",
    "    plt.grid(True)\n",
    "    plt.plot(np.arange(25, 400, 25), f1_train_data, label='train')\n",
    "    plt.plot(np.arange(25, 400, 25), f1_valid_data, label='valid')\n",
    "    plt.xlabel('n_estimators')\n",
    "    plt.ylabel('f1_score')\n",
    "    plt.legend()\n",
    "    plt.show()\n",
    "    \n",
    "    # roc-auc\n",
    "    model = RandomForestClassifier(\n",
    "        random_state=42, max_depth=max_depth_best, n_estimators=n_estimators_best, class_weight=class_weight_best)\n",
    "    model.fit(train_features, train_target)\n",
    "    valid_probabilities = model.predict_proba(valid_features)\n",
    "    valid_probabilities_one = valid_probabilities[:, 1]\n",
    "    \n",
    "    roc_auc = roc_auc_score(valid_target, valid_probabilities_one)\n",
    "    \n",
    "    print('Оптимальный вес: {} | Оптимальная глубина: {} | Оптимальное число деревьев: {} | ROC-AUC: {:.3f} | Наибольшее значние F1-Меры: {:.3f}'.format(\n",
    "    class_weight_best, max_depth_best, n_estimators_best, roc_auc, f1_best))"
   ]
  },
  {
   "cell_type": "markdown",
   "metadata": {},
   "source": [
    "---"
   ]
  },
  {
   "cell_type": "markdown",
   "metadata": {},
   "source": [
    "Протестируем методы борьбы с дисбалансом, заложенные в самих функциях, не изменяя при этом обучающую выборку:"
   ]
  },
  {
   "cell_type": "markdown",
   "metadata": {},
   "source": [
    "#### Линейная регрессия"
   ]
  },
  {
   "cell_type": "code",
   "execution_count": 879,
   "metadata": {},
   "outputs": [
    {
     "name": "stdout",
     "output_type": "stream",
     "text": [
      "Оптимальный вес: balanced | f1_score: 0.502\n",
      "\n",
      "Порог = 0.10 | F1-Мера = 0.359\n",
      "Порог = 0.12 | F1-Мера = 0.367\n",
      "Порог = 0.15 | F1-Мера = 0.373\n",
      "Порог = 0.17 | F1-Мера = 0.382\n",
      "Порог = 0.20 | F1-Мера = 0.390\n",
      "Порог = 0.22 | F1-Мера = 0.402\n",
      "Порог = 0.25 | F1-Мера = 0.418\n",
      "Порог = 0.27 | F1-Мера = 0.430\n",
      "Порог = 0.30 | F1-Мера = 0.440\n",
      "Порог = 0.32 | F1-Мера = 0.448\n",
      "Порог = 0.35 | F1-Мера = 0.454\n",
      "Порог = 0.37 | F1-Мера = 0.464\n",
      "Порог = 0.40 | F1-Мера = 0.473\n",
      "Порог = 0.42 | F1-Мера = 0.488\n",
      "Порог = 0.45 | F1-Мера = 0.503\n",
      "Порог = 0.47 | F1-Мера = 0.506\n",
      "Порог = 0.50 | F1-Мера = 0.502\n",
      "Порог = 0.52 | F1-Мера = 0.526\n",
      "Порог = 0.55 | F1-Мера = 0.527\n",
      "Порог = 0.57 | F1-Мера = 0.513\n",
      "Порог = 0.60 | F1-Мера = 0.513\n",
      "Порог = 0.62 | F1-Мера = 0.517\n",
      "Порог = 0.65 | F1-Мера = 0.508\n",
      "Порог = 0.67 | F1-Мера = 0.489\n",
      "Порог = 0.70 | F1-Мера = 0.473\n",
      "Порог = 0.72 | F1-Мера = 0.449\n",
      "Порог = 0.75 | F1-Мера = 0.399\n",
      "Порог = 0.77 | F1-Мера = 0.344\n",
      "\n",
      "Оптимальный вес: balanced | Оптимальный порог: 0.55 | ROC-AUC: 0.784 | Наибольшее значение F1-меры: 0.527 \n"
     ]
    }
   ],
   "source": [
    "optimize_log_regression(train_features, train_target, valid_features, valid_target)"
   ]
  },
  {
   "cell_type": "markdown",
   "metadata": {},
   "source": [
    "#### Решающее дерево"
   ]
  },
  {
   "cell_type": "code",
   "execution_count": 880,
   "metadata": {},
   "outputs": [
    {
     "name": "stdout",
     "output_type": "stream",
     "text": [
      "Оптимальный вес: None | f1_score: 0.513\n",
      "\n"
     ]
    },
    {
     "data": {
      "image/png": "[encoded data removed]",
      "text/plain": [
       "<Figure size 432x288 with 1 Axes>"
      ]
     },
     "metadata": {
      "needs_background": "light"
     },
     "output_type": "display_data"
    },
    {
     "name": "stdout",
     "output_type": "stream",
     "text": [
      "Оптимальный вес: None | Оптимальная глубина: 9 | ROC-AUC: 0.798 | Наибольшее значение F1-Меры: 0.590\n"
     ]
    }
   ],
   "source": [
    "optimize_decision_tree(train_features, train_target, valid_features, valid_target)"
   ]
  },
  {
   "cell_type": "markdown",
   "metadata": {},
   "source": [
    "#### Случайный лес"
   ]
  },
  {
   "cell_type": "code",
   "execution_count": 881,
   "metadata": {
    "scrolled": false
   },
   "outputs": [
    {
     "name": "stdout",
     "output_type": "stream",
     "text": [
      "Оптимальный вес: balanced | f1_score: 0.578\n",
      "\n"
     ]
    },
    {
     "data": {
      "image/png": "[encoded data removed]",
      "text/plain": [
       "<Figure size 432x288 with 1 Axes>"
      ]
     },
     "metadata": {
      "needs_background": "light"
     },
     "output_type": "display_data"
    },
    {
     "data": {
      "image/png": "[encoded data removed]",
      "text/plain": [
       "<Figure size 432x288 with 1 Axes>"
      ]
     },
     "metadata": {
      "needs_background": "light"
     },
     "output_type": "display_data"
    },
    {
     "name": "stdout",
     "output_type": "stream",
     "text": [
      "Оптимальный вес: balanced | Оптимальная глубина: 9 | Оптимальное число деревьев: 75 | ROC-AUC: 0.863 | Наибольшее значние F1-Меры: 0.649\n"
     ]
    }
   ],
   "source": [
    "optimize_random_forest(train_features, train_target, valid_features, valid_target)"
   ]
  },
  {
   "cell_type": "markdown",
   "metadata": {},
   "source": [
    "### Вывод\n",
    "\n",
    "Даже изменения обучающих выборок получаем серьезное увеличение качества моделей (по f1-мере) на валидационной выборке:\n",
    "- Линейная регрессия: **f1_score = 0.527, ROC-AUC = 0.784** (значительный прирост)\n",
    "- Решающее дерево: **f1_score = 0.590, ROC-AUC = 0.798** (незначительный прирост)\n",
    "- Случайный лес: **f1_score = 0.649, ROC-AUC = 0.863** (значительный прирост)"
   ]
  },
  {
   "cell_type": "markdown",
   "metadata": {},
   "source": [
    "---\n",
    "### Увеличение выборки (Upsampling)"
   ]
  },
  {
   "cell_type": "markdown",
   "metadata": {},
   "source": [
    "**Суть метода заключается в следующем:**\n",
    "- Обучающая выборка разделяется на отрицательные и положительные объекты\n",
    "- Положительные объекты несколько раз дублируются\n",
    "- Создается новая обучающая выборка с увеличенным числом положительных объектов\n",
    "- Вновь созданная обучающая выборка перемешивается\n",
    "\n",
    "**Для удобства создадим функцию:**"
   ]
  },
  {
   "cell_type": "code",
   "execution_count": 882,
   "metadata": {},
   "outputs": [],
   "source": [
    "def upsample(features, target, repeat):\n",
    "    \n",
    "    from sklearn.utils import shuffle\n",
    "    \n",
    "    features_zeros = features[target==0]\n",
    "    features_ones = features[target==1]\n",
    "    target_zeros = target[target==0]\n",
    "    target_ones = target[target==1]\n",
    "    \n",
    "    features_upsampled = pd.concat([features_zeros] + [features_ones]*repeat)\n",
    "    target_upsampled = pd.concat([target_zeros] + [target_ones]*repeat)\n",
    "    \n",
    "    features_upsampled, target_upsampled = shuffle(features_upsampled, target_upsampled, random_state=42)\n",
    "    \n",
    "    return features_upsampled, target_upsampled"
   ]
  },
  {
   "cell_type": "code",
   "execution_count": 883,
   "metadata": {},
   "outputs": [
    {
     "name": "stdout",
     "output_type": "stream",
     "text": [
      "Число объектов с целевым признаком = 1 к общему числу объектов\n"
     ]
    },
    {
     "data": {
      "text/plain": [
       "0.5069724202045244"
      ]
     },
     "execution_count": 883,
     "metadata": {},
     "output_type": "execute_result"
    }
   ],
   "source": [
    "features_upsampled, target_upsampled = upsample(train_features, train_target, 4)\n",
    "print('Число объектов с целевым признаком = 1 к общему числу объектов')\n",
    "len(target_upsampled[target_upsampled==1]) / len(target_upsampled)"
   ]
  },
  {
   "cell_type": "markdown",
   "metadata": {},
   "source": [
    "#### Проверим как увеличение выборки повлияет на качество моделей:"
   ]
  },
  {
   "cell_type": "markdown",
   "metadata": {},
   "source": [
    "#### Линейная регрессия"
   ]
  },
  {
   "cell_type": "code",
   "execution_count": 884,
   "metadata": {},
   "outputs": [
    {
     "name": "stdout",
     "output_type": "stream",
     "text": [
      "Оптимальный вес: None | f1_score: 0.502\n",
      "\n",
      "Порог = 0.10 | F1-Мера = 0.358\n",
      "Порог = 0.12 | F1-Мера = 0.365\n",
      "Порог = 0.15 | F1-Мера = 0.373\n",
      "Порог = 0.17 | F1-Мера = 0.380\n",
      "Порог = 0.20 | F1-Мера = 0.388\n",
      "Порог = 0.22 | F1-Мера = 0.400\n",
      "Порог = 0.25 | F1-Мера = 0.415\n",
      "Порог = 0.27 | F1-Мера = 0.426\n",
      "Порог = 0.30 | F1-Мера = 0.437\n",
      "Порог = 0.32 | F1-Мера = 0.446\n",
      "Порог = 0.35 | F1-Мера = 0.452\n",
      "Порог = 0.37 | F1-Мера = 0.460\n",
      "Порог = 0.40 | F1-Мера = 0.471\n",
      "Порог = 0.42 | F1-Мера = 0.487\n",
      "Порог = 0.45 | F1-Мера = 0.503\n",
      "Порог = 0.47 | F1-Мера = 0.507\n",
      "Порог = 0.50 | F1-Мера = 0.502\n",
      "Порог = 0.52 | F1-Мера = 0.516\n",
      "Порог = 0.55 | F1-Мера = 0.528\n",
      "Порог = 0.57 | F1-Мера = 0.517\n",
      "Порог = 0.60 | F1-Мера = 0.516\n",
      "Порог = 0.62 | F1-Мера = 0.515\n",
      "Порог = 0.65 | F1-Мера = 0.508\n",
      "Порог = 0.67 | F1-Мера = 0.491\n",
      "Порог = 0.70 | F1-Мера = 0.479\n",
      "Порог = 0.72 | F1-Мера = 0.469\n",
      "Порог = 0.75 | F1-Мера = 0.406\n",
      "Порог = 0.77 | F1-Мера = 0.352\n",
      "\n",
      "Оптимальный вес: None | Оптимальный порог: 0.55 | ROC-AUC: 0.784 | Наибольшее значение F1-меры: 0.528 \n"
     ]
    }
   ],
   "source": [
    "optimize_log_regression(features_upsampled, target_upsampled, valid_features, valid_target)"
   ]
  },
  {
   "cell_type": "markdown",
   "metadata": {},
   "source": [
    "#### Решающее дерево"
   ]
  },
  {
   "cell_type": "code",
   "execution_count": 885,
   "metadata": {},
   "outputs": [
    {
     "name": "stdout",
     "output_type": "stream",
     "text": [
      "Оптимальный вес: None | f1_score: 0.507\n",
      "\n"
     ]
    },
    {
     "data": {
      "image/png": "[encoded data removed]",
      "text/plain": [
       "<Figure size 432x288 with 1 Axes>"
      ]
     },
     "metadata": {
      "needs_background": "light"
     },
     "output_type": "display_data"
    },
    {
     "name": "stdout",
     "output_type": "stream",
     "text": [
      "Оптимальный вес: None | Оптимальная глубина: 7 | ROC-AUC: 0.818 | Наибольшее значение F1-Меры: 0.613\n"
     ]
    }
   ],
   "source": [
    "optimize_decision_tree(features_upsampled, target_upsampled, valid_features, valid_target)"
   ]
  },
  {
   "cell_type": "markdown",
   "metadata": {},
   "source": [
    "#### Случайный лес"
   ]
  },
  {
   "cell_type": "code",
   "execution_count": 886,
   "metadata": {},
   "outputs": [
    {
     "name": "stdout",
     "output_type": "stream",
     "text": [
      "Оптимальный вес: balanced | f1_score: 0.571\n",
      "\n"
     ]
    },
    {
     "data": {
      "image/png": "[encoded data removed]",
      "text/plain": [
       "<Figure size 432x288 with 1 Axes>"
      ]
     },
     "metadata": {
      "needs_background": "light"
     },
     "output_type": "display_data"
    },
    {
     "data": {
      "image/png": "[encoded data removed]",
      "text/plain": [
       "<Figure size 432x288 with 1 Axes>"
      ]
     },
     "metadata": {
      "needs_background": "light"
     },
     "output_type": "display_data"
    },
    {
     "name": "stdout",
     "output_type": "stream",
     "text": [
      "Оптимальный вес: balanced | Оптимальная глубина: 10 | Оптимальное число деревьев: 25 | ROC-AUC: 0.864 | Наибольшее значние F1-Меры: 0.647\n"
     ]
    }
   ],
   "source": [
    "optimize_random_forest(features_upsampled, target_upsampled, valid_features, valid_target)"
   ]
  },
  {
   "cell_type": "markdown",
   "metadata": {},
   "source": [
    "### Вывод\n",
    "\n",
    "При увеличении выборки качество возрасло только на Решающем дереве. Другие модели без изменений:\n",
    "- Линейная регрессия: **f1_score = 0.528, ROC-AUC = 0.784** (без изменений)\n",
    "- Решающее дерево: **f1_score = 0.613, ROC-AUC = 0.818** (средний прирост)\n",
    "- Случайный лес: **f1_score = 0.647, ROC-AUC = 0.864** (без изменений)"
   ]
  },
  {
   "cell_type": "markdown",
   "metadata": {},
   "source": [
    "---\n",
    "### Уменьшение выборки (Downsampling)"
   ]
  },
  {
   "cell_type": "markdown",
   "metadata": {},
   "source": [
    "**Суть метода заключается в следующем:**\n",
    "- Обучающая выборка разделяется на отрицательные и положительные объекты\n",
    "- Отбрасывается часть отрицательных объектов\n",
    "- Создается новая обучающая выборка с уменьшенным числом отрицательных объектов\n",
    "- Вновь созданная обучающая выборка перемешивается\n",
    "\n",
    "**Для удобства создадим функцию:**"
   ]
  },
  {
   "cell_type": "code",
   "execution_count": 887,
   "metadata": {},
   "outputs": [],
   "source": [
    "def downsample(features, target, fraction):\n",
    "    \n",
    "    from sklearn.utils import shuffle\n",
    "    \n",
    "    features_zeros = features[target==0]\n",
    "    features_ones = features[target==1]\n",
    "    target_zeros = target[target==0]\n",
    "    target_ones = target[target==1]\n",
    "    \n",
    "    features_downsampled = pd.concat([features_zeros.sample(frac=fraction, random_state=42)] + [features_ones])\n",
    "    target_downsampled = pd.concat([target_zeros.sample(frac=fraction, random_state=42)] + [target_ones])\n",
    "    \n",
    "    features_downsampled, target_downsampled = shuffle(features_downsampled, target_downsampled, random_state=42)\n",
    "    \n",
    "    return features_downsampled, target_downsampled"
   ]
  },
  {
   "cell_type": "code",
   "execution_count": 888,
   "metadata": {},
   "outputs": [
    {
     "name": "stdout",
     "output_type": "stream",
     "text": [
      "Число объектов с целевым признаком = 1 к общему числу объектов\n"
     ]
    },
    {
     "data": {
      "text/plain": [
       "0.39126275510204084"
      ]
     },
     "execution_count": 888,
     "metadata": {},
     "output_type": "execute_result"
    }
   ],
   "source": [
    "features_downsampled, target_downsampled = downsample(train_features, train_target, 0.4)\n",
    "print('Число объектов с целевым признаком = 1 к общему числу объектов')\n",
    "len(target_downsampled[target_downsampled==1]) / len(target_downsampled)"
   ]
  },
  {
   "cell_type": "markdown",
   "metadata": {},
   "source": [
    "#### Проверим как уменьшение выборки повлияет на качество моделей:"
   ]
  },
  {
   "cell_type": "markdown",
   "metadata": {},
   "source": [
    "#### Линейная регрессия"
   ]
  },
  {
   "cell_type": "code",
   "execution_count": 889,
   "metadata": {},
   "outputs": [
    {
     "name": "stdout",
     "output_type": "stream",
     "text": [
      "Оптимальный вес: None | f1_score: 0.514\n",
      "\n",
      "Порог = 0.10 | F1-Мера = 0.373\n",
      "Порог = 0.12 | F1-Мера = 0.385\n",
      "Порог = 0.15 | F1-Мера = 0.402\n",
      "Порог = 0.17 | F1-Мера = 0.418\n",
      "Порог = 0.20 | F1-Мера = 0.429\n",
      "Порог = 0.22 | F1-Мера = 0.442\n",
      "Порог = 0.25 | F1-Мера = 0.450\n",
      "Порог = 0.27 | F1-Мера = 0.459\n",
      "Порог = 0.30 | F1-Мера = 0.471\n",
      "Порог = 0.32 | F1-Мера = 0.484\n",
      "Порог = 0.35 | F1-Мера = 0.501\n",
      "Порог = 0.37 | F1-Мера = 0.503\n",
      "Порог = 0.40 | F1-Мера = 0.502\n",
      "Порог = 0.42 | F1-Мера = 0.523\n",
      "Порог = 0.45 | F1-Мера = 0.524\n",
      "Порог = 0.47 | F1-Мера = 0.514\n",
      "Порог = 0.50 | F1-Мера = 0.514\n",
      "Порог = 0.52 | F1-Мера = 0.511\n",
      "Порог = 0.55 | F1-Мера = 0.506\n",
      "Порог = 0.57 | F1-Мера = 0.491\n",
      "Порог = 0.60 | F1-Мера = 0.480\n",
      "Порог = 0.62 | F1-Мера = 0.470\n",
      "Порог = 0.65 | F1-Мера = 0.423\n",
      "Порог = 0.67 | F1-Мера = 0.385\n",
      "Порог = 0.70 | F1-Мера = 0.358\n",
      "Порог = 0.72 | F1-Мера = 0.317\n",
      "Порог = 0.75 | F1-Мера = 0.304\n",
      "Порог = 0.77 | F1-Мера = 0.271\n",
      "\n",
      "Оптимальный вес: None | Оптимальный порог: 0.45 | ROC-AUC: 0.782 | Наибольшее значение F1-меры: 0.524 \n"
     ]
    }
   ],
   "source": [
    "optimize_log_regression(features_downsampled, target_downsampled, valid_features, valid_target)"
   ]
  },
  {
   "cell_type": "markdown",
   "metadata": {},
   "source": [
    "#### Решающее дерево"
   ]
  },
  {
   "cell_type": "code",
   "execution_count": 890,
   "metadata": {},
   "outputs": [
    {
     "name": "stdout",
     "output_type": "stream",
     "text": [
      "Оптимальный вес: None | f1_score: 0.527\n",
      "\n"
     ]
    },
    {
     "data": {
      "image/png": "[encoded data removed]",
      "text/plain": [
       "<Figure size 432x288 with 1 Axes>"
      ]
     },
     "metadata": {
      "needs_background": "light"
     },
     "output_type": "display_data"
    },
    {
     "name": "stdout",
     "output_type": "stream",
     "text": [
      "Оптимальный вес: None | Оптимальная глубина: 5 | ROC-AUC: 0.838 | Наибольшее значение F1-Меры: 0.604\n"
     ]
    }
   ],
   "source": [
    "optimize_decision_tree(features_downsampled, target_downsampled, valid_features, valid_target)"
   ]
  },
  {
   "cell_type": "markdown",
   "metadata": {},
   "source": [
    "#### Случайный лес"
   ]
  },
  {
   "cell_type": "code",
   "execution_count": 891,
   "metadata": {},
   "outputs": [
    {
     "name": "stdout",
     "output_type": "stream",
     "text": [
      "Оптимальный вес: balanced | f1_score: 0.590\n",
      "\n"
     ]
    },
    {
     "data": {
      "image/png": "[encoded data removed]",
      "text/plain": [
       "<Figure size 432x288 with 1 Axes>"
      ]
     },
     "metadata": {
      "needs_background": "light"
     },
     "output_type": "display_data"
    },
    {
     "data": {
      "image/png": "[encoded data removed]",
      "text/plain": [
       "<Figure size 432x288 with 1 Axes>"
      ]
     },
     "metadata": {
      "needs_background": "light"
     },
     "output_type": "display_data"
    },
    {
     "name": "stdout",
     "output_type": "stream",
     "text": [
      "Оптимальный вес: balanced | Оптимальная глубина: 7 | Оптимальное число деревьев: 25 | ROC-AUC: 0.867 | Наибольшее значние F1-Меры: 0.645\n"
     ]
    }
   ],
   "source": [
    "optimize_random_forest(features_downsampled, target_downsampled, valid_features, valid_target)"
   ]
  },
  {
   "cell_type": "markdown",
   "metadata": {},
   "source": [
    "### Вывод\n",
    "\n",
    "При уменьшении выборки получаем результаты, аналогичные тем, что получены при увеличении выборки:\n",
    "- Линейная регрессия: **f1_score = 0.524, ROC-AUC = 0.782** (без изменений)\n",
    "- Решающее дерево: **f1_score = 0.604, ROC-AUC = 0.838** (незначительный прирост)\n",
    "- Случайный лес: **f1_score = 0.645, ROC-AUC = 0.867**  (без изменений)\n",
    "---"
   ]
  },
  {
   "cell_type": "markdown",
   "metadata": {},
   "source": [
    "## Итог\n",
    "   \n",
    "Выходит, среди всех методов борьбы с дисбалансом классов, **наибольшее** влияние оказывает **взвешивание классов и изменение порога**.\\\n",
    "**Изменение выборки** (**upsampling** и **downsampling**) оказывает **меньшее** воздействие, однако эти результаты могут отличаться для других наборов данных."
   ]
  },
  {
   "cell_type": "markdown",
   "metadata": {},
   "source": [
    "---\n",
    "# 4. Тестирование модели\n",
    "\n",
    "Для обучения модели перед финальным тестированием используем подготовленную ранее выборку **final_features**, включающую обучающую и валидационную выборки.\n",
    "\n",
    "Также предварительно проведем **upsampling**, т.к. этот метод борьбы с дисбалансом оказался наиболее эффективным."
   ]
  },
  {
   "cell_type": "code",
   "execution_count": 892,
   "metadata": {},
   "outputs": [
    {
     "name": "stdout",
     "output_type": "stream",
     "text": [
      "Число объектов с целевым признаком = 1 к общему числу объектов\n"
     ]
    },
    {
     "data": {
      "text/plain": [
       "0.5663795460760186"
      ]
     },
     "execution_count": 892,
     "metadata": {},
     "output_type": "execute_result"
    }
   ],
   "source": [
    "final_features_upsampled, final_target_upsampled = upsample(final_features, final_target, 5)\n",
    "\n",
    "print('Число объектов с целевым признаком = 1 к общему числу объектов')\n",
    "len(final_target_upsampled[final_target_upsampled==1]) / len(final_target_upsampled)"
   ]
  },
  {
   "cell_type": "markdown",
   "metadata": {},
   "source": [
    "### Линейная регрессия"
   ]
  },
  {
   "cell_type": "code",
   "execution_count": 893,
   "metadata": {},
   "outputs": [
    {
     "name": "stdout",
     "output_type": "stream",
     "text": [
      "Оптимальный вес: balanced | f1_score: 0.465\n",
      "\n",
      "Порог = 0.10 | F1-Мера = 0.327\n",
      "Порог = 0.12 | F1-Мера = 0.331\n",
      "Порог = 0.15 | F1-Мера = 0.340\n",
      "Порог = 0.17 | F1-Мера = 0.348\n",
      "Порог = 0.20 | F1-Мера = 0.352\n",
      "Порог = 0.22 | F1-Мера = 0.364\n",
      "Порог = 0.25 | F1-Мера = 0.373\n",
      "Порог = 0.27 | F1-Мера = 0.384\n",
      "Порог = 0.30 | F1-Мера = 0.392\n",
      "Порог = 0.32 | F1-Мера = 0.402\n",
      "Порог = 0.35 | F1-Мера = 0.418\n",
      "Порог = 0.37 | F1-Мера = 0.421\n",
      "Порог = 0.40 | F1-Мера = 0.435\n",
      "Порог = 0.42 | F1-Мера = 0.443\n",
      "Порог = 0.45 | F1-Мера = 0.450\n",
      "Порог = 0.47 | F1-Мера = 0.458\n",
      "Порог = 0.50 | F1-Мера = 0.465\n",
      "Порог = 0.52 | F1-Мера = 0.459\n",
      "Порог = 0.55 | F1-Мера = 0.469\n",
      "Порог = 0.57 | F1-Мера = 0.465\n",
      "Порог = 0.60 | F1-Мера = 0.463\n",
      "Порог = 0.62 | F1-Мера = 0.458\n",
      "Порог = 0.65 | F1-Мера = 0.455\n",
      "Порог = 0.67 | F1-Мера = 0.426\n",
      "Порог = 0.70 | F1-Мера = 0.415\n",
      "Порог = 0.72 | F1-Мера = 0.381\n",
      "Порог = 0.75 | F1-Мера = 0.362\n",
      "Порог = 0.77 | F1-Мера = 0.343\n",
      "\n",
      "Оптимальный вес: balanced | Оптимальный порог: 0.55 | ROC-AUC: 0.754 | Наибольшее значение F1-меры: 0.469 \n",
      "\n"
     ]
    }
   ],
   "source": [
    "optimize_log_regression(final_features_upsampled, final_target_upsampled, test_features, test_target)\n",
    "print()"
   ]
  },
  {
   "cell_type": "markdown",
   "metadata": {},
   "source": [
    "### Решающее дерево"
   ]
  },
  {
   "cell_type": "code",
   "execution_count": 894,
   "metadata": {},
   "outputs": [
    {
     "name": "stdout",
     "output_type": "stream",
     "text": [
      "Оптимальный вес: balanced | f1_score: 0.471\n",
      "\n"
     ]
    },
    {
     "data": {
      "image/png": "[encoded data removed]",
      "text/plain": [
       "<Figure size 432x288 with 1 Axes>"
      ]
     },
     "metadata": {
      "needs_background": "light"
     },
     "output_type": "display_data"
    },
    {
     "name": "stdout",
     "output_type": "stream",
     "text": [
      "Оптимальный вес: balanced | Оптимальная глубина: 6 | ROC-AUC: 0.817 | Наибольшее значение F1-Меры: 0.549\n",
      "\n"
     ]
    }
   ],
   "source": [
    "optimize_decision_tree(final_features_upsampled, final_target_upsampled, test_features, test_target)\n",
    "print()"
   ]
  },
  {
   "cell_type": "markdown",
   "metadata": {},
   "source": [
    "### Случайный лес"
   ]
  },
  {
   "cell_type": "code",
   "execution_count": 895,
   "metadata": {},
   "outputs": [
    {
     "name": "stdout",
     "output_type": "stream",
     "text": [
      "Оптимальный вес: balanced | f1_score: 0.522\n",
      "\n"
     ]
    },
    {
     "data": {
      "image/png": "[encoded data removed]",
      "text/plain": [
       "<Figure size 432x288 with 1 Axes>"
      ]
     },
     "metadata": {
      "needs_background": "light"
     },
     "output_type": "display_data"
    },
    {
     "data": {
      "image/png": "[encoded data removed]",
      "text/plain": [
       "<Figure size 432x288 with 1 Axes>"
      ]
     },
     "metadata": {
      "needs_background": "light"
     },
     "output_type": "display_data"
    },
    {
     "name": "stdout",
     "output_type": "stream",
     "text": [
      "Оптимальный вес: balanced | Оптимальная глубина: 10 | Оптимальное число деревьев: 225 | ROC-AUC: 0.848 | Наибольшее значние F1-Меры: 0.596\n",
      "\n"
     ]
    }
   ],
   "source": [
    "optimize_random_forest(final_features_upsampled, final_target_upsampled, test_features, test_target)\n",
    "print()"
   ]
  },
  {
   "cell_type": "markdown",
   "metadata": {},
   "source": [
    "## Вывод\n",
    "\n",
    "Несмотря на довольно высокие результаты на валидационной выборке, только модель **Случайного леса** показала удовлетворительный результат: значение **F1-Меры = 0.596**, а **ROC-AUC = 0.848**."
   ]
  },
  {
   "cell_type": "markdown",
   "metadata": {},
   "source": [
    "---"
   ]
  },
  {
   "cell_type": "markdown",
   "metadata": {},
   "source": [
    "# Общий вывод:\n",
    "\n",
    "**Целью** этого проекта было создание модели, прогнозирующей уход клиентов из банка.\n",
    "\n",
    "Работа состоит из следующих этапов:\n",
    "- Подготовка данных\n",
    "- Исследование задачи\n",
    "- Борьба с дисбалансом\n",
    "- Тестирование модели\n",
    "\n",
    "**На первом этапе** была загружена и изучена таблица с данными, устранены имевшиеся проблемы, а именно:\n",
    "- Пропуски в столбце **Tenure** (Недвижимость) заменены **медианой**.\n",
    "- Удалены столбцы, не требующиеся для обучения модели: **Unnamed: 0, RowNumber, CustomerId, Surname**.\n",
    "- Проведено прямое кодирование столбцов **Gender** и **Geography**.\n",
    "- Выполнено масштабирование признаков.\n",
    "- Данные разделены на три выборки: **обучающую, валидационную и тестовую**.\n",
    "\n",
    "**На втором этапе** был изучен баланс классов, а также проведено первичное обучение моделей без учета дисбаланса классов. По итогу можно сделать следующие выводы:\n",
    "- **Линейная регрессия** очень чувствительна к дисбалансу классов\n",
    "- **Решающее дерево** и **Случайный лес** показывают неплохие результаты даже при наличии дисбаланса классов.\n",
    "\n",
    "**На третьем этапе** проведена работа по устранению дисбаланса классов. Использованы четыре метода:\n",
    "- Изменение порога\n",
    "- Взвешивание классов\n",
    "- Увеличение выборки (Upsampling)\n",
    "- Уменьшение выборки (Downsampling)\n",
    "\n",
    "При этом изменение порога и взвешивание классов использованы как по отдельности, так и в сочетании изменением выборки.\\\n",
    "В последнем случае модель показала наилучшие результаты.\n",
    "\n",
    "При этом, не смотря на то, что метрики **f1-мера** и **AUC-ROC** сильно коррелировали между собой, в некоторых случаях наблюдалось увеличение одной метрики без изменения/с небольшим ухудшением другой.\n",
    "\n",
    "**На четвертом этапе** проведено финальное тестирование моделей, в результате которого модели на **тестовой** выборке показали результаты значительно **хуже** аналогичных на **валидационной** выборке, несмотря на неплохие показатели **AUC-ROC**.\n",
    "- Логистическая регрессия не набрала необходимого значения **f1-меры** (**0.469** против **0.59** требуемых)\n",
    "- Решающее дерево также получило неудовлетворительное значение **f1-меры** (**0.549** при **AUC-ROC = 0.817**)\n",
    "- Модель Случайного леса выполнила задачу со значением **f1-меры = 0.596** и **AUC-ROC = 0.848**"
   ]
  },
  {
   "cell_type": "markdown",
   "metadata": {},
   "source": [
    "# Чек-лист готовности проекта"
   ]
  },
  {
   "cell_type": "markdown",
   "metadata": {},
   "source": [
    "- [x]  Jupyter Notebook открыт\n",
    "- [x]  Весь код выполняется без ошибок\n",
    "- [x]  Ячейки с кодом расположены в порядке исполнения\n",
    "- [x]  Выполнен шаг 1: данные подготовлены\n",
    "- [x]  Выполнен шаг 2: задача исследована\n",
    "    - [x]  Исследован баланс классов\n",
    "    - [x]  Изучены модели без учёта дисбаланса\n",
    "    - [x]  Написаны выводы по результатам исследования\n",
    "- [x]  Выполнен шаг 3: учтён дисбаланс\n",
    "    - [x]  Применено несколько способов борьбы с дисбалансом\n",
    "    - [x]  Написаны выводы по результатам исследования\n",
    "- [x]  Выполнен шаг 4: проведено тестирование\n",
    "- [x]  Удалось достичь *F1*-меры не менее 0.59\n",
    "- [x]  Исследована метрика *AUC-ROC*"
   ]
  },
  {
   "cell_type": "code",
   "execution_count": null,
   "metadata": {},
   "outputs": [],
   "source": []
  }
 ],
 "metadata": {
  "kernelspec": {
   "display_name": "Python 3",
   "language": "python",
   "name": "python3"
  },
  "language_info": {
   "codemirror_mode": {
    "name": "ipython",
    "version": 3
   },
   "file_extension": ".py",
   "mimetype": "text/x-python",
   "name": "python",
   "nbconvert_exporter": "python",
   "pygments_lexer": "ipython3",
   "version": "3.7.4"
  }
 },
 "nbformat": 4,
 "nbformat_minor": 2
}
