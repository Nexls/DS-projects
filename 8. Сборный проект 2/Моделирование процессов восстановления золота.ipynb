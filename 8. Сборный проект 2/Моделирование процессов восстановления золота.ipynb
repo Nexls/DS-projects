{
 "cells": [
  {
   "cell_type": "markdown",
   "metadata": {},
   "source": [
    "# Описание проекта\n",
    "\n",
    "Подготовьте прототип модели машинного обучения для «Цифры». Компания разрабатывает решения для эффективной работы промышленных предприятий.\n",
    "\n",
    "Модель должна предсказать коэффициент восстановления золота из золотосодержащей руды. В вашем распоряжении данные с параметрами добычи и очистки. \n",
    "\n",
    "Модель поможет оптимизировать производство, чтобы не запускать предприятие с убыточными характеристиками.\n",
    "\n",
    "Вам нужно:\n",
    "\n",
    "1. Подготовить данные;\n",
    "2. Провести исследовательский анализ данных;\n",
    "3. Построить и обучить модель."
   ]
  },
  {
   "cell_type": "markdown",
   "metadata": {},
   "source": [
    "---"
   ]
  },
  {
   "cell_type": "markdown",
   "metadata": {},
   "source": [
    "# 1. Подготовка данных"
   ]
  },
  {
   "cell_type": "markdown",
   "metadata": {},
   "source": [
    "### Импортируем необходимые библиотеки"
   ]
  },
  {
   "cell_type": "markdown",
   "metadata": {},
   "source": [
    "Основные библиотеки"
   ]
  },
  {
   "cell_type": "code",
   "execution_count": 1,
   "metadata": {},
   "outputs": [],
   "source": [
    "import pandas as pd\n",
    "import numpy as np\n",
    "import matplotlib.pyplot as plt\n",
    "import seaborn as sns"
   ]
  },
  {
   "cell_type": "markdown",
   "metadata": {},
   "source": [
    "Утилиты"
   ]
  },
  {
   "cell_type": "code",
   "execution_count": 2,
   "metadata": {},
   "outputs": [],
   "source": [
    "from sklearn.metrics import mean_absolute_error\n",
    "from pandas.plotting import register_matplotlib_converters"
   ]
  },
  {
   "cell_type": "markdown",
   "metadata": {},
   "source": [
    "### Импортируем данные"
   ]
  },
  {
   "cell_type": "markdown",
   "metadata": {},
   "source": [
    "Данные представлены тремя таблицами:\n",
    "- Обучающая выборка\n",
    "- Тестовая выборка\n",
    "- Исходный датасет (обучающая + тестовая выборки)\n",
    "\n",
    "При этом в тестовой выборке отсутствуют целевые признаки, а также признаки, которые замеряются/рассчитываются значительно позже."
   ]
  },
  {
   "cell_type": "code",
   "execution_count": 3,
   "metadata": {},
   "outputs": [],
   "source": [
    "train_df = pd.read_csv('D:/3D Objects/Praktikum/Data/gold_recovery_train.csv')\n",
    "test_df = pd.read_csv('D:/3D Objects/Praktikum/Data/gold_recovery_test.csv')\n",
    "full_df = pd.read_csv('D:/3D Objects/Praktikum/Data/gold_recovery_full.csv')\n",
    "\n",
    "gold_datasets = [train_df, test_df, full_df]"
   ]
  },
  {
   "cell_type": "markdown",
   "metadata": {},
   "source": [
    "### Изучаем данные"
   ]
  },
  {
   "cell_type": "markdown",
   "metadata": {},
   "source": [
    "Для ознакомления с данными воспользуемся **исходным** датасетом, чтобы определить подходящую предобработку **обучающей** и **тестовой** выборок."
   ]
  },
  {
   "cell_type": "code",
   "execution_count": 4,
   "metadata": {
    "scrolled": false
   },
   "outputs": [
    {
     "name": "stdout",
     "output_type": "stream",
     "text": [
      "Duplicates: 0\n",
      "<class 'pandas.core.frame.DataFrame'>\n",
      "RangeIndex: 22716 entries, 0 to 22715\n",
      "Data columns (total 87 columns):\n",
      "date                                                  22716 non-null object\n",
      "final.output.concentrate_ag                           22627 non-null float64\n",
      "final.output.concentrate_pb                           22629 non-null float64\n",
      "final.output.concentrate_sol                          22331 non-null float64\n",
      "final.output.concentrate_au                           22630 non-null float64\n",
      "final.output.recovery                                 20753 non-null float64\n",
      "final.output.tail_ag                                  22633 non-null float64\n",
      "final.output.tail_pb                                  22516 non-null float64\n",
      "final.output.tail_sol                                 22445 non-null float64\n",
      "final.output.tail_au                                  22635 non-null float64\n",
      "primary_cleaner.input.sulfate                         21107 non-null float64\n",
      "primary_cleaner.input.depressant                      21170 non-null float64\n",
      "primary_cleaner.input.feed_size                       22716 non-null float64\n",
      "primary_cleaner.input.xanthate                        21565 non-null float64\n",
      "primary_cleaner.output.concentrate_ag                 22618 non-null float64\n",
      "primary_cleaner.output.concentrate_pb                 22268 non-null float64\n",
      "primary_cleaner.output.concentrate_sol                21918 non-null float64\n",
      "primary_cleaner.output.concentrate_au                 22618 non-null float64\n",
      "primary_cleaner.output.tail_ag                        22614 non-null float64\n",
      "primary_cleaner.output.tail_pb                        22594 non-null float64\n",
      "primary_cleaner.output.tail_sol                       22365 non-null float64\n",
      "primary_cleaner.output.tail_au                        22617 non-null float64\n",
      "primary_cleaner.state.floatbank8_a_air                22660 non-null float64\n",
      "primary_cleaner.state.floatbank8_a_level              22667 non-null float64\n",
      "primary_cleaner.state.floatbank8_b_air                22660 non-null float64\n",
      "primary_cleaner.state.floatbank8_b_level              22673 non-null float64\n",
      "primary_cleaner.state.floatbank8_c_air                22662 non-null float64\n",
      "primary_cleaner.state.floatbank8_c_level              22673 non-null float64\n",
      "primary_cleaner.state.floatbank8_d_air                22661 non-null float64\n",
      "primary_cleaner.state.floatbank8_d_level              22673 non-null float64\n",
      "rougher.calculation.sulfate_to_au_concentrate         22672 non-null float64\n",
      "rougher.calculation.floatbank10_sulfate_to_au_feed    22672 non-null float64\n",
      "rougher.calculation.floatbank11_sulfate_to_au_feed    22672 non-null float64\n",
      "rougher.calculation.au_pb_ratio                       21089 non-null float64\n",
      "rougher.input.feed_ag                                 22618 non-null float64\n",
      "rougher.input.feed_pb                                 22472 non-null float64\n",
      "rougher.input.feed_rate                               22163 non-null float64\n",
      "rougher.input.feed_size                               22277 non-null float64\n",
      "rougher.input.feed_sol                                22357 non-null float64\n",
      "rougher.input.feed_au                                 22617 non-null float64\n",
      "rougher.input.floatbank10_sulfate                     21415 non-null float64\n",
      "rougher.input.floatbank10_xanthate                    22247 non-null float64\n",
      "rougher.input.floatbank11_sulfate                     22038 non-null float64\n",
      "rougher.input.floatbank11_xanthate                    20459 non-null float64\n",
      "rougher.output.concentrate_ag                         22618 non-null float64\n",
      "rougher.output.concentrate_pb                         22618 non-null float64\n",
      "rougher.output.concentrate_sol                        22526 non-null float64\n",
      "rougher.output.concentrate_au                         22618 non-null float64\n",
      "rougher.output.recovery                               19597 non-null float64\n",
      "rougher.output.tail_ag                                19979 non-null float64\n",
      "rougher.output.tail_pb                                22618 non-null float64\n",
      "rougher.output.tail_sol                               19980 non-null float64\n",
      "rougher.output.tail_au                                19980 non-null float64\n",
      "rougher.state.floatbank10_a_air                       22646 non-null float64\n",
      "rougher.state.floatbank10_a_level                     22647 non-null float64\n",
      "rougher.state.floatbank10_b_air                       22646 non-null float64\n",
      "rougher.state.floatbank10_b_level                     22647 non-null float64\n",
      "rougher.state.floatbank10_c_air                       22646 non-null float64\n",
      "rougher.state.floatbank10_c_level                     22654 non-null float64\n",
      "rougher.state.floatbank10_d_air                       22641 non-null float64\n",
      "rougher.state.floatbank10_d_level                     22649 non-null float64\n",
      "rougher.state.floatbank10_e_air                       22096 non-null float64\n",
      "rougher.state.floatbank10_e_level                     22649 non-null float64\n",
      "rougher.state.floatbank10_f_air                       22641 non-null float64\n",
      "rougher.state.floatbank10_f_level                     22642 non-null float64\n",
      "secondary_cleaner.output.tail_ag                      22616 non-null float64\n",
      "secondary_cleaner.output.tail_pb                      22600 non-null float64\n",
      "secondary_cleaner.output.tail_sol                     20501 non-null float64\n",
      "secondary_cleaner.output.tail_au                      22618 non-null float64\n",
      "secondary_cleaner.state.floatbank2_a_air              22333 non-null float64\n",
      "secondary_cleaner.state.floatbank2_a_level            22591 non-null float64\n",
      "secondary_cleaner.state.floatbank2_b_air              22538 non-null float64\n",
      "secondary_cleaner.state.floatbank2_b_level            22588 non-null float64\n",
      "secondary_cleaner.state.floatbank3_a_air              22585 non-null float64\n",
      "secondary_cleaner.state.floatbank3_a_level            22587 non-null float64\n",
      "secondary_cleaner.state.floatbank3_b_air              22592 non-null float64\n",
      "secondary_cleaner.state.floatbank3_b_level            22590 non-null float64\n",
      "secondary_cleaner.state.floatbank4_a_air              22571 non-null float64\n",
      "secondary_cleaner.state.floatbank4_a_level            22587 non-null float64\n",
      "secondary_cleaner.state.floatbank4_b_air              22608 non-null float64\n",
      "secondary_cleaner.state.floatbank4_b_level            22607 non-null float64\n",
      "secondary_cleaner.state.floatbank5_a_air              22615 non-null float64\n",
      "secondary_cleaner.state.floatbank5_a_level            22615 non-null float64\n",
      "secondary_cleaner.state.floatbank5_b_air              22615 non-null float64\n",
      "secondary_cleaner.state.floatbank5_b_level            22616 non-null float64\n",
      "secondary_cleaner.state.floatbank6_a_air              22597 non-null float64\n",
      "secondary_cleaner.state.floatbank6_a_level            22615 non-null float64\n",
      "dtypes: float64(86), object(1)\n",
      "memory usage: 15.1+ MB\n"
     ]
    },
    {
     "data": {
      "text/html": [
       "<div>\n",
       "<style scoped>\n",
       "    .dataframe tbody tr th:only-of-type {\n",
       "        vertical-align: middle;\n",
       "    }\n",
       "\n",
       "    .dataframe tbody tr th {\n",
       "        vertical-align: top;\n",
       "    }\n",
       "\n",
       "    .dataframe thead th {\n",
       "        text-align: right;\n",
       "    }\n",
       "</style>\n",
       "<table border=\"1\" class=\"dataframe\">\n",
       "  <thead>\n",
       "    <tr style=\"text-align: right;\">\n",
       "      <th></th>\n",
       "      <th>date</th>\n",
       "      <th>final.output.concentrate_ag</th>\n",
       "      <th>final.output.concentrate_pb</th>\n",
       "      <th>final.output.concentrate_sol</th>\n",
       "      <th>final.output.concentrate_au</th>\n",
       "      <th>final.output.recovery</th>\n",
       "      <th>final.output.tail_ag</th>\n",
       "      <th>final.output.tail_pb</th>\n",
       "      <th>final.output.tail_sol</th>\n",
       "      <th>final.output.tail_au</th>\n",
       "      <th>...</th>\n",
       "      <th>secondary_cleaner.state.floatbank4_a_air</th>\n",
       "      <th>secondary_cleaner.state.floatbank4_a_level</th>\n",
       "      <th>secondary_cleaner.state.floatbank4_b_air</th>\n",
       "      <th>secondary_cleaner.state.floatbank4_b_level</th>\n",
       "      <th>secondary_cleaner.state.floatbank5_a_air</th>\n",
       "      <th>secondary_cleaner.state.floatbank5_a_level</th>\n",
       "      <th>secondary_cleaner.state.floatbank5_b_air</th>\n",
       "      <th>secondary_cleaner.state.floatbank5_b_level</th>\n",
       "      <th>secondary_cleaner.state.floatbank6_a_air</th>\n",
       "      <th>secondary_cleaner.state.floatbank6_a_level</th>\n",
       "    </tr>\n",
       "  </thead>\n",
       "  <tbody>\n",
       "    <tr>\n",
       "      <td>0</td>\n",
       "      <td>2016-01-15 00:00:00</td>\n",
       "      <td>6.055403</td>\n",
       "      <td>9.889648</td>\n",
       "      <td>5.507324</td>\n",
       "      <td>42.192020</td>\n",
       "      <td>70.541216</td>\n",
       "      <td>10.411962</td>\n",
       "      <td>0.895447</td>\n",
       "      <td>16.904297</td>\n",
       "      <td>2.143149</td>\n",
       "      <td>...</td>\n",
       "      <td>14.016835</td>\n",
       "      <td>-502.488007</td>\n",
       "      <td>12.099931</td>\n",
       "      <td>-504.715942</td>\n",
       "      <td>9.925633</td>\n",
       "      <td>-498.310211</td>\n",
       "      <td>8.079666</td>\n",
       "      <td>-500.470978</td>\n",
       "      <td>14.151341</td>\n",
       "      <td>-605.841980</td>\n",
       "    </tr>\n",
       "    <tr>\n",
       "      <td>1</td>\n",
       "      <td>2016-01-15 01:00:00</td>\n",
       "      <td>6.029369</td>\n",
       "      <td>9.968944</td>\n",
       "      <td>5.257781</td>\n",
       "      <td>42.701629</td>\n",
       "      <td>69.266198</td>\n",
       "      <td>10.462676</td>\n",
       "      <td>0.927452</td>\n",
       "      <td>16.634514</td>\n",
       "      <td>2.224930</td>\n",
       "      <td>...</td>\n",
       "      <td>13.992281</td>\n",
       "      <td>-505.503262</td>\n",
       "      <td>11.950531</td>\n",
       "      <td>-501.331529</td>\n",
       "      <td>10.039245</td>\n",
       "      <td>-500.169983</td>\n",
       "      <td>7.984757</td>\n",
       "      <td>-500.582168</td>\n",
       "      <td>13.998353</td>\n",
       "      <td>-599.787184</td>\n",
       "    </tr>\n",
       "    <tr>\n",
       "      <td>2</td>\n",
       "      <td>2016-01-15 02:00:00</td>\n",
       "      <td>6.055926</td>\n",
       "      <td>10.213995</td>\n",
       "      <td>5.383759</td>\n",
       "      <td>42.657501</td>\n",
       "      <td>68.116445</td>\n",
       "      <td>10.507046</td>\n",
       "      <td>0.953716</td>\n",
       "      <td>16.208849</td>\n",
       "      <td>2.257889</td>\n",
       "      <td>...</td>\n",
       "      <td>14.015015</td>\n",
       "      <td>-502.520901</td>\n",
       "      <td>11.912783</td>\n",
       "      <td>-501.133383</td>\n",
       "      <td>10.070913</td>\n",
       "      <td>-500.129135</td>\n",
       "      <td>8.013877</td>\n",
       "      <td>-500.517572</td>\n",
       "      <td>14.028663</td>\n",
       "      <td>-601.427363</td>\n",
       "    </tr>\n",
       "  </tbody>\n",
       "</table>\n",
       "<p>3 rows × 87 columns</p>\n",
       "</div>"
      ],
      "text/plain": [
       "                  date  final.output.concentrate_ag  \\\n",
       "0  2016-01-15 00:00:00                     6.055403   \n",
       "1  2016-01-15 01:00:00                     6.029369   \n",
       "2  2016-01-15 02:00:00                     6.055926   \n",
       "\n",
       "   final.output.concentrate_pb  final.output.concentrate_sol  \\\n",
       "0                     9.889648                      5.507324   \n",
       "1                     9.968944                      5.257781   \n",
       "2                    10.213995                      5.383759   \n",
       "\n",
       "   final.output.concentrate_au  final.output.recovery  final.output.tail_ag  \\\n",
       "0                    42.192020              70.541216             10.411962   \n",
       "1                    42.701629              69.266198             10.462676   \n",
       "2                    42.657501              68.116445             10.507046   \n",
       "\n",
       "   final.output.tail_pb  final.output.tail_sol  final.output.tail_au  ...  \\\n",
       "0              0.895447              16.904297              2.143149  ...   \n",
       "1              0.927452              16.634514              2.224930  ...   \n",
       "2              0.953716              16.208849              2.257889  ...   \n",
       "\n",
       "   secondary_cleaner.state.floatbank4_a_air  \\\n",
       "0                                 14.016835   \n",
       "1                                 13.992281   \n",
       "2                                 14.015015   \n",
       "\n",
       "   secondary_cleaner.state.floatbank4_a_level  \\\n",
       "0                                 -502.488007   \n",
       "1                                 -505.503262   \n",
       "2                                 -502.520901   \n",
       "\n",
       "   secondary_cleaner.state.floatbank4_b_air  \\\n",
       "0                                 12.099931   \n",
       "1                                 11.950531   \n",
       "2                                 11.912783   \n",
       "\n",
       "   secondary_cleaner.state.floatbank4_b_level  \\\n",
       "0                                 -504.715942   \n",
       "1                                 -501.331529   \n",
       "2                                 -501.133383   \n",
       "\n",
       "   secondary_cleaner.state.floatbank5_a_air  \\\n",
       "0                                  9.925633   \n",
       "1                                 10.039245   \n",
       "2                                 10.070913   \n",
       "\n",
       "   secondary_cleaner.state.floatbank5_a_level  \\\n",
       "0                                 -498.310211   \n",
       "1                                 -500.169983   \n",
       "2                                 -500.129135   \n",
       "\n",
       "   secondary_cleaner.state.floatbank5_b_air  \\\n",
       "0                                  8.079666   \n",
       "1                                  7.984757   \n",
       "2                                  8.013877   \n",
       "\n",
       "   secondary_cleaner.state.floatbank5_b_level  \\\n",
       "0                                 -500.470978   \n",
       "1                                 -500.582168   \n",
       "2                                 -500.517572   \n",
       "\n",
       "   secondary_cleaner.state.floatbank6_a_air  \\\n",
       "0                                 14.151341   \n",
       "1                                 13.998353   \n",
       "2                                 14.028663   \n",
       "\n",
       "   secondary_cleaner.state.floatbank6_a_level  \n",
       "0                                 -605.841980  \n",
       "1                                 -599.787184  \n",
       "2                                 -601.427363  \n",
       "\n",
       "[3 rows x 87 columns]"
      ]
     },
     "execution_count": 4,
     "metadata": {},
     "output_type": "execute_result"
    }
   ],
   "source": [
    "print('Duplicates:', full_df.duplicated().sum())\n",
    "full_df.info()\n",
    "full_df.head(3)"
   ]
  },
  {
   "cell_type": "markdown",
   "metadata": {},
   "source": [
    "Исходный датасет состоит из **22716** строк и **87** столбцов.\\\n",
    "Таблица содержит информацию о важных параметрах на различных этапах обработки золотой руды.\\\n",
    "Таблица отсортирована по времени (столбец **date**).\\\n",
    "Видно, в большинстве столбцов встречаются пропуски, которые необходимо заполнить для корректного обучения моделей.\\\n",
    "Также стоит перевести столбец **date** в формат **datetime** для корректной работы с ним.\n",
    "\n",
    "Названия столбцов сформированы следующим образом:\n",
    "**[этап].[тип_параметра].[название_параметра]**\\\n",
    "Пример: **rougher.input.feed_ag**\n",
    "\n",
    "Возможные значения для блока **[этап]**:\n",
    "\n",
    "   - **rougher** — флотация\n",
    "   - **primary_cleaner** — первичная очистка\n",
    "   - **secondary_cleaner** — вторичная очистка\n",
    "   - **final** — финальные характеристики\n",
    "\n",
    "Возможные значения для блока **[тип_параметра]**:\n",
    "\n",
    "   - **input** — параметры сырья\n",
    "   - **output** — параметры продукта\n",
    "   - **state** — параметры, характеризующие текущее состояние этапа\n",
    "   - **calculation** — расчётные характеристики\n",
    "\n",
    "**Параметры этапов**\n",
    "\n",
    "   - **Rougher feed** — исходное сырье\n",
    "   - **Rougher additions** (или **reagent additions**) — флотационные реагенты: Xanthate, Sulphate, Depressant\n",
    "   - **Xanthate** — ксантогенат (промотер, или активатор флотации);\n",
    "   - **Sulphate** — сульфат (на данном производстве сульфид натрия);\n",
    "   - **Depressant** — депрессант (силикат натрия).\n",
    "   - **Rougher process** (англ. «грубый процесс») — флотация\n",
    "   - **Rougher tails** — отвальные хвосты\n",
    "   - **Float banks** — флотационная установка\n",
    "   - **Cleaner process** — очистка\n",
    "   - **Rougher Au** — черновой концентрат золота\n",
    "   - **Final Au** — финальный концентрат золота\n",
    "   - **air amount** — объём воздуха\n",
    "   - **fluid levels** — уровень жидкости\n",
    "   - **feed size** — размер гранул сырья\n",
    "   - **feed rate** — скорость подачи"
   ]
  },
  {
   "cell_type": "markdown",
   "metadata": {},
   "source": [
    "#### Ознакомимся с тестовой выборкой:"
   ]
  },
  {
   "cell_type": "code",
   "execution_count": 5,
   "metadata": {},
   "outputs": [
    {
     "name": "stdout",
     "output_type": "stream",
     "text": [
      "Lenght: 5856\n"
     ]
    },
    {
     "data": {
      "text/html": [
       "<div>\n",
       "<style scoped>\n",
       "    .dataframe tbody tr th:only-of-type {\n",
       "        vertical-align: middle;\n",
       "    }\n",
       "\n",
       "    .dataframe tbody tr th {\n",
       "        vertical-align: top;\n",
       "    }\n",
       "\n",
       "    .dataframe thead th {\n",
       "        text-align: right;\n",
       "    }\n",
       "</style>\n",
       "<table border=\"1\" class=\"dataframe\">\n",
       "  <thead>\n",
       "    <tr style=\"text-align: right;\">\n",
       "      <th></th>\n",
       "      <th>date</th>\n",
       "      <th>primary_cleaner.input.sulfate</th>\n",
       "      <th>primary_cleaner.input.depressant</th>\n",
       "      <th>primary_cleaner.input.feed_size</th>\n",
       "      <th>primary_cleaner.input.xanthate</th>\n",
       "      <th>primary_cleaner.state.floatbank8_a_air</th>\n",
       "      <th>primary_cleaner.state.floatbank8_a_level</th>\n",
       "      <th>primary_cleaner.state.floatbank8_b_air</th>\n",
       "      <th>primary_cleaner.state.floatbank8_b_level</th>\n",
       "      <th>primary_cleaner.state.floatbank8_c_air</th>\n",
       "      <th>...</th>\n",
       "      <th>secondary_cleaner.state.floatbank4_a_air</th>\n",
       "      <th>secondary_cleaner.state.floatbank4_a_level</th>\n",
       "      <th>secondary_cleaner.state.floatbank4_b_air</th>\n",
       "      <th>secondary_cleaner.state.floatbank4_b_level</th>\n",
       "      <th>secondary_cleaner.state.floatbank5_a_air</th>\n",
       "      <th>secondary_cleaner.state.floatbank5_a_level</th>\n",
       "      <th>secondary_cleaner.state.floatbank5_b_air</th>\n",
       "      <th>secondary_cleaner.state.floatbank5_b_level</th>\n",
       "      <th>secondary_cleaner.state.floatbank6_a_air</th>\n",
       "      <th>secondary_cleaner.state.floatbank6_a_level</th>\n",
       "    </tr>\n",
       "  </thead>\n",
       "  <tbody>\n",
       "    <tr>\n",
       "      <td>0</td>\n",
       "      <td>2016-09-01 00:59:59</td>\n",
       "      <td>210.800909</td>\n",
       "      <td>14.993118</td>\n",
       "      <td>8.080000</td>\n",
       "      <td>1.005021</td>\n",
       "      <td>1398.981301</td>\n",
       "      <td>-500.225577</td>\n",
       "      <td>1399.144926</td>\n",
       "      <td>-499.919735</td>\n",
       "      <td>1400.102998</td>\n",
       "      <td>...</td>\n",
       "      <td>12.023554</td>\n",
       "      <td>-497.795834</td>\n",
       "      <td>8.016656</td>\n",
       "      <td>-501.289139</td>\n",
       "      <td>7.946562</td>\n",
       "      <td>-432.317850</td>\n",
       "      <td>4.872511</td>\n",
       "      <td>-500.037437</td>\n",
       "      <td>26.705889</td>\n",
       "      <td>-499.709414</td>\n",
       "    </tr>\n",
       "    <tr>\n",
       "      <td>1</td>\n",
       "      <td>2016-09-01 01:59:59</td>\n",
       "      <td>215.392455</td>\n",
       "      <td>14.987471</td>\n",
       "      <td>8.080000</td>\n",
       "      <td>0.990469</td>\n",
       "      <td>1398.777912</td>\n",
       "      <td>-500.057435</td>\n",
       "      <td>1398.055362</td>\n",
       "      <td>-499.778182</td>\n",
       "      <td>1396.151033</td>\n",
       "      <td>...</td>\n",
       "      <td>12.058140</td>\n",
       "      <td>-498.695773</td>\n",
       "      <td>8.130979</td>\n",
       "      <td>-499.634209</td>\n",
       "      <td>7.958270</td>\n",
       "      <td>-525.839648</td>\n",
       "      <td>4.878850</td>\n",
       "      <td>-500.162375</td>\n",
       "      <td>25.019940</td>\n",
       "      <td>-499.819438</td>\n",
       "    </tr>\n",
       "    <tr>\n",
       "      <td>2</td>\n",
       "      <td>2016-09-01 02:59:59</td>\n",
       "      <td>215.259946</td>\n",
       "      <td>12.884934</td>\n",
       "      <td>7.786667</td>\n",
       "      <td>0.996043</td>\n",
       "      <td>1398.493666</td>\n",
       "      <td>-500.868360</td>\n",
       "      <td>1398.860436</td>\n",
       "      <td>-499.764529</td>\n",
       "      <td>1398.075709</td>\n",
       "      <td>...</td>\n",
       "      <td>11.962366</td>\n",
       "      <td>-498.767484</td>\n",
       "      <td>8.096893</td>\n",
       "      <td>-500.827423</td>\n",
       "      <td>8.071056</td>\n",
       "      <td>-500.801673</td>\n",
       "      <td>4.905125</td>\n",
       "      <td>-499.828510</td>\n",
       "      <td>24.994862</td>\n",
       "      <td>-500.622559</td>\n",
       "    </tr>\n",
       "  </tbody>\n",
       "</table>\n",
       "<p>3 rows × 53 columns</p>\n",
       "</div>"
      ],
      "text/plain": [
       "                  date  primary_cleaner.input.sulfate  \\\n",
       "0  2016-09-01 00:59:59                     210.800909   \n",
       "1  2016-09-01 01:59:59                     215.392455   \n",
       "2  2016-09-01 02:59:59                     215.259946   \n",
       "\n",
       "   primary_cleaner.input.depressant  primary_cleaner.input.feed_size  \\\n",
       "0                         14.993118                         8.080000   \n",
       "1                         14.987471                         8.080000   \n",
       "2                         12.884934                         7.786667   \n",
       "\n",
       "   primary_cleaner.input.xanthate  primary_cleaner.state.floatbank8_a_air  \\\n",
       "0                        1.005021                             1398.981301   \n",
       "1                        0.990469                             1398.777912   \n",
       "2                        0.996043                             1398.493666   \n",
       "\n",
       "   primary_cleaner.state.floatbank8_a_level  \\\n",
       "0                               -500.225577   \n",
       "1                               -500.057435   \n",
       "2                               -500.868360   \n",
       "\n",
       "   primary_cleaner.state.floatbank8_b_air  \\\n",
       "0                             1399.144926   \n",
       "1                             1398.055362   \n",
       "2                             1398.860436   \n",
       "\n",
       "   primary_cleaner.state.floatbank8_b_level  \\\n",
       "0                               -499.919735   \n",
       "1                               -499.778182   \n",
       "2                               -499.764529   \n",
       "\n",
       "   primary_cleaner.state.floatbank8_c_air  ...  \\\n",
       "0                             1400.102998  ...   \n",
       "1                             1396.151033  ...   \n",
       "2                             1398.075709  ...   \n",
       "\n",
       "   secondary_cleaner.state.floatbank4_a_air  \\\n",
       "0                                 12.023554   \n",
       "1                                 12.058140   \n",
       "2                                 11.962366   \n",
       "\n",
       "   secondary_cleaner.state.floatbank4_a_level  \\\n",
       "0                                 -497.795834   \n",
       "1                                 -498.695773   \n",
       "2                                 -498.767484   \n",
       "\n",
       "   secondary_cleaner.state.floatbank4_b_air  \\\n",
       "0                                  8.016656   \n",
       "1                                  8.130979   \n",
       "2                                  8.096893   \n",
       "\n",
       "   secondary_cleaner.state.floatbank4_b_level  \\\n",
       "0                                 -501.289139   \n",
       "1                                 -499.634209   \n",
       "2                                 -500.827423   \n",
       "\n",
       "   secondary_cleaner.state.floatbank5_a_air  \\\n",
       "0                                  7.946562   \n",
       "1                                  7.958270   \n",
       "2                                  8.071056   \n",
       "\n",
       "   secondary_cleaner.state.floatbank5_a_level  \\\n",
       "0                                 -432.317850   \n",
       "1                                 -525.839648   \n",
       "2                                 -500.801673   \n",
       "\n",
       "   secondary_cleaner.state.floatbank5_b_air  \\\n",
       "0                                  4.872511   \n",
       "1                                  4.878850   \n",
       "2                                  4.905125   \n",
       "\n",
       "   secondary_cleaner.state.floatbank5_b_level  \\\n",
       "0                                 -500.037437   \n",
       "1                                 -500.162375   \n",
       "2                                 -499.828510   \n",
       "\n",
       "   secondary_cleaner.state.floatbank6_a_air  \\\n",
       "0                                 26.705889   \n",
       "1                                 25.019940   \n",
       "2                                 24.994862   \n",
       "\n",
       "   secondary_cleaner.state.floatbank6_a_level  \n",
       "0                                 -499.709414  \n",
       "1                                 -499.819438  \n",
       "2                                 -500.622559  \n",
       "\n",
       "[3 rows x 53 columns]"
      ]
     },
     "execution_count": 5,
     "metadata": {},
     "output_type": "execute_result"
    }
   ],
   "source": [
    "print('Lenght:', len(test_df))\n",
    "test_df.head(3)"
   ]
  },
  {
   "cell_type": "markdown",
   "metadata": {},
   "source": [
    "В тестовой выборке присутствует всего **53** столбца из исходных **87**.\\\n",
    "Размер тестовой выборки - **5856** строк.\\\n",
    "Узнаем, какие столбцы отсутствуют:"
   ]
  },
  {
   "cell_type": "code",
   "execution_count": 6,
   "metadata": {},
   "outputs": [
    {
     "data": {
      "text/plain": [
       "['final.output.concentrate_ag',\n",
       " 'final.output.concentrate_pb',\n",
       " 'final.output.concentrate_sol',\n",
       " 'final.output.concentrate_au',\n",
       " 'final.output.recovery',\n",
       " 'final.output.tail_ag',\n",
       " 'final.output.tail_pb',\n",
       " 'final.output.tail_sol',\n",
       " 'final.output.tail_au',\n",
       " 'primary_cleaner.output.concentrate_ag',\n",
       " 'primary_cleaner.output.concentrate_pb',\n",
       " 'primary_cleaner.output.concentrate_sol',\n",
       " 'primary_cleaner.output.concentrate_au',\n",
       " 'primary_cleaner.output.tail_ag',\n",
       " 'primary_cleaner.output.tail_pb',\n",
       " 'primary_cleaner.output.tail_sol',\n",
       " 'primary_cleaner.output.tail_au',\n",
       " 'rougher.calculation.sulfate_to_au_concentrate',\n",
       " 'rougher.calculation.floatbank10_sulfate_to_au_feed',\n",
       " 'rougher.calculation.floatbank11_sulfate_to_au_feed',\n",
       " 'rougher.calculation.au_pb_ratio',\n",
       " 'rougher.output.concentrate_ag',\n",
       " 'rougher.output.concentrate_pb',\n",
       " 'rougher.output.concentrate_sol',\n",
       " 'rougher.output.concentrate_au',\n",
       " 'rougher.output.recovery',\n",
       " 'rougher.output.tail_ag',\n",
       " 'rougher.output.tail_pb',\n",
       " 'rougher.output.tail_sol',\n",
       " 'rougher.output.tail_au',\n",
       " 'secondary_cleaner.output.tail_ag',\n",
       " 'secondary_cleaner.output.tail_pb',\n",
       " 'secondary_cleaner.output.tail_sol',\n",
       " 'secondary_cleaner.output.tail_au']"
      ]
     },
     "execution_count": 6,
     "metadata": {},
     "output_type": "execute_result"
    }
   ],
   "source": [
    "test_df_missing_columns = []\n",
    "for column in full_df.columns:\n",
    "    if column not in test_df.columns:\n",
    "        test_df_missing_columns.append(column)\n",
    "        \n",
    "test_df_missing_columns"
   ]
  },
  {
   "cell_type": "markdown",
   "metadata": {},
   "source": [
    "В тестовой выборке отсутствуют только параметры с типом **output** и **calculation**, т.е. параметры, \\\n",
    "значения которых замеряются на выходе/рассчитываются позже.\n",
    "\n",
    "Нужно спрогнозировать две величины:\n",
    "- эффективность обогащения чернового концентрата - **rougher.output.recovery**\n",
    "- эффективность обогащения финального концентрата - **final.output.recovery**\n",
    "---"
   ]
  },
  {
   "cell_type": "markdown",
   "metadata": {},
   "source": [
    "#### Прежде чем приступать к предобработке данных проверим, верно ли рассчитано значение признака `rougher.output.recovery`\n",
    "\n",
    "Проверку проводим на **обучающей** выборке, поскольку на **тестовой** этот параметр **отсутствует**.\n",
    "\n",
    "Формула для расчета: $$Recovery = \\frac{C*(F-T)}{F*(C-T)}*100\\%$$\n",
    "Где:\n",
    "- **C** — доля золота в концентрате после флотации/очистки;\n",
    "- **F** — доля золота в сырье до флотации/очистки;\n",
    "- **T** — доля золота в отвальных хвостах после флотации/очистки.\n",
    "\n",
    "Посчитаем **recovery** по этой формуле и сравним с имеющимися данными:"
   ]
  },
  {
   "cell_type": "code",
   "execution_count": 7,
   "metadata": {},
   "outputs": [
    {
     "data": {
      "text/plain": [
       "2283"
      ]
     },
     "execution_count": 7,
     "metadata": {},
     "output_type": "execute_result"
    }
   ],
   "source": [
    "recovery_C = train_df['rougher.output.concentrate_au']\n",
    "recovery_F = train_df['rougher.input.feed_au']\n",
    "recovery_T = train_df['rougher.output.tail_au']\n",
    "rougher_recovery_calculation = recovery_C * (recovery_F - recovery_T) / (recovery_F * (recovery_C - recovery_T)) * 100\n",
    "\n",
    "# при наличии пропусков для сравнения понадобится индекс, поэтому воспользуемся Series\n",
    "rougher_recovery_calculation = pd.Series(rougher_recovery_calculation, index=train_df.index)\n",
    "rougher_recovery_calculation.isna().sum()"
   ]
  },
  {
   "cell_type": "markdown",
   "metadata": {},
   "source": [
    "Видим, что из-за отсутствия в некоторых строках переменных, по которым мы вычисляем **recovery**,\\\n",
    "в получившемся списке также есть **пропущенные значения**.\\\n",
    "Проверим, есть ли **пропуски** в соответствующем столбце из **обучающей** выборки:"
   ]
  },
  {
   "cell_type": "code",
   "execution_count": 8,
   "metadata": {},
   "outputs": [
    {
     "data": {
      "text/plain": [
       "2573"
      ]
     },
     "execution_count": 8,
     "metadata": {},
     "output_type": "execute_result"
    }
   ],
   "source": [
    "train_df['rougher.output.recovery'].isna().sum()"
   ]
  },
  {
   "cell_type": "markdown",
   "metadata": {},
   "source": [
    "Пропуски есть, причем их даже больше, чем при расчете \"вручную\".\n",
    "\n",
    "Для корректной работы функции **mean_absolute_error()** необходимо сравнивать только существующие значения.\n",
    "\n",
    "Запишем строки, значения в которых присутствуют в обоих списках:"
   ]
  },
  {
   "cell_type": "code",
   "execution_count": 9,
   "metadata": {},
   "outputs": [],
   "source": [
    "recovery_notna_index = train_df[(train_df['rougher.output.recovery'].notna() & rougher_recovery_calculation.notna())].index"
   ]
  },
  {
   "cell_type": "markdown",
   "metadata": {},
   "source": [
    "Сравним по полученному индексу:"
   ]
  },
  {
   "cell_type": "code",
   "execution_count": 10,
   "metadata": {},
   "outputs": [
    {
     "data": {
      "text/plain": [
       "9.663222059087804e-15"
      ]
     },
     "execution_count": 10,
     "metadata": {},
     "output_type": "execute_result"
    }
   ],
   "source": [
    "mean_absolute_error(rougher_recovery_calculation[recovery_notna_index], train_df['rougher.output.recovery'][recovery_notna_index])"
   ]
  },
  {
   "cell_type": "markdown",
   "metadata": {},
   "source": [
    "**MAE** близка к нулю (но не равна, вероятно, из-за погрешности округления), значит значения **recovery** присутствующих в таблице и посчитанных \"вручную\" сходятся.\n",
    "\n",
    "Аналогично, стоит проверить расчет столбца **final.output.recovery**:"
   ]
  },
  {
   "cell_type": "code",
   "execution_count": 11,
   "metadata": {},
   "outputs": [
    {
     "data": {
      "text/plain": [
       "1278"
      ]
     },
     "execution_count": 11,
     "metadata": {},
     "output_type": "execute_result"
    }
   ],
   "source": [
    "recovery_C = train_df['final.output.concentrate_au']\n",
    "recovery_F = train_df['rougher.input.feed_au']\n",
    "recovery_T = train_df['final.output.tail_au']\n",
    "final_recovery_calculation = recovery_C * (recovery_F - recovery_T) / (recovery_F * (recovery_C - recovery_T)) * 100\n",
    "\n",
    "# при наличии пропусков для сравнения понадобится индекс, поэтому воспользуемся Series\n",
    "final_recovery_calculation = pd.Series(final_recovery_calculation, index=train_df.index)\n",
    "final_recovery_calculation.isna().sum()"
   ]
  },
  {
   "cell_type": "markdown",
   "metadata": {},
   "source": [
    "В получившемся списке также есть **пропущенные значения**.\\\n",
    "Проверим, есть ли **пропуски** в соответствующем столбце из **обучающей** выборки:"
   ]
  },
  {
   "cell_type": "code",
   "execution_count": 12,
   "metadata": {},
   "outputs": [
    {
     "data": {
      "text/plain": [
       "1521"
      ]
     },
     "execution_count": 12,
     "metadata": {},
     "output_type": "execute_result"
    }
   ],
   "source": [
    "train_df['final.output.recovery'].isna().sum()"
   ]
  },
  {
   "cell_type": "markdown",
   "metadata": {},
   "source": [
    "Пропуски есть, их, как и в предыдущем случае, больше, чем при расчете \"вручную\".\n",
    "\n",
    "Для корректной работы функции **mean_absolute_error()** необходимо сравнивать только существующие значения.\n",
    "\n",
    "Запишем строки, значения в которых присутствуют в обоих списках:"
   ]
  },
  {
   "cell_type": "code",
   "execution_count": 13,
   "metadata": {},
   "outputs": [],
   "source": [
    "recovery_notna_index = train_df[(train_df['final.output.recovery'].notna() & final_recovery_calculation.notna())].index"
   ]
  },
  {
   "cell_type": "markdown",
   "metadata": {},
   "source": [
    "Сравним по полученному индексу:"
   ]
  },
  {
   "cell_type": "code",
   "execution_count": 14,
   "metadata": {},
   "outputs": [
    {
     "data": {
      "text/plain": [
       "8.443422888227615e-15"
      ]
     },
     "execution_count": 14,
     "metadata": {},
     "output_type": "execute_result"
    }
   ],
   "source": [
    "mean_absolute_error(final_recovery_calculation[recovery_notna_index], train_df['final.output.recovery'][recovery_notna_index])"
   ]
  },
  {
   "cell_type": "markdown",
   "metadata": {},
   "source": [
    "Ошибка минимальна, расчет верен."
   ]
  },
  {
   "cell_type": "markdown",
   "metadata": {},
   "source": [
    "---\n",
    "## Переходим к предобработке данных"
   ]
  },
  {
   "cell_type": "markdown",
   "metadata": {},
   "source": [
    "Первым делом приведем столбец **date** во всех датасетах к формату времени:"
   ]
  },
  {
   "cell_type": "code",
   "execution_count": 15,
   "metadata": {},
   "outputs": [],
   "source": [
    "for df in gold_datasets:\n",
    "    df['date'] = pd.to_datetime(df['date'], format='%Y-%m-%d %H:%M:%S')"
   ]
  },
  {
   "cell_type": "markdown",
   "metadata": {},
   "source": [
    "Заменим пропущенные значения в столбцах с целевыми признаками (**.output.recovery**) на значения, полученные в ходе повторного расчета, поскольку пропусков в расчитанных значениях меньше."
   ]
  },
  {
   "cell_type": "markdown",
   "metadata": {},
   "source": [
    "Для выбора подходящего метода обработки пропусков посмотрим как распределено время замеров:"
   ]
  },
  {
   "cell_type": "code",
   "execution_count": 16,
   "metadata": {},
   "outputs": [
    {
     "data": {
      "image/png": "[encoded data removed]",
      "text/plain": [
       "<Figure size 1440x864 with 1 Axes>"
      ]
     },
     "metadata": {
      "needs_background": "light"
     },
     "output_type": "display_data"
    }
   ],
   "source": [
    "register_matplotlib_converters()\n",
    "\n",
    "plt.figure(figsize=(20,12))\n",
    "plt.scatter(train_df.index, train_df.date, marker='.')\n",
    "plt.grid(True)"
   ]
  },
  {
   "cell_type": "markdown",
   "metadata": {},
   "source": [
    "По графику видно, что **замеры разбиты на три отрезка**: 2016, 2017 и 2018 года.\\\n",
    "Каждый отрезок начинается в начале года и длится приблизительно **9** месяцев, содержит порядка **5500** измерений.\n",
    "\n",
    "Посмотрим как меняются целевые признаки на протяжении всех измерений:"
   ]
  },
  {
   "cell_type": "code",
   "execution_count": 17,
   "metadata": {},
   "outputs": [
    {
     "data": {
      "text/plain": [
       "<matplotlib.legend.Legend at 0x15d4ed89a08>"
      ]
     },
     "execution_count": 17,
     "metadata": {},
     "output_type": "execute_result"
    },
    {
     "data": {
      "image/png": "[encoded data removed]",
      "text/plain": [
       "<Figure size 1440x864 with 1 Axes>"
      ]
     },
     "metadata": {
      "needs_background": "light"
     },
     "output_type": "display_data"
    }
   ],
   "source": [
    "plt.figure(figsize=(20,12))\n",
    "plt.scatter(train_df.index, train_df['rougher.output.recovery'], marker='.', linewidths=0, label='Rougher recovery')\n",
    "plt.scatter(train_df.index, train_df['final.output.recovery'], marker='.', linewidths=0, label='Final recovery')\n",
    "plt.grid(True)\n",
    "plt.legend(loc='upper left')"
   ]
  },
  {
   "cell_type": "markdown",
   "metadata": {},
   "source": [
    "**Из графика следует, что:**\n",
    "- Соседние по времени значения находятся, как правило, на небольшом друг от друга расстоянии.\n",
    "- Целевые признаки коррелируют между собой \n",
    "- Присутствует некоторое количество аномальных значений (близких к 0%/к 100%), но все лежат в разумных пределах.\n",
    "- Пропуски в признаках встречаются, как правило, одновременно.\n",
    "- В середине каждого из периодов значения в среднем ниже, чем в начале и конце.\n",
    "- Есть тенденция повышения показателей из года в год."
   ]
  },
  {
   "cell_type": "markdown",
   "metadata": {},
   "source": [
    "Перед предобработкой тренировочного набора данных удалим от туда столбцы, которых нет в тестовом наборе (за исключением целевых признаков), чтобы модели не обучались по недоступным данным."
   ]
  },
  {
   "cell_type": "code",
   "execution_count": 18,
   "metadata": {},
   "outputs": [
    {
     "data": {
      "text/plain": [
       "55"
      ]
     },
     "execution_count": 18,
     "metadata": {},
     "output_type": "execute_result"
    }
   ],
   "source": [
    "# сохраняем целевые столбцы\n",
    "test_df_missing_columns.remove('final.output.recovery')\n",
    "test_df_missing_columns.remove('rougher.output.recovery')\n",
    "\n",
    "train_df = train_df.drop(test_df_missing_columns, axis=1)\n",
    "len(train_df.columns)"
   ]
  },
  {
   "cell_type": "markdown",
   "metadata": {},
   "source": [
    "Теперь, как и в тестовом наборе данных, тренировочная выборка имеет 53 столбца + 2 целевых.\\\n",
    "Узнаем количество пропусков в столбцах:"
   ]
  },
  {
   "cell_type": "code",
   "execution_count": 19,
   "metadata": {},
   "outputs": [
    {
     "data": {
      "text/plain": [
       "rougher.output.recovery                       2573\n",
       "rougher.input.floatbank11_xanthate            1904\n",
       "final.output.recovery                         1521\n",
       "primary_cleaner.input.sulfate                 1307\n",
       "primary_cleaner.input.depressant              1262\n",
       "rougher.input.floatbank10_sulfate             1044\n",
       "primary_cleaner.input.xanthate                 985\n",
       "rougher.input.floatbank11_sulfate              623\n",
       "rougher.state.floatbank10_e_air                603\n",
       "rougher.input.feed_rate                        513\n",
       "rougher.input.feed_size                        417\n",
       "secondary_cleaner.state.floatbank2_a_air       363\n",
       "rougher.input.floatbank10_xanthate             346\n",
       "rougher.input.feed_sol                         292\n",
       "rougher.input.feed_pb                          228\n",
       "secondary_cleaner.state.floatbank2_b_air       155\n",
       "secondary_cleaner.state.floatbank4_a_air       129\n",
       "secondary_cleaner.state.floatbank3_a_level     113\n",
       "secondary_cleaner.state.floatbank4_a_level     113\n",
       "secondary_cleaner.state.floatbank2_b_level     112\n",
       "secondary_cleaner.state.floatbank3_b_level     110\n",
       "secondary_cleaner.state.floatbank2_a_level     109\n",
       "secondary_cleaner.state.floatbank3_b_air       108\n",
       "secondary_cleaner.state.floatbank6_a_air       103\n",
       "secondary_cleaner.state.floatbank3_a_air        97\n",
       "secondary_cleaner.state.floatbank4_b_level      93\n",
       "secondary_cleaner.state.floatbank4_b_air        92\n",
       "secondary_cleaner.state.floatbank6_a_level      85\n",
       "secondary_cleaner.state.floatbank5_a_air        85\n",
       "secondary_cleaner.state.floatbank5_a_level      85\n",
       "secondary_cleaner.state.floatbank5_b_air        85\n",
       "secondary_cleaner.state.floatbank5_b_level      84\n",
       "rougher.input.feed_au                           83\n",
       "rougher.input.feed_ag                           82\n",
       "rougher.state.floatbank10_d_air                 58\n",
       "rougher.state.floatbank10_f_air                 58\n",
       "rougher.state.floatbank10_f_level               58\n",
       "rougher.state.floatbank10_b_air                 53\n",
       "rougher.state.floatbank10_a_air                 53\n",
       "rougher.state.floatbank10_a_level               53\n",
       "rougher.state.floatbank10_b_level               53\n",
       "rougher.state.floatbank10_c_air                 53\n",
       "rougher.state.floatbank10_e_level               51\n",
       "rougher.state.floatbank10_d_level               51\n",
       "rougher.state.floatbank10_c_level               46\n",
       "primary_cleaner.state.floatbank8_a_air          40\n",
       "primary_cleaner.state.floatbank8_b_air          40\n",
       "primary_cleaner.state.floatbank8_d_air          39\n",
       "primary_cleaner.state.floatbank8_c_air          38\n",
       "primary_cleaner.state.floatbank8_a_level        33\n",
       "primary_cleaner.state.floatbank8_b_level        27\n",
       "primary_cleaner.state.floatbank8_c_level        27\n",
       "primary_cleaner.state.floatbank8_d_level        27\n",
       "primary_cleaner.input.feed_size                  0\n",
       "date                                             0\n",
       "dtype: int64"
      ]
     },
     "execution_count": 19,
     "metadata": {},
     "output_type": "execute_result"
    }
   ],
   "source": [
    "nan_in_train = []\n",
    "for column in train_df.columns:\n",
    "    nan_in_train.append(train_df[column].isna().sum())\n",
    "    \n",
    "nan_in_train = pd.Series(data=nan_in_train, index=train_df.columns)\n",
    "nan_in_train.sort_values(ascending=False)"
   ]
  },
  {
   "cell_type": "markdown",
   "metadata": {},
   "source": [
    "В подавляющем большинстве столбцов присутствуют пропуски. Посмотрим, сколько останется данных, если мы удалим все строки с хотя бы одним пропущенным значением:"
   ]
  },
  {
   "cell_type": "code",
   "execution_count": 20,
   "metadata": {},
   "outputs": [
    {
     "name": "stdout",
     "output_type": "stream",
     "text": [
      "Before deleting: 16860\n",
      "After deleting: 12679\n"
     ]
    }
   ],
   "source": [
    "print('Before deleting:', len(train_df))\n",
    "print('After deleting:', len(train_df.dropna()))"
   ]
  },
  {
   "cell_type": "markdown",
   "metadata": {},
   "source": [
    "Порядка **25%** строк содержат пропуски, в случае их удаления останется достаточно данных для обучения.\\\n",
    "Заполнение пропущенных значений средними может негативно сказаться на предсказаниях модели, поскольку может исказить информацию о процессе и результатах обогащения.\\\n",
    "Удалим все пропуски, а затем отделим целевые признаки. Их запишем в переменную **train_target**, а оставшиеся в **train_features**."
   ]
  },
  {
   "cell_type": "code",
   "execution_count": 21,
   "metadata": {},
   "outputs": [],
   "source": [
    "train_df = train_df.dropna()\n",
    "\n",
    "target_names = ['final.output.recovery', 'rougher.output.recovery']\n",
    "\n",
    "train_target = train_df[target_names]\n",
    "# дата замера не влияет на процесс, поэтому ее стоит удалить\n",
    "target_names.append('date')\n",
    "train_features = train_df.drop(target_names, axis=1)"
   ]
  },
  {
   "cell_type": "markdown",
   "metadata": {},
   "source": [
    "Еще раз взглянем на данные. Возможно, понадобится масштабирование для лучшего обучения моделей."
   ]
  },
  {
   "cell_type": "code",
   "execution_count": 22,
   "metadata": {},
   "outputs": [
    {
     "data": {
      "text/html": [
       "<div>\n",
       "<style scoped>\n",
       "    .dataframe tbody tr th:only-of-type {\n",
       "        vertical-align: middle;\n",
       "    }\n",
       "\n",
       "    .dataframe tbody tr th {\n",
       "        vertical-align: top;\n",
       "    }\n",
       "\n",
       "    .dataframe thead th {\n",
       "        text-align: right;\n",
       "    }\n",
       "</style>\n",
       "<table border=\"1\" class=\"dataframe\">\n",
       "  <thead>\n",
       "    <tr style=\"text-align: right;\">\n",
       "      <th></th>\n",
       "      <th>primary_cleaner.input.sulfate</th>\n",
       "      <th>primary_cleaner.input.depressant</th>\n",
       "      <th>primary_cleaner.input.feed_size</th>\n",
       "      <th>primary_cleaner.input.xanthate</th>\n",
       "      <th>primary_cleaner.state.floatbank8_a_air</th>\n",
       "      <th>primary_cleaner.state.floatbank8_a_level</th>\n",
       "      <th>primary_cleaner.state.floatbank8_b_air</th>\n",
       "      <th>primary_cleaner.state.floatbank8_b_level</th>\n",
       "      <th>primary_cleaner.state.floatbank8_c_air</th>\n",
       "      <th>primary_cleaner.state.floatbank8_c_level</th>\n",
       "      <th>...</th>\n",
       "      <th>secondary_cleaner.state.floatbank4_a_air</th>\n",
       "      <th>secondary_cleaner.state.floatbank4_a_level</th>\n",
       "      <th>secondary_cleaner.state.floatbank4_b_air</th>\n",
       "      <th>secondary_cleaner.state.floatbank4_b_level</th>\n",
       "      <th>secondary_cleaner.state.floatbank5_a_air</th>\n",
       "      <th>secondary_cleaner.state.floatbank5_a_level</th>\n",
       "      <th>secondary_cleaner.state.floatbank5_b_air</th>\n",
       "      <th>secondary_cleaner.state.floatbank5_b_level</th>\n",
       "      <th>secondary_cleaner.state.floatbank6_a_air</th>\n",
       "      <th>secondary_cleaner.state.floatbank6_a_level</th>\n",
       "    </tr>\n",
       "  </thead>\n",
       "  <tbody>\n",
       "    <tr>\n",
       "      <td>0</td>\n",
       "      <td>127.092003</td>\n",
       "      <td>10.128295</td>\n",
       "      <td>7.25</td>\n",
       "      <td>0.988759</td>\n",
       "      <td>1549.775757</td>\n",
       "      <td>-498.912140</td>\n",
       "      <td>1551.434204</td>\n",
       "      <td>-516.403442</td>\n",
       "      <td>1549.873901</td>\n",
       "      <td>-498.666595</td>\n",
       "      <td>...</td>\n",
       "      <td>14.016835</td>\n",
       "      <td>-502.488007</td>\n",
       "      <td>12.099931</td>\n",
       "      <td>-504.715942</td>\n",
       "      <td>9.925633</td>\n",
       "      <td>-498.310211</td>\n",
       "      <td>8.079666</td>\n",
       "      <td>-500.470978</td>\n",
       "      <td>14.151341</td>\n",
       "      <td>-605.841980</td>\n",
       "    </tr>\n",
       "    <tr>\n",
       "      <td>1</td>\n",
       "      <td>125.629232</td>\n",
       "      <td>10.296251</td>\n",
       "      <td>7.25</td>\n",
       "      <td>1.002663</td>\n",
       "      <td>1576.166671</td>\n",
       "      <td>-500.904965</td>\n",
       "      <td>1575.950626</td>\n",
       "      <td>-499.865889</td>\n",
       "      <td>1575.994189</td>\n",
       "      <td>-499.315107</td>\n",
       "      <td>...</td>\n",
       "      <td>13.992281</td>\n",
       "      <td>-505.503262</td>\n",
       "      <td>11.950531</td>\n",
       "      <td>-501.331529</td>\n",
       "      <td>10.039245</td>\n",
       "      <td>-500.169983</td>\n",
       "      <td>7.984757</td>\n",
       "      <td>-500.582168</td>\n",
       "      <td>13.998353</td>\n",
       "      <td>-599.787184</td>\n",
       "    </tr>\n",
       "    <tr>\n",
       "      <td>2</td>\n",
       "      <td>123.819808</td>\n",
       "      <td>11.316280</td>\n",
       "      <td>7.25</td>\n",
       "      <td>0.991265</td>\n",
       "      <td>1601.556163</td>\n",
       "      <td>-499.997791</td>\n",
       "      <td>1600.386685</td>\n",
       "      <td>-500.607762</td>\n",
       "      <td>1602.003542</td>\n",
       "      <td>-500.870069</td>\n",
       "      <td>...</td>\n",
       "      <td>14.015015</td>\n",
       "      <td>-502.520901</td>\n",
       "      <td>11.912783</td>\n",
       "      <td>-501.133383</td>\n",
       "      <td>10.070913</td>\n",
       "      <td>-500.129135</td>\n",
       "      <td>8.013877</td>\n",
       "      <td>-500.517572</td>\n",
       "      <td>14.028663</td>\n",
       "      <td>-601.427363</td>\n",
       "    </tr>\n",
       "    <tr>\n",
       "      <td>3</td>\n",
       "      <td>122.270188</td>\n",
       "      <td>11.322140</td>\n",
       "      <td>7.25</td>\n",
       "      <td>0.996739</td>\n",
       "      <td>1599.968720</td>\n",
       "      <td>-500.951778</td>\n",
       "      <td>1600.659236</td>\n",
       "      <td>-499.677094</td>\n",
       "      <td>1600.304144</td>\n",
       "      <td>-500.727997</td>\n",
       "      <td>...</td>\n",
       "      <td>14.036510</td>\n",
       "      <td>-500.857308</td>\n",
       "      <td>11.999550</td>\n",
       "      <td>-501.193686</td>\n",
       "      <td>9.970366</td>\n",
       "      <td>-499.201640</td>\n",
       "      <td>7.977324</td>\n",
       "      <td>-500.255908</td>\n",
       "      <td>14.005551</td>\n",
       "      <td>-599.996129</td>\n",
       "    </tr>\n",
       "    <tr>\n",
       "      <td>4</td>\n",
       "      <td>117.988169</td>\n",
       "      <td>11.913613</td>\n",
       "      <td>7.25</td>\n",
       "      <td>1.009869</td>\n",
       "      <td>1601.339707</td>\n",
       "      <td>-498.975456</td>\n",
       "      <td>1601.437854</td>\n",
       "      <td>-500.323246</td>\n",
       "      <td>1599.581894</td>\n",
       "      <td>-500.888152</td>\n",
       "      <td>...</td>\n",
       "      <td>14.027298</td>\n",
       "      <td>-499.838632</td>\n",
       "      <td>11.953070</td>\n",
       "      <td>-501.053894</td>\n",
       "      <td>9.925709</td>\n",
       "      <td>-501.686727</td>\n",
       "      <td>7.894242</td>\n",
       "      <td>-500.356035</td>\n",
       "      <td>13.996647</td>\n",
       "      <td>-601.496691</td>\n",
       "    </tr>\n",
       "    <tr>\n",
       "      <td>5</td>\n",
       "      <td>115.581252</td>\n",
       "      <td>12.470773</td>\n",
       "      <td>7.25</td>\n",
       "      <td>0.965760</td>\n",
       "      <td>1602.964922</td>\n",
       "      <td>-498.090944</td>\n",
       "      <td>1602.074298</td>\n",
       "      <td>-500.179481</td>\n",
       "      <td>1602.154812</td>\n",
       "      <td>-498.642614</td>\n",
       "      <td>...</td>\n",
       "      <td>13.938497</td>\n",
       "      <td>-500.970168</td>\n",
       "      <td>11.883350</td>\n",
       "      <td>-500.395298</td>\n",
       "      <td>10.054147</td>\n",
       "      <td>-496.374715</td>\n",
       "      <td>7.965083</td>\n",
       "      <td>-499.364752</td>\n",
       "      <td>14.017067</td>\n",
       "      <td>-599.707915</td>\n",
       "    </tr>\n",
       "    <tr>\n",
       "      <td>6</td>\n",
       "      <td>117.322323</td>\n",
       "      <td>12.469088</td>\n",
       "      <td>7.25</td>\n",
       "      <td>0.895207</td>\n",
       "      <td>1597.532455</td>\n",
       "      <td>-500.985364</td>\n",
       "      <td>1602.816321</td>\n",
       "      <td>-500.696736</td>\n",
       "      <td>1603.572091</td>\n",
       "      <td>-500.256955</td>\n",
       "      <td>...</td>\n",
       "      <td>14.046819</td>\n",
       "      <td>-500.971133</td>\n",
       "      <td>12.091543</td>\n",
       "      <td>-500.501426</td>\n",
       "      <td>10.003247</td>\n",
       "      <td>-497.083180</td>\n",
       "      <td>8.010890</td>\n",
       "      <td>-500.002423</td>\n",
       "      <td>14.029649</td>\n",
       "      <td>-600.905470</td>\n",
       "    </tr>\n",
       "    <tr>\n",
       "      <td>7</td>\n",
       "      <td>124.592960</td>\n",
       "      <td>12.467403</td>\n",
       "      <td>7.25</td>\n",
       "      <td>0.901202</td>\n",
       "      <td>1597.946266</td>\n",
       "      <td>-501.592304</td>\n",
       "      <td>1601.078254</td>\n",
       "      <td>-499.494115</td>\n",
       "      <td>1602.630688</td>\n",
       "      <td>-500.173741</td>\n",
       "      <td>...</td>\n",
       "      <td>13.974691</td>\n",
       "      <td>-501.819696</td>\n",
       "      <td>12.101324</td>\n",
       "      <td>-500.583446</td>\n",
       "      <td>9.873169</td>\n",
       "      <td>-499.171928</td>\n",
       "      <td>7.993381</td>\n",
       "      <td>-499.794518</td>\n",
       "      <td>13.984498</td>\n",
       "      <td>-600.411070</td>\n",
       "    </tr>\n",
       "    <tr>\n",
       "      <td>8</td>\n",
       "      <td>131.781026</td>\n",
       "      <td>12.465718</td>\n",
       "      <td>7.25</td>\n",
       "      <td>0.885535</td>\n",
       "      <td>1601.670053</td>\n",
       "      <td>-499.548891</td>\n",
       "      <td>1598.804355</td>\n",
       "      <td>-499.689644</td>\n",
       "      <td>1601.689285</td>\n",
       "      <td>-500.484957</td>\n",
       "      <td>...</td>\n",
       "      <td>13.964030</td>\n",
       "      <td>-504.252450</td>\n",
       "      <td>12.060738</td>\n",
       "      <td>-501.174549</td>\n",
       "      <td>10.033838</td>\n",
       "      <td>-501.178133</td>\n",
       "      <td>7.881604</td>\n",
       "      <td>-499.729434</td>\n",
       "      <td>13.967135</td>\n",
       "      <td>-599.061188</td>\n",
       "    </tr>\n",
       "    <tr>\n",
       "      <td>9</td>\n",
       "      <td>138.120409</td>\n",
       "      <td>12.464032</td>\n",
       "      <td>7.25</td>\n",
       "      <td>0.898779</td>\n",
       "      <td>1603.436598</td>\n",
       "      <td>-499.864400</td>\n",
       "      <td>1597.455353</td>\n",
       "      <td>-500.266905</td>\n",
       "      <td>1600.747882</td>\n",
       "      <td>-500.541002</td>\n",
       "      <td>...</td>\n",
       "      <td>13.989632</td>\n",
       "      <td>-503.195299</td>\n",
       "      <td>12.052233</td>\n",
       "      <td>-500.928547</td>\n",
       "      <td>9.962574</td>\n",
       "      <td>-502.986357</td>\n",
       "      <td>7.979219</td>\n",
       "      <td>-500.146835</td>\n",
       "      <td>13.981614</td>\n",
       "      <td>-598.070855</td>\n",
       "    </tr>\n",
       "  </tbody>\n",
       "</table>\n",
       "<p>10 rows × 52 columns</p>\n",
       "</div>"
      ],
      "text/plain": [
       "   primary_cleaner.input.sulfate  primary_cleaner.input.depressant  \\\n",
       "0                     127.092003                         10.128295   \n",
       "1                     125.629232                         10.296251   \n",
       "2                     123.819808                         11.316280   \n",
       "3                     122.270188                         11.322140   \n",
       "4                     117.988169                         11.913613   \n",
       "5                     115.581252                         12.470773   \n",
       "6                     117.322323                         12.469088   \n",
       "7                     124.592960                         12.467403   \n",
       "8                     131.781026                         12.465718   \n",
       "9                     138.120409                         12.464032   \n",
       "\n",
       "   primary_cleaner.input.feed_size  primary_cleaner.input.xanthate  \\\n",
       "0                             7.25                        0.988759   \n",
       "1                             7.25                        1.002663   \n",
       "2                             7.25                        0.991265   \n",
       "3                             7.25                        0.996739   \n",
       "4                             7.25                        1.009869   \n",
       "5                             7.25                        0.965760   \n",
       "6                             7.25                        0.895207   \n",
       "7                             7.25                        0.901202   \n",
       "8                             7.25                        0.885535   \n",
       "9                             7.25                        0.898779   \n",
       "\n",
       "   primary_cleaner.state.floatbank8_a_air  \\\n",
       "0                             1549.775757   \n",
       "1                             1576.166671   \n",
       "2                             1601.556163   \n",
       "3                             1599.968720   \n",
       "4                             1601.339707   \n",
       "5                             1602.964922   \n",
       "6                             1597.532455   \n",
       "7                             1597.946266   \n",
       "8                             1601.670053   \n",
       "9                             1603.436598   \n",
       "\n",
       "   primary_cleaner.state.floatbank8_a_level  \\\n",
       "0                               -498.912140   \n",
       "1                               -500.904965   \n",
       "2                               -499.997791   \n",
       "3                               -500.951778   \n",
       "4                               -498.975456   \n",
       "5                               -498.090944   \n",
       "6                               -500.985364   \n",
       "7                               -501.592304   \n",
       "8                               -499.548891   \n",
       "9                               -499.864400   \n",
       "\n",
       "   primary_cleaner.state.floatbank8_b_air  \\\n",
       "0                             1551.434204   \n",
       "1                             1575.950626   \n",
       "2                             1600.386685   \n",
       "3                             1600.659236   \n",
       "4                             1601.437854   \n",
       "5                             1602.074298   \n",
       "6                             1602.816321   \n",
       "7                             1601.078254   \n",
       "8                             1598.804355   \n",
       "9                             1597.455353   \n",
       "\n",
       "   primary_cleaner.state.floatbank8_b_level  \\\n",
       "0                               -516.403442   \n",
       "1                               -499.865889   \n",
       "2                               -500.607762   \n",
       "3                               -499.677094   \n",
       "4                               -500.323246   \n",
       "5                               -500.179481   \n",
       "6                               -500.696736   \n",
       "7                               -499.494115   \n",
       "8                               -499.689644   \n",
       "9                               -500.266905   \n",
       "\n",
       "   primary_cleaner.state.floatbank8_c_air  \\\n",
       "0                             1549.873901   \n",
       "1                             1575.994189   \n",
       "2                             1602.003542   \n",
       "3                             1600.304144   \n",
       "4                             1599.581894   \n",
       "5                             1602.154812   \n",
       "6                             1603.572091   \n",
       "7                             1602.630688   \n",
       "8                             1601.689285   \n",
       "9                             1600.747882   \n",
       "\n",
       "   primary_cleaner.state.floatbank8_c_level  ...  \\\n",
       "0                               -498.666595  ...   \n",
       "1                               -499.315107  ...   \n",
       "2                               -500.870069  ...   \n",
       "3                               -500.727997  ...   \n",
       "4                               -500.888152  ...   \n",
       "5                               -498.642614  ...   \n",
       "6                               -500.256955  ...   \n",
       "7                               -500.173741  ...   \n",
       "8                               -500.484957  ...   \n",
       "9                               -500.541002  ...   \n",
       "\n",
       "   secondary_cleaner.state.floatbank4_a_air  \\\n",
       "0                                 14.016835   \n",
       "1                                 13.992281   \n",
       "2                                 14.015015   \n",
       "3                                 14.036510   \n",
       "4                                 14.027298   \n",
       "5                                 13.938497   \n",
       "6                                 14.046819   \n",
       "7                                 13.974691   \n",
       "8                                 13.964030   \n",
       "9                                 13.989632   \n",
       "\n",
       "   secondary_cleaner.state.floatbank4_a_level  \\\n",
       "0                                 -502.488007   \n",
       "1                                 -505.503262   \n",
       "2                                 -502.520901   \n",
       "3                                 -500.857308   \n",
       "4                                 -499.838632   \n",
       "5                                 -500.970168   \n",
       "6                                 -500.971133   \n",
       "7                                 -501.819696   \n",
       "8                                 -504.252450   \n",
       "9                                 -503.195299   \n",
       "\n",
       "   secondary_cleaner.state.floatbank4_b_air  \\\n",
       "0                                 12.099931   \n",
       "1                                 11.950531   \n",
       "2                                 11.912783   \n",
       "3                                 11.999550   \n",
       "4                                 11.953070   \n",
       "5                                 11.883350   \n",
       "6                                 12.091543   \n",
       "7                                 12.101324   \n",
       "8                                 12.060738   \n",
       "9                                 12.052233   \n",
       "\n",
       "   secondary_cleaner.state.floatbank4_b_level  \\\n",
       "0                                 -504.715942   \n",
       "1                                 -501.331529   \n",
       "2                                 -501.133383   \n",
       "3                                 -501.193686   \n",
       "4                                 -501.053894   \n",
       "5                                 -500.395298   \n",
       "6                                 -500.501426   \n",
       "7                                 -500.583446   \n",
       "8                                 -501.174549   \n",
       "9                                 -500.928547   \n",
       "\n",
       "   secondary_cleaner.state.floatbank5_a_air  \\\n",
       "0                                  9.925633   \n",
       "1                                 10.039245   \n",
       "2                                 10.070913   \n",
       "3                                  9.970366   \n",
       "4                                  9.925709   \n",
       "5                                 10.054147   \n",
       "6                                 10.003247   \n",
       "7                                  9.873169   \n",
       "8                                 10.033838   \n",
       "9                                  9.962574   \n",
       "\n",
       "   secondary_cleaner.state.floatbank5_a_level  \\\n",
       "0                                 -498.310211   \n",
       "1                                 -500.169983   \n",
       "2                                 -500.129135   \n",
       "3                                 -499.201640   \n",
       "4                                 -501.686727   \n",
       "5                                 -496.374715   \n",
       "6                                 -497.083180   \n",
       "7                                 -499.171928   \n",
       "8                                 -501.178133   \n",
       "9                                 -502.986357   \n",
       "\n",
       "   secondary_cleaner.state.floatbank5_b_air  \\\n",
       "0                                  8.079666   \n",
       "1                                  7.984757   \n",
       "2                                  8.013877   \n",
       "3                                  7.977324   \n",
       "4                                  7.894242   \n",
       "5                                  7.965083   \n",
       "6                                  8.010890   \n",
       "7                                  7.993381   \n",
       "8                                  7.881604   \n",
       "9                                  7.979219   \n",
       "\n",
       "   secondary_cleaner.state.floatbank5_b_level  \\\n",
       "0                                 -500.470978   \n",
       "1                                 -500.582168   \n",
       "2                                 -500.517572   \n",
       "3                                 -500.255908   \n",
       "4                                 -500.356035   \n",
       "5                                 -499.364752   \n",
       "6                                 -500.002423   \n",
       "7                                 -499.794518   \n",
       "8                                 -499.729434   \n",
       "9                                 -500.146835   \n",
       "\n",
       "   secondary_cleaner.state.floatbank6_a_air  \\\n",
       "0                                 14.151341   \n",
       "1                                 13.998353   \n",
       "2                                 14.028663   \n",
       "3                                 14.005551   \n",
       "4                                 13.996647   \n",
       "5                                 14.017067   \n",
       "6                                 14.029649   \n",
       "7                                 13.984498   \n",
       "8                                 13.967135   \n",
       "9                                 13.981614   \n",
       "\n",
       "   secondary_cleaner.state.floatbank6_a_level  \n",
       "0                                 -605.841980  \n",
       "1                                 -599.787184  \n",
       "2                                 -601.427363  \n",
       "3                                 -599.996129  \n",
       "4                                 -601.496691  \n",
       "5                                 -599.707915  \n",
       "6                                 -600.905470  \n",
       "7                                 -600.411070  \n",
       "8                                 -599.061188  \n",
       "9                                 -598.070855  \n",
       "\n",
       "[10 rows x 52 columns]"
      ]
     },
     "execution_count": 22,
     "metadata": {},
     "output_type": "execute_result"
    }
   ],
   "source": [
    "train_features.head(10)"
   ]
  },
  {
   "cell_type": "markdown",
   "metadata": {},
   "source": [
    "Значения сильно варьируются. Проведем масштабирование признаков:"
   ]
  },
  {
   "cell_type": "code",
   "execution_count": 23,
   "metadata": {},
   "outputs": [
    {
     "data": {
      "text/html": [
       "<div>\n",
       "<style scoped>\n",
       "    .dataframe tbody tr th:only-of-type {\n",
       "        vertical-align: middle;\n",
       "    }\n",
       "\n",
       "    .dataframe tbody tr th {\n",
       "        vertical-align: top;\n",
       "    }\n",
       "\n",
       "    .dataframe thead th {\n",
       "        text-align: right;\n",
       "    }\n",
       "</style>\n",
       "<table border=\"1\" class=\"dataframe\">\n",
       "  <thead>\n",
       "    <tr style=\"text-align: right;\">\n",
       "      <th></th>\n",
       "      <th>primary_cleaner.input.sulfate</th>\n",
       "      <th>primary_cleaner.input.depressant</th>\n",
       "      <th>primary_cleaner.input.feed_size</th>\n",
       "      <th>primary_cleaner.input.xanthate</th>\n",
       "      <th>primary_cleaner.state.floatbank8_a_air</th>\n",
       "      <th>primary_cleaner.state.floatbank8_a_level</th>\n",
       "      <th>primary_cleaner.state.floatbank8_b_air</th>\n",
       "      <th>primary_cleaner.state.floatbank8_b_level</th>\n",
       "      <th>primary_cleaner.state.floatbank8_c_air</th>\n",
       "      <th>primary_cleaner.state.floatbank8_c_level</th>\n",
       "      <th>...</th>\n",
       "      <th>secondary_cleaner.state.floatbank4_a_air</th>\n",
       "      <th>secondary_cleaner.state.floatbank4_a_level</th>\n",
       "      <th>secondary_cleaner.state.floatbank4_b_air</th>\n",
       "      <th>secondary_cleaner.state.floatbank4_b_level</th>\n",
       "      <th>secondary_cleaner.state.floatbank5_a_air</th>\n",
       "      <th>secondary_cleaner.state.floatbank5_a_level</th>\n",
       "      <th>secondary_cleaner.state.floatbank5_b_air</th>\n",
       "      <th>secondary_cleaner.state.floatbank5_b_level</th>\n",
       "      <th>secondary_cleaner.state.floatbank6_a_air</th>\n",
       "      <th>secondary_cleaner.state.floatbank6_a_level</th>\n",
       "    </tr>\n",
       "  </thead>\n",
       "  <tbody>\n",
       "    <tr>\n",
       "      <td>0</td>\n",
       "      <td>-0.255098</td>\n",
       "      <td>0.297835</td>\n",
       "      <td>-0.14826</td>\n",
       "      <td>0.280500</td>\n",
       "      <td>-0.437702</td>\n",
       "      <td>-0.311161</td>\n",
       "      <td>-0.427903</td>\n",
       "      <td>-0.807763</td>\n",
       "      <td>-0.429701</td>\n",
       "      <td>-0.285943</td>\n",
       "      <td>...</td>\n",
       "      <td>-1.017430</td>\n",
       "      <td>-0.468697</td>\n",
       "      <td>-0.612782</td>\n",
       "      <td>-0.754839</td>\n",
       "      <td>-1.171437</td>\n",
       "      <td>-0.375955</td>\n",
       "      <td>-0.849788</td>\n",
       "      <td>-0.413723</td>\n",
       "      <td>-0.980522</td>\n",
       "      <td>-2.588727</td>\n",
       "    </tr>\n",
       "    <tr>\n",
       "      <td>1</td>\n",
       "      <td>-0.294389</td>\n",
       "      <td>0.348729</td>\n",
       "      <td>-0.14826</td>\n",
       "      <td>0.318901</td>\n",
       "      <td>-0.232889</td>\n",
       "      <td>-0.366283</td>\n",
       "      <td>-0.242114</td>\n",
       "      <td>-0.331740</td>\n",
       "      <td>-0.235842</td>\n",
       "      <td>-0.304190</td>\n",
       "      <td>...</td>\n",
       "      <td>-1.021762</td>\n",
       "      <td>-0.528342</td>\n",
       "      <td>-0.641186</td>\n",
       "      <td>-0.697371</td>\n",
       "      <td>-1.151871</td>\n",
       "      <td>-0.423793</td>\n",
       "      <td>-0.866353</td>\n",
       "      <td>-0.416488</td>\n",
       "      <td>-1.007619</td>\n",
       "      <td>-2.429464</td>\n",
       "    </tr>\n",
       "    <tr>\n",
       "      <td>2</td>\n",
       "      <td>-0.342991</td>\n",
       "      <td>0.657815</td>\n",
       "      <td>-0.14826</td>\n",
       "      <td>0.287423</td>\n",
       "      <td>-0.035848</td>\n",
       "      <td>-0.341190</td>\n",
       "      <td>-0.056933</td>\n",
       "      <td>-0.353094</td>\n",
       "      <td>-0.042805</td>\n",
       "      <td>-0.347942</td>\n",
       "      <td>...</td>\n",
       "      <td>-1.017751</td>\n",
       "      <td>-0.469348</td>\n",
       "      <td>-0.648362</td>\n",
       "      <td>-0.694006</td>\n",
       "      <td>-1.146418</td>\n",
       "      <td>-0.422742</td>\n",
       "      <td>-0.861271</td>\n",
       "      <td>-0.414881</td>\n",
       "      <td>-1.002250</td>\n",
       "      <td>-2.472607</td>\n",
       "    </tr>\n",
       "    <tr>\n",
       "      <td>3</td>\n",
       "      <td>-0.384614</td>\n",
       "      <td>0.659590</td>\n",
       "      <td>-0.14826</td>\n",
       "      <td>0.302539</td>\n",
       "      <td>-0.048168</td>\n",
       "      <td>-0.367578</td>\n",
       "      <td>-0.054868</td>\n",
       "      <td>-0.326306</td>\n",
       "      <td>-0.055418</td>\n",
       "      <td>-0.343944</td>\n",
       "      <td>...</td>\n",
       "      <td>-1.013959</td>\n",
       "      <td>-0.436440</td>\n",
       "      <td>-0.631866</td>\n",
       "      <td>-0.695030</td>\n",
       "      <td>-1.163733</td>\n",
       "      <td>-0.398885</td>\n",
       "      <td>-0.867651</td>\n",
       "      <td>-0.408375</td>\n",
       "      <td>-1.006344</td>\n",
       "      <td>-2.434960</td>\n",
       "    </tr>\n",
       "    <tr>\n",
       "      <td>4</td>\n",
       "      <td>-0.499631</td>\n",
       "      <td>0.838817</td>\n",
       "      <td>-0.14826</td>\n",
       "      <td>0.338804</td>\n",
       "      <td>-0.037528</td>\n",
       "      <td>-0.312912</td>\n",
       "      <td>-0.048967</td>\n",
       "      <td>-0.344905</td>\n",
       "      <td>-0.060778</td>\n",
       "      <td>-0.348451</td>\n",
       "      <td>...</td>\n",
       "      <td>-1.015585</td>\n",
       "      <td>-0.416289</td>\n",
       "      <td>-0.640703</td>\n",
       "      <td>-0.692656</td>\n",
       "      <td>-1.171424</td>\n",
       "      <td>-0.462808</td>\n",
       "      <td>-0.882152</td>\n",
       "      <td>-0.410865</td>\n",
       "      <td>-1.007921</td>\n",
       "      <td>-2.474430</td>\n",
       "    </tr>\n",
       "  </tbody>\n",
       "</table>\n",
       "<p>5 rows × 52 columns</p>\n",
       "</div>"
      ],
      "text/plain": [
       "   primary_cleaner.input.sulfate  primary_cleaner.input.depressant  \\\n",
       "0                      -0.255098                          0.297835   \n",
       "1                      -0.294389                          0.348729   \n",
       "2                      -0.342991                          0.657815   \n",
       "3                      -0.384614                          0.659590   \n",
       "4                      -0.499631                          0.838817   \n",
       "\n",
       "   primary_cleaner.input.feed_size  primary_cleaner.input.xanthate  \\\n",
       "0                         -0.14826                        0.280500   \n",
       "1                         -0.14826                        0.318901   \n",
       "2                         -0.14826                        0.287423   \n",
       "3                         -0.14826                        0.302539   \n",
       "4                         -0.14826                        0.338804   \n",
       "\n",
       "   primary_cleaner.state.floatbank8_a_air  \\\n",
       "0                               -0.437702   \n",
       "1                               -0.232889   \n",
       "2                               -0.035848   \n",
       "3                               -0.048168   \n",
       "4                               -0.037528   \n",
       "\n",
       "   primary_cleaner.state.floatbank8_a_level  \\\n",
       "0                                 -0.311161   \n",
       "1                                 -0.366283   \n",
       "2                                 -0.341190   \n",
       "3                                 -0.367578   \n",
       "4                                 -0.312912   \n",
       "\n",
       "   primary_cleaner.state.floatbank8_b_air  \\\n",
       "0                               -0.427903   \n",
       "1                               -0.242114   \n",
       "2                               -0.056933   \n",
       "3                               -0.054868   \n",
       "4                               -0.048967   \n",
       "\n",
       "   primary_cleaner.state.floatbank8_b_level  \\\n",
       "0                                 -0.807763   \n",
       "1                                 -0.331740   \n",
       "2                                 -0.353094   \n",
       "3                                 -0.326306   \n",
       "4                                 -0.344905   \n",
       "\n",
       "   primary_cleaner.state.floatbank8_c_air  \\\n",
       "0                               -0.429701   \n",
       "1                               -0.235842   \n",
       "2                               -0.042805   \n",
       "3                               -0.055418   \n",
       "4                               -0.060778   \n",
       "\n",
       "   primary_cleaner.state.floatbank8_c_level  ...  \\\n",
       "0                                 -0.285943  ...   \n",
       "1                                 -0.304190  ...   \n",
       "2                                 -0.347942  ...   \n",
       "3                                 -0.343944  ...   \n",
       "4                                 -0.348451  ...   \n",
       "\n",
       "   secondary_cleaner.state.floatbank4_a_air  \\\n",
       "0                                 -1.017430   \n",
       "1                                 -1.021762   \n",
       "2                                 -1.017751   \n",
       "3                                 -1.013959   \n",
       "4                                 -1.015585   \n",
       "\n",
       "   secondary_cleaner.state.floatbank4_a_level  \\\n",
       "0                                   -0.468697   \n",
       "1                                   -0.528342   \n",
       "2                                   -0.469348   \n",
       "3                                   -0.436440   \n",
       "4                                   -0.416289   \n",
       "\n",
       "   secondary_cleaner.state.floatbank4_b_air  \\\n",
       "0                                 -0.612782   \n",
       "1                                 -0.641186   \n",
       "2                                 -0.648362   \n",
       "3                                 -0.631866   \n",
       "4                                 -0.640703   \n",
       "\n",
       "   secondary_cleaner.state.floatbank4_b_level  \\\n",
       "0                                   -0.754839   \n",
       "1                                   -0.697371   \n",
       "2                                   -0.694006   \n",
       "3                                   -0.695030   \n",
       "4                                   -0.692656   \n",
       "\n",
       "   secondary_cleaner.state.floatbank5_a_air  \\\n",
       "0                                 -1.171437   \n",
       "1                                 -1.151871   \n",
       "2                                 -1.146418   \n",
       "3                                 -1.163733   \n",
       "4                                 -1.171424   \n",
       "\n",
       "   secondary_cleaner.state.floatbank5_a_level  \\\n",
       "0                                   -0.375955   \n",
       "1                                   -0.423793   \n",
       "2                                   -0.422742   \n",
       "3                                   -0.398885   \n",
       "4                                   -0.462808   \n",
       "\n",
       "   secondary_cleaner.state.floatbank5_b_air  \\\n",
       "0                                 -0.849788   \n",
       "1                                 -0.866353   \n",
       "2                                 -0.861271   \n",
       "3                                 -0.867651   \n",
       "4                                 -0.882152   \n",
       "\n",
       "   secondary_cleaner.state.floatbank5_b_level  \\\n",
       "0                                   -0.413723   \n",
       "1                                   -0.416488   \n",
       "2                                   -0.414881   \n",
       "3                                   -0.408375   \n",
       "4                                   -0.410865   \n",
       "\n",
       "   secondary_cleaner.state.floatbank6_a_air  \\\n",
       "0                                 -0.980522   \n",
       "1                                 -1.007619   \n",
       "2                                 -1.002250   \n",
       "3                                 -1.006344   \n",
       "4                                 -1.007921   \n",
       "\n",
       "   secondary_cleaner.state.floatbank6_a_level  \n",
       "0                                   -2.588727  \n",
       "1                                   -2.429464  \n",
       "2                                   -2.472607  \n",
       "3                                   -2.434960  \n",
       "4                                   -2.474430  \n",
       "\n",
       "[5 rows x 52 columns]"
      ]
     },
     "execution_count": 23,
     "metadata": {},
     "output_type": "execute_result"
    }
   ],
   "source": [
    "from sklearn.preprocessing import StandardScaler\n",
    "\n",
    "scaler = StandardScaler()\n",
    "scaler.fit(train_features)\n",
    "train_features[train_features.columns] = scaler.transform(train_features)\n",
    "train_features.head(5)"
   ]
  },
  {
   "cell_type": "markdown",
   "metadata": {},
   "source": [
    "## Вывод\n",
    "\n",
    "Сделали то-то то-то на этом редобработку можно заканчивать."
   ]
  },
  {
   "cell_type": "markdown",
   "metadata": {},
   "source": [
    "---"
   ]
  },
  {
   "cell_type": "markdown",
   "metadata": {},
   "source": [
    "# 2. Анализ данных"
   ]
  },
  {
   "cell_type": "markdown",
   "metadata": {},
   "source": [
    "## Изменение концентрации металлов на различных этапах очистки.\n",
    "\n",
    "По исходным данным посмотрим, как меняется концентрация **золота (Au), серебра (Ag) и свинца (Pb)** в зависимости от этапа очистки.\n",
    "\n",
    "Искомые концентрации записаны в столбцах, оканчивающихся на **.concentrate_(Me)**.\\\n",
    "Запишем названия этих столбцов для трёх металлов в три соответсвующие им переменные:"
   ]
  },
  {
   "cell_type": "code",
   "execution_count": 24,
   "metadata": {},
   "outputs": [],
   "source": [
    "# для удобства запишем переменные в список (список списков)\n",
    "Au_concentrate_cols=[]\n",
    "Ag_concentrate_cols=[]\n",
    "Pb_concentrate_cols=[]\n",
    "me_lists = [Au_concentrate_cols, Ag_concentrate_cols, Pb_concentrate_cols]\n",
    "\n",
    "# строки для поиска\n",
    "me_strings = ['.concentrate_au', '.concentrate_ag', '.concentrate_pb']\n",
    "\n",
    "def find_columns_by_string(df, string):\n",
    "    output_list = []\n",
    "    for column in df.columns:\n",
    "        if string in column:\n",
    "            output_list.append(column)\n",
    "    return output_list\n",
    "\n",
    "for i in range(3):\n",
    "    me_lists[i] = find_columns_by_string(full_df, me_strings[i])"
   ]
  },
  {
   "cell_type": "markdown",
   "metadata": {},
   "source": [
    "#### Проверим запись"
   ]
  },
  {
   "cell_type": "code",
   "execution_count": 25,
   "metadata": {
    "scrolled": false
   },
   "outputs": [
    {
     "data": {
      "text/html": [
       "<div>\n",
       "<style scoped>\n",
       "    .dataframe tbody tr th:only-of-type {\n",
       "        vertical-align: middle;\n",
       "    }\n",
       "\n",
       "    .dataframe tbody tr th {\n",
       "        vertical-align: top;\n",
       "    }\n",
       "\n",
       "    .dataframe thead th {\n",
       "        text-align: right;\n",
       "    }\n",
       "</style>\n",
       "<table border=\"1\" class=\"dataframe\">\n",
       "  <thead>\n",
       "    <tr style=\"text-align: right;\">\n",
       "      <th></th>\n",
       "      <th>final.output.concentrate_au</th>\n",
       "      <th>primary_cleaner.output.concentrate_au</th>\n",
       "      <th>rougher.output.concentrate_au</th>\n",
       "    </tr>\n",
       "  </thead>\n",
       "  <tbody>\n",
       "    <tr>\n",
       "      <td>0</td>\n",
       "      <td>42.192020</td>\n",
       "      <td>34.174427</td>\n",
       "      <td>19.793808</td>\n",
       "    </tr>\n",
       "    <tr>\n",
       "      <td>1</td>\n",
       "      <td>42.701629</td>\n",
       "      <td>34.118526</td>\n",
       "      <td>20.050975</td>\n",
       "    </tr>\n",
       "    <tr>\n",
       "      <td>2</td>\n",
       "      <td>42.657501</td>\n",
       "      <td>33.969464</td>\n",
       "      <td>19.737170</td>\n",
       "    </tr>\n",
       "  </tbody>\n",
       "</table>\n",
       "</div>"
      ],
      "text/plain": [
       "   final.output.concentrate_au  primary_cleaner.output.concentrate_au  \\\n",
       "0                    42.192020                              34.174427   \n",
       "1                    42.701629                              34.118526   \n",
       "2                    42.657501                              33.969464   \n",
       "\n",
       "   rougher.output.concentrate_au  \n",
       "0                      19.793808  \n",
       "1                      20.050975  \n",
       "2                      19.737170  "
      ]
     },
     "metadata": {},
     "output_type": "display_data"
    },
    {
     "data": {
      "text/html": [
       "<div>\n",
       "<style scoped>\n",
       "    .dataframe tbody tr th:only-of-type {\n",
       "        vertical-align: middle;\n",
       "    }\n",
       "\n",
       "    .dataframe tbody tr th {\n",
       "        vertical-align: top;\n",
       "    }\n",
       "\n",
       "    .dataframe thead th {\n",
       "        text-align: right;\n",
       "    }\n",
       "</style>\n",
       "<table border=\"1\" class=\"dataframe\">\n",
       "  <thead>\n",
       "    <tr style=\"text-align: right;\">\n",
       "      <th></th>\n",
       "      <th>final.output.concentrate_ag</th>\n",
       "      <th>primary_cleaner.output.concentrate_ag</th>\n",
       "      <th>rougher.output.concentrate_ag</th>\n",
       "    </tr>\n",
       "  </thead>\n",
       "  <tbody>\n",
       "    <tr>\n",
       "      <td>0</td>\n",
       "      <td>6.055403</td>\n",
       "      <td>8.547551</td>\n",
       "      <td>11.500771</td>\n",
       "    </tr>\n",
       "    <tr>\n",
       "      <td>1</td>\n",
       "      <td>6.029369</td>\n",
       "      <td>8.558743</td>\n",
       "      <td>11.615865</td>\n",
       "    </tr>\n",
       "    <tr>\n",
       "      <td>2</td>\n",
       "      <td>6.055926</td>\n",
       "      <td>8.603505</td>\n",
       "      <td>11.695753</td>\n",
       "    </tr>\n",
       "  </tbody>\n",
       "</table>\n",
       "</div>"
      ],
      "text/plain": [
       "   final.output.concentrate_ag  primary_cleaner.output.concentrate_ag  \\\n",
       "0                     6.055403                               8.547551   \n",
       "1                     6.029369                               8.558743   \n",
       "2                     6.055926                               8.603505   \n",
       "\n",
       "   rougher.output.concentrate_ag  \n",
       "0                      11.500771  \n",
       "1                      11.615865  \n",
       "2                      11.695753  "
      ]
     },
     "metadata": {},
     "output_type": "display_data"
    },
    {
     "data": {
      "text/html": [
       "<div>\n",
       "<style scoped>\n",
       "    .dataframe tbody tr th:only-of-type {\n",
       "        vertical-align: middle;\n",
       "    }\n",
       "\n",
       "    .dataframe tbody tr th {\n",
       "        vertical-align: top;\n",
       "    }\n",
       "\n",
       "    .dataframe thead th {\n",
       "        text-align: right;\n",
       "    }\n",
       "</style>\n",
       "<table border=\"1\" class=\"dataframe\">\n",
       "  <thead>\n",
       "    <tr style=\"text-align: right;\">\n",
       "      <th></th>\n",
       "      <th>final.output.concentrate_pb</th>\n",
       "      <th>primary_cleaner.output.concentrate_pb</th>\n",
       "      <th>rougher.output.concentrate_pb</th>\n",
       "    </tr>\n",
       "  </thead>\n",
       "  <tbody>\n",
       "    <tr>\n",
       "      <td>0</td>\n",
       "      <td>9.889648</td>\n",
       "      <td>10.389648</td>\n",
       "      <td>7.101074</td>\n",
       "    </tr>\n",
       "    <tr>\n",
       "      <td>1</td>\n",
       "      <td>9.968944</td>\n",
       "      <td>10.497069</td>\n",
       "      <td>7.278807</td>\n",
       "    </tr>\n",
       "    <tr>\n",
       "      <td>2</td>\n",
       "      <td>10.213995</td>\n",
       "      <td>10.354494</td>\n",
       "      <td>7.216833</td>\n",
       "    </tr>\n",
       "  </tbody>\n",
       "</table>\n",
       "</div>"
      ],
      "text/plain": [
       "   final.output.concentrate_pb  primary_cleaner.output.concentrate_pb  \\\n",
       "0                     9.889648                              10.389648   \n",
       "1                     9.968944                              10.497069   \n",
       "2                    10.213995                              10.354494   \n",
       "\n",
       "   rougher.output.concentrate_pb  \n",
       "0                       7.101074  \n",
       "1                       7.278807  \n",
       "2                       7.216833  "
      ]
     },
     "metadata": {},
     "output_type": "display_data"
    }
   ],
   "source": [
    "for i in range(3):\n",
    "    display(full_df[me_lists[i]].head(3))"
   ]
  },
  {
   "cell_type": "markdown",
   "metadata": {},
   "source": [
    "Столбцы идут в обратном порядке.\\\n",
    "Исправим это, чтобы не было проблем с выводом графиков."
   ]
  },
  {
   "cell_type": "code",
   "execution_count": 26,
   "metadata": {},
   "outputs": [
    {
     "data": {
      "text/html": [
       "<div>\n",
       "<style scoped>\n",
       "    .dataframe tbody tr th:only-of-type {\n",
       "        vertical-align: middle;\n",
       "    }\n",
       "\n",
       "    .dataframe tbody tr th {\n",
       "        vertical-align: top;\n",
       "    }\n",
       "\n",
       "    .dataframe thead th {\n",
       "        text-align: right;\n",
       "    }\n",
       "</style>\n",
       "<table border=\"1\" class=\"dataframe\">\n",
       "  <thead>\n",
       "    <tr style=\"text-align: right;\">\n",
       "      <th></th>\n",
       "      <th>rougher.output.concentrate_au</th>\n",
       "      <th>primary_cleaner.output.concentrate_au</th>\n",
       "      <th>final.output.concentrate_au</th>\n",
       "    </tr>\n",
       "  </thead>\n",
       "  <tbody>\n",
       "    <tr>\n",
       "      <td>0</td>\n",
       "      <td>19.793808</td>\n",
       "      <td>34.174427</td>\n",
       "      <td>42.19202</td>\n",
       "    </tr>\n",
       "  </tbody>\n",
       "</table>\n",
       "</div>"
      ],
      "text/plain": [
       "   rougher.output.concentrate_au  primary_cleaner.output.concentrate_au  \\\n",
       "0                      19.793808                              34.174427   \n",
       "\n",
       "   final.output.concentrate_au  \n",
       "0                     42.19202  "
      ]
     },
     "metadata": {},
     "output_type": "display_data"
    },
    {
     "data": {
      "text/html": [
       "<div>\n",
       "<style scoped>\n",
       "    .dataframe tbody tr th:only-of-type {\n",
       "        vertical-align: middle;\n",
       "    }\n",
       "\n",
       "    .dataframe tbody tr th {\n",
       "        vertical-align: top;\n",
       "    }\n",
       "\n",
       "    .dataframe thead th {\n",
       "        text-align: right;\n",
       "    }\n",
       "</style>\n",
       "<table border=\"1\" class=\"dataframe\">\n",
       "  <thead>\n",
       "    <tr style=\"text-align: right;\">\n",
       "      <th></th>\n",
       "      <th>rougher.output.concentrate_ag</th>\n",
       "      <th>primary_cleaner.output.concentrate_ag</th>\n",
       "      <th>final.output.concentrate_ag</th>\n",
       "    </tr>\n",
       "  </thead>\n",
       "  <tbody>\n",
       "    <tr>\n",
       "      <td>0</td>\n",
       "      <td>11.500771</td>\n",
       "      <td>8.547551</td>\n",
       "      <td>6.055403</td>\n",
       "    </tr>\n",
       "  </tbody>\n",
       "</table>\n",
       "</div>"
      ],
      "text/plain": [
       "   rougher.output.concentrate_ag  primary_cleaner.output.concentrate_ag  \\\n",
       "0                      11.500771                               8.547551   \n",
       "\n",
       "   final.output.concentrate_ag  \n",
       "0                     6.055403  "
      ]
     },
     "metadata": {},
     "output_type": "display_data"
    },
    {
     "data": {
      "text/html": [
       "<div>\n",
       "<style scoped>\n",
       "    .dataframe tbody tr th:only-of-type {\n",
       "        vertical-align: middle;\n",
       "    }\n",
       "\n",
       "    .dataframe tbody tr th {\n",
       "        vertical-align: top;\n",
       "    }\n",
       "\n",
       "    .dataframe thead th {\n",
       "        text-align: right;\n",
       "    }\n",
       "</style>\n",
       "<table border=\"1\" class=\"dataframe\">\n",
       "  <thead>\n",
       "    <tr style=\"text-align: right;\">\n",
       "      <th></th>\n",
       "      <th>rougher.output.concentrate_pb</th>\n",
       "      <th>primary_cleaner.output.concentrate_pb</th>\n",
       "      <th>final.output.concentrate_pb</th>\n",
       "    </tr>\n",
       "  </thead>\n",
       "  <tbody>\n",
       "    <tr>\n",
       "      <td>0</td>\n",
       "      <td>7.101074</td>\n",
       "      <td>10.389648</td>\n",
       "      <td>9.889648</td>\n",
       "    </tr>\n",
       "  </tbody>\n",
       "</table>\n",
       "</div>"
      ],
      "text/plain": [
       "   rougher.output.concentrate_pb  primary_cleaner.output.concentrate_pb  \\\n",
       "0                       7.101074                              10.389648   \n",
       "\n",
       "   final.output.concentrate_pb  \n",
       "0                     9.889648  "
      ]
     },
     "metadata": {},
     "output_type": "display_data"
    }
   ],
   "source": [
    "for i in range(3):\n",
    "    me_lists[i].reverse()\n",
    "    display(full_df[me_lists[i]].head(1))"
   ]
  },
  {
   "cell_type": "markdown",
   "metadata": {},
   "source": [
    "### Cтроим искомое распределение:"
   ]
  },
  {
   "cell_type": "code",
   "execution_count": 27,
   "metadata": {},
   "outputs": [
    {
     "data": {
      "image/png": "[encoded data removed]",
      "text/plain": [
       "<Figure size 720x432 with 1 Axes>"
      ]
     },
     "metadata": {
      "needs_background": "light"
     },
     "output_type": "display_data"
    },
    {
     "data": {
      "image/png": "[encoded data removed]",
      "text/plain": [
       "<Figure size 720x432 with 1 Axes>"
      ]
     },
     "metadata": {
      "needs_background": "light"
     },
     "output_type": "display_data"
    },
    {
     "data": {
      "image/png": "[encoded data removed]",
      "text/plain": [
       "<Figure size 720x432 with 1 Axes>"
      ]
     },
     "metadata": {
      "needs_background": "light"
     },
     "output_type": "display_data"
    }
   ],
   "source": [
    "for i in range(3):\n",
    "    plt.figure(figsize=(10,6))\n",
    "    plt.plot(full_df[me_lists[i]].mean())\n",
    "    plt.grid(True)\n",
    "    plt.show()   "
   ]
  },
  {
   "cell_type": "markdown",
   "metadata": {},
   "source": [
    "#### Вывод:\n",
    "- **Концентрация золота (Au)** равномерно **растет** от этапа к этапу.\n",
    "- **Концентрация серебра (Ag)** равномерно **падает** на каждом этапе.\n",
    "- **Концентрация свинца (Pb)** **растет**, причем наибольший рост концентрации просиходит после первого этапа очистки, и совсем немного - на втором этапе."
   ]
  },
  {
   "cell_type": "markdown",
   "metadata": {},
   "source": [
    "---"
   ]
  },
  {
   "cell_type": "markdown",
   "metadata": {},
   "source": [
    "## Распределение размеров гранул сырья на обучающей и тестовой выборках\n",
    "\n",
    "Посмотрим, как распределяется размер гранул сырья на двух выборках, чтобы избежать ошибок в обучении моделей.\\\n",
    "Интересующие нас столбцы:\n",
    "- **rougher.input.feed_size**\n",
    "- **primary_cleaner.input.feed_size**"
   ]
  },
  {
   "cell_type": "code",
   "execution_count": 28,
   "metadata": {},
   "outputs": [
    {
     "data": {
      "image/png": "[encoded data removed]",
      "text/plain": [
       "<Figure size 1080x432 with 1 Axes>"
      ]
     },
     "metadata": {
      "needs_background": "light"
     },
     "output_type": "display_data"
    },
    {
     "data": {
      "image/png": "[encoded data removed]",
      "text/plain": [
       "<Figure size 1080x432 with 1 Axes>"
      ]
     },
     "metadata": {
      "needs_background": "light"
     },
     "output_type": "display_data"
    }
   ],
   "source": [
    "feed_size_columns = ['rougher.input.feed_size', 'primary_cleaner.input.feed_size']\n",
    "for column in feed_size_columns:\n",
    "    plt.figure(figsize=(15,6))\n",
    "    for df in [train_df, test_df]:\n",
    "        sns.distplot(df[column].dropna())\n",
    "    plt.legend(['Train', 'Test'])\n",
    "    plt.grid(True)    \n",
    "    plt.show()"
   ]
  },
  {
   "cell_type": "markdown",
   "metadata": {},
   "source": [
    "#### Распределения немного отличаются на первом этапе, и схожи во втором. На качество обучения разница не должна повлиять."
   ]
  },
  {
   "cell_type": "markdown",
   "metadata": {},
   "source": [
    "---"
   ]
  },
  {
   "cell_type": "markdown",
   "metadata": {},
   "source": [
    "## Суммарная концентрация веществ на разных этапах\n",
    "\n",
    "Изучим, как меняется суммарная концентрация веществ в зависимости от этапа.\n",
    "\n",
    "Ранее, названия столбцов с концентрациями каждого металла были записаны в список **me_lists**.\\\n",
    "Воспользуемся им для нахождения суммарной концентрации по этапам, однако в этом списке отсутствуют названия столбцов с концентрацией сырья. Добавим эти столбцы:"
   ]
  },
  {
   "cell_type": "code",
   "execution_count": 29,
   "metadata": {},
   "outputs": [],
   "source": [
    "# ранее созданная функция find_columns_by_string не подойдет,\n",
    "# т.к. нельзя выделить нужные столбцы, не добавив лишние\n",
    "\n",
    "# записываем искомые столбцы вручную\n",
    "me_feed_names = ['rougher.input.feed_au', 'rougher.input.feed_ag', 'rougher.input.feed_pb']\n",
    "\n",
    "# добавляем в списки \"с металлами\"\n",
    "for i in range(3):\n",
    "    me_lists[i].append(me_feed_names[i])"
   ]
  },
  {
   "cell_type": "code",
   "execution_count": 30,
   "metadata": {},
   "outputs": [
    {
     "data": {
      "image/png": "[encoded data removed]",
      "text/plain": [
       "<Figure size 720x432 with 1 Axes>"
      ]
     },
     "metadata": {
      "needs_background": "light"
     },
     "output_type": "display_data"
    }
   ],
   "source": [
    "plt.figure(figsize=(10,6))\n",
    "\n",
    "# Для каждого этапа заполняем список, в котором записываем сумму концентраций во всех металлах (построчно)\n",
    "for stage in range(4):\n",
    "    stages_sum = []\n",
    "    for i in range(len(full_df)):\n",
    "        summary = 0\n",
    "        for me in range(3):\n",
    "            summary += full_df[me_lists[me][stage]][i]\n",
    "        stages_sum.append(summary)\n",
    "        \n",
    "    stages_sum = pd.Series(stages_sum)\n",
    "    sns.distplot(stages_sum.dropna())\n",
    "plt.legend(['Rougher', 'Primary Cleaner', 'Final', 'Feed'])\n",
    "plt.grid(True)\n",
    "plt.show()"
   ]
  },
  {
   "cell_type": "markdown",
   "metadata": {},
   "source": [
    "По графикам видно, что суммарная концентрация веществ растет с каждым последующим этапом.\\\n",
    "Также на каждом из этапов присутствует значительное количество нулевых значений. Они могут негативно сказаться на обучении моделей.\\\n",
    "Стоит удалить такие значения из тренировочной и тестовой выборок (переменные **train_features** и **test_df**).\n",
    "\n",
    "Поскольку в этих выборках есть только данные о сырье, удаляем нулевые значения именно для него."
   ]
  },
  {
   "cell_type": "markdown",
   "metadata": {},
   "source": [
    "#### train_features:\n",
    "\n",
    "Поскольку ранее была проведена предобработка обучающей выборки, аномальные значения могли быть удалены в ходе предобработки. Посмотрим, присутствуют ли аномальные значения:"
   ]
  },
  {
   "cell_type": "code",
   "execution_count": 31,
   "metadata": {},
   "outputs": [
    {
     "data": {
      "image/png": "[encoded data removed]",
      "text/plain": [
       "<Figure size 720x432 with 1 Axes>"
      ]
     },
     "metadata": {
      "needs_background": "light"
     },
     "output_type": "display_data"
    }
   ],
   "source": [
    "plt.figure(figsize=(10,6))\n",
    "for feed_name in me_feed_names:\n",
    "    sns.distplot(train_features[feed_name])\n",
    "    plt.legend(['Au', 'Ag', 'Pb'])\n",
    "\n",
    "plt.grid(True)\n",
    "plt.show()"
   ]
  },
  {
   "cell_type": "markdown",
   "metadata": {},
   "source": [
    "Распределение выглядит также как и на общем графике для всех этапов, причем аномальных значений нет.\\\n",
    "Выходит, они были удалены ранее.\\\n",
    "Вероятно, выбросы были на тех же строках, в которых были пропуски/иные проблемы, поэтому они были удалены в ходе предобработки."
   ]
  },
  {
   "cell_type": "markdown",
   "metadata": {},
   "source": [
    "#### test_df\n",
    "\n",
    "Теперь взглянем на тестовую выборку:"
   ]
  },
  {
   "cell_type": "code",
   "execution_count": 32,
   "metadata": {
    "scrolled": false
   },
   "outputs": [
    {
     "data": {
      "image/png": "[encoded data removed]",
      "text/plain": [
       "<Figure size 720x432 with 1 Axes>"
      ]
     },
     "metadata": {
      "needs_background": "light"
     },
     "output_type": "display_data"
    }
   ],
   "source": [
    "plt.figure(figsize=(10,6))\n",
    "for feed_name in me_feed_names:\n",
    "    sns.distplot(test_df[feed_name].dropna())\n",
    "    plt.legend(['Au', 'Ag', 'Pb'])\n",
    "\n",
    "plt.grid(True)\n",
    "plt.show()"
   ]
  },
  {
   "cell_type": "markdown",
   "metadata": {},
   "source": [
    "Присутствуют аномальные значения и пропуски - удалим их:"
   ]
  },
  {
   "cell_type": "code",
   "execution_count": 33,
   "metadata": {},
   "outputs": [],
   "source": [
    "test_df = test_df.dropna()\n",
    "\n",
    "for feed_name in me_feed_names:\n",
    "    test_df = test_df[test_df[feed_name] != 0]"
   ]
  },
  {
   "cell_type": "markdown",
   "metadata": {},
   "source": [
    "Распределение концентраций веществ в сырье после обработки:"
   ]
  },
  {
   "cell_type": "code",
   "execution_count": 34,
   "metadata": {},
   "outputs": [
    {
     "data": {
      "image/png": "[encoded data removed]",
      "text/plain": [
       "<Figure size 720x432 with 1 Axes>"
      ]
     },
     "metadata": {
      "needs_background": "light"
     },
     "output_type": "display_data"
    }
   ],
   "source": [
    "plt.figure(figsize=(10,6))\n",
    "for feed_name in me_feed_names:\n",
    "    sns.distplot(test_df[feed_name].dropna())\n",
    "    plt.legend(['Au', 'Ag', 'Pb'])\n",
    "\n",
    "plt.grid(True)\n",
    "plt.show()"
   ]
  },
  {
   "cell_type": "markdown",
   "metadata": {},
   "source": [
    "Аномальные значения и выбросы удалены.\n",
    "\n",
    "### Анализ закончен, можно приступать к построению моделей."
   ]
  },
  {
   "cell_type": "markdown",
   "metadata": {},
   "source": [
    "---"
   ]
  },
  {
   "cell_type": "markdown",
   "metadata": {},
   "source": [
    "# 3. Модель"
   ]
  },
  {
   "cell_type": "markdown",
   "metadata": {},
   "source": [
    "## Функция для вычисления итогового *sMAPE*\n",
    "\n",
    "В данной задаче целевой метрикой является ***sMAPE*** (Symmetric Mean Absolute Percentage Error, «симметричное среднее абсолютное процентное отклонение»).\n",
    "\n",
    "### Метрика вычисляется по следующей формуле:\n",
    "$$sMAPE = \\frac{1}{N}\n",
    "\\displaystyle\\sum_{i=1}^{N}\n",
    "\\frac{|y_i - y_i^{пр}|}{(|y_i| + |y_i^{пр}|)/2}*100\\%$$\n",
    "\n",
    "#### Где:\n",
    "- $y_i$ - истинное значение целевого признака с порядковым номером $i$\n",
    "- $y_i^{пр}$ - предсказанное значение целевого признака с порядковым номером $i$\n",
    "- $N$ - количество объектов в выборке\n",
    "\n",
    "### Нужно спрогнозировать две величины:\n",
    "- эффективность обогащения чернового концентрата **rougher.output.recovery**\n",
    "- эффективность обогащения финального концентрата **final.output.recovery**\n",
    "\n",
    "### Итоговая метрика вычисляется следующим образом:\n",
    "$$Итоговое\\ sMAPE = 25\\%*sMAPE(rougher) + 75\\%*sMAPE(final)$$\n",
    "---\n",
    "Функция должна брать на вход **4** списка: Предсказания для **rougher** и **final** и соответствующие им верные ответы.\\\n",
    "Результатом работы функции будет значение **итогового** ***sMAPE***"
   ]
  },
  {
   "cell_type": "code",
   "execution_count": 35,
   "metadata": {},
   "outputs": [],
   "source": [
    "def smape(predict, target):\n",
    "    target = target.tolist()\n",
    "    predict = predict.tolist()\n",
    "    total = 0\n",
    "    for i in range(len(predict)):\n",
    "        # добавляем try except, чтобы не допустить деления на ноль\n",
    "        try:\n",
    "            total += abs(target[i] - predict[i])*2 / (abs(target[i]) + abs(predict[i])) * 100\n",
    "        except:\n",
    "            total += 0\n",
    "    return total/len(predict)"
   ]
  },
  {
   "cell_type": "code",
   "execution_count": 36,
   "metadata": {},
   "outputs": [],
   "source": [
    "def final_smape(r_predict, f_predict, r_target, f_target):\n",
    "    return 0.25*smape(r_predict, r_target) + 0.75*smape(f_predict, f_target)"
   ]
  },
  {
   "cell_type": "markdown",
   "metadata": {},
   "source": [
    "Функция готова, можно переходить к обучению моделей."
   ]
  },
  {
   "cell_type": "markdown",
   "metadata": {},
   "source": [
    "---"
   ]
  },
  {
   "cell_type": "markdown",
   "metadata": {},
   "source": [
    "## Обучение и проверка моделей\n",
    "\n",
    "Перед нами стоит задача регрессии, поэтому подойдут модели **LinearRegression** и **RandomForestRegressor**.\n",
    "Для их настройки воспользуемся методом **RandomizedSearchCV** библиотеки scikit-learn (подбор параметров через **GridSearchCV** займет слишком много времени).\n",
    "\n",
    "При этом для оценки моделей воспользуемся ранее созданной функцией ***smape***"
   ]
  },
  {
   "cell_type": "markdown",
   "metadata": {},
   "source": [
    "## Случайный лес"
   ]
  },
  {
   "cell_type": "markdown",
   "metadata": {},
   "source": [
    "Импортируем библиотеки"
   ]
  },
  {
   "cell_type": "code",
   "execution_count": 37,
   "metadata": {},
   "outputs": [],
   "source": [
    "from sklearn.metrics import make_scorer\n",
    "from sklearn.ensemble import RandomForestRegressor\n",
    "from sklearn.model_selection import RandomizedSearchCV\n",
    "from sklearn.model_selection import cross_val_score"
   ]
  },
  {
   "cell_type": "markdown",
   "metadata": {},
   "source": [
    "Функция для оценки качества модели"
   ]
  },
  {
   "cell_type": "code",
   "execution_count": 38,
   "metadata": {},
   "outputs": [],
   "source": [
    "smape_score = make_scorer(smape, greater_is_better=False)"
   ]
  },
  {
   "cell_type": "markdown",
   "metadata": {},
   "source": [
    "#### Модель для предсказания признака **rougher.output.recovery**"
   ]
  },
  {
   "cell_type": "code",
   "execution_count": 39,
   "metadata": {},
   "outputs": [
    {
     "name": "stdout",
     "output_type": "stream",
     "text": [
      "Fitting 3 folds for each of 30 candidates, totalling 90 fits\n"
     ]
    },
    {
     "name": "stderr",
     "output_type": "stream",
     "text": [
      "[Parallel(n_jobs=-1)]: Using backend LokyBackend with 4 concurrent workers.\n",
      "[Parallel(n_jobs=-1)]: Done  33 tasks      | elapsed:  2.4min\n",
      "[Parallel(n_jobs=-1)]: Done  90 out of  90 | elapsed:  4.4min finished\n"
     ]
    },
    {
     "data": {
      "text/plain": [
       "{'n_estimators': 100,\n",
       " 'min_samples_split': 5,\n",
       " 'min_samples_leaf': 4,\n",
       " 'max_features': 'sqrt',\n",
       " 'max_depth': 30,\n",
       " 'bootstrap': False}"
      ]
     },
     "execution_count": 39,
     "metadata": {},
     "output_type": "execute_result"
    }
   ],
   "source": [
    "n_estimators = [int(x) for x in np.linspace(start = 20, stop = 200, num = 10)]\n",
    "\n",
    "max_features = ['auto', 'sqrt', 'log2']\n",
    "max_depth = [int(x) for x in np.linspace(10, 50, num = 5)]\n",
    "max_depth.append(None)\n",
    "\n",
    "min_samples_split = [2, 5, 10]\n",
    "min_samples_leaf = [1, 2, 4]\n",
    "bootstrap = [True, False]\n",
    "\n",
    "random_grid = {'n_estimators': n_estimators,\n",
    "               'max_features': max_features,\n",
    "               'max_depth': max_depth,\n",
    "               'min_samples_split': min_samples_split,\n",
    "               'min_samples_leaf': min_samples_leaf,\n",
    "               'bootstrap': bootstrap}\n",
    "\n",
    "model = RandomForestRegressor()\n",
    "\n",
    "forest_random = RandomizedSearchCV(estimator = model, scoring=smape_score, param_distributions = random_grid, n_iter = 30, cv = 3, verbose=2, random_state=42, n_jobs = -1)\n",
    "forest_random.fit(train_features, train_target['rougher.output.recovery'])\n",
    "forest_random.best_params_"
   ]
  },
  {
   "cell_type": "markdown",
   "metadata": {},
   "source": [
    "Сохраняем лучшую найденную модель и оцениваем ее качество с помощью кросс-валидации"
   ]
  },
  {
   "cell_type": "code",
   "execution_count": 40,
   "metadata": {},
   "outputs": [
    {
     "data": {
      "text/plain": [
       "array([ -8.8233471 , -10.61973244, -12.99332819])"
      ]
     },
     "execution_count": 40,
     "metadata": {},
     "output_type": "execute_result"
    }
   ],
   "source": [
    "forest_best_rougher = forest_random.best_estimator_\n",
    "\n",
    "cross_val_score(forest_best_rougher, train_features, train_target['rougher.output.recovery'], cv=3, scoring=smape_score)"
   ]
  },
  {
   "cell_type": "markdown",
   "metadata": {},
   "source": [
    "#### Модель для предсказания признака **final.output.recovery**"
   ]
  },
  {
   "cell_type": "code",
   "execution_count": 41,
   "metadata": {},
   "outputs": [
    {
     "name": "stdout",
     "output_type": "stream",
     "text": [
      "Fitting 3 folds for each of 30 candidates, totalling 90 fits\n"
     ]
    },
    {
     "name": "stderr",
     "output_type": "stream",
     "text": [
      "[Parallel(n_jobs=-1)]: Using backend LokyBackend with 4 concurrent workers.\n",
      "[Parallel(n_jobs=-1)]: Done  33 tasks      | elapsed:  2.3min\n",
      "[Parallel(n_jobs=-1)]: Done  90 out of  90 | elapsed:  4.3min finished\n"
     ]
    },
    {
     "data": {
      "text/plain": [
       "{'n_estimators': 40,\n",
       " 'min_samples_split': 10,\n",
       " 'min_samples_leaf': 1,\n",
       " 'max_features': 'auto',\n",
       " 'max_depth': 10,\n",
       " 'bootstrap': True}"
      ]
     },
     "execution_count": 41,
     "metadata": {},
     "output_type": "execute_result"
    }
   ],
   "source": [
    "n_estimators = [int(x) for x in np.linspace(start = 20, stop = 200, num = 10)]\n",
    "\n",
    "max_features = ['auto', 'sqrt', 'log2']\n",
    "max_depth = [int(x) for x in np.linspace(10, 50, num = 5)]\n",
    "max_depth.append(None)\n",
    "\n",
    "min_samples_split = [2, 5, 10]\n",
    "min_samples_leaf = [1, 2, 4]\n",
    "bootstrap = [True, False]\n",
    "\n",
    "random_grid = {'n_estimators': n_estimators,\n",
    "               'max_features': max_features,\n",
    "               'max_depth': max_depth,\n",
    "               'min_samples_split': min_samples_split,\n",
    "               'min_samples_leaf': min_samples_leaf,\n",
    "               'bootstrap': bootstrap}\n",
    "\n",
    "model = RandomForestRegressor()\n",
    "\n",
    "forest_random = RandomizedSearchCV(estimator = model, scoring=smape_score, param_distributions = random_grid, n_iter = 30, cv = 3, verbose=2, random_state=42, n_jobs = -1)\n",
    "forest_random.fit(train_features, train_target['final.output.recovery'])\n",
    "forest_random.best_params_"
   ]
  },
  {
   "cell_type": "markdown",
   "metadata": {},
   "source": [
    "Сохраняем лучшую найденную модель и оцениваем ее качество с помощью кросс-валидации"
   ]
  },
  {
   "cell_type": "code",
   "execution_count": 42,
   "metadata": {},
   "outputs": [
    {
     "data": {
      "text/plain": [
       "array([-11.31338482,  -9.83100693, -12.27642486])"
      ]
     },
     "execution_count": 42,
     "metadata": {},
     "output_type": "execute_result"
    }
   ],
   "source": [
    "forest_best_final = forest_random.best_estimator_\n",
    "\n",
    "cross_val_score(forest_best_final, train_features, train_target['final.output.recovery'], cv=3, scoring=smape_score)"
   ]
  },
  {
   "cell_type": "markdown",
   "metadata": {},
   "source": [
    "Получаем неплохие показатели качества: ошибка составляет приблизительно 10% для обоих целевых признаков (чем ниже метрика sMAPE, тем лучше результат)."
   ]
  },
  {
   "cell_type": "markdown",
   "metadata": {},
   "source": [
    "## Линейная регрессия"
   ]
  },
  {
   "cell_type": "markdown",
   "metadata": {},
   "source": [
    "Импортируем библиотеки"
   ]
  },
  {
   "cell_type": "code",
   "execution_count": 43,
   "metadata": {},
   "outputs": [],
   "source": [
    "from sklearn.linear_model import LinearRegression"
   ]
  },
  {
   "cell_type": "markdown",
   "metadata": {},
   "source": [
    "#### Модель для предсказания признака **rougher.output.recovery**\n",
    "\n",
    "Для линейной регрессии не требуется настраивать гиперпараметры, как в случае со случайным лесом,\\\n",
    "поэтому просто импортируем модель и проверяем ее качество с помощью кросс-валидации"
   ]
  },
  {
   "cell_type": "code",
   "execution_count": 44,
   "metadata": {},
   "outputs": [
    {
     "data": {
      "text/plain": [
       "array([-12.16836645, -11.17103095, -12.03301409])"
      ]
     },
     "execution_count": 44,
     "metadata": {},
     "output_type": "execute_result"
    }
   ],
   "source": [
    "linear_model_rougher = LinearRegression()\n",
    "linear_model_rougher.fit(train_features, train_target['rougher.output.recovery'])\n",
    "\n",
    "cross_val_score(linear_model_rougher, train_features, train_target['rougher.output.recovery'], cv=3, scoring=smape_score)"
   ]
  },
  {
   "cell_type": "markdown",
   "metadata": {},
   "source": [
    "#### Модель для предсказания признака **final.output.recovery**"
   ]
  },
  {
   "cell_type": "code",
   "execution_count": 45,
   "metadata": {},
   "outputs": [
    {
     "data": {
      "text/plain": [
       "array([-10.61951238, -10.03363609, -15.81560604])"
      ]
     },
     "execution_count": 45,
     "metadata": {},
     "output_type": "execute_result"
    }
   ],
   "source": [
    "linear_model_final = LinearRegression(normalize=True)\n",
    "linear_model_final.fit(train_features, train_target['final.output.recovery'])\n",
    "\n",
    "cross_val_score(linear_model_final, train_features, train_target['final.output.recovery'], cv=3, scoring=smape_score)"
   ]
  },
  {
   "cell_type": "markdown",
   "metadata": {},
   "source": [
    "Качество линейной регресси несколько ниже, по сравнению с моделью случайного леса, однако скорость обучения выше."
   ]
  },
  {
   "cell_type": "markdown",
   "metadata": {},
   "source": [
    "---"
   ]
  },
  {
   "cell_type": "markdown",
   "metadata": {},
   "source": [
    "## Выбор лучшей модели"
   ]
  },
  {
   "cell_type": "markdown",
   "metadata": {},
   "source": [
    "#### Оценим качество моделей для итоговой метрики на тесте, чтобы выбрать лучшую.\n",
    "\n",
    "Для оценки качества, загрузим целевой признак для тестовой выборки из полного датасета в отдельную переменную."
   ]
  },
  {
   "cell_type": "code",
   "execution_count": 46,
   "metadata": {},
   "outputs": [
    {
     "data": {
      "text/plain": [
       "5357"
      ]
     },
     "execution_count": 46,
     "metadata": {},
     "output_type": "execute_result"
    }
   ],
   "source": [
    "test_target = pd.DataFrame()\n",
    "test_target['rougher.output.recovery'] = full_df['rougher.output.recovery'][test_df.index]\n",
    "test_target['final.output.recovery'] = full_df['final.output.recovery'][test_df.index]\n",
    "len(test_target)"
   ]
  },
  {
   "cell_type": "markdown",
   "metadata": {},
   "source": [
    "Убедимся в отсутствии пропусков:"
   ]
  },
  {
   "cell_type": "code",
   "execution_count": 47,
   "metadata": {
    "scrolled": true
   },
   "outputs": [
    {
     "name": "stdout",
     "output_type": "stream",
     "text": [
      "775\n",
      "563\n"
     ]
    }
   ],
   "source": [
    "print(test_target['rougher.output.recovery'].isna().sum())\n",
    "print(test_target['final.output.recovery'].isna().sum())"
   ]
  },
  {
   "cell_type": "markdown",
   "metadata": {},
   "source": [
    "От пропусков необходимо избавиться, чтобы не возникло ошибок при подсчете итоговой метрики."
   ]
  },
  {
   "cell_type": "code",
   "execution_count": 48,
   "metadata": {},
   "outputs": [
    {
     "data": {
      "text/plain": [
       "4529"
      ]
     },
     "execution_count": 48,
     "metadata": {},
     "output_type": "execute_result"
    }
   ],
   "source": [
    "test_target = test_target.dropna()\n",
    "test_df = test_df.loc[test_target.index]\n",
    "len(test_df)"
   ]
  },
  {
   "cell_type": "markdown",
   "metadata": {},
   "source": [
    "---"
   ]
  },
  {
   "cell_type": "markdown",
   "metadata": {},
   "source": [
    "#### Итоговая оценка для модели Случайного леса:"
   ]
  },
  {
   "cell_type": "code",
   "execution_count": 49,
   "metadata": {},
   "outputs": [
    {
     "data": {
      "text/plain": [
       "11.396827618938255"
      ]
     },
     "execution_count": 49,
     "metadata": {},
     "output_type": "execute_result"
    }
   ],
   "source": [
    "r_predictions = forest_best_rougher.predict(test_df.drop(['date'], axis=1))\n",
    "f_predictions = forest_best_final.predict(test_df.drop(['date'], axis=1))\n",
    "\n",
    "final_smape(r_predictions, f_predictions, test_target['rougher.output.recovery'], test_target['final.output.recovery'])"
   ]
  },
  {
   "cell_type": "markdown",
   "metadata": {},
   "source": [
    "#### Итоговая оценка для модели Линейной регрессии:"
   ]
  },
  {
   "cell_type": "code",
   "execution_count": 50,
   "metadata": {},
   "outputs": [
    {
     "data": {
      "text/plain": [
       "13.222228563438877"
      ]
     },
     "execution_count": 50,
     "metadata": {},
     "output_type": "execute_result"
    }
   ],
   "source": [
    "# для корректных результатов, масштабируем выборку перед предсказаниями\n",
    "r_predictions = linear_model_rougher.predict(scaler.transform(test_df.drop(['date'], axis=1)))\n",
    "f_predictions = linear_model_final.predict(scaler.transform(test_df.drop(['date'], axis=1)))\n",
    "\n",
    "final_smape(r_predictions, f_predictions, test_target['rougher.output.recovery'], test_target['final.output.recovery'])"
   ]
  },
  {
   "cell_type": "markdown",
   "metadata": {},
   "source": [
    "#### Наилучшие результаты показала модель Случайного леса.\n",
    "\n",
    "### Итоговое sMAPE на тестовой выборке: 11.4"
   ]
  },
  {
   "cell_type": "markdown",
   "metadata": {},
   "source": [
    "- [x]  Jupyter Notebook открыт\n",
    "- [x]  Весь код выполняется без ошибок\n",
    "- [x]  Ячейки с кодом расположены в порядке выполнения\n",
    "- [x]  Выполнен шаг 1: данные подготовлены\n",
    "    - [x]  Проверена формула вычисления эффективности обогащения\n",
    "    - [x]  Проанализированы признаки, недоступные в тестовой выборке\n",
    "    - [x]  Проведена предобработка данных\n",
    "- [x]  Выполнен шаг 2: данные проанализированы\n",
    "    - [x]  Исследовано изменение концентрации элементов на каждом этапе\n",
    "    - [x]  Проанализированы распределения размеров гранул на обучающей и тестовой выборках\n",
    "    - [x]  Исследованы суммарные концентрации\n",
    "    - [x]  Проанализированы и обработаны аномальные значения\n",
    "- [x]  Выполнен шаг 3: построена модель прогнозирования\n",
    "    - [x]  Написана функция для вычисления итогового *sMAPE*\n",
    "    - [x]  Обучено и проверено несколько моделей\n",
    "    - [x]  Выбрана лучшая модель, её качество проверено на тестовой выборке"
   ]
  }
 ],
 "metadata": {
  "kernelspec": {
   "display_name": "Python 3",
   "language": "python",
   "name": "python3"
  },
  "language_info": {
   "codemirror_mode": {
    "name": "ipython",
    "version": 3
   },
   "file_extension": ".py",
   "mimetype": "text/x-python",
   "name": "python",
   "nbconvert_exporter": "python",
   "pygments_lexer": "ipython3",
   "version": "3.7.4"
  }
 },
 "nbformat": 4,
 "nbformat_minor": 2
}
