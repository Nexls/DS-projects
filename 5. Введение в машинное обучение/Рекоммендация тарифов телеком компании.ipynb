{
 "cells": [
  {
   "cell_type": "markdown",
   "metadata": {},
   "source": [
    "# Рекомендация тарифов"
   ]
  },
  {
   "cell_type": "markdown",
   "metadata": {},
   "source": [
    "В вашем распоряжении данные о поведении клиентов, которые уже перешли на эти тарифы (из проекта курса «Статистический анализ данных»). Нужно построить модель для задачи классификации, которая выберет подходящий тариф. Предобработка данных не понадобится — вы её уже сделали.\n",
    "\n",
    "Постройте модель с максимально большим значением *accuracy*. Чтобы сдать проект успешно, нужно довести долю правильных ответов по крайней мере до 0.75. Проверьте *accuracy* на тестовой выборке самостоятельно."
   ]
  },
  {
   "cell_type": "markdown",
   "metadata": {},
   "source": [
    "## 1. Откройте и изучите файл"
   ]
  },
  {
   "cell_type": "markdown",
   "metadata": {},
   "source": [
    "### Импортируем необходимые библиотеки"
   ]
  },
  {
   "cell_type": "code",
   "execution_count": 128,
   "metadata": {},
   "outputs": [],
   "source": [
    "import pandas as pd\n",
    "import numpy as np\n",
    "from sklearn.metrics import accuracy_score\n",
    "from sklearn.model_selection import train_test_split"
   ]
  },
  {
   "cell_type": "markdown",
   "metadata": {},
   "source": [
    "### Считываем данные"
   ]
  },
  {
   "cell_type": "code",
   "execution_count": 129,
   "metadata": {},
   "outputs": [
    {
     "name": "stdout",
     "output_type": "stream",
     "text": [
      "<class 'pandas.core.frame.DataFrame'>\n",
      "RangeIndex: 3214 entries, 0 to 3213\n",
      "Data columns (total 5 columns):\n",
      "calls       3214 non-null float64\n",
      "minutes     3214 non-null float64\n",
      "messages    3214 non-null float64\n",
      "mb_used     3214 non-null float64\n",
      "is_ultra    3214 non-null int64\n",
      "dtypes: float64(4), int64(1)\n",
      "memory usage: 125.7 KB\n",
      "None\n"
     ]
    },
    {
     "data": {
      "text/html": [
       "<div>\n",
       "<style scoped>\n",
       "    .dataframe tbody tr th:only-of-type {\n",
       "        vertical-align: middle;\n",
       "    }\n",
       "\n",
       "    .dataframe tbody tr th {\n",
       "        vertical-align: top;\n",
       "    }\n",
       "\n",
       "    .dataframe thead th {\n",
       "        text-align: right;\n",
       "    }\n",
       "</style>\n",
       "<table border=\"1\" class=\"dataframe\">\n",
       "  <thead>\n",
       "    <tr style=\"text-align: right;\">\n",
       "      <th></th>\n",
       "      <th>calls</th>\n",
       "      <th>minutes</th>\n",
       "      <th>messages</th>\n",
       "      <th>mb_used</th>\n",
       "      <th>is_ultra</th>\n",
       "    </tr>\n",
       "  </thead>\n",
       "  <tbody>\n",
       "    <tr>\n",
       "      <td>0</td>\n",
       "      <td>40.0</td>\n",
       "      <td>311.90</td>\n",
       "      <td>83.0</td>\n",
       "      <td>19915.42</td>\n",
       "      <td>0</td>\n",
       "    </tr>\n",
       "    <tr>\n",
       "      <td>1</td>\n",
       "      <td>85.0</td>\n",
       "      <td>516.75</td>\n",
       "      <td>56.0</td>\n",
       "      <td>22696.96</td>\n",
       "      <td>0</td>\n",
       "    </tr>\n",
       "    <tr>\n",
       "      <td>2</td>\n",
       "      <td>77.0</td>\n",
       "      <td>467.66</td>\n",
       "      <td>86.0</td>\n",
       "      <td>21060.45</td>\n",
       "      <td>0</td>\n",
       "    </tr>\n",
       "    <tr>\n",
       "      <td>3</td>\n",
       "      <td>106.0</td>\n",
       "      <td>745.53</td>\n",
       "      <td>81.0</td>\n",
       "      <td>8437.39</td>\n",
       "      <td>1</td>\n",
       "    </tr>\n",
       "    <tr>\n",
       "      <td>4</td>\n",
       "      <td>66.0</td>\n",
       "      <td>418.74</td>\n",
       "      <td>1.0</td>\n",
       "      <td>14502.75</td>\n",
       "      <td>0</td>\n",
       "    </tr>\n",
       "  </tbody>\n",
       "</table>\n",
       "</div>"
      ],
      "text/plain": [
       "   calls  minutes  messages   mb_used  is_ultra\n",
       "0   40.0   311.90      83.0  19915.42         0\n",
       "1   85.0   516.75      56.0  22696.96         0\n",
       "2   77.0   467.66      86.0  21060.45         0\n",
       "3  106.0   745.53      81.0   8437.39         1\n",
       "4   66.0   418.74       1.0  14502.75         0"
      ]
     },
     "execution_count": 129,
     "metadata": {},
     "output_type": "execute_result"
    }
   ],
   "source": [
    "users_df = pd.read_csv('/datasets/users_behavior.csv')\n",
    "print(users_df.info())\n",
    "users_df.head(5)"
   ]
  },
  {
   "cell_type": "markdown",
   "metadata": {},
   "source": [
    "Имеем таблицу с 3214 строками, пропусков нет.\n",
    "\n",
    "Предстоит предсказывать значения столбца **is_ultra** по значениям в других столбцах."
   ]
  },
  {
   "cell_type": "markdown",
   "metadata": {},
   "source": [
    "### Описание данных\n",
    "Каждый объект в наборе данных — это информация о поведении одного пользователя за месяц. Известно:\n",
    "\n",
    "- **сalls** — количество звонков,\n",
    "- **minutes** — суммарная длительность звонков в минутах,\n",
    "- **messages** — количество sms-сообщений,\n",
    "- **mb_used** — израсходованный интернет-трафик в Мб,\n",
    "- **is_ultra** — каким тарифом пользовался в течение месяца («Ультра» — **1**, «Смарт» — **0**)."
   ]
  },
  {
   "cell_type": "markdown",
   "metadata": {},
   "source": [
    "## 2. Разбейте данные на выборки"
   ]
  },
  {
   "cell_type": "markdown",
   "metadata": {},
   "source": [
    "Для разделения данных на обучающую, валидационную и тестовую выборки, воспользуемся функцией trail_test_split библиотеки sklearn. \n",
    "\n",
    "Т.к. нет отдельных тестовых данных, разделение проведем следующим образом:\n",
    "- **60%** Обучающая выборка\n",
    "- **20%** Валидационная выборка\n",
    "- **20%** Тестовая выборка"
   ]
  },
  {
   "cell_type": "code",
   "execution_count": 130,
   "metadata": {},
   "outputs": [
    {
     "name": "stdout",
     "output_type": "stream",
     "text": [
      "train lenght: 1928\n",
      "valid lenght: 643\n",
      "test lenght 643\n"
     ]
    }
   ],
   "source": [
    "df_train, df_test_and_valid = train_test_split(users_df, test_size=0.4, random_state=42)\n",
    "df_valid, df_test = train_test_split(df_test_and_valid, test_size=0.5, random_state=42)\n",
    "print('train lenght:', len(df_train))\n",
    "print('valid lenght:', len(df_valid))\n",
    "print('test lenght',len(df_test))"
   ]
  },
  {
   "cell_type": "markdown",
   "metadata": {},
   "source": [
    "Разбили датасет в нужных пропорциях. Теперь каждую таблицу разделим еще на две: в одной будут **признаки**, по которым будет определяться целевой признак (**features**), а в другой - сам **целевой признак** (**target**).\n",
    "\n",
    "Для удобства, создадим функцию **features_target_split**, которая будет получать на вход датасет и целевой признак, а на выходе давать две таблицы."
   ]
  },
  {
   "cell_type": "code",
   "execution_count": 131,
   "metadata": {},
   "outputs": [],
   "source": [
    "def features_target_split(data, target):\n",
    "    features = data.drop([target], axis=1)\n",
    "    target = data[target]\n",
    "    return features, target\n",
    "\n",
    "train_features, train_target = features_target_split(df_train, 'is_ultra')\n",
    "valid_features, valid_target = features_target_split(df_valid, 'is_ultra')\n",
    "test_features, test_target = features_target_split(df_test, 'is_ultra')"
   ]
  },
  {
   "cell_type": "markdown",
   "metadata": {},
   "source": [
    "Также подготовим объединенный датасет из обучающей выборки и валидационной, чтобы модели лучше обучились перед финальным тестированием"
   ]
  },
  {
   "cell_type": "code",
   "execution_count": 132,
   "metadata": {},
   "outputs": [
    {
     "data": {
      "text/plain": [
       "2571"
      ]
     },
     "execution_count": 132,
     "metadata": {},
     "output_type": "execute_result"
    }
   ],
   "source": [
    "final_features = train_features.append(valid_features)\n",
    "final_target = train_target.append(valid_target)\n",
    "len(final_features)"
   ]
  },
  {
   "cell_type": "markdown",
   "metadata": {},
   "source": [
    "## 3. Исследуйте модели"
   ]
  },
  {
   "cell_type": "markdown",
   "metadata": {},
   "source": [
    "Поскольку перед нами стоит задача классификации, для построения моделей используем три алгоритма:\\\n",
    "**Решающее дерево, Случайный лес, и Логистическую регрессию**.\\\n",
    "Для оценки качества получаемых моделей будем использовать метрику **accuracy.**"
   ]
  },
  {
   "cell_type": "markdown",
   "metadata": {},
   "source": [
    "### Решающее дерево"
   ]
  },
  {
   "cell_type": "markdown",
   "metadata": {},
   "source": [
    "Импортируем соответствующую структуру данных и обучим модель"
   ]
  },
  {
   "cell_type": "code",
   "execution_count": 133,
   "metadata": {},
   "outputs": [
    {
     "data": {
      "text/plain": [
       "0.7278382581648523"
      ]
     },
     "execution_count": 133,
     "metadata": {},
     "output_type": "execute_result"
    }
   ],
   "source": [
    "from sklearn.tree import DecisionTreeClassifier\n",
    "\n",
    "model = DecisionTreeClassifier(random_state=42)\n",
    "model.fit(train_features, train_target)\n",
    "accuracy_score(model.predict(valid_features), valid_target)"
   ]
  },
  {
   "cell_type": "markdown",
   "metadata": {},
   "source": [
    "Получаем в целом неплохую точность даже без настройки гиперпараметров - **0.728**, при требуемых **0.75**.\\\n",
    "Подберем максимальную глубину дерева, дающую наибольшую точность на валидационной выборке."
   ]
  },
  {
   "cell_type": "code",
   "execution_count": 134,
   "metadata": {
    "scrolled": true
   },
   "outputs": [
    {
     "name": "stdout",
     "output_type": "stream",
     "text": [
      "max_depth: 1 - 0.7309486780715396\n",
      "max_depth: 2 - 0.7822706065318819\n",
      "max_depth: 3 - 0.7916018662519441\n",
      "max_depth: 4 - 0.7807153965785381\n",
      "max_depth: 5 - 0.7729393468118196\n",
      "max_depth: 6 - 0.776049766718507\n"
     ]
    }
   ],
   "source": [
    "for i in range(6):\n",
    "    model = DecisionTreeClassifier(random_state=42, max_depth=i+1)\n",
    "    model.fit(train_features, train_target)\n",
    "    accuracy = accuracy_score(model.predict(valid_features), valid_target)\n",
    "    print('max_depth:', i+1, '-', accuracy)"
   ]
  },
  {
   "cell_type": "markdown",
   "metadata": {},
   "source": [
    "Получаем маскимальную точность - **0.79** - при значении максимальной глубины дерева - **3**.\\\n",
    "Посмотрим, сможем ли увеличить точность путем изменения минимального числа объектов в листе (**min_samples_leaf**)."
   ]
  },
  {
   "cell_type": "code",
   "execution_count": 135,
   "metadata": {
    "scrolled": false
   },
   "outputs": [
    {
     "name": "stdout",
     "output_type": "stream",
     "text": [
      "min_samples_leaf: 1 - 0.7916018662519441\n",
      "min_samples_leaf: 2 - 0.7916018662519441\n",
      "min_samples_leaf: 3 - 0.7916018662519441\n",
      "min_samples_leaf: 4 - 0.7916018662519441\n",
      "min_samples_leaf: 5 - 0.7916018662519441\n",
      "min_samples_leaf: 6 - 0.7916018662519441\n",
      "min_samples_leaf: 7 - 0.7916018662519441\n",
      "min_samples_leaf: 8 - 0.7916018662519441\n",
      "min_samples_leaf: 9 - 0.7916018662519441\n",
      "min_samples_leaf: 10 - 0.7916018662519441\n",
      "min_samples_leaf: 11 - 0.7916018662519441\n",
      "min_samples_leaf: 12 - 0.7916018662519441\n",
      "min_samples_leaf: 13 - 0.7916018662519441\n",
      "min_samples_leaf: 14 - 0.7916018662519441\n",
      "min_samples_leaf: 15 - 0.7916018662519441\n",
      "min_samples_leaf: 16 - 0.7916018662519441\n",
      "min_samples_leaf: 17 - 0.7916018662519441\n",
      "min_samples_leaf: 18 - 0.7916018662519441\n",
      "min_samples_leaf: 19 - 0.7916018662519441\n",
      "min_samples_leaf: 20 - 0.7916018662519441\n",
      "min_samples_leaf: 21 - 0.7916018662519441\n",
      "min_samples_leaf: 22 - 0.7916018662519441\n",
      "min_samples_leaf: 23 - 0.7916018662519441\n",
      "min_samples_leaf: 24 - 0.7916018662519441\n",
      "min_samples_leaf: 25 - 0.7916018662519441\n",
      "min_samples_leaf: 26 - 0.7916018662519441\n",
      "min_samples_leaf: 27 - 0.7916018662519441\n",
      "min_samples_leaf: 28 - 0.7916018662519441\n",
      "min_samples_leaf: 29 - 0.7916018662519441\n",
      "min_samples_leaf: 30 - 0.7916018662519441\n",
      "min_samples_leaf: 31 - 0.7916018662519441\n",
      "min_samples_leaf: 32 - 0.7916018662519441\n",
      "min_samples_leaf: 33 - 0.7916018662519441\n",
      "min_samples_leaf: 34 - 0.7916018662519441\n",
      "min_samples_leaf: 35 - 0.7916018662519441\n",
      "min_samples_leaf: 36 - 0.7916018662519441\n",
      "min_samples_leaf: 37 - 0.7916018662519441\n",
      "min_samples_leaf: 38 - 0.7916018662519441\n",
      "min_samples_leaf: 39 - 0.7916018662519441\n",
      "min_samples_leaf: 40 - 0.7916018662519441\n",
      "min_samples_leaf: 41 - 0.7916018662519441\n",
      "min_samples_leaf: 42 - 0.7916018662519441\n",
      "min_samples_leaf: 43 - 0.7916018662519441\n",
      "min_samples_leaf: 44 - 0.7916018662519441\n",
      "min_samples_leaf: 45 - 0.7916018662519441\n",
      "min_samples_leaf: 46 - 0.7916018662519441\n",
      "min_samples_leaf: 47 - 0.7916018662519441\n",
      "min_samples_leaf: 48 - 0.7884914463452566\n",
      "min_samples_leaf: 49 - 0.7853810264385692\n",
      "min_samples_leaf: 50 - 0.7853810264385692\n"
     ]
    }
   ],
   "source": [
    "for i in range(50):\n",
    "    model = DecisionTreeClassifier(max_depth=3, min_samples_leaf=i+1)\n",
    "    model.fit(train_features, train_target)\n",
    "    accuracy = accuracy_score(model.predict(valid_features), valid_target)\n",
    "    print('min_samples_leaf:', i+1, '-', accuracy)"
   ]
  },
  {
   "cell_type": "markdown",
   "metadata": {},
   "source": [
    "Видим, что увеличение минимального числа объектов в листе приводит к снижению точности, поэтому оставим этот гиперпараметр без изменений.\n",
    "\n",
    "Сохраним модель решающего дерева с оптимальными параметрами для дальнейшей проверки на тестовой выборке:"
   ]
  },
  {
   "cell_type": "code",
   "execution_count": 136,
   "metadata": {},
   "outputs": [
    {
     "data": {
      "text/plain": [
       "DecisionTreeClassifier(class_weight=None, criterion='gini', max_depth=3,\n",
       "                       max_features=None, max_leaf_nodes=None,\n",
       "                       min_impurity_decrease=0.0, min_impurity_split=None,\n",
       "                       min_samples_leaf=1, min_samples_split=2,\n",
       "                       min_weight_fraction_leaf=0.0, presort=False,\n",
       "                       random_state=42, splitter='best')"
      ]
     },
     "execution_count": 136,
     "metadata": {},
     "output_type": "execute_result"
    }
   ],
   "source": [
    "# обучаем на датасете из обучающей выборки + валидационной\n",
    "model_decision_tree = DecisionTreeClassifier(random_state=42, max_depth=3)\n",
    "model_decision_tree.fit(final_features, final_target)"
   ]
  },
  {
   "cell_type": "markdown",
   "metadata": {},
   "source": [
    "### Случайный лес"
   ]
  },
  {
   "cell_type": "code",
   "execution_count": 137,
   "metadata": {},
   "outputs": [
    {
     "data": {
      "text/plain": [
       "0.7869362363919129"
      ]
     },
     "execution_count": 137,
     "metadata": {},
     "output_type": "execute_result"
    }
   ],
   "source": [
    "from sklearn.ensemble import RandomForestClassifier\n",
    "\n",
    "model = RandomForestClassifier(random_state=42, n_estimators=10)\n",
    "model.fit(train_features, train_target)\n",
    "accuracy_score(model.predict(valid_features), valid_target)"
   ]
  },
  {
   "cell_type": "markdown",
   "metadata": {},
   "source": [
    "С первой итерации получаем точность больше необходимой - **0.787**.\\\n",
    "Попробуем увеличить ее, меняя число деревьем, максимальную глубину и число минимальных объектов в листе.\n",
    "\n",
    "**Максимальная глубина:**"
   ]
  },
  {
   "cell_type": "code",
   "execution_count": 138,
   "metadata": {},
   "outputs": [
    {
     "name": "stdout",
     "output_type": "stream",
     "text": [
      "max_depth: 1 - 0.7480559875583204\n",
      "max_depth: 2 - 0.7853810264385692\n",
      "max_depth: 3 - 0.7884914463452566\n",
      "max_depth: 4 - 0.7993779160186625\n",
      "max_depth: 5 - 0.7869362363919129\n",
      "max_depth: 6 - 0.8040435458786936\n"
     ]
    }
   ],
   "source": [
    "for i in range(6):\n",
    "    model = RandomForestClassifier(random_state=42, max_depth=i+1, n_estimators=10)\n",
    "    model.fit(train_features, train_target)\n",
    "    accuracy = accuracy_score(model.predict(valid_features), valid_target)\n",
    "    print('max_depth:', i+1, '-', accuracy)"
   ]
  },
  {
   "cell_type": "markdown",
   "metadata": {},
   "source": [
    "Получаем оптимальное значение **max_depth = 6**."
   ]
  },
  {
   "cell_type": "markdown",
   "metadata": {},
   "source": [
    "**Число деревьев:**"
   ]
  },
  {
   "cell_type": "code",
   "execution_count": 139,
   "metadata": {},
   "outputs": [
    {
     "name": "stdout",
     "output_type": "stream",
     "text": [
      "n_estimators 10 - 0.8040435458786936\n",
      "n_estimators 100 - 0.7900466562986003\n",
      "n_estimators 1000 - 0.7900466562986003\n",
      "n_estimators 1000 - 0.7900466562986003\n"
     ]
    }
   ],
   "source": [
    "n_estimators_list = [10, 100, 1000, 1000]\n",
    "for i in n_estimators_list:\n",
    "    model = RandomForestClassifier(random_state=42, max_depth=6, n_estimators=i)\n",
    "    model.fit(train_features, train_target)\n",
    "    accuracy = accuracy_score(model.predict(valid_features), valid_target)\n",
    "    print('n_estimators', i, '-', accuracy)"
   ]
  },
  {
   "cell_type": "markdown",
   "metadata": {},
   "source": [
    "Судя по всему, нет смысла брать больше **100** деревьев, т.к. время ожидания будет высоко, а результат непостоянен (при изменении значения **random_state** выигрышным может оказаться любое число деревьев)."
   ]
  },
  {
   "cell_type": "markdown",
   "metadata": {},
   "source": [
    "**Минимальное число объектов в листе:**"
   ]
  },
  {
   "cell_type": "code",
   "execution_count": 140,
   "metadata": {
    "scrolled": false
   },
   "outputs": [
    {
     "name": "stdout",
     "output_type": "stream",
     "text": [
      "min_samples_leaf: 1 - 0.7900466562986003\n",
      "min_samples_leaf: 2 - 0.7884914463452566\n",
      "min_samples_leaf: 3 - 0.7931570762052877\n",
      "min_samples_leaf: 4 - 0.7978227060653188\n",
      "min_samples_leaf: 5 - 0.7962674961119751\n",
      "min_samples_leaf: 6 - 0.7962674961119751\n",
      "min_samples_leaf: 7 - 0.7947122861586314\n",
      "min_samples_leaf: 8 - 0.7993779160186625\n",
      "min_samples_leaf: 9 - 0.7947122861586314\n",
      "min_samples_leaf: 10 - 0.7962674961119751\n",
      "min_samples_leaf: 11 - 0.7962674961119751\n",
      "min_samples_leaf: 12 - 0.7947122861586314\n",
      "min_samples_leaf: 13 - 0.7931570762052877\n",
      "min_samples_leaf: 14 - 0.7931570762052877\n",
      "min_samples_leaf: 15 - 0.7916018662519441\n",
      "min_samples_leaf: 16 - 0.7931570762052877\n",
      "min_samples_leaf: 17 - 0.7931570762052877\n",
      "min_samples_leaf: 18 - 0.7931570762052877\n",
      "min_samples_leaf: 19 - 0.7931570762052877\n",
      "min_samples_leaf: 20 - 0.7931570762052877\n",
      "min_samples_leaf: 21 - 0.7931570762052877\n",
      "min_samples_leaf: 22 - 0.7916018662519441\n",
      "min_samples_leaf: 23 - 0.7916018662519441\n",
      "min_samples_leaf: 24 - 0.7900466562986003\n",
      "min_samples_leaf: 25 - 0.7884914463452566\n",
      "min_samples_leaf: 26 - 0.7884914463452566\n",
      "min_samples_leaf: 27 - 0.7869362363919129\n",
      "min_samples_leaf: 28 - 0.7853810264385692\n",
      "min_samples_leaf: 29 - 0.7869362363919129\n",
      "min_samples_leaf: 30 - 0.7822706065318819\n"
     ]
    }
   ],
   "source": [
    "for i in range(30):\n",
    "    model = RandomForestClassifier(random_state=42, max_depth=6, n_estimators=100, min_samples_leaf=i+1)\n",
    "    model.fit(train_features, train_target)\n",
    "    accuracy = accuracy_score(model.predict(valid_features), valid_target)\n",
    "    print('min_samples_leaf:', i+1, '-', accuracy)"
   ]
  },
  {
   "cell_type": "markdown",
   "metadata": {},
   "source": [
    "Видим, что изменение значения **min_samples_leaf** не дает однозначных результатов, поэтому оставим этот гиперпараметр без изменений.\n",
    "\n",
    "Сохраним модель случайного леса с оптимальными параметрами для дальнейшей проверки на тестовой выборке:"
   ]
  },
  {
   "cell_type": "code",
   "execution_count": 141,
   "metadata": {},
   "outputs": [
    {
     "data": {
      "text/plain": [
       "RandomForestClassifier(bootstrap=True, class_weight=None, criterion='gini',\n",
       "                       max_depth=6, max_features='auto', max_leaf_nodes=None,\n",
       "                       min_impurity_decrease=0.0, min_impurity_split=None,\n",
       "                       min_samples_leaf=1, min_samples_split=2,\n",
       "                       min_weight_fraction_leaf=0.0, n_estimators=100,\n",
       "                       n_jobs=None, oob_score=False, random_state=42, verbose=0,\n",
       "                       warm_start=False)"
      ]
     },
     "execution_count": 141,
     "metadata": {},
     "output_type": "execute_result"
    }
   ],
   "source": [
    "model_random_forest = RandomForestClassifier(random_state=42, max_depth=6, n_estimators=100)\n",
    "model_random_forest.fit(final_features, final_target)"
   ]
  },
  {
   "cell_type": "markdown",
   "metadata": {},
   "source": [
    "### Логистическая регрессия"
   ]
  },
  {
   "cell_type": "code",
   "execution_count": 142,
   "metadata": {},
   "outputs": [
    {
     "data": {
      "text/plain": [
       "0.7200622083981337"
      ]
     },
     "execution_count": 142,
     "metadata": {},
     "output_type": "execute_result"
    }
   ],
   "source": [
    "from sklearn.linear_model import LogisticRegression\n",
    "\n",
    "model = LogisticRegression(solver='liblinear')\n",
    "model.fit(train_features, train_target)\n",
    "accuracy_score(model.predict(valid_features), valid_target)"
   ]
  },
  {
   "cell_type": "markdown",
   "metadata": {},
   "source": [
    "Получаем недостаточную точность. Попробуем, увеличить её, применяя разные алгоритмы (**solver**), а также увеличив значение **max_iter** до **10000**, увеличив таким образом точность."
   ]
  },
  {
   "cell_type": "code",
   "execution_count": 143,
   "metadata": {},
   "outputs": [
    {
     "name": "stderr",
     "output_type": "stream",
     "text": [
      "/opt/conda/lib/python3.7/site-packages/scipy/optimize/linesearch.py:426: LineSearchWarning: Rounding errors prevent the line search from converging\n",
      "  warn(msg, LineSearchWarning)\n",
      "/opt/conda/lib/python3.7/site-packages/scipy/optimize/linesearch.py:314: LineSearchWarning: The line search algorithm did not converge\n",
      "  warn('The line search algorithm did not converge', LineSearchWarning)\n",
      "/opt/conda/lib/python3.7/site-packages/sklearn/utils/optimize.py:195: UserWarning: Line Search failed\n",
      "  warnings.warn('Line Search failed')\n"
     ]
    },
    {
     "name": "stdout",
     "output_type": "stream",
     "text": [
      "newton-cg - 0.7402799377916018\n",
      "lbfgs - 0.7402799377916018\n",
      "liblinear - 0.7200622083981337\n",
      "sag - 0.7278382581648523\n",
      "saga - 0.7231726283048211\n"
     ]
    }
   ],
   "source": [
    "solvers = ['newton-cg', 'lbfgs', 'liblinear', 'sag', 'saga']\n",
    "\n",
    "for solver in solvers:\n",
    "    model = LogisticRegression(solver=solver, max_iter=10000)\n",
    "    model.fit(train_features, train_target)\n",
    "    accuracy = accuracy_score(model.predict(valid_features), valid_target)\n",
    "    print(solver, '-', accuracy)"
   ]
  },
  {
   "cell_type": "markdown",
   "metadata": {},
   "source": [
    "Наибольшая точность - **0.74** - у алгоритмов **newton-cg** и **lbfgs**.\\\n",
    "Оставим последний, поскольку он быстрее (впрочем, разница в скорости совсем незаметна).\n",
    "\n",
    "Сохраним модель случайного леса с оптимальными параметрами для дальнейшей проверки на тестовой выборке:"
   ]
  },
  {
   "cell_type": "code",
   "execution_count": 144,
   "metadata": {},
   "outputs": [
    {
     "data": {
      "text/plain": [
       "LogisticRegression(C=1.0, class_weight=None, dual=False, fit_intercept=True,\n",
       "                   intercept_scaling=1, l1_ratio=None, max_iter=10000,\n",
       "                   multi_class='warn', n_jobs=None, penalty='l2',\n",
       "                   random_state=None, solver='lbfgs', tol=0.0001, verbose=0,\n",
       "                   warm_start=False)"
      ]
     },
     "execution_count": 144,
     "metadata": {},
     "output_type": "execute_result"
    }
   ],
   "source": [
    "model_logistic_regression = LogisticRegression(solver='lbfgs', max_iter=10000)\n",
    "model_logistic_regression.fit(final_features, final_target)"
   ]
  },
  {
   "cell_type": "markdown",
   "metadata": {},
   "source": [
    "## 4. Проверьте модель на тестовой выборке"
   ]
  },
  {
   "cell_type": "code",
   "execution_count": 145,
   "metadata": {},
   "outputs": [
    {
     "name": "stdout",
     "output_type": "stream",
     "text": [
      "decision_tree - 0.8055987558320373\n",
      "random_forest - 0.8164852255054432\n",
      "logistic_regression - 0.702954898911353\n"
     ]
    }
   ],
   "source": [
    "models = [model_decision_tree, model_random_forest, model_logistic_regression]\n",
    "models_name = ['decision_tree', 'random_forest', 'logistic_regression']\n",
    "n=0\n",
    "for model in models:\n",
    "    print(models_name[n], '-', accuracy_score(model.predict(test_features), test_target))\n",
    "    n+=1"
   ]
  },
  {
   "cell_type": "markdown",
   "metadata": {},
   "source": [
    "## Вывод\n",
    "\n",
    "- Лучшй результат показала модель **Случайного леса** - точность **0.816**.\n",
    "- Следующей по точности идет модель **Решающего дерева** с точностью **0.806**.\n",
    "- **Логистическая регрессия** показала неудовлетворительный результат - **0.703**."
   ]
  },
  {
   "cell_type": "markdown",
   "metadata": {},
   "source": [
    "## 5. (бонус) Проверьте модели на адекватность"
   ]
  },
  {
   "cell_type": "markdown",
   "metadata": {},
   "source": [
    "Для метода проверки модели определим соотношение числа тарифов:"
   ]
  },
  {
   "cell_type": "code",
   "execution_count": 146,
   "metadata": {},
   "outputs": [
    {
     "data": {
      "text/plain": [
       "0.30647168637212197"
      ]
     },
     "execution_count": 146,
     "metadata": {},
     "output_type": "execute_result"
    }
   ],
   "source": [
    "users_df.is_ultra.sum() / len(users_df)"
   ]
  },
  {
   "cell_type": "markdown",
   "metadata": {},
   "source": [
    "Выходит, только 30% пользователей пользуются тарифом **\"Ультра\"**.\\\n",
    "Значит, для проверки адекватности выбранной модели (**Случайный лес**) сравним получившиеся модели с моделью, предлагающей только тариф **\"Смарт\"**."
   ]
  },
  {
   "cell_type": "code",
   "execution_count": 147,
   "metadata": {},
   "outputs": [
    {
     "name": "stdout",
     "output_type": "stream",
     "text": [
      "forest model 0.8164852255054432\n",
      "random model 0.6967340590979783\n"
     ]
    }
   ],
   "source": [
    "print('forest model', accuracy_score(model_random_forest.predict(test_features), test_target))\n",
    "print('random model', accuracy_score(np.zeros(len(test_features)).astype(int), test_target))"
   ]
  },
  {
   "cell_type": "markdown",
   "metadata": {},
   "source": [
    "Видим, что построенная модель имеет точность больше чем у константной модели, значит проходит проверку на адекватность."
   ]
  },
  {
   "cell_type": "markdown",
   "metadata": {},
   "source": [
    "## Чек-лист готовности проекта"
   ]
  },
  {
   "cell_type": "markdown",
   "metadata": {},
   "source": [
    "Поставьте 'x' в выполненных пунктах. Далее нажмите Shift+Enter."
   ]
  },
  {
   "cell_type": "markdown",
   "metadata": {},
   "source": [
    "- [x] Jupyter Notebook открыт\n",
    "- [x] Весь код исполняется без ошибок\n",
    "- [x] Ячейки с кодом расположены в порядке исполнения\n",
    "- [x] Выполнено задание 1: данные загружены и изучены\n",
    "- [x] Выполнено задание 2: данные разбиты на три выборки\n",
    "- [x] Выполнено задание 3: проведено исследование моделей\n",
    "    - [x] Рассмотрено больше одной модели\n",
    "    - [x] Рассмотрено хотя бы 3 значения гипепараметров для какой-нибудь модели\n",
    "    - [x] Написаны выводы по результатам исследования\n",
    "- [x] Выполнено задание 3: Проведено тестирование\n",
    "- [x] Удалось достичь accuracy не меньше 0.75\n"
   ]
  }
 ],
 "metadata": {
  "kernelspec": {
   "display_name": "Python 3",
   "language": "python",
   "name": "python3"
  },
  "language_info": {
   "codemirror_mode": {
    "name": "ipython",
    "version": 3
   },
   "file_extension": ".py",
   "mimetype": "text/x-python",
   "name": "python",
   "nbconvert_exporter": "python",
   "pygments_lexer": "ipython3",
   "version": "3.7.4"
  }
 },
 "nbformat": 4,
 "nbformat_minor": 2
}
