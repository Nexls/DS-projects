{
 "cells": [
  {
   "cell_type": "markdown",
   "metadata": {},
   "source": [
    "# Анализ рынка компьютерных игр"
   ]
  },
  {
   "cell_type": "markdown",
   "metadata": {},
   "source": [
    "## Описание проекта\n",
    "\n",
    "Вы работаете в интернет-магазине «Стримчик», который продаёт по всему миру компьютерные игры. Из открытых источников доступны исторические данные о продажах игр, оценки пользователей и экспертов, жанры и платформы (например, Xbox или PlayStation). Вам нужно выявить определяющие успешность игры закономерности. Это позволит сделать ставку на потенциально популярный продукт и спланировать рекламные кампании.\n",
    "\n",
    "### Описание данных\n",
    "\n",
    "- **Name** — название игры\n",
    "- **Platform** — платформа\n",
    "- **Year_of_Release** — год выпуска\n",
    "- **Genre** — жанр игры\n",
    "- **NA_sales** — продажи в Северной Америке (миллионы долларов)\n",
    "- **EU_sales** — продажи в Европе (миллионы долларов)\n",
    "- **JP_sales** — продажи в Японии (миллионы долларов)\n",
    "- **Other_sales** — продажи в других странах (миллионы долларов)\n",
    "- **Critic_Score** — оценка критиков (максимум 100)\n",
    "- **User_Score** — оценка пользователей (максимум 10)\n",
    "- **Rating** — рейтинг от организации ESRB (возрастная категория).\n",
    "\n",
    "Данные за 2016 год могут быть неполными.\n",
    "\n",
    "### Задание\n",
    "\n",
    "**По представленным данным выявить закономерности, определяющие успешность игры.**"
   ]
  },
  {
   "cell_type": "markdown",
   "metadata": {},
   "source": [
    "---"
   ]
  },
  {
   "cell_type": "markdown",
   "metadata": {},
   "source": [
    "## Изучение общей информации о данных"
   ]
  },
  {
   "cell_type": "markdown",
   "metadata": {},
   "source": [
    "Импортируем необходимые библиотеки"
   ]
  },
  {
   "cell_type": "code",
   "execution_count": 1,
   "metadata": {
    "scrolled": true
   },
   "outputs": [
    {
     "name": "stderr",
     "output_type": "stream",
     "text": [
      "D:\\Programs\\Anaconda\\lib\\site-packages\\statsmodels\\tools\\_testing.py:19: FutureWarning: pandas.util.testing is deprecated. Use the functions in the public API at pandas.testing instead.\n",
      "  import pandas.util.testing as tm\n"
     ]
    }
   ],
   "source": [
    "import pandas as pd\n",
    "import numpy as np\n",
    "import matplotlib.ticker as mtick\n",
    "import seaborn as sns\n",
    "import math\n",
    "import matplotlib.pyplot as plt\n",
    "import plotly.express as px\n",
    "import plotly.graph_objects as go\n",
    "\n",
    "from matplotlib import rcParams\n",
    "from scipy import stats as st"
   ]
  },
  {
   "cell_type": "markdown",
   "metadata": {},
   "source": [
    "Считываем таблицу из .csv файла"
   ]
  },
  {
   "cell_type": "code",
   "execution_count": 2,
   "metadata": {},
   "outputs": [],
   "source": [
    "games_data = pd.read_csv('D:/3D Objects/Praktikum/Data/games.csv')"
   ]
  },
  {
   "cell_type": "markdown",
   "metadata": {},
   "source": [
    "Посмотрим информацию о таблице"
   ]
  },
  {
   "cell_type": "code",
   "execution_count": 3,
   "metadata": {},
   "outputs": [
    {
     "name": "stdout",
     "output_type": "stream",
     "text": [
      "<class 'pandas.core.frame.DataFrame'>\n",
      "RangeIndex: 16715 entries, 0 to 16714\n",
      "Data columns (total 11 columns):\n",
      " #   Column           Non-Null Count  Dtype  \n",
      "---  ------           --------------  -----  \n",
      " 0   Name             16713 non-null  object \n",
      " 1   Platform         16715 non-null  object \n",
      " 2   Year_of_Release  16446 non-null  float64\n",
      " 3   Genre            16713 non-null  object \n",
      " 4   NA_sales         16715 non-null  float64\n",
      " 5   EU_sales         16715 non-null  float64\n",
      " 6   JP_sales         16715 non-null  float64\n",
      " 7   Other_sales      16715 non-null  float64\n",
      " 8   Critic_Score     8137 non-null   float64\n",
      " 9   User_Score       10014 non-null  object \n",
      " 10  Rating           9949 non-null   object \n",
      "dtypes: float64(6), object(5)\n",
      "memory usage: 1.4+ MB\n"
     ]
    }
   ],
   "source": [
    "games_data.info()"
   ]
  },
  {
   "cell_type": "code",
   "execution_count": 4,
   "metadata": {},
   "outputs": [
    {
     "data": {
      "text/html": [
       "<div>\n",
       "<style scoped>\n",
       "    .dataframe tbody tr th:only-of-type {\n",
       "        vertical-align: middle;\n",
       "    }\n",
       "\n",
       "    .dataframe tbody tr th {\n",
       "        vertical-align: top;\n",
       "    }\n",
       "\n",
       "    .dataframe thead th {\n",
       "        text-align: right;\n",
       "    }\n",
       "</style>\n",
       "<table border=\"1\" class=\"dataframe\">\n",
       "  <thead>\n",
       "    <tr style=\"text-align: right;\">\n",
       "      <th></th>\n",
       "      <th>Name</th>\n",
       "      <th>Platform</th>\n",
       "      <th>Year_of_Release</th>\n",
       "      <th>Genre</th>\n",
       "      <th>NA_sales</th>\n",
       "      <th>EU_sales</th>\n",
       "      <th>JP_sales</th>\n",
       "      <th>Other_sales</th>\n",
       "      <th>Critic_Score</th>\n",
       "      <th>User_Score</th>\n",
       "      <th>Rating</th>\n",
       "    </tr>\n",
       "  </thead>\n",
       "  <tbody>\n",
       "    <tr>\n",
       "      <th>0</th>\n",
       "      <td>Wii Sports</td>\n",
       "      <td>Wii</td>\n",
       "      <td>2006.0</td>\n",
       "      <td>Sports</td>\n",
       "      <td>41.36</td>\n",
       "      <td>28.96</td>\n",
       "      <td>3.77</td>\n",
       "      <td>8.45</td>\n",
       "      <td>76.0</td>\n",
       "      <td>8</td>\n",
       "      <td>E</td>\n",
       "    </tr>\n",
       "    <tr>\n",
       "      <th>1</th>\n",
       "      <td>Super Mario Bros.</td>\n",
       "      <td>NES</td>\n",
       "      <td>1985.0</td>\n",
       "      <td>Platform</td>\n",
       "      <td>29.08</td>\n",
       "      <td>3.58</td>\n",
       "      <td>6.81</td>\n",
       "      <td>0.77</td>\n",
       "      <td>NaN</td>\n",
       "      <td>NaN</td>\n",
       "      <td>NaN</td>\n",
       "    </tr>\n",
       "    <tr>\n",
       "      <th>2</th>\n",
       "      <td>Mario Kart Wii</td>\n",
       "      <td>Wii</td>\n",
       "      <td>2008.0</td>\n",
       "      <td>Racing</td>\n",
       "      <td>15.68</td>\n",
       "      <td>12.76</td>\n",
       "      <td>3.79</td>\n",
       "      <td>3.29</td>\n",
       "      <td>82.0</td>\n",
       "      <td>8.3</td>\n",
       "      <td>E</td>\n",
       "    </tr>\n",
       "    <tr>\n",
       "      <th>3</th>\n",
       "      <td>Wii Sports Resort</td>\n",
       "      <td>Wii</td>\n",
       "      <td>2009.0</td>\n",
       "      <td>Sports</td>\n",
       "      <td>15.61</td>\n",
       "      <td>10.93</td>\n",
       "      <td>3.28</td>\n",
       "      <td>2.95</td>\n",
       "      <td>80.0</td>\n",
       "      <td>8</td>\n",
       "      <td>E</td>\n",
       "    </tr>\n",
       "    <tr>\n",
       "      <th>4</th>\n",
       "      <td>Pokemon Red/Pokemon Blue</td>\n",
       "      <td>GB</td>\n",
       "      <td>1996.0</td>\n",
       "      <td>Role-Playing</td>\n",
       "      <td>11.27</td>\n",
       "      <td>8.89</td>\n",
       "      <td>10.22</td>\n",
       "      <td>1.00</td>\n",
       "      <td>NaN</td>\n",
       "      <td>NaN</td>\n",
       "      <td>NaN</td>\n",
       "    </tr>\n",
       "    <tr>\n",
       "      <th>5</th>\n",
       "      <td>Tetris</td>\n",
       "      <td>GB</td>\n",
       "      <td>1989.0</td>\n",
       "      <td>Puzzle</td>\n",
       "      <td>23.20</td>\n",
       "      <td>2.26</td>\n",
       "      <td>4.22</td>\n",
       "      <td>0.58</td>\n",
       "      <td>NaN</td>\n",
       "      <td>NaN</td>\n",
       "      <td>NaN</td>\n",
       "    </tr>\n",
       "    <tr>\n",
       "      <th>6</th>\n",
       "      <td>New Super Mario Bros.</td>\n",
       "      <td>DS</td>\n",
       "      <td>2006.0</td>\n",
       "      <td>Platform</td>\n",
       "      <td>11.28</td>\n",
       "      <td>9.14</td>\n",
       "      <td>6.50</td>\n",
       "      <td>2.88</td>\n",
       "      <td>89.0</td>\n",
       "      <td>8.5</td>\n",
       "      <td>E</td>\n",
       "    </tr>\n",
       "    <tr>\n",
       "      <th>7</th>\n",
       "      <td>Wii Play</td>\n",
       "      <td>Wii</td>\n",
       "      <td>2006.0</td>\n",
       "      <td>Misc</td>\n",
       "      <td>13.96</td>\n",
       "      <td>9.18</td>\n",
       "      <td>2.93</td>\n",
       "      <td>2.84</td>\n",
       "      <td>58.0</td>\n",
       "      <td>6.6</td>\n",
       "      <td>E</td>\n",
       "    </tr>\n",
       "    <tr>\n",
       "      <th>8</th>\n",
       "      <td>New Super Mario Bros. Wii</td>\n",
       "      <td>Wii</td>\n",
       "      <td>2009.0</td>\n",
       "      <td>Platform</td>\n",
       "      <td>14.44</td>\n",
       "      <td>6.94</td>\n",
       "      <td>4.70</td>\n",
       "      <td>2.24</td>\n",
       "      <td>87.0</td>\n",
       "      <td>8.4</td>\n",
       "      <td>E</td>\n",
       "    </tr>\n",
       "    <tr>\n",
       "      <th>9</th>\n",
       "      <td>Duck Hunt</td>\n",
       "      <td>NES</td>\n",
       "      <td>1984.0</td>\n",
       "      <td>Shooter</td>\n",
       "      <td>26.93</td>\n",
       "      <td>0.63</td>\n",
       "      <td>0.28</td>\n",
       "      <td>0.47</td>\n",
       "      <td>NaN</td>\n",
       "      <td>NaN</td>\n",
       "      <td>NaN</td>\n",
       "    </tr>\n",
       "    <tr>\n",
       "      <th>10</th>\n",
       "      <td>Nintendogs</td>\n",
       "      <td>DS</td>\n",
       "      <td>2005.0</td>\n",
       "      <td>Simulation</td>\n",
       "      <td>9.05</td>\n",
       "      <td>10.95</td>\n",
       "      <td>1.93</td>\n",
       "      <td>2.74</td>\n",
       "      <td>NaN</td>\n",
       "      <td>NaN</td>\n",
       "      <td>NaN</td>\n",
       "    </tr>\n",
       "    <tr>\n",
       "      <th>11</th>\n",
       "      <td>Mario Kart DS</td>\n",
       "      <td>DS</td>\n",
       "      <td>2005.0</td>\n",
       "      <td>Racing</td>\n",
       "      <td>9.71</td>\n",
       "      <td>7.47</td>\n",
       "      <td>4.13</td>\n",
       "      <td>1.90</td>\n",
       "      <td>91.0</td>\n",
       "      <td>8.6</td>\n",
       "      <td>E</td>\n",
       "    </tr>\n",
       "    <tr>\n",
       "      <th>12</th>\n",
       "      <td>Pokemon Gold/Pokemon Silver</td>\n",
       "      <td>GB</td>\n",
       "      <td>1999.0</td>\n",
       "      <td>Role-Playing</td>\n",
       "      <td>9.00</td>\n",
       "      <td>6.18</td>\n",
       "      <td>7.20</td>\n",
       "      <td>0.71</td>\n",
       "      <td>NaN</td>\n",
       "      <td>NaN</td>\n",
       "      <td>NaN</td>\n",
       "    </tr>\n",
       "    <tr>\n",
       "      <th>13</th>\n",
       "      <td>Wii Fit</td>\n",
       "      <td>Wii</td>\n",
       "      <td>2007.0</td>\n",
       "      <td>Sports</td>\n",
       "      <td>8.92</td>\n",
       "      <td>8.03</td>\n",
       "      <td>3.60</td>\n",
       "      <td>2.15</td>\n",
       "      <td>80.0</td>\n",
       "      <td>7.7</td>\n",
       "      <td>E</td>\n",
       "    </tr>\n",
       "    <tr>\n",
       "      <th>14</th>\n",
       "      <td>Kinect Adventures!</td>\n",
       "      <td>X360</td>\n",
       "      <td>2010.0</td>\n",
       "      <td>Misc</td>\n",
       "      <td>15.00</td>\n",
       "      <td>4.89</td>\n",
       "      <td>0.24</td>\n",
       "      <td>1.69</td>\n",
       "      <td>61.0</td>\n",
       "      <td>6.3</td>\n",
       "      <td>E</td>\n",
       "    </tr>\n",
       "  </tbody>\n",
       "</table>\n",
       "</div>"
      ],
      "text/plain": [
       "                           Name Platform  Year_of_Release         Genre  \\\n",
       "0                    Wii Sports      Wii           2006.0        Sports   \n",
       "1             Super Mario Bros.      NES           1985.0      Platform   \n",
       "2                Mario Kart Wii      Wii           2008.0        Racing   \n",
       "3             Wii Sports Resort      Wii           2009.0        Sports   \n",
       "4      Pokemon Red/Pokemon Blue       GB           1996.0  Role-Playing   \n",
       "5                        Tetris       GB           1989.0        Puzzle   \n",
       "6         New Super Mario Bros.       DS           2006.0      Platform   \n",
       "7                      Wii Play      Wii           2006.0          Misc   \n",
       "8     New Super Mario Bros. Wii      Wii           2009.0      Platform   \n",
       "9                     Duck Hunt      NES           1984.0       Shooter   \n",
       "10                   Nintendogs       DS           2005.0    Simulation   \n",
       "11                Mario Kart DS       DS           2005.0        Racing   \n",
       "12  Pokemon Gold/Pokemon Silver       GB           1999.0  Role-Playing   \n",
       "13                      Wii Fit      Wii           2007.0        Sports   \n",
       "14           Kinect Adventures!     X360           2010.0          Misc   \n",
       "\n",
       "    NA_sales  EU_sales  JP_sales  Other_sales  Critic_Score User_Score Rating  \n",
       "0      41.36     28.96      3.77         8.45          76.0          8      E  \n",
       "1      29.08      3.58      6.81         0.77           NaN        NaN    NaN  \n",
       "2      15.68     12.76      3.79         3.29          82.0        8.3      E  \n",
       "3      15.61     10.93      3.28         2.95          80.0          8      E  \n",
       "4      11.27      8.89     10.22         1.00           NaN        NaN    NaN  \n",
       "5      23.20      2.26      4.22         0.58           NaN        NaN    NaN  \n",
       "6      11.28      9.14      6.50         2.88          89.0        8.5      E  \n",
       "7      13.96      9.18      2.93         2.84          58.0        6.6      E  \n",
       "8      14.44      6.94      4.70         2.24          87.0        8.4      E  \n",
       "9      26.93      0.63      0.28         0.47           NaN        NaN    NaN  \n",
       "10      9.05     10.95      1.93         2.74           NaN        NaN    NaN  \n",
       "11      9.71      7.47      4.13         1.90          91.0        8.6      E  \n",
       "12      9.00      6.18      7.20         0.71           NaN        NaN    NaN  \n",
       "13      8.92      8.03      3.60         2.15          80.0        7.7      E  \n",
       "14     15.00      4.89      0.24         1.69          61.0        6.3      E  "
      ]
     },
     "execution_count": 4,
     "metadata": {},
     "output_type": "execute_result"
    }
   ],
   "source": [
    "games_data.head(15)"
   ]
  },
  {
   "cell_type": "markdown",
   "metadata": {},
   "source": [
    "### Вывод\n",
    "Данные загрузились корректно, имеем таблицу с **16715** записями о различных играх.\n",
    "\n",
    "При первичном анализе заметы следующие проблемы:\n",
    "- Названия столбцов содержат заглавные буквы\n",
    "- Большое количество (**до 50%**) пропусков в столбцах **Critic_Score, User_Score, Rating**\n",
    "- Столбец **User_Score** имеет тип данных **object**\n",
    "- Целочисленные значения (столбцы **Year_of_release** и **Critic_score**) имеют тип данных **float64**\n",
    "\n",
    "Вероятно, присутствуют и другие проблемы, которые обнаружатся при более детальном рассмотрении таблицы."
   ]
  },
  {
   "cell_type": "markdown",
   "metadata": {},
   "source": [
    "---"
   ]
  },
  {
   "cell_type": "markdown",
   "metadata": {},
   "source": [
    "## Предобработка данных"
   ]
  },
  {
   "cell_type": "markdown",
   "metadata": {},
   "source": [
    "**Переименование столбцов**"
   ]
  },
  {
   "cell_type": "markdown",
   "metadata": {},
   "source": [
    "Еще раз посмотрим информацию о таблице"
   ]
  },
  {
   "cell_type": "code",
   "execution_count": 5,
   "metadata": {},
   "outputs": [
    {
     "name": "stdout",
     "output_type": "stream",
     "text": [
      "<class 'pandas.core.frame.DataFrame'>\n",
      "RangeIndex: 16715 entries, 0 to 16714\n",
      "Data columns (total 11 columns):\n",
      " #   Column           Non-Null Count  Dtype  \n",
      "---  ------           --------------  -----  \n",
      " 0   Name             16713 non-null  object \n",
      " 1   Platform         16715 non-null  object \n",
      " 2   Year_of_Release  16446 non-null  float64\n",
      " 3   Genre            16713 non-null  object \n",
      " 4   NA_sales         16715 non-null  float64\n",
      " 5   EU_sales         16715 non-null  float64\n",
      " 6   JP_sales         16715 non-null  float64\n",
      " 7   Other_sales      16715 non-null  float64\n",
      " 8   Critic_Score     8137 non-null   float64\n",
      " 9   User_Score       10014 non-null  object \n",
      " 10  Rating           9949 non-null   object \n",
      "dtypes: float64(6), object(5)\n",
      "memory usage: 1.4+ MB\n"
     ]
    }
   ],
   "source": [
    "games_data.info()"
   ]
  },
  {
   "cell_type": "markdown",
   "metadata": {},
   "source": [
    "Названия всех столбцов начинаются с заглавных букв. Исправим это:"
   ]
  },
  {
   "cell_type": "code",
   "execution_count": 6,
   "metadata": {},
   "outputs": [
    {
     "data": {
      "text/html": [
       "<div>\n",
       "<style scoped>\n",
       "    .dataframe tbody tr th:only-of-type {\n",
       "        vertical-align: middle;\n",
       "    }\n",
       "\n",
       "    .dataframe tbody tr th {\n",
       "        vertical-align: top;\n",
       "    }\n",
       "\n",
       "    .dataframe thead th {\n",
       "        text-align: right;\n",
       "    }\n",
       "</style>\n",
       "<table border=\"1\" class=\"dataframe\">\n",
       "  <thead>\n",
       "    <tr style=\"text-align: right;\">\n",
       "      <th></th>\n",
       "      <th>name</th>\n",
       "      <th>platform</th>\n",
       "      <th>year_of_release</th>\n",
       "      <th>genre</th>\n",
       "      <th>na_sales</th>\n",
       "      <th>eu_sales</th>\n",
       "      <th>jp_sales</th>\n",
       "      <th>other_sales</th>\n",
       "      <th>critic_score</th>\n",
       "      <th>user_score</th>\n",
       "      <th>rating</th>\n",
       "    </tr>\n",
       "  </thead>\n",
       "  <tbody>\n",
       "  </tbody>\n",
       "</table>\n",
       "</div>"
      ],
      "text/plain": [
       "Empty DataFrame\n",
       "Columns: [name, platform, year_of_release, genre, na_sales, eu_sales, jp_sales, other_sales, critic_score, user_score, rating]\n",
       "Index: []"
      ]
     },
     "execution_count": 6,
     "metadata": {},
     "output_type": "execute_result"
    }
   ],
   "source": [
    "games_data.columns = games_data.columns.str.lower()\n",
    "games_data.head(0)"
   ]
  },
  {
   "cell_type": "markdown",
   "metadata": {},
   "source": [
    "Теперь все столбцы имеют корректные названия."
   ]
  },
  {
   "cell_type": "markdown",
   "metadata": {},
   "source": [
    "**Приведение столбца _user_score_ к типу данных float**"
   ]
  },
  {
   "cell_type": "markdown",
   "metadata": {},
   "source": [
    "Должно быть, строковый тип данных столбца вызван присутвием некоторого количества строковых значений.\n",
    "\n",
    "Найдем эти значения:"
   ]
  },
  {
   "cell_type": "code",
   "execution_count": 7,
   "metadata": {},
   "outputs": [
    {
     "data": {
      "text/plain": [
       "array(['8', nan, '8.3', '8.5', '6.6', '8.4', '8.6', '7.7', '6.3', '7.4',\n",
       "       '8.2', '9', '7.9', '8.1', '8.7', '7.1', '3.4', '5.3', '4.8', '3.2',\n",
       "       '8.9', '6.4', '7.8', '7.5', '2.6', '7.2', '9.2', '7', '7.3', '4.3',\n",
       "       '7.6', '5.7', '5', '9.1', '6.5', 'tbd', '8.8', '6.9', '9.4', '6.8',\n",
       "       '6.1', '6.7', '5.4', '4', '4.9', '4.5', '9.3', '6.2', '4.2', '6',\n",
       "       '3.7', '4.1', '5.8', '5.6', '5.5', '4.4', '4.6', '5.9', '3.9',\n",
       "       '3.1', '2.9', '5.2', '3.3', '4.7', '5.1', '3.5', '2.5', '1.9', '3',\n",
       "       '2.7', '2.2', '2', '9.5', '2.1', '3.6', '2.8', '1.8', '3.8', '0',\n",
       "       '1.6', '9.6', '2.4', '1.7', '1.1', '0.3', '1.5', '0.7', '1.2',\n",
       "       '2.3', '0.5', '1.3', '0.2', '0.6', '1.4', '0.9', '1', '9.7'],\n",
       "      dtype=object)"
      ]
     },
     "execution_count": 7,
     "metadata": {},
     "output_type": "execute_result"
    }
   ],
   "source": [
    "games_data.user_score.unique()"
   ]
  },
  {
   "cell_type": "markdown",
   "metadata": {},
   "source": [
    "Проблему вызвало значение **tbd** (To be determined). Заменим это значение на невозможное, например **-1**.\\\n",
    "Такой метод позволит временно исключить строки с этим значением при анализе."
   ]
  },
  {
   "cell_type": "code",
   "execution_count": 8,
   "metadata": {},
   "outputs": [
    {
     "name": "stdout",
     "output_type": "stream",
     "text": [
      "<class 'pandas.core.frame.DataFrame'>\n",
      "RangeIndex: 16715 entries, 0 to 16714\n",
      "Data columns (total 11 columns):\n",
      " #   Column           Non-Null Count  Dtype  \n",
      "---  ------           --------------  -----  \n",
      " 0   name             16713 non-null  object \n",
      " 1   platform         16715 non-null  object \n",
      " 2   year_of_release  16446 non-null  float64\n",
      " 3   genre            16713 non-null  object \n",
      " 4   na_sales         16715 non-null  float64\n",
      " 5   eu_sales         16715 non-null  float64\n",
      " 6   jp_sales         16715 non-null  float64\n",
      " 7   other_sales      16715 non-null  float64\n",
      " 8   critic_score     8137 non-null   float64\n",
      " 9   user_score       10014 non-null  float32\n",
      " 10  rating           9949 non-null   object \n",
      "dtypes: float32(1), float64(6), object(4)\n",
      "memory usage: 1.3+ MB\n"
     ]
    }
   ],
   "source": [
    "games_data.user_score = pd.to_numeric(games_data.user_score.replace('tbd', -2), downcast='float')\n",
    "games_data.info()"
   ]
  },
  {
   "cell_type": "markdown",
   "metadata": {},
   "source": [
    "Столбец **user_score** теперь имеет тип **float32**, что свидетельствует об успешности замены."
   ]
  },
  {
   "cell_type": "markdown",
   "metadata": {},
   "source": [
    "**Заполнение пропусков**"
   ]
  },
  {
   "cell_type": "markdown",
   "metadata": {},
   "source": [
    "Видим, что самое большое количество пропусков в столбцах **critic_score, user_score, rating, year_of_release**\\\n",
    "В первых двух столбцах указана информация о рейтинге игры от критиков и пользователей соответственно.\\\n",
    "В столбце **rating** записана информация о возрастном рейтинге игры.\n",
    "В столбце **rating** указан год выпуска игры.\n",
    "Внимательнее рассмотрим первые два столбца.\n",
    "\n",
    "По сути, они содержат одну и ту же информацию (рейтинг игры), заполненную двумя группами людей (критиками и пользователями).\\\n",
    "Поэтому можно предположить, что значения в этих столбцах тесно связаны, и будет уместно заполнить пропущенные значения в одном столбце, опираясь на соответствующие значения в другом.\n",
    "\n",
    "Проверим, насколько значения этих столбцов коррелируют между собой:"
   ]
  },
  {
   "cell_type": "code",
   "execution_count": 9,
   "metadata": {},
   "outputs": [
    {
     "data": {
      "text/plain": [
       "0.5590261251846391"
      ]
     },
     "execution_count": 9,
     "metadata": {},
     "output_type": "execute_result"
    }
   ],
   "source": [
    "# данные имеют не нормальное распределение, поэтому применяем метод спирмена\n",
    "games_data.user_score.corr(games_data.critic_score, method='spearman')"
   ]
  },
  {
   "cell_type": "markdown",
   "metadata": {},
   "source": [
    "Корреляция, как и предполагалось, имеется, однако не настолько сильная, чтобы можно было заполнить пропуски в этих столбцах, не исказив данные.\n",
    "\n",
    "В связи с этим заполним пропуски в столбцах **critic_score, user_score, rating, year_of_release** на невозможное значение, например **-2**, которое в дальнейшем будет служить маркером (**-1** уже отдано под замену значения **tbd**)."
   ]
  },
  {
   "cell_type": "code",
   "execution_count": 10,
   "metadata": {},
   "outputs": [
    {
     "name": "stdout",
     "output_type": "stream",
     "text": [
      "<class 'pandas.core.frame.DataFrame'>\n",
      "RangeIndex: 16715 entries, 0 to 16714\n",
      "Data columns (total 11 columns):\n",
      " #   Column           Non-Null Count  Dtype  \n",
      "---  ------           --------------  -----  \n",
      " 0   name             16713 non-null  object \n",
      " 1   platform         16715 non-null  object \n",
      " 2   year_of_release  16715 non-null  float64\n",
      " 3   genre            16713 non-null  object \n",
      " 4   na_sales         16715 non-null  float64\n",
      " 5   eu_sales         16715 non-null  float64\n",
      " 6   jp_sales         16715 non-null  float64\n",
      " 7   other_sales      16715 non-null  float64\n",
      " 8   critic_score     16715 non-null  float64\n",
      " 9   user_score       16715 non-null  float32\n",
      " 10  rating           16715 non-null  object \n",
      "dtypes: float32(1), float64(6), object(4)\n",
      "memory usage: 1.3+ MB\n"
     ]
    }
   ],
   "source": [
    "for column in ['critic_score', 'user_score', 'rating', 'year_of_release']:\n",
    "    games_data[column] = games_data[column].fillna(-2)\n",
    "\n",
    "games_data.info()"
   ]
  },
  {
   "cell_type": "markdown",
   "metadata": {},
   "source": [
    "Видим, что осталость по два пропуска в столбцах **name** и **genre**.\n",
    "Взглянем на них:"
   ]
  },
  {
   "cell_type": "code",
   "execution_count": 11,
   "metadata": {},
   "outputs": [
    {
     "data": {
      "text/html": [
       "<div>\n",
       "<style scoped>\n",
       "    .dataframe tbody tr th:only-of-type {\n",
       "        vertical-align: middle;\n",
       "    }\n",
       "\n",
       "    .dataframe tbody tr th {\n",
       "        vertical-align: top;\n",
       "    }\n",
       "\n",
       "    .dataframe thead th {\n",
       "        text-align: right;\n",
       "    }\n",
       "</style>\n",
       "<table border=\"1\" class=\"dataframe\">\n",
       "  <thead>\n",
       "    <tr style=\"text-align: right;\">\n",
       "      <th></th>\n",
       "      <th>name</th>\n",
       "      <th>platform</th>\n",
       "      <th>year_of_release</th>\n",
       "      <th>genre</th>\n",
       "      <th>na_sales</th>\n",
       "      <th>eu_sales</th>\n",
       "      <th>jp_sales</th>\n",
       "      <th>other_sales</th>\n",
       "      <th>critic_score</th>\n",
       "      <th>user_score</th>\n",
       "      <th>rating</th>\n",
       "    </tr>\n",
       "  </thead>\n",
       "  <tbody>\n",
       "    <tr>\n",
       "      <th>659</th>\n",
       "      <td>NaN</td>\n",
       "      <td>GEN</td>\n",
       "      <td>1993.0</td>\n",
       "      <td>NaN</td>\n",
       "      <td>1.78</td>\n",
       "      <td>0.53</td>\n",
       "      <td>0.00</td>\n",
       "      <td>0.08</td>\n",
       "      <td>-2.0</td>\n",
       "      <td>-2.0</td>\n",
       "      <td>-2</td>\n",
       "    </tr>\n",
       "    <tr>\n",
       "      <th>14244</th>\n",
       "      <td>NaN</td>\n",
       "      <td>GEN</td>\n",
       "      <td>1993.0</td>\n",
       "      <td>NaN</td>\n",
       "      <td>0.00</td>\n",
       "      <td>0.00</td>\n",
       "      <td>0.03</td>\n",
       "      <td>0.00</td>\n",
       "      <td>-2.0</td>\n",
       "      <td>-2.0</td>\n",
       "      <td>-2</td>\n",
       "    </tr>\n",
       "  </tbody>\n",
       "</table>\n",
       "</div>"
      ],
      "text/plain": [
       "      name platform  year_of_release genre  na_sales  eu_sales  jp_sales  \\\n",
       "659    NaN      GEN           1993.0   NaN      1.78      0.53      0.00   \n",
       "14244  NaN      GEN           1993.0   NaN      0.00      0.00      0.03   \n",
       "\n",
       "       other_sales  critic_score  user_score rating  \n",
       "659           0.08          -2.0        -2.0     -2  \n",
       "14244         0.00          -2.0        -2.0     -2  "
      ]
     },
     "execution_count": 11,
     "metadata": {},
     "output_type": "execute_result"
    }
   ],
   "source": [
    "games_data[games_data.name.isna()]"
   ]
  },
  {
   "cell_type": "markdown",
   "metadata": {},
   "source": [
    "Записи о старых играх, причем большинство данных пропущено. Учитывая объем таблицы, эти строки не несут важной информации.\\\n",
    "Удалим их."
   ]
  },
  {
   "cell_type": "code",
   "execution_count": 12,
   "metadata": {},
   "outputs": [
    {
     "name": "stdout",
     "output_type": "stream",
     "text": [
      "<class 'pandas.core.frame.DataFrame'>\n",
      "Int64Index: 16713 entries, 0 to 16714\n",
      "Data columns (total 11 columns):\n",
      " #   Column           Non-Null Count  Dtype  \n",
      "---  ------           --------------  -----  \n",
      " 0   name             16713 non-null  object \n",
      " 1   platform         16713 non-null  object \n",
      " 2   year_of_release  16713 non-null  float64\n",
      " 3   genre            16713 non-null  object \n",
      " 4   na_sales         16713 non-null  float64\n",
      " 5   eu_sales         16713 non-null  float64\n",
      " 6   jp_sales         16713 non-null  float64\n",
      " 7   other_sales      16713 non-null  float64\n",
      " 8   critic_score     16713 non-null  float64\n",
      " 9   user_score       16713 non-null  float32\n",
      " 10  rating           16713 non-null  object \n",
      "dtypes: float32(1), float64(6), object(4)\n",
      "memory usage: 1.5+ MB\n"
     ]
    }
   ],
   "source": [
    "games_data = games_data.dropna()\n",
    "games_data.info()"
   ]
  },
  {
   "cell_type": "markdown",
   "metadata": {},
   "source": [
    "**Оптимизация типов данных столбцов**"
   ]
  },
  {
   "cell_type": "markdown",
   "metadata": {},
   "source": [
    "Для столбцов с числовыми значениями, приведем типы данных к оптимальным."
   ]
  },
  {
   "cell_type": "code",
   "execution_count": 13,
   "metadata": {},
   "outputs": [
    {
     "name": "stdout",
     "output_type": "stream",
     "text": [
      "<class 'pandas.core.frame.DataFrame'>\n",
      "Int64Index: 16713 entries, 0 to 16714\n",
      "Data columns (total 11 columns):\n",
      " #   Column           Non-Null Count  Dtype  \n",
      "---  ------           --------------  -----  \n",
      " 0   name             16713 non-null  object \n",
      " 1   platform         16713 non-null  object \n",
      " 2   year_of_release  16713 non-null  int16  \n",
      " 3   genre            16713 non-null  object \n",
      " 4   na_sales         16713 non-null  float32\n",
      " 5   eu_sales         16713 non-null  float32\n",
      " 6   jp_sales         16713 non-null  float32\n",
      " 7   other_sales      16713 non-null  float32\n",
      " 8   critic_score     16713 non-null  int8   \n",
      " 9   user_score       16713 non-null  float32\n",
      " 10  rating           16713 non-null  object \n",
      "dtypes: float32(5), int16(1), int8(1), object(4)\n",
      "memory usage: 1.0+ MB\n"
     ]
    }
   ],
   "source": [
    "# столбцы с целочисленными значениями\n",
    "for column in ['year_of_release', 'critic_score']:\n",
    "    games_data[column] = pd.to_numeric(games_data[column], downcast='integer')\n",
    "\n",
    "# столбцы с дробными значениями\n",
    "for column in ['na_sales', 'eu_sales', 'jp_sales', 'other_sales', 'user_score']:\n",
    "    games_data[column] = pd.to_numeric(games_data[column], downcast='float')\n",
    "    \n",
    "games_data.info()"
   ]
  },
  {
   "cell_type": "markdown",
   "metadata": {},
   "source": [
    "Видим, что типы данных столбцов изменились, а объем памяти, занимаемый таблицей, уменьшился на **30%**.\\\n",
    "Оптимизация проведена успешно."
   ]
  },
  {
   "cell_type": "markdown",
   "metadata": {},
   "source": [
    "### Вывод\n",
    "В результате предобработки данных были решены следующие проблемы:\n",
    "- Названия столбцов приведены к строчным\n",
    "- Заменено значение **tbd** в столбце **user_score**\n",
    "- Пропуски заполнены маркерами\n",
    "- Оптимизированы типы данных столбцов с числовыми значениями.\n",
    "\n",
    "Столбец **year_of_release** приведен к типу **int** (вместо **datetime**), т.к. в столбце указан лишь год."
   ]
  },
  {
   "cell_type": "markdown",
   "metadata": {},
   "source": [
    "---"
   ]
  },
  {
   "cell_type": "markdown",
   "metadata": {},
   "source": [
    "## Анализ данных"
   ]
  },
  {
   "cell_type": "markdown",
   "metadata": {},
   "source": [
    "#### В рамках анализа предстоит решить следующие задачи:\n",
    "- Определить количество выпускаемых игр по годам.\n",
    "- Выбрать платформы с наибольшими суммарными продажами и построить распределение по годам.\n",
    "- Определить примерный срок, за который появляются новые и исчезают старые платформы.\n",
    "- Определить актуальный перид. Критерий — данные этого периода помогут построить прогноз на 2017 год.\n",
    "- Выбрать несколько потенциально прибыльных платформ.\n",
    "- Пострить график «ящик с усами» по глобальным продажам каждой игры и разбивкой по платформам. Определить, велика ли разница в продажах в целом, и найти разницу в средних продажах на разных платформах.\n",
    "- Оценить влияние на продажи внутри одной популярной платформы отзывов пользователей и критиков. Построить диаграмму рассеяния и посчитать корреляцию между отзывами и продажами. Сформулировать выводы.\n",
    "- Верны ли эти выводы для других платформ?\n",
    "- Посмотреть на общее распределение игр по жанрам. Определить жанры с самой высокой и низкой прибылью, оценить отличие от остальных жанров."
   ]
  },
  {
   "cell_type": "markdown",
   "metadata": {},
   "source": [
    "**Суммарные продажи**"
   ]
  },
  {
   "cell_type": "markdown",
   "metadata": {},
   "source": [
    "Для анализа нам понадобится также информация о суммарных продажах каждой из игр.\\\n",
    "Добавим её в столбец **world_sales**."
   ]
  },
  {
   "cell_type": "code",
   "execution_count": 14,
   "metadata": {},
   "outputs": [
    {
     "data": {
      "text/html": [
       "<div>\n",
       "<style scoped>\n",
       "    .dataframe tbody tr th:only-of-type {\n",
       "        vertical-align: middle;\n",
       "    }\n",
       "\n",
       "    .dataframe tbody tr th {\n",
       "        vertical-align: top;\n",
       "    }\n",
       "\n",
       "    .dataframe thead th {\n",
       "        text-align: right;\n",
       "    }\n",
       "</style>\n",
       "<table border=\"1\" class=\"dataframe\">\n",
       "  <thead>\n",
       "    <tr style=\"text-align: right;\">\n",
       "      <th></th>\n",
       "      <th>name</th>\n",
       "      <th>platform</th>\n",
       "      <th>year_of_release</th>\n",
       "      <th>genre</th>\n",
       "      <th>na_sales</th>\n",
       "      <th>eu_sales</th>\n",
       "      <th>jp_sales</th>\n",
       "      <th>other_sales</th>\n",
       "      <th>critic_score</th>\n",
       "      <th>user_score</th>\n",
       "      <th>rating</th>\n",
       "      <th>world_sales</th>\n",
       "    </tr>\n",
       "  </thead>\n",
       "  <tbody>\n",
       "    <tr>\n",
       "      <th>0</th>\n",
       "      <td>Wii Sports</td>\n",
       "      <td>Wii</td>\n",
       "      <td>2006</td>\n",
       "      <td>Sports</td>\n",
       "      <td>41.360001</td>\n",
       "      <td>28.959999</td>\n",
       "      <td>3.77</td>\n",
       "      <td>8.45</td>\n",
       "      <td>76</td>\n",
       "      <td>8.0</td>\n",
       "      <td>E</td>\n",
       "      <td>82.539993</td>\n",
       "    </tr>\n",
       "    <tr>\n",
       "      <th>1</th>\n",
       "      <td>Super Mario Bros.</td>\n",
       "      <td>NES</td>\n",
       "      <td>1985</td>\n",
       "      <td>Platform</td>\n",
       "      <td>29.080000</td>\n",
       "      <td>3.580000</td>\n",
       "      <td>6.81</td>\n",
       "      <td>0.77</td>\n",
       "      <td>-2</td>\n",
       "      <td>-2.0</td>\n",
       "      <td>-2</td>\n",
       "      <td>40.240002</td>\n",
       "    </tr>\n",
       "    <tr>\n",
       "      <th>2</th>\n",
       "      <td>Mario Kart Wii</td>\n",
       "      <td>Wii</td>\n",
       "      <td>2008</td>\n",
       "      <td>Racing</td>\n",
       "      <td>15.680000</td>\n",
       "      <td>12.760000</td>\n",
       "      <td>3.79</td>\n",
       "      <td>3.29</td>\n",
       "      <td>82</td>\n",
       "      <td>8.3</td>\n",
       "      <td>E</td>\n",
       "      <td>35.520000</td>\n",
       "    </tr>\n",
       "  </tbody>\n",
       "</table>\n",
       "</div>"
      ],
      "text/plain": [
       "                name platform  year_of_release     genre   na_sales  \\\n",
       "0         Wii Sports      Wii             2006    Sports  41.360001   \n",
       "1  Super Mario Bros.      NES             1985  Platform  29.080000   \n",
       "2     Mario Kart Wii      Wii             2008    Racing  15.680000   \n",
       "\n",
       "    eu_sales  jp_sales  other_sales  critic_score  user_score rating  \\\n",
       "0  28.959999      3.77         8.45            76         8.0      E   \n",
       "1   3.580000      6.81         0.77            -2        -2.0     -2   \n",
       "2  12.760000      3.79         3.29            82         8.3      E   \n",
       "\n",
       "   world_sales  \n",
       "0    82.539993  \n",
       "1    40.240002  \n",
       "2    35.520000  "
      ]
     },
     "execution_count": 14,
     "metadata": {},
     "output_type": "execute_result"
    }
   ],
   "source": [
    "games_data['world_sales'] = games_data['na_sales'] + games_data['eu_sales'] + games_data['jp_sales'] + games_data['other_sales']\n",
    "games_data.head(3)"
   ]
  },
  {
   "cell_type": "markdown",
   "metadata": {},
   "source": [
    "**Количество выпускаемых игр по годам**\n",
    "\n",
    "Для наглядного отображения воспользуемся гистограммой:"
   ]
  },
  {
   "cell_type": "code",
   "execution_count": 15,
   "metadata": {},
   "outputs": [
    {
     "data": {
      "text/plain": [
       "<matplotlib.axes._subplots.AxesSubplot at 0x209eaef2988>"
      ]
     },
     "execution_count": 15,
     "metadata": {},
     "output_type": "execute_result"
    },
    {
     "data": {
      "image/png": "[encoded data removed]",
      "text/plain": [
       "<Figure size 720x360 with 1 Axes>"
      ]
     },
     "metadata": {},
     "output_type": "display_data"
    }
   ],
   "source": [
    "plt.style.use('seaborn-whitegrid')\n",
    "games_data[games_data.year_of_release > 0].year_of_release.plot.hist(\n",
    "bins=len(games_data[games_data.year_of_release > 0].year_of_release.unique()),\n",
    "grid=True,\n",
    "rwidth=0.8,\n",
    "figsize=(10,5),\n",
    "color='b'\n",
    ")"
   ]
  },
  {
   "cell_type": "markdown",
   "metadata": {},
   "source": [
    "Таблица содержит записи об играх начиная с **1980** года.\\\n",
    "До **1990** года не велось активной разработки игр, поэтому их количество не превышало **50** штук в год.\\\n",
    "Видим, что начиная с **1990** года, начался активный рост, а пик пришелся на **2008 - 2009** года, с более чем **1400** выпускаемыми играми в год.\\\n",
    "После этого периода начался спад, который продлился до **2012** года. С этого момента, в год выпускается около **500-600** игр.\n",
    "\n",
    "Исходя из гистограммы, можно сделать вывод, что **актуальным** является **период с 2013 года**.\n",
    "\n",
    "Создадим таблицу `new_games_data`, в которую занесем данные по играм, выпущенным с **2013** года:"
   ]
  },
  {
   "cell_type": "code",
   "execution_count": 16,
   "metadata": {},
   "outputs": [
    {
     "data": {
      "text/plain": [
       "2233"
      ]
     },
     "execution_count": 16,
     "metadata": {},
     "output_type": "execute_result"
    }
   ],
   "source": [
    "new_games_data = games_data[games_data.year_of_release >= 2013]\n",
    "len(new_games_data)"
   ]
  },
  {
   "cell_type": "markdown",
   "metadata": {},
   "source": [
    "В новой таблице 2233 записи. Достаточно для проведения анализа."
   ]
  },
  {
   "cell_type": "markdown",
   "metadata": {},
   "source": [
    "**Распределение продаж по платформам в зависимости от года**"
   ]
  },
  {
   "cell_type": "markdown",
   "metadata": {},
   "source": [
    "Определим топ-10 платформ с наибольшими суммарными продажами:"
   ]
  },
  {
   "cell_type": "code",
   "execution_count": 17,
   "metadata": {
    "scrolled": false
   },
   "outputs": [
    {
     "data": {
      "text/plain": [
       "['PS2', 'X360', 'PS3', 'Wii', 'DS', 'PS', 'GBA', 'PS4', 'PSP', 'PC']"
      ]
     },
     "execution_count": 17,
     "metadata": {},
     "output_type": "execute_result"
    }
   ],
   "source": [
    "top_10_platforms_by_sales = (games_data\n",
    ".pivot_table(index='platform', values='world_sales', aggfunc='sum')\n",
    ".sort_values('world_sales', ascending=False)\n",
    ").head(10).index.tolist()\n",
    "top_10_platforms_by_sales"
   ]
  },
  {
   "cell_type": "markdown",
   "metadata": {},
   "source": [
    "Для построения распределения используем \"ящик с усами\""
   ]
  },
  {
   "cell_type": "code",
   "execution_count": 18,
   "metadata": {},
   "outputs": [
    {
     "data": {
      "text/plain": [
       "<matplotlib.axes._subplots.AxesSubplot at 0x209e66fd348>"
      ]
     },
     "execution_count": 18,
     "metadata": {},
     "output_type": "execute_result"
    },
    {
     "data": {
      "image/png": "[encoded data removed]",
      "text/plain": [
       "<Figure size 1440x1080 with 1 Axes>"
      ]
     },
     "metadata": {},
     "output_type": "display_data"
    }
   ],
   "source": [
    "sns.set_style(\"whitegrid\")\n",
    "plt.figure(figsize=(20,15))\n",
    "sns.boxplot(\n",
    "data=games_data[(games_data.platform.isin(top_10_platforms_by_sales)) & (games_data.year_of_release > 0)],\n",
    "x=\"platform\",\n",
    "y=\"year_of_release\",\n",
    ")"
   ]
  },
  {
   "cell_type": "markdown",
   "metadata": {},
   "source": [
    "Исходя из графика можно сделать следующие выводы:\n",
    "- Примерный **срок жизни** платформы - **8 лет**.\n",
    "- При этом **2-3 года** платформа набирает популярность\n",
    "- **Пик** популярности длится порядка **3-х лет**, затем начинается спад.\n",
    "- **Исключением** являются **персональные компьютеры** (**PC**). Благодаря возможности обновления комплектующих, в отличие от остальных игровых платформ, **не теряют свою актуальность**."
   ]
  },
  {
   "cell_type": "markdown",
   "metadata": {},
   "source": [
    "**Определение перспективных платформ**"
   ]
  },
  {
   "cell_type": "markdown",
   "metadata": {},
   "source": [
    "По данным таблицы `new_games_data` определим платформы с максимальными суммарными продажами."
   ]
  },
  {
   "cell_type": "code",
   "execution_count": 19,
   "metadata": {},
   "outputs": [
    {
     "data": {
      "text/html": [
       "<div>\n",
       "<style scoped>\n",
       "    .dataframe tbody tr th:only-of-type {\n",
       "        vertical-align: middle;\n",
       "    }\n",
       "\n",
       "    .dataframe tbody tr th {\n",
       "        vertical-align: top;\n",
       "    }\n",
       "\n",
       "    .dataframe thead th {\n",
       "        text-align: right;\n",
       "    }\n",
       "</style>\n",
       "<table border=\"1\" class=\"dataframe\">\n",
       "  <thead>\n",
       "    <tr style=\"text-align: right;\">\n",
       "      <th></th>\n",
       "      <th>2013</th>\n",
       "      <th>2014</th>\n",
       "      <th>2015</th>\n",
       "      <th>2016</th>\n",
       "    </tr>\n",
       "    <tr>\n",
       "      <th>platform</th>\n",
       "      <th></th>\n",
       "      <th></th>\n",
       "      <th></th>\n",
       "      <th></th>\n",
       "    </tr>\n",
       "  </thead>\n",
       "  <tbody>\n",
       "    <tr>\n",
       "      <th>PS4</th>\n",
       "      <td>25.990000</td>\n",
       "      <td>100.000000</td>\n",
       "      <td>118.900002</td>\n",
       "      <td>69.25</td>\n",
       "    </tr>\n",
       "    <tr>\n",
       "      <th>XOne</th>\n",
       "      <td>18.960001</td>\n",
       "      <td>54.070000</td>\n",
       "      <td>60.139999</td>\n",
       "      <td>26.15</td>\n",
       "    </tr>\n",
       "    <tr>\n",
       "      <th>3DS</th>\n",
       "      <td>56.570000</td>\n",
       "      <td>43.759998</td>\n",
       "      <td>27.780001</td>\n",
       "      <td>15.14</td>\n",
       "    </tr>\n",
       "    <tr>\n",
       "      <th>PC</th>\n",
       "      <td>12.380000</td>\n",
       "      <td>13.280001</td>\n",
       "      <td>8.520000</td>\n",
       "      <td>5.25</td>\n",
       "    </tr>\n",
       "    <tr>\n",
       "      <th>WiiU</th>\n",
       "      <td>21.650000</td>\n",
       "      <td>22.030001</td>\n",
       "      <td>16.350000</td>\n",
       "      <td>4.60</td>\n",
       "    </tr>\n",
       "    <tr>\n",
       "      <th>PSV</th>\n",
       "      <td>10.590000</td>\n",
       "      <td>11.900000</td>\n",
       "      <td>6.250000</td>\n",
       "      <td>4.25</td>\n",
       "    </tr>\n",
       "    <tr>\n",
       "      <th>PS3</th>\n",
       "      <td>113.250000</td>\n",
       "      <td>47.759998</td>\n",
       "      <td>16.820000</td>\n",
       "      <td>3.60</td>\n",
       "    </tr>\n",
       "    <tr>\n",
       "      <th>X360</th>\n",
       "      <td>88.580002</td>\n",
       "      <td>34.740002</td>\n",
       "      <td>11.960000</td>\n",
       "      <td>1.52</td>\n",
       "    </tr>\n",
       "    <tr>\n",
       "      <th>Wii</th>\n",
       "      <td>8.590000</td>\n",
       "      <td>3.750000</td>\n",
       "      <td>1.140000</td>\n",
       "      <td>0.18</td>\n",
       "    </tr>\n",
       "    <tr>\n",
       "      <th>DS</th>\n",
       "      <td>1.540000</td>\n",
       "      <td>NaN</td>\n",
       "      <td>NaN</td>\n",
       "      <td>NaN</td>\n",
       "    </tr>\n",
       "    <tr>\n",
       "      <th>PSP</th>\n",
       "      <td>3.140000</td>\n",
       "      <td>0.240000</td>\n",
       "      <td>0.120000</td>\n",
       "      <td>NaN</td>\n",
       "    </tr>\n",
       "  </tbody>\n",
       "</table>\n",
       "</div>"
      ],
      "text/plain": [
       "                2013        2014        2015   2016\n",
       "platform                                           \n",
       "PS4        25.990000  100.000000  118.900002  69.25\n",
       "XOne       18.960001   54.070000   60.139999  26.15\n",
       "3DS        56.570000   43.759998   27.780001  15.14\n",
       "PC         12.380000   13.280001    8.520000   5.25\n",
       "WiiU       21.650000   22.030001   16.350000   4.60\n",
       "PSV        10.590000   11.900000    6.250000   4.25\n",
       "PS3       113.250000   47.759998   16.820000   3.60\n",
       "X360       88.580002   34.740002   11.960000   1.52\n",
       "Wii         8.590000    3.750000    1.140000   0.18\n",
       "DS          1.540000         NaN         NaN    NaN\n",
       "PSP         3.140000    0.240000    0.120000    NaN"
      ]
     },
     "execution_count": 19,
     "metadata": {},
     "output_type": "execute_result"
    }
   ],
   "source": [
    "platform_sales_by_year = (new_games_data\n",
    ".pivot_table(index='platform', columns='year_of_release', values='world_sales', aggfunc='sum')\n",
    ")\n",
    "platform_sales_by_year.columns = ['2013', '2014', '2015', '2016']\n",
    "platform_sales_by_year.sort_values('2016', ascending=False)"
   ]
  },
  {
   "cell_type": "code",
   "execution_count": 20,
   "metadata": {},
   "outputs": [
    {
     "data": {
      "text/plain": [
       "<matplotlib.axes._subplots.AxesSubplot at 0x209eb788d88>"
      ]
     },
     "execution_count": 20,
     "metadata": {},
     "output_type": "execute_result"
    },
    {
     "data": {
      "image/png": "[encoded data removed]",
      "text/plain": [
       "<Figure size 1440x1440 with 1 Axes>"
      ]
     },
     "metadata": {},
     "output_type": "display_data"
    }
   ],
   "source": [
    "plt.figure(figsize=(20,20))\n",
    "sns.lineplot(\n",
    "data=new_games_data,\n",
    "x='year_of_release',\n",
    "y='world_sales',\n",
    "hue='platform',\n",
    "estimator='sum',\n",
    "ci=20\n",
    ")"
   ]
  },
  {
   "cell_type": "markdown",
   "metadata": {},
   "source": [
    "Многие платформы имеют сильный спад после **2015** года из-за того, что данные за **2016** год неполные.\n",
    "\n",
    "На основе полученных данных можно сделать вывод, что самыми перспективными платформами на 2016 год являются **PS4** и **XOne**, т.к. только у них отмечается высокий рост продаж.\\\n",
    "Также можно отметить платформы **3DS** и **PC**.\\\n",
    "**3DS**, несмотря на тенденцию к снижению объема продаж, все еще занимают значительную долю рынка, а **PC**, как было отмечено ранее, самая стабильная платформа, не теряющая свою долю на рынке с течением времени.\n",
    "\n",
    "Запишем перспективные платформы в переменную **top_platforms**"
   ]
  },
  {
   "cell_type": "code",
   "execution_count": 21,
   "metadata": {},
   "outputs": [
    {
     "data": {
      "text/plain": [
       "['PS4', 'XOne', '3DS', 'PC']"
      ]
     },
     "execution_count": 21,
     "metadata": {},
     "output_type": "execute_result"
    }
   ],
   "source": [
    "top_platforms = platform_sales_by_year.sort_values('2016', ascending=False).head(4).index.tolist()\n",
    "top_platforms"
   ]
  },
  {
   "cell_type": "markdown",
   "metadata": {},
   "source": [
    "Избегать же стоит таких платформ как **PS3, X360, Wii, DS, PSP**. Их жизненный цикл подходит к концу, а продажи игр падают с каждым годом."
   ]
  },
  {
   "cell_type": "markdown",
   "metadata": {},
   "source": [
    "**Глобальные продажи в зависимости от платформы**"
   ]
  },
  {
   "cell_type": "markdown",
   "metadata": {},
   "source": [
    "Построим график \"ящик с усами\" по глобальным продажам каждой игры и разбивкой по платформам. (Для актуальных платформ)"
   ]
  },
  {
   "cell_type": "code",
   "execution_count": 22,
   "metadata": {},
   "outputs": [
    {
     "data": {
      "text/plain": [
       "(0, 2)"
      ]
     },
     "execution_count": 22,
     "metadata": {},
     "output_type": "execute_result"
    },
    {
     "data": {
      "image/png": "[encoded data removed]",
      "text/plain": [
       "<Figure size 1440x1440 with 1 Axes>"
      ]
     },
     "metadata": {},
     "output_type": "display_data"
    }
   ],
   "source": [
    "plt.figure(figsize=(20,20))\n",
    "sns.boxplot(\n",
    "data=new_games_data[new_games_data.platform.isin(top_platforms)],\n",
    "x='platform',\n",
    "y='world_sales',\n",
    ")\n",
    "plt.ylim(0,2)"
   ]
  },
  {
   "cell_type": "markdown",
   "metadata": {},
   "source": [
    "Видно, что **PS4** имеет как самые высокие продажи в целом, так и большее количество игр с рекордно высокими продажами.\n",
    "Следом идет **XOne**, который, судя по графику, имеет медианное значение даже выше, чем у **PS4**.\n",
    "\n",
    "Посмотрим на медианы и средние значения продаж по платформам:"
   ]
  },
  {
   "cell_type": "code",
   "execution_count": 23,
   "metadata": {},
   "outputs": [
    {
     "data": {
      "text/html": [
       "<div>\n",
       "<style scoped>\n",
       "    .dataframe tbody tr th:only-of-type {\n",
       "        vertical-align: middle;\n",
       "    }\n",
       "\n",
       "    .dataframe tbody tr th {\n",
       "        vertical-align: top;\n",
       "    }\n",
       "\n",
       "    .dataframe thead tr th {\n",
       "        text-align: left;\n",
       "    }\n",
       "\n",
       "    .dataframe thead tr:last-of-type th {\n",
       "        text-align: right;\n",
       "    }\n",
       "</style>\n",
       "<table border=\"1\" class=\"dataframe\">\n",
       "  <thead>\n",
       "    <tr>\n",
       "      <th></th>\n",
       "      <th>median</th>\n",
       "      <th>mean</th>\n",
       "    </tr>\n",
       "    <tr>\n",
       "      <th></th>\n",
       "      <th>world_sales</th>\n",
       "      <th>world_sales</th>\n",
       "    </tr>\n",
       "    <tr>\n",
       "      <th>platform</th>\n",
       "      <th></th>\n",
       "      <th></th>\n",
       "    </tr>\n",
       "  </thead>\n",
       "  <tbody>\n",
       "    <tr>\n",
       "      <th>3DS</th>\n",
       "      <td>0.09</td>\n",
       "      <td>0.472772</td>\n",
       "    </tr>\n",
       "    <tr>\n",
       "      <th>PC</th>\n",
       "      <td>0.08</td>\n",
       "      <td>0.208624</td>\n",
       "    </tr>\n",
       "    <tr>\n",
       "      <th>PS4</th>\n",
       "      <td>0.20</td>\n",
       "      <td>0.801378</td>\n",
       "    </tr>\n",
       "    <tr>\n",
       "      <th>XOne</th>\n",
       "      <td>0.22</td>\n",
       "      <td>0.645020</td>\n",
       "    </tr>\n",
       "  </tbody>\n",
       "</table>\n",
       "</div>"
      ],
      "text/plain": [
       "              median        mean\n",
       "         world_sales world_sales\n",
       "platform                        \n",
       "3DS             0.09    0.472772\n",
       "PC              0.08    0.208624\n",
       "PS4             0.20    0.801378\n",
       "XOne            0.22    0.645020"
      ]
     },
     "execution_count": 23,
     "metadata": {},
     "output_type": "execute_result"
    }
   ],
   "source": [
    "(new_games_data[new_games_data.platform.isin(top_platforms)]\n",
    ".pivot_table(index='platform', values='world_sales', aggfunc=['median', 'mean'])\n",
    ")"
   ]
  },
  {
   "cell_type": "markdown",
   "metadata": {},
   "source": [
    "Действительно, **XOne** имеет медианное значение **0.22** против **0.20** у **PS4**. Это говорит о том, что на **PS4** выходит больше игр, имеющих рекодно большие продажи, однако рядовые игры продаются лучше на **XOne**.\n",
    "\n",
    "**3DS** также имеет довольно высокий показатель средних продаж (**0.47**) при низком (**0.09**) медианном значении, что говорит о наличии игр с рекордно высокими показателями продаж."
   ]
  },
  {
   "cell_type": "markdown",
   "metadata": {},
   "source": [
    "**Оценка влияния отзывов пользователей и критиков на продажи игр**"
   ]
  },
  {
   "cell_type": "markdown",
   "metadata": {},
   "source": [
    "Для определения связи отзывов с продажами игр, воспользуемся диаграммой рассеяния.\n",
    "Построим диаграмму для платформы, лидирующей по объему продаж - **PS4**"
   ]
  },
  {
   "cell_type": "code",
   "execution_count": 24,
   "metadata": {},
   "outputs": [
    {
     "data": {
      "text/plain": [
       "<matplotlib.axes._subplots.AxesSubplot at 0x209eb308e08>"
      ]
     },
     "execution_count": 24,
     "metadata": {},
     "output_type": "execute_result"
    },
    {
     "data": {
      "image/png": "[encoded data removed]",
      "text/plain": [
       "<Figure size 864x576 with 1 Axes>"
      ]
     },
     "metadata": {},
     "output_type": "display_data"
    }
   ],
   "source": [
    "plt.figure(figsize=(12,8))\n",
    "sns.scatterplot(\n",
    "data=new_games_data[(new_games_data.platform == 'PS4') & (new_games_data['user_score'] > 0)],\n",
    "x='user_score',\n",
    "y='critic_score',\n",
    "hue='world_sales',\n",
    "size='world_sales',\n",
    "estimator='sum'\n",
    ")"
   ]
  },
  {
   "cell_type": "markdown",
   "metadata": {},
   "source": [
    "Из диаграммы рассеяния видно, что на успешность игры влияют прежде всего оценки критиков, нежели пользователей.\n",
    "\n",
    "Посчитаем корреляцию между отзывами и продажами, чтобы убедиться в этом:"
   ]
  },
  {
   "cell_type": "code",
   "execution_count": 25,
   "metadata": {},
   "outputs": [
    {
     "name": "stdout",
     "output_type": "stream",
     "text": [
      "user_score - sales corr: -0.02786132867912609\n",
      "critic_score - sales corr: 0.5076670188879598\n"
     ]
    }
   ],
   "source": [
    "print('user_score - sales corr:',\n",
    "new_games_data[(new_games_data.platform == 'PS4') & (new_games_data['user_score'] > 0)]\n",
    ".user_score.corr(new_games_data.world_sales, method='spearman')\n",
    ")\n",
    "\n",
    "print('critic_score - sales corr:',\n",
    "new_games_data[(new_games_data.platform == 'PS4') & (new_games_data['critic_score'] > 0)]\n",
    ".critic_score.corr(new_games_data.world_sales, method='spearman')\n",
    ")"
   ]
  },
  {
   "cell_type": "markdown",
   "metadata": {},
   "source": [
    "Выходит, есть средняя корреляция между продажами и оценками критиков, однако нет корреляции (по крайней мере линейной) с оценками пользователей.\n",
    "\n",
    "Скорее всего, такой результат вызван наличием нескольких игр с большим объемом продаж, но имеющих низкие оценки от пользователей.\\\n",
    "Коэффициенты корреляции чувствительны к таким выбивающимся значениям.\n",
    "\n",
    "Проверим, верно ли это для второй по объему продаж платформе - **XOne**."
   ]
  },
  {
   "cell_type": "code",
   "execution_count": 26,
   "metadata": {},
   "outputs": [
    {
     "name": "stdout",
     "output_type": "stream",
     "text": [
      "user_score - sales corr: -0.09987922387628013\n",
      "critic_score - sales corr: 0.5309613295270312\n"
     ]
    }
   ],
   "source": [
    "print('user_score - sales corr:',\n",
    "new_games_data[(new_games_data.platform == 'XOne') & (new_games_data['user_score'] > 0)]\n",
    ".user_score.corr(new_games_data.world_sales, method='spearman')\n",
    ")\n",
    "\n",
    "print('critic_score - sales corr:',\n",
    "new_games_data[(new_games_data.platform == 'XOne') & (new_games_data['critic_score'] > 0)]\n",
    ".critic_score.corr(new_games_data.world_sales, method='spearman')\n",
    ")"
   ]
  },
  {
   "cell_type": "markdown",
   "metadata": {},
   "source": [
    "Да. Выводы, сделанные на основе данных платформы **PS4**, также верны и для **XOne**."
   ]
  },
  {
   "cell_type": "markdown",
   "metadata": {},
   "source": [
    "**Распределение игр по жанрам**"
   ]
  },
  {
   "cell_type": "markdown",
   "metadata": {},
   "source": [
    "Взглянем на зависимость продаж от жанра игры:"
   ]
  },
  {
   "cell_type": "code",
   "execution_count": 31,
   "metadata": {},
   "outputs": [
    {
     "data": {
      "text/plain": [
       "(0, 2)"
      ]
     },
     "execution_count": 31,
     "metadata": {},
     "output_type": "execute_result"
    },
    {
     "data": {
      "image/png": "[encoded data removed]",
      "text/plain": [
       "<Figure size 1440x1080 with 1 Axes>"
      ]
     },
     "metadata": {},
     "output_type": "display_data"
    }
   ],
   "source": [
    "plt.figure(figsize=(20,15))\n",
    "sns.boxplot(\n",
    "data=new_games_data,\n",
    "x=\"genre\",\n",
    "y=\"world_sales\",\n",
    ")\n",
    "plt.ylim(0,2)"
   ]
  },
  {
   "cell_type": "markdown",
   "metadata": {},
   "source": [
    "Судя по всему, самыми прибыльными жанрами являются **Shooter, Sports** и **Platform**.\n",
    "\n",
    "Узнаем, как сильно средние продажи в этих жанрах отличаются от таковых в других жанрах:"
   ]
  },
  {
   "cell_type": "code",
   "execution_count": 32,
   "metadata": {},
   "outputs": [
    {
     "data": {
      "text/html": [
       "<div>\n",
       "<style scoped>\n",
       "    .dataframe tbody tr th:only-of-type {\n",
       "        vertical-align: middle;\n",
       "    }\n",
       "\n",
       "    .dataframe tbody tr th {\n",
       "        vertical-align: top;\n",
       "    }\n",
       "\n",
       "    .dataframe thead th {\n",
       "        text-align: right;\n",
       "    }\n",
       "</style>\n",
       "<table border=\"1\" class=\"dataframe\">\n",
       "  <thead>\n",
       "    <tr style=\"text-align: right;\">\n",
       "      <th></th>\n",
       "      <th>world_sales</th>\n",
       "    </tr>\n",
       "    <tr>\n",
       "      <th>genre</th>\n",
       "      <th></th>\n",
       "    </tr>\n",
       "  </thead>\n",
       "  <tbody>\n",
       "    <tr>\n",
       "      <th>Shooter</th>\n",
       "      <td>1.245882</td>\n",
       "    </tr>\n",
       "    <tr>\n",
       "      <th>Sports</th>\n",
       "      <td>0.703972</td>\n",
       "    </tr>\n",
       "    <tr>\n",
       "      <th>Platform</th>\n",
       "      <td>0.576081</td>\n",
       "    </tr>\n",
       "    <tr>\n",
       "      <th>Role-Playing</th>\n",
       "      <td>0.499623</td>\n",
       "    </tr>\n",
       "    <tr>\n",
       "      <th>Racing</th>\n",
       "      <td>0.469294</td>\n",
       "    </tr>\n",
       "    <tr>\n",
       "      <th>Fighting</th>\n",
       "      <td>0.441375</td>\n",
       "    </tr>\n",
       "    <tr>\n",
       "      <th>Action</th>\n",
       "      <td>0.420196</td>\n",
       "    </tr>\n",
       "    <tr>\n",
       "      <th>Misc</th>\n",
       "      <td>0.405290</td>\n",
       "    </tr>\n",
       "    <tr>\n",
       "      <th>Simulation</th>\n",
       "      <td>0.350968</td>\n",
       "    </tr>\n",
       "    <tr>\n",
       "      <th>Puzzle</th>\n",
       "      <td>0.186471</td>\n",
       "    </tr>\n",
       "    <tr>\n",
       "      <th>Strategy</th>\n",
       "      <td>0.180000</td>\n",
       "    </tr>\n",
       "    <tr>\n",
       "      <th>Adventure</th>\n",
       "      <td>0.096490</td>\n",
       "    </tr>\n",
       "  </tbody>\n",
       "</table>\n",
       "</div>"
      ],
      "text/plain": [
       "              world_sales\n",
       "genre                    \n",
       "Shooter          1.245882\n",
       "Sports           0.703972\n",
       "Platform         0.576081\n",
       "Role-Playing     0.499623\n",
       "Racing           0.469294\n",
       "Fighting         0.441375\n",
       "Action           0.420196\n",
       "Misc             0.405290\n",
       "Simulation       0.350968\n",
       "Puzzle           0.186471\n",
       "Strategy         0.180000\n",
       "Adventure        0.096490"
      ]
     },
     "execution_count": 32,
     "metadata": {},
     "output_type": "execute_result"
    }
   ],
   "source": [
    "new_games_data.pivot_table(index='genre', values='world_sales', aggfunc='mean').sort_values('world_sales', ascending=False)"
   ]
  },
  {
   "cell_type": "markdown",
   "metadata": {},
   "source": [
    "**Shooter** серьезно опережает все жанры, имея показатель средних продаж по всему миру - **1,25** млн.\\\n",
    "Следом идут **Sports** и **Platform** с показателями **0.7** и **0.58** млн. соответственно.\\\n",
    "Средний уровень продаж в остальных жанрах, как правило, держится на уровне **0.4 - 0.47** млн.\\\n",
    "Самые низкими показателями продаж у жанров **Puzzle, Strategy** и **Adventure**. Среднее значение последнего держится на отметке **0.1** млн."
   ]
  },
  {
   "cell_type": "markdown",
   "metadata": {},
   "source": [
    "### Вывод\n",
    "В ходе анализа данных были выявлены следующие закономерности:\n",
    "- Актуальными являются данные, начиная с **2013** года\n",
    "- Средний срок жизни платформы - **8** лет. Исключенияем являются персональные компьютеры, остающиеся актуальными благодаря возможности замены комплектующих.\n",
    "- Самыми перспективными платформами являются **PS4** и **XOne**. Также можно обратить внимание на **3DS** и **PC**.\n",
    "- На продажи игры достаточно сильное влияние оказывают оценки критиков, причем это верно как для **PS4**, так и для **XOne**.\n",
    "- Жанр с самыми высокими показателями продаж - **Shooter**. Также можно стоит обратить внимание на **Sports** и **Platform**."
   ]
  },
  {
   "cell_type": "markdown",
   "metadata": {},
   "source": [
    "---"
   ]
  },
  {
   "cell_type": "markdown",
   "metadata": {},
   "source": [
    "## Портрет пользователей разных регионов"
   ]
  },
  {
   "cell_type": "markdown",
   "metadata": {},
   "source": [
    "**Платформы**"
   ]
  },
  {
   "cell_type": "markdown",
   "metadata": {},
   "source": [
    "Для определения портрета пользователей из каждого региона, воспользуемся сводной таблицей:"
   ]
  },
  {
   "cell_type": "code",
   "execution_count": 33,
   "metadata": {},
   "outputs": [
    {
     "data": {
      "text/html": [
       "<div>\n",
       "<style scoped>\n",
       "    .dataframe tbody tr th:only-of-type {\n",
       "        vertical-align: middle;\n",
       "    }\n",
       "\n",
       "    .dataframe tbody tr th {\n",
       "        vertical-align: top;\n",
       "    }\n",
       "\n",
       "    .dataframe thead th {\n",
       "        text-align: right;\n",
       "    }\n",
       "</style>\n",
       "<table border=\"1\" class=\"dataframe\">\n",
       "  <thead>\n",
       "    <tr style=\"text-align: right;\">\n",
       "      <th></th>\n",
       "      <th>eu_sales</th>\n",
       "      <th>jp_sales</th>\n",
       "      <th>na_sales</th>\n",
       "    </tr>\n",
       "    <tr>\n",
       "      <th>platform</th>\n",
       "      <th></th>\n",
       "      <th></th>\n",
       "      <th></th>\n",
       "    </tr>\n",
       "  </thead>\n",
       "  <tbody>\n",
       "    <tr>\n",
       "      <th>3DS</th>\n",
       "      <td>30.959999</td>\n",
       "      <td>67.809998</td>\n",
       "      <td>38.200001</td>\n",
       "    </tr>\n",
       "    <tr>\n",
       "      <th>DS</th>\n",
       "      <td>0.850000</td>\n",
       "      <td>0.000000</td>\n",
       "      <td>0.570000</td>\n",
       "    </tr>\n",
       "    <tr>\n",
       "      <th>PC</th>\n",
       "      <td>25.360001</td>\n",
       "      <td>0.000000</td>\n",
       "      <td>11.110000</td>\n",
       "    </tr>\n",
       "    <tr>\n",
       "      <th>PS3</th>\n",
       "      <td>67.809998</td>\n",
       "      <td>23.350000</td>\n",
       "      <td>63.500000</td>\n",
       "    </tr>\n",
       "    <tr>\n",
       "      <th>PS4</th>\n",
       "      <td>141.089996</td>\n",
       "      <td>15.960000</td>\n",
       "      <td>108.739998</td>\n",
       "    </tr>\n",
       "    <tr>\n",
       "      <th>PSP</th>\n",
       "      <td>0.170000</td>\n",
       "      <td>3.290000</td>\n",
       "      <td>0.000000</td>\n",
       "    </tr>\n",
       "    <tr>\n",
       "      <th>PSV</th>\n",
       "      <td>6.100000</td>\n",
       "      <td>18.590000</td>\n",
       "      <td>5.040000</td>\n",
       "    </tr>\n",
       "    <tr>\n",
       "      <th>Wii</th>\n",
       "      <td>5.930000</td>\n",
       "      <td>0.050000</td>\n",
       "      <td>6.560000</td>\n",
       "    </tr>\n",
       "    <tr>\n",
       "      <th>WiiU</th>\n",
       "      <td>19.850000</td>\n",
       "      <td>10.880000</td>\n",
       "      <td>29.209999</td>\n",
       "    </tr>\n",
       "    <tr>\n",
       "      <th>X360</th>\n",
       "      <td>42.520000</td>\n",
       "      <td>0.510000</td>\n",
       "      <td>81.659996</td>\n",
       "    </tr>\n",
       "    <tr>\n",
       "      <th>XOne</th>\n",
       "      <td>51.590000</td>\n",
       "      <td>0.340000</td>\n",
       "      <td>93.120003</td>\n",
       "    </tr>\n",
       "  </tbody>\n",
       "</table>\n",
       "</div>"
      ],
      "text/plain": [
       "            eu_sales   jp_sales    na_sales\n",
       "platform                                   \n",
       "3DS        30.959999  67.809998   38.200001\n",
       "DS          0.850000   0.000000    0.570000\n",
       "PC         25.360001   0.000000   11.110000\n",
       "PS3        67.809998  23.350000   63.500000\n",
       "PS4       141.089996  15.960000  108.739998\n",
       "PSP         0.170000   3.290000    0.000000\n",
       "PSV         6.100000  18.590000    5.040000\n",
       "Wii         5.930000   0.050000    6.560000\n",
       "WiiU       19.850000  10.880000   29.209999\n",
       "X360       42.520000   0.510000   81.659996\n",
       "XOne       51.590000   0.340000   93.120003"
      ]
     },
     "execution_count": 33,
     "metadata": {},
     "output_type": "execute_result"
    }
   ],
   "source": [
    "# суммарные продажи по платформам для каждого региона\n",
    "sales_in_regions_by_platform = (\n",
    "new_games_data.pivot_table(index='platform', values=['na_sales', 'eu_sales', 'jp_sales'], aggfunc='sum')\n",
    ")\n",
    "sales_in_regions_by_platform"
   ]
  },
  {
   "cell_type": "markdown",
   "metadata": {},
   "source": [
    "Выведем самые популярные платформы для каждого региона"
   ]
  },
  {
   "cell_type": "code",
   "execution_count": 34,
   "metadata": {},
   "outputs": [
    {
     "name": "stdout",
     "output_type": "stream",
     "text": [
      "top eu platforms ['PS4', 'PS3', 'XOne', 'X360', '3DS']\n",
      "top jp platforms ['3DS', 'PS3', 'PSV', 'PS4', 'WiiU']\n",
      "top na platforms ['PS4', 'XOne', 'X360', 'PS3', '3DS']\n"
     ]
    }
   ],
   "source": [
    "for reg_sales in ['eu_sales','jp_sales', 'na_sales']:\n",
    "    print('top',\n",
    "    reg_sales.replace('_sales',' platforms'),\n",
    "    sales_in_regions_by_platform.sort_values(reg_sales, ascending=False)[reg_sales].head(5).index.tolist()\n",
    "    )"
   ]
  },
  {
   "cell_type": "markdown",
   "metadata": {},
   "source": [
    "Популярные платформы **Европы** и **Северной Америки** очень похожи между собой: в обоих регионах в топ входят одни и те же платформы, а самой популярной платформой является **PS4**.\n",
    "\n",
    "**Япония** разительно отличается как и общим списком лидирующих платформ, так и **лидером** - первое место занимает **3DS** (В других регионах эта платформа занимает лишь **5** место). А **PS4**, напротив, является **4** по популярности в этом регионе."
   ]
  },
  {
   "cell_type": "markdown",
   "metadata": {},
   "source": [
    "**Жанры**"
   ]
  },
  {
   "cell_type": "code",
   "execution_count": 35,
   "metadata": {},
   "outputs": [
    {
     "data": {
      "text/html": [
       "<div>\n",
       "<style scoped>\n",
       "    .dataframe tbody tr th:only-of-type {\n",
       "        vertical-align: middle;\n",
       "    }\n",
       "\n",
       "    .dataframe tbody tr th {\n",
       "        vertical-align: top;\n",
       "    }\n",
       "\n",
       "    .dataframe thead th {\n",
       "        text-align: right;\n",
       "    }\n",
       "</style>\n",
       "<table border=\"1\" class=\"dataframe\">\n",
       "  <thead>\n",
       "    <tr style=\"text-align: right;\">\n",
       "      <th></th>\n",
       "      <th>eu_sales</th>\n",
       "      <th>jp_sales</th>\n",
       "      <th>na_sales</th>\n",
       "    </tr>\n",
       "    <tr>\n",
       "      <th>genre</th>\n",
       "      <th></th>\n",
       "      <th></th>\n",
       "      <th></th>\n",
       "    </tr>\n",
       "  </thead>\n",
       "  <tbody>\n",
       "    <tr>\n",
       "      <th>Action</th>\n",
       "      <td>118.129997</td>\n",
       "      <td>40.490002</td>\n",
       "      <td>126.050003</td>\n",
       "    </tr>\n",
       "    <tr>\n",
       "      <th>Adventure</th>\n",
       "      <td>8.250000</td>\n",
       "      <td>5.820000</td>\n",
       "      <td>7.140000</td>\n",
       "    </tr>\n",
       "    <tr>\n",
       "      <th>Fighting</th>\n",
       "      <td>8.550000</td>\n",
       "      <td>7.650000</td>\n",
       "      <td>15.550000</td>\n",
       "    </tr>\n",
       "    <tr>\n",
       "      <th>Misc</th>\n",
       "      <td>20.039999</td>\n",
       "      <td>9.200000</td>\n",
       "      <td>27.490000</td>\n",
       "    </tr>\n",
       "    <tr>\n",
       "      <th>Platform</th>\n",
       "      <td>15.580000</td>\n",
       "      <td>4.790000</td>\n",
       "      <td>18.139999</td>\n",
       "    </tr>\n",
       "    <tr>\n",
       "      <th>Puzzle</th>\n",
       "      <td>1.000000</td>\n",
       "      <td>1.180000</td>\n",
       "      <td>0.830000</td>\n",
       "    </tr>\n",
       "    <tr>\n",
       "      <th>Racing</th>\n",
       "      <td>20.190001</td>\n",
       "      <td>2.300000</td>\n",
       "      <td>12.960000</td>\n",
       "    </tr>\n",
       "    <tr>\n",
       "      <th>Role-Playing</th>\n",
       "      <td>36.970001</td>\n",
       "      <td>51.040001</td>\n",
       "      <td>46.400002</td>\n",
       "    </tr>\n",
       "    <tr>\n",
       "      <th>Shooter</th>\n",
       "      <td>87.860001</td>\n",
       "      <td>6.610000</td>\n",
       "      <td>109.739998</td>\n",
       "    </tr>\n",
       "    <tr>\n",
       "      <th>Simulation</th>\n",
       "      <td>10.920000</td>\n",
       "      <td>4.520000</td>\n",
       "      <td>4.860000</td>\n",
       "    </tr>\n",
       "    <tr>\n",
       "      <th>Sports</th>\n",
       "      <td>60.520000</td>\n",
       "      <td>5.410000</td>\n",
       "      <td>65.269997</td>\n",
       "    </tr>\n",
       "    <tr>\n",
       "      <th>Strategy</th>\n",
       "      <td>4.220000</td>\n",
       "      <td>1.770000</td>\n",
       "      <td>3.280000</td>\n",
       "    </tr>\n",
       "  </tbody>\n",
       "</table>\n",
       "</div>"
      ],
      "text/plain": [
       "                eu_sales   jp_sales    na_sales\n",
       "genre                                          \n",
       "Action        118.129997  40.490002  126.050003\n",
       "Adventure       8.250000   5.820000    7.140000\n",
       "Fighting        8.550000   7.650000   15.550000\n",
       "Misc           20.039999   9.200000   27.490000\n",
       "Platform       15.580000   4.790000   18.139999\n",
       "Puzzle          1.000000   1.180000    0.830000\n",
       "Racing         20.190001   2.300000   12.960000\n",
       "Role-Playing   36.970001  51.040001   46.400002\n",
       "Shooter        87.860001   6.610000  109.739998\n",
       "Simulation     10.920000   4.520000    4.860000\n",
       "Sports         60.520000   5.410000   65.269997\n",
       "Strategy        4.220000   1.770000    3.280000"
      ]
     },
     "execution_count": 35,
     "metadata": {},
     "output_type": "execute_result"
    }
   ],
   "source": [
    "# суммарные продажи по жанрам для каждого региона\n",
    "sales_in_regions_by_genre = (\n",
    "new_games_data.pivot_table(index='genre', values=['na_sales', 'eu_sales', 'jp_sales'], aggfunc='sum')\n",
    ")\n",
    "sales_in_regions_by_genre"
   ]
  },
  {
   "cell_type": "markdown",
   "metadata": {},
   "source": [
    "Самые популярные жанры:"
   ]
  },
  {
   "cell_type": "code",
   "execution_count": 36,
   "metadata": {},
   "outputs": [
    {
     "name": "stdout",
     "output_type": "stream",
     "text": [
      "top eu genres ['Action', 'Shooter', 'Sports', 'Role-Playing', 'Racing']\n",
      "top jp genres ['Role-Playing', 'Action', 'Misc', 'Fighting', 'Shooter']\n",
      "top na genres ['Action', 'Shooter', 'Sports', 'Role-Playing', 'Misc']\n"
     ]
    }
   ],
   "source": [
    "for reg_sales in ['eu_sales','jp_sales', 'na_sales']:\n",
    "    print('top',\n",
    "    reg_sales.replace('_sales',' genres'),\n",
    "    sales_in_regions_by_genre.sort_values(reg_sales, ascending=False)[reg_sales].head(5).index.tolist()\n",
    "    )"
   ]
  },
  {
   "cell_type": "markdown",
   "metadata": {},
   "source": [
    "Как и в случае с популярными платформами, заметна схожесть рынков **Европы** и **Северной Америки**: списки популярных жанров в этих регионах практически идентичен. В них входят (в порядке убывания продаж): **Action, Shooter, Sports, Role-Playing, Racing/Misc**.\n",
    "\n",
    "В Японии же, самыми популярными жанрами являются: **Role-Playing, Action, Misс, Fighting, Shooter**."
   ]
  },
  {
   "cell_type": "markdown",
   "metadata": {},
   "source": [
    "**Рейтинг ESRB**"
   ]
  },
  {
   "cell_type": "markdown",
   "metadata": {},
   "source": [
    "**ESRB** - рейтинг, определяющий **возрастную** категорию игры.\\\n",
    "Может принимать следующие значения:\n",
    "- **E** (everyone) - для всех возрастов\n",
    "- **E10+** (everyone 10+) - для детей от 10 лет\n",
    "- **T** (teen) - для подростков (13+)\n",
    "- **M** (mature) - для взрослых (17+)\n",
    "\n",
    "Определим влияние возрастного рейтинга игры на продажи в каждом регионе:"
   ]
  },
  {
   "cell_type": "code",
   "execution_count": 37,
   "metadata": {},
   "outputs": [
    {
     "data": {
      "text/html": [
       "<div>\n",
       "<style scoped>\n",
       "    .dataframe tbody tr th:only-of-type {\n",
       "        vertical-align: middle;\n",
       "    }\n",
       "\n",
       "    .dataframe tbody tr th {\n",
       "        vertical-align: top;\n",
       "    }\n",
       "\n",
       "    .dataframe thead th {\n",
       "        text-align: right;\n",
       "    }\n",
       "</style>\n",
       "<table border=\"1\" class=\"dataframe\">\n",
       "  <thead>\n",
       "    <tr style=\"text-align: right;\">\n",
       "      <th>rating</th>\n",
       "      <th>E</th>\n",
       "      <th>E10+</th>\n",
       "      <th>M</th>\n",
       "      <th>T</th>\n",
       "    </tr>\n",
       "  </thead>\n",
       "  <tbody>\n",
       "    <tr>\n",
       "      <th>eu_sales</th>\n",
       "      <td>0.276026</td>\n",
       "      <td>0.169405</td>\n",
       "      <td>0.393821</td>\n",
       "      <td>0.125976</td>\n",
       "    </tr>\n",
       "    <tr>\n",
       "      <th>jp_sales</th>\n",
       "      <td>0.050132</td>\n",
       "      <td>0.023373</td>\n",
       "      <td>0.038238</td>\n",
       "      <td>0.061832</td>\n",
       "    </tr>\n",
       "    <tr>\n",
       "      <th>na_sales</th>\n",
       "      <td>0.261755</td>\n",
       "      <td>0.215238</td>\n",
       "      <td>0.447724</td>\n",
       "      <td>0.149520</td>\n",
       "    </tr>\n",
       "  </tbody>\n",
       "</table>\n",
       "</div>"
      ],
      "text/plain": [
       "rating           E      E10+         M         T\n",
       "eu_sales  0.276026  0.169405  0.393821  0.125976\n",
       "jp_sales  0.050132  0.023373  0.038238  0.061832\n",
       "na_sales  0.261755  0.215238  0.447724  0.149520"
      ]
     },
     "execution_count": 37,
     "metadata": {},
     "output_type": "execute_result"
    }
   ],
   "source": [
    "sales_in_regions_by_rating = (\n",
    "new_games_data[new_games_data.rating != -2]\n",
    ".pivot_table(columns='rating', values=['na_sales', 'eu_sales', 'jp_sales'], aggfunc='mean')\n",
    ")\n",
    "sales_in_regions_by_rating"
   ]
  },
  {
   "cell_type": "markdown",
   "metadata": {},
   "source": [
    "\n",
    "Исходя из различий в средних продажах, характерных для каждого региона, можно сделать следующие выводы:\n",
    "- Для **Японии** самыми продаваемыми являются игры с рейтингами **T** и **E**\n",
    "- В **Европе** и **Северной Америке** самым большим спросом пользуются игры с рейтингами **M** и **E**\n",
    "\n",
    "Выходит, игры для всех возрастов (рейтинг **E**) пользуются успехом вне зависимости от географии, но возрастной рейтинг игр с самыми большими продажами **зависит от региона**. **Европа** и **Северная Америка** предпочитают **взрослый** контент, в то время как в **Японии** самый большой спрос на игры из категории **\"подростки\"**.\n",
    "\n",
    "Скорее всего, разница вызвана различием в менталитете людей, проживающих в этих регионах, а также возрастными особенностями.\\\n",
    "(Возможно, средний возраст игроков в **Японии** ниже, чем в других регионах)."
   ]
  },
  {
   "cell_type": "markdown",
   "metadata": {},
   "source": [
    "### Вывод\n",
    "Анализируя данные о продажах, можно определить закономерности в предпочтениях игроков различных регионов:\n",
    "\n",
    "Для **Европы** и **Северной Америки**:\n",
    "- Самая популярная платформа - **PS4**\n",
    "- Самый популярный жанр - **Action**\n",
    "- Предпочитаемый контент - **Mature** (Взрослый)\n",
    "\n",
    "Для **Японии**:\n",
    "- Самая популярная платформа - **DS3**\n",
    "- Самый популярный жанр - **Role-Playing**\n",
    "- Предпочитаемый контент - **Teen** (Подростковый)\n",
    "\n",
    "Очевидна схожесть рынков **Европы** и **Северной Америки**, и значительное отличие **Японии** по всем изучаемым параметрам."
   ]
  },
  {
   "cell_type": "markdown",
   "metadata": {},
   "source": [
    "---"
   ]
  },
  {
   "cell_type": "markdown",
   "metadata": {},
   "source": [
    "## Проверка гипотез"
   ]
  },
  {
   "cell_type": "markdown",
   "metadata": {},
   "source": [
    "Предстоит проверить истинность двух выдвинутых гипотез:\n",
    "- **Средние пользовательские рейтинги платформ Xbox One и PC одинаковые.**\n",
    "- **Средние пользовательские рейтинги жанров Action (англ. «действие») и Sports (англ. «виды спорта») разные.**\n",
    "\n",
    "Проверку будем проводить на основе актуальных данных (таблица `new_users_data`)."
   ]
  },
  {
   "cell_type": "markdown",
   "metadata": {},
   "source": [
    "### Гипотеза 1"
   ]
  },
  {
   "cell_type": "markdown",
   "metadata": {},
   "source": [
    "**Средние пользовательские рейтинги платформ Xbox One и PC одинаковые.**\n",
    "\n",
    "Сформулируем нулевую гипотезу так, чтобы она имела смысл \"ничто не отличается между двумя группами данных\".\\\n",
    "В данном случае **нулевая гипотеза** будет звучать так:\n",
    "- **Средние пользовательские рейтинги платформ «Xbox One» и «PC» _не различаются_**.\n",
    "\n",
    "Отталкиваясь от нулевой, сформулируем **альтернативную гипотезу**:\n",
    "- **Средние пользовательские рейтинги платформ «Xbox One» и «PC» _различаются_**.\n",
    "\n",
    "Альтернативная гипотеза является **двусторонней**, так как средний пользовательский рейтинг на **«Xbox One»** может оказаться как выше, так и ниже среднего рейтинга на **«PC»**\n",
    "\n",
    "Для проверки воспользуемся t - тестом. Возьмем стандартное пороговое значение alpha=0.05."
   ]
  },
  {
   "cell_type": "code",
   "execution_count": 38,
   "metadata": {
    "scrolled": true
   },
   "outputs": [
    {
     "name": "stdout",
     "output_type": "stream",
     "text": [
      "p-value: 0.14759702913383088\n",
      "Не удалось отвергнуть нулевую гипотезу\n"
     ]
    }
   ],
   "source": [
    "alpha = 0.05\n",
    "\n",
    "results = st.ttest_ind(\n",
    "new_games_data[(new_games_data.user_score > 0) & (new_games_data.platform == 'XOne')]['user_score'],\n",
    "new_games_data[(new_games_data.user_score > 0) & (new_games_data.platform == 'PC')]['user_score'],  \n",
    "equal_var=False\n",
    ")\n",
    "\n",
    "print('p-value:', results.pvalue)\n",
    "\n",
    "if (results.pvalue < alpha):\n",
    "    print(\"Отвергаем нулевую гипотезу\")\n",
    "else:\n",
    "    print(\"Не удалось отвергнуть нулевую гипотезу\")"
   ]
  },
  {
   "cell_type": "markdown",
   "metadata": {},
   "source": [
    "Выходит, нет явных различий между пользовательскими рейтингами платформ **«Xbox One»** и **«PC»**."
   ]
  },
  {
   "cell_type": "markdown",
   "metadata": {},
   "source": [
    "### Гипотеза 2"
   ]
  },
  {
   "cell_type": "markdown",
   "metadata": {},
   "source": [
    "**Средние пользовательские рейтинги жанров Action и Sports разные.**\n",
    "\n",
    "По аналогии с предыдущей гипотезой, **нулевая гипотеза** будет звучать так:\n",
    "- **Средние пользовательские рейтинги жанров «Action» и «Sports» _не различаются_**.\n",
    "\n",
    "Отталкиваясь от нулевой, сформулируем **альтернативную гипотезу**:\n",
    "- **Средние пользовательские рейтинги платформ «Action» и «Sports» _различаются_**.\n",
    "\n",
    "Альтернативная гипотеза является **двусторонней**, так как средний пользовательский рейтинг жанра **«Action»** может оказаться как выше, так и ниже среднего рейтинга для жанра **«Sports»**\n",
    "\n",
    "Проверяем гипотезы также t - тестом, пороговое значение alpha=0.05."
   ]
  },
  {
   "cell_type": "code",
   "execution_count": 39,
   "metadata": {
    "scrolled": true
   },
   "outputs": [
    {
     "name": "stdout",
     "output_type": "stream",
     "text": [
      "p-value: 1.445999656754529e-20\n",
      "Отвергаем нулевую гипотезу\n"
     ]
    }
   ],
   "source": [
    "alpha = 0.05\n",
    "\n",
    "results = st.ttest_ind(\n",
    "new_games_data[(new_games_data.user_score > 0) & (new_games_data.genre == 'Action')]['user_score'],\n",
    "new_games_data[(new_games_data.user_score > 0) & (new_games_data.genre == 'Sports')]['user_score'],  \n",
    "equal_var=False\n",
    ")\n",
    "\n",
    "print('p-value:', results.pvalue)\n",
    "\n",
    "if (results.pvalue < alpha):\n",
    "    print(\"Отвергаем нулевую гипотезу\")\n",
    "else:\n",
    "    print(\"Не удалось отвергнуть нулевую гипотезу\")"
   ]
  },
  {
   "cell_type": "markdown",
   "metadata": {},
   "source": [
    "Выходит, пользователи по-разному оценивают жанры **«Action»** и **«Sports»**.\n",
    "\n",
    "Посмотрим, в где средний рейтинг выше:"
   ]
  },
  {
   "cell_type": "code",
   "execution_count": 40,
   "metadata": {
    "scrolled": true
   },
   "outputs": [
    {
     "name": "stdout",
     "output_type": "stream",
     "text": [
      "Action mean user_score: 6.83753776550293 \n",
      "Sports mean user_score: 5.238123893737793\n"
     ]
    }
   ],
   "source": [
    "print('Action mean user_score:',\n",
    "new_games_data[(new_games_data.user_score > 0) & (new_games_data.genre == 'Action')]['user_score'].mean(),\n",
    "'\\nSports mean user_score:',\n",
    "new_games_data[(new_games_data.user_score > 0) & (new_games_data.genre == 'Sports')]['user_score'].mean()    \n",
    ")"
   ]
  },
  {
   "cell_type": "markdown",
   "metadata": {},
   "source": [
    "Получается, средняя пользовательская оценка жанра **«Action»** выше на **16%** (**1.6** балла)."
   ]
  },
  {
   "cell_type": "markdown",
   "metadata": {},
   "source": [
    "### Вывод:\n",
    "Проверена истинность двух выдвинутых гипотез:\n",
    "- **Средние пользовательские рейтинги платформ Xbox One и PC одинаковые.**\n",
    "- **Средние пользовательские рейтинги жанров Action (англ. «действие») и Sports (англ. «виды спорта») разные.**\n",
    "\n",
    "Результаты следующие:\n",
    "- нет явных различий между средними пользовательскими рейтингами платформ **«Xbox One»** и **«PC»**.\n",
    "- средняя пользовательская оценка жанра **«Action»** выше таковой для жанра **«Sports»** на **16%**."
   ]
  },
  {
   "cell_type": "markdown",
   "metadata": {},
   "source": [
    "---"
   ]
  },
  {
   "cell_type": "markdown",
   "metadata": {},
   "source": [
    "## Общий вывод:"
   ]
  },
  {
   "cell_type": "markdown",
   "metadata": {},
   "source": [
    "#### Целью данного проекта было выявление факторов, вляющих на успешность игры на рынке.\n",
    "<br>\n",
    "\n",
    "Работа состоит из следующих этапов:\n",
    "- Ознакомление с данными\n",
    "- Предобработка\n",
    "- Анализ\n",
    "- Составление портрета пользователей разных регионов\n",
    "- Проверка гипотез\n",
    "\n",
    "---\n",
    "\n",
    "**На первом этапе** были загружены данные о продажах различных игр. Получена таблица с **16715** записями. В ходе ознакомления были обнаружены следующие проблемы:\n",
    "- Заглавные буквы в названиях столбцов\n",
    "- Большое количество (**до 50%**) пропусков в столбцах **Critic_Score, User_Score, Rating**\n",
    "- Неверные типы данных некоторых столбцов\n",
    "\n",
    "---\n",
    "\n",
    "**На этапе предобработки данных** были решены обнаруженные ранее проблемы. Пропуски заполнены невозможными значениями - маркерами. Они позволяют временно исключать из анализа строки, значения в которых были пропущены.\\\n",
    "Типы данных столбцы, содержащих числовые значения, приведены к оптимальным.\n",
    "\n",
    "---\n",
    "\n",
    "**В ходе анализа** былы выявлены важные для корректировки маркетинговой стратегии закономерности:\n",
    "- Средний срок жизни платформы - **8** лет. Исключенияем являются персональные компьютеры, остающиеся актуальными благодаря возможности замены комплектующих.\n",
    "- Самыми перспективными платформами являются **PS4** и **XOne**. Также можно обратить внимание на **3DS** и **PC**.\n",
    "- Оценки критиков оказывают сильное влияние на продажи игры.\n",
    "- Тройка жанров с самыми высокими показателями продаж по всему миру - **Shooter**, **Sports** и **Platform**.\n",
    "\n",
    "---\n",
    "\n",
    "В ходе изучения **предпочтений пользователей разных регионов** были обнаружены следующие закономерности:\n",
    "\n",
    "Для **Европы** и **Северной Америки**:\n",
    "- Самая популярная платформа - **PS4**\n",
    "- Самый популярный жанр - **Action**\n",
    "- Предпочитаемый контент - **Mature** (Взрослый)\n",
    "\n",
    "Для **Японии**:\n",
    "- Самая популярная платформа - **DS3**\n",
    "- Самый популярный жанр - **Role-Playing**\n",
    "- Предпочитаемый контент - **Teen** (Подростковый)\n",
    "\n",
    "---\n",
    "\n",
    "В ходе **проверки выдвинутых гипотез** получены следующие результаты:\n",
    "- нет явных различий между средними пользовательскими рейтингами платформ **«Xbox One»** и **«PC»**.\n",
    "- средняя пользовательская оценка игр жанра **«Action»** выше таковой для жанра **«Sports»** на **16%**."
   ]
  },
  {
   "cell_type": "markdown",
   "metadata": {},
   "source": [
    "---"
   ]
  },
  {
   "cell_type": "markdown",
   "metadata": {},
   "source": [
    "## По итогу можно дать следующие рекомендации:\n",
    "**Общего характера:**\n",
    "  - Отдавать предпочтение играм, получившим **высокие оценки критиков**.\n",
    "  - Игры с возрастным рейтингом **E** (Для всех возрастов) хорошо себя показывают во всех регионах\n",
    "  - Предпочтительные рынки - **Европа** и **Северная Америка**, у них самые высокие показатели средних продаж.\n",
    "  \n",
    "Для **Европы** и **Северной Америки:**\n",
    "  - Сделать ставку на игры, выпущенные для платформ - **PS4** и **Xbox One**.\n",
    "  - Отдавать предпочтение играм в жанрах **Action**, **Shooter** и **Sports**.\n",
    "  - Пользователи этих регионов, среди прочих, предпочтитают игры с возрастным рейтингом **M** (для взрослых).\n",
    "\n",
    "Для **Японии:**\n",
    "  - Несмотря на тенденцию к снижению объема продаж, **DS3** остается самой популярной платформой.  \n",
    "  - Популярные жанры в этом регионе - **Role-Playing**, **Action**, **Misc**.\n",
    "  - Наибольшим спросом пользуются игры с возрастным рейтингом - **T** (для подростков)\n"
   ]
  }
 ],
 "metadata": {
  "kernelspec": {
   "display_name": "Python 3",
   "language": "python",
   "name": "python3"
  },
  "language_info": {
   "codemirror_mode": {
    "name": "ipython",
    "version": 3
   },
   "file_extension": ".py",
   "mimetype": "text/x-python",
   "name": "python",
   "nbconvert_exporter": "python",
   "pygments_lexer": "ipython3",
   "version": "3.7.4"
  }
 },
 "nbformat": 4,
 "nbformat_minor": 2
}
