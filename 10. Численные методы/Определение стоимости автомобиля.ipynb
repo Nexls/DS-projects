{
 "cells": [
  {
   "cell_type": "markdown",
   "metadata": {},
   "source": [
    "# Определение стоимости автомобиля"
   ]
  },
  {
   "cell_type": "markdown",
   "metadata": {},
   "source": [
    "## Описание проекта"
   ]
  },
  {
   "cell_type": "markdown",
   "metadata": {},
   "source": [
    "Сервис по продаже автомобилей с пробегом «Не бит, не крашен» разрабатывает приложение для привлечения новых клиентов. В нём можно быстро узнать рыночную стоимость своего автомобиля. В вашем распоряжении исторические данные: технические характеристики, комплектации и цены автомобилей. Вам нужно построить модель для определения стоимости. \n",
    "\n",
    "Заказчику важны:\n",
    "\n",
    "- качество предсказания;\n",
    "- скорость предсказания;\n",
    "- время обучения."
   ]
  },
  {
   "cell_type": "markdown",
   "metadata": {},
   "source": [
    "### Описание данных"
   ]
  },
  {
   "cell_type": "markdown",
   "metadata": {},
   "source": [
    "- **DateCrawled** — дата скачивания анкеты из базы\n",
    "- **VehicleType** — тип автомобильного кузова\n",
    "- **RegistrationYear** — год регистрации автомобиля\n",
    "- **Gearbox** — тип коробки передач\n",
    "- **Power** — мощность (л. с.)\n",
    "- **Model** — модель автомобиля\n",
    "- **Kilometer** — пробег (км)\n",
    "- **RegistrationMonth** — месяц регистрации автомобиля\n",
    "- **FuelType** — тип топлива\n",
    "- **Brand** — марка автомобиля\n",
    "- **NotRepaired** — была машина в ремонте или нет\n",
    "- **DateCreated** — дата создания анкеты\n",
    "- **NumberOfPictures** — количество фотографий автомобиля\n",
    "- **PostalCode** — почтовый индекс владельца анкеты (пользователя)\n",
    "- **LastSeen** — дата последней активности пользователя"
   ]
  },
  {
   "cell_type": "markdown",
   "metadata": {},
   "source": [
    "## Задание"
   ]
  },
  {
   "cell_type": "markdown",
   "metadata": {},
   "source": [
    "### Построить модель для определения стоимости автомобиля."
   ]
  },
  {
   "cell_type": "markdown",
   "metadata": {},
   "source": [
    "---"
   ]
  },
  {
   "cell_type": "markdown",
   "metadata": {},
   "source": [
    "# 1. Подготовка данных"
   ]
  },
  {
   "cell_type": "markdown",
   "metadata": {},
   "source": [
    "### Импортируем необходимые библиотеки"
   ]
  },
  {
   "cell_type": "code",
   "execution_count": 1,
   "metadata": {},
   "outputs": [],
   "source": [
    "import numpy as np\n",
    "import pandas as pd\n",
    "import matplotlib.pyplot as plt\n",
    "import seaborn as sns"
   ]
  },
  {
   "cell_type": "markdown",
   "metadata": {},
   "source": [
    "### Загружаем данные"
   ]
  },
  {
   "cell_type": "code",
   "execution_count": 2,
   "metadata": {},
   "outputs": [],
   "source": [
    "#autos = pd.read_csv('/datasets/autos.csv')\n",
    "autos = pd.read_csv('D:/3D Objects/Praktikum/Data/autos.csv')"
   ]
  },
  {
   "cell_type": "code",
   "execution_count": 3,
   "metadata": {},
   "outputs": [
    {
     "name": "stdout",
     "output_type": "stream",
     "text": [
      "<class 'pandas.core.frame.DataFrame'>\n",
      "RangeIndex: 354369 entries, 0 to 354368\n",
      "Data columns (total 16 columns):\n",
      "DateCrawled          354369 non-null object\n",
      "Price                354369 non-null int64\n",
      "VehicleType          316879 non-null object\n",
      "RegistrationYear     354369 non-null int64\n",
      "Gearbox              334536 non-null object\n",
      "Power                354369 non-null int64\n",
      "Model                334664 non-null object\n",
      "Kilometer            354369 non-null int64\n",
      "RegistrationMonth    354369 non-null int64\n",
      "FuelType             321474 non-null object\n",
      "Brand                354369 non-null object\n",
      "NotRepaired          283215 non-null object\n",
      "DateCreated          354369 non-null object\n",
      "NumberOfPictures     354369 non-null int64\n",
      "PostalCode           354369 non-null int64\n",
      "LastSeen             354369 non-null object\n",
      "dtypes: int64(7), object(9)\n",
      "memory usage: 43.3+ MB\n"
     ]
    }
   ],
   "source": [
    "autos.info()"
   ]
  },
  {
   "cell_type": "code",
   "execution_count": 4,
   "metadata": {},
   "outputs": [
    {
     "data": {
      "text/html": [
       "<div>\n",
       "<style scoped>\n",
       "    .dataframe tbody tr th:only-of-type {\n",
       "        vertical-align: middle;\n",
       "    }\n",
       "\n",
       "    .dataframe tbody tr th {\n",
       "        vertical-align: top;\n",
       "    }\n",
       "\n",
       "    .dataframe thead th {\n",
       "        text-align: right;\n",
       "    }\n",
       "</style>\n",
       "<table border=\"1\" class=\"dataframe\">\n",
       "  <thead>\n",
       "    <tr style=\"text-align: right;\">\n",
       "      <th></th>\n",
       "      <th>DateCrawled</th>\n",
       "      <th>Price</th>\n",
       "      <th>VehicleType</th>\n",
       "      <th>RegistrationYear</th>\n",
       "      <th>Gearbox</th>\n",
       "      <th>Power</th>\n",
       "      <th>Model</th>\n",
       "      <th>Kilometer</th>\n",
       "      <th>RegistrationMonth</th>\n",
       "      <th>FuelType</th>\n",
       "      <th>Brand</th>\n",
       "      <th>NotRepaired</th>\n",
       "      <th>DateCreated</th>\n",
       "      <th>NumberOfPictures</th>\n",
       "      <th>PostalCode</th>\n",
       "      <th>LastSeen</th>\n",
       "    </tr>\n",
       "  </thead>\n",
       "  <tbody>\n",
       "    <tr>\n",
       "      <td>0</td>\n",
       "      <td>2016-03-24 11:52:17</td>\n",
       "      <td>480</td>\n",
       "      <td>NaN</td>\n",
       "      <td>1993</td>\n",
       "      <td>manual</td>\n",
       "      <td>0</td>\n",
       "      <td>golf</td>\n",
       "      <td>150000</td>\n",
       "      <td>0</td>\n",
       "      <td>petrol</td>\n",
       "      <td>volkswagen</td>\n",
       "      <td>NaN</td>\n",
       "      <td>2016-03-24 00:00:00</td>\n",
       "      <td>0</td>\n",
       "      <td>70435</td>\n",
       "      <td>2016-04-07 03:16:57</td>\n",
       "    </tr>\n",
       "    <tr>\n",
       "      <td>1</td>\n",
       "      <td>2016-03-24 10:58:45</td>\n",
       "      <td>18300</td>\n",
       "      <td>coupe</td>\n",
       "      <td>2011</td>\n",
       "      <td>manual</td>\n",
       "      <td>190</td>\n",
       "      <td>NaN</td>\n",
       "      <td>125000</td>\n",
       "      <td>5</td>\n",
       "      <td>gasoline</td>\n",
       "      <td>audi</td>\n",
       "      <td>yes</td>\n",
       "      <td>2016-03-24 00:00:00</td>\n",
       "      <td>0</td>\n",
       "      <td>66954</td>\n",
       "      <td>2016-04-07 01:46:50</td>\n",
       "    </tr>\n",
       "    <tr>\n",
       "      <td>2</td>\n",
       "      <td>2016-03-14 12:52:21</td>\n",
       "      <td>9800</td>\n",
       "      <td>suv</td>\n",
       "      <td>2004</td>\n",
       "      <td>auto</td>\n",
       "      <td>163</td>\n",
       "      <td>grand</td>\n",
       "      <td>125000</td>\n",
       "      <td>8</td>\n",
       "      <td>gasoline</td>\n",
       "      <td>jeep</td>\n",
       "      <td>NaN</td>\n",
       "      <td>2016-03-14 00:00:00</td>\n",
       "      <td>0</td>\n",
       "      <td>90480</td>\n",
       "      <td>2016-04-05 12:47:46</td>\n",
       "    </tr>\n",
       "    <tr>\n",
       "      <td>3</td>\n",
       "      <td>2016-03-17 16:54:04</td>\n",
       "      <td>1500</td>\n",
       "      <td>small</td>\n",
       "      <td>2001</td>\n",
       "      <td>manual</td>\n",
       "      <td>75</td>\n",
       "      <td>golf</td>\n",
       "      <td>150000</td>\n",
       "      <td>6</td>\n",
       "      <td>petrol</td>\n",
       "      <td>volkswagen</td>\n",
       "      <td>no</td>\n",
       "      <td>2016-03-17 00:00:00</td>\n",
       "      <td>0</td>\n",
       "      <td>91074</td>\n",
       "      <td>2016-03-17 17:40:17</td>\n",
       "    </tr>\n",
       "    <tr>\n",
       "      <td>4</td>\n",
       "      <td>2016-03-31 17:25:20</td>\n",
       "      <td>3600</td>\n",
       "      <td>small</td>\n",
       "      <td>2008</td>\n",
       "      <td>manual</td>\n",
       "      <td>69</td>\n",
       "      <td>fabia</td>\n",
       "      <td>90000</td>\n",
       "      <td>7</td>\n",
       "      <td>gasoline</td>\n",
       "      <td>skoda</td>\n",
       "      <td>no</td>\n",
       "      <td>2016-03-31 00:00:00</td>\n",
       "      <td>0</td>\n",
       "      <td>60437</td>\n",
       "      <td>2016-04-06 10:17:21</td>\n",
       "    </tr>\n",
       "    <tr>\n",
       "      <td>5</td>\n",
       "      <td>2016-04-04 17:36:23</td>\n",
       "      <td>650</td>\n",
       "      <td>sedan</td>\n",
       "      <td>1995</td>\n",
       "      <td>manual</td>\n",
       "      <td>102</td>\n",
       "      <td>3er</td>\n",
       "      <td>150000</td>\n",
       "      <td>10</td>\n",
       "      <td>petrol</td>\n",
       "      <td>bmw</td>\n",
       "      <td>yes</td>\n",
       "      <td>2016-04-04 00:00:00</td>\n",
       "      <td>0</td>\n",
       "      <td>33775</td>\n",
       "      <td>2016-04-06 19:17:07</td>\n",
       "    </tr>\n",
       "    <tr>\n",
       "      <td>6</td>\n",
       "      <td>2016-04-01 20:48:51</td>\n",
       "      <td>2200</td>\n",
       "      <td>convertible</td>\n",
       "      <td>2004</td>\n",
       "      <td>manual</td>\n",
       "      <td>109</td>\n",
       "      <td>2_reihe</td>\n",
       "      <td>150000</td>\n",
       "      <td>8</td>\n",
       "      <td>petrol</td>\n",
       "      <td>peugeot</td>\n",
       "      <td>no</td>\n",
       "      <td>2016-04-01 00:00:00</td>\n",
       "      <td>0</td>\n",
       "      <td>67112</td>\n",
       "      <td>2016-04-05 18:18:39</td>\n",
       "    </tr>\n",
       "    <tr>\n",
       "      <td>7</td>\n",
       "      <td>2016-03-21 18:54:38</td>\n",
       "      <td>0</td>\n",
       "      <td>sedan</td>\n",
       "      <td>1980</td>\n",
       "      <td>manual</td>\n",
       "      <td>50</td>\n",
       "      <td>other</td>\n",
       "      <td>40000</td>\n",
       "      <td>7</td>\n",
       "      <td>petrol</td>\n",
       "      <td>volkswagen</td>\n",
       "      <td>no</td>\n",
       "      <td>2016-03-21 00:00:00</td>\n",
       "      <td>0</td>\n",
       "      <td>19348</td>\n",
       "      <td>2016-03-25 16:47:58</td>\n",
       "    </tr>\n",
       "    <tr>\n",
       "      <td>8</td>\n",
       "      <td>2016-04-04 23:42:13</td>\n",
       "      <td>14500</td>\n",
       "      <td>bus</td>\n",
       "      <td>2014</td>\n",
       "      <td>manual</td>\n",
       "      <td>125</td>\n",
       "      <td>c_max</td>\n",
       "      <td>30000</td>\n",
       "      <td>8</td>\n",
       "      <td>petrol</td>\n",
       "      <td>ford</td>\n",
       "      <td>NaN</td>\n",
       "      <td>2016-04-04 00:00:00</td>\n",
       "      <td>0</td>\n",
       "      <td>94505</td>\n",
       "      <td>2016-04-04 23:42:13</td>\n",
       "    </tr>\n",
       "    <tr>\n",
       "      <td>9</td>\n",
       "      <td>2016-03-17 10:53:50</td>\n",
       "      <td>999</td>\n",
       "      <td>small</td>\n",
       "      <td>1998</td>\n",
       "      <td>manual</td>\n",
       "      <td>101</td>\n",
       "      <td>golf</td>\n",
       "      <td>150000</td>\n",
       "      <td>0</td>\n",
       "      <td>NaN</td>\n",
       "      <td>volkswagen</td>\n",
       "      <td>NaN</td>\n",
       "      <td>2016-03-17 00:00:00</td>\n",
       "      <td>0</td>\n",
       "      <td>27472</td>\n",
       "      <td>2016-03-31 17:17:06</td>\n",
       "    </tr>\n",
       "    <tr>\n",
       "      <td>10</td>\n",
       "      <td>2016-03-26 19:54:18</td>\n",
       "      <td>2000</td>\n",
       "      <td>sedan</td>\n",
       "      <td>2004</td>\n",
       "      <td>manual</td>\n",
       "      <td>105</td>\n",
       "      <td>3_reihe</td>\n",
       "      <td>150000</td>\n",
       "      <td>12</td>\n",
       "      <td>petrol</td>\n",
       "      <td>mazda</td>\n",
       "      <td>no</td>\n",
       "      <td>2016-03-26 00:00:00</td>\n",
       "      <td>0</td>\n",
       "      <td>96224</td>\n",
       "      <td>2016-04-06 10:45:34</td>\n",
       "    </tr>\n",
       "    <tr>\n",
       "      <td>11</td>\n",
       "      <td>2016-04-07 10:06:22</td>\n",
       "      <td>2799</td>\n",
       "      <td>wagon</td>\n",
       "      <td>2005</td>\n",
       "      <td>manual</td>\n",
       "      <td>140</td>\n",
       "      <td>passat</td>\n",
       "      <td>150000</td>\n",
       "      <td>12</td>\n",
       "      <td>gasoline</td>\n",
       "      <td>volkswagen</td>\n",
       "      <td>yes</td>\n",
       "      <td>2016-04-07 00:00:00</td>\n",
       "      <td>0</td>\n",
       "      <td>57290</td>\n",
       "      <td>2016-04-07 10:25:17</td>\n",
       "    </tr>\n",
       "    <tr>\n",
       "      <td>12</td>\n",
       "      <td>2016-03-15 22:49:09</td>\n",
       "      <td>999</td>\n",
       "      <td>wagon</td>\n",
       "      <td>1995</td>\n",
       "      <td>manual</td>\n",
       "      <td>115</td>\n",
       "      <td>passat</td>\n",
       "      <td>150000</td>\n",
       "      <td>11</td>\n",
       "      <td>petrol</td>\n",
       "      <td>volkswagen</td>\n",
       "      <td>NaN</td>\n",
       "      <td>2016-03-15 00:00:00</td>\n",
       "      <td>0</td>\n",
       "      <td>37269</td>\n",
       "      <td>2016-04-01 13:16:16</td>\n",
       "    </tr>\n",
       "    <tr>\n",
       "      <td>13</td>\n",
       "      <td>2016-03-21 21:37:40</td>\n",
       "      <td>2500</td>\n",
       "      <td>wagon</td>\n",
       "      <td>2004</td>\n",
       "      <td>manual</td>\n",
       "      <td>131</td>\n",
       "      <td>passat</td>\n",
       "      <td>150000</td>\n",
       "      <td>2</td>\n",
       "      <td>NaN</td>\n",
       "      <td>volkswagen</td>\n",
       "      <td>no</td>\n",
       "      <td>2016-03-21 00:00:00</td>\n",
       "      <td>0</td>\n",
       "      <td>90762</td>\n",
       "      <td>2016-03-23 02:50:54</td>\n",
       "    </tr>\n",
       "    <tr>\n",
       "      <td>14</td>\n",
       "      <td>2016-03-21 12:57:01</td>\n",
       "      <td>17999</td>\n",
       "      <td>suv</td>\n",
       "      <td>2011</td>\n",
       "      <td>manual</td>\n",
       "      <td>190</td>\n",
       "      <td>navara</td>\n",
       "      <td>70000</td>\n",
       "      <td>3</td>\n",
       "      <td>gasoline</td>\n",
       "      <td>nissan</td>\n",
       "      <td>no</td>\n",
       "      <td>2016-03-21 00:00:00</td>\n",
       "      <td>0</td>\n",
       "      <td>4177</td>\n",
       "      <td>2016-04-06 07:45:42</td>\n",
       "    </tr>\n",
       "  </tbody>\n",
       "</table>\n",
       "</div>"
      ],
      "text/plain": [
       "            DateCrawled  Price  VehicleType  RegistrationYear Gearbox  Power  \\\n",
       "0   2016-03-24 11:52:17    480          NaN              1993  manual      0   \n",
       "1   2016-03-24 10:58:45  18300        coupe              2011  manual    190   \n",
       "2   2016-03-14 12:52:21   9800          suv              2004    auto    163   \n",
       "3   2016-03-17 16:54:04   1500        small              2001  manual     75   \n",
       "4   2016-03-31 17:25:20   3600        small              2008  manual     69   \n",
       "5   2016-04-04 17:36:23    650        sedan              1995  manual    102   \n",
       "6   2016-04-01 20:48:51   2200  convertible              2004  manual    109   \n",
       "7   2016-03-21 18:54:38      0        sedan              1980  manual     50   \n",
       "8   2016-04-04 23:42:13  14500          bus              2014  manual    125   \n",
       "9   2016-03-17 10:53:50    999        small              1998  manual    101   \n",
       "10  2016-03-26 19:54:18   2000        sedan              2004  manual    105   \n",
       "11  2016-04-07 10:06:22   2799        wagon              2005  manual    140   \n",
       "12  2016-03-15 22:49:09    999        wagon              1995  manual    115   \n",
       "13  2016-03-21 21:37:40   2500        wagon              2004  manual    131   \n",
       "14  2016-03-21 12:57:01  17999          suv              2011  manual    190   \n",
       "\n",
       "      Model  Kilometer  RegistrationMonth  FuelType       Brand NotRepaired  \\\n",
       "0      golf     150000                  0    petrol  volkswagen         NaN   \n",
       "1       NaN     125000                  5  gasoline        audi         yes   \n",
       "2     grand     125000                  8  gasoline        jeep         NaN   \n",
       "3      golf     150000                  6    petrol  volkswagen          no   \n",
       "4     fabia      90000                  7  gasoline       skoda          no   \n",
       "5       3er     150000                 10    petrol         bmw         yes   \n",
       "6   2_reihe     150000                  8    petrol     peugeot          no   \n",
       "7     other      40000                  7    petrol  volkswagen          no   \n",
       "8     c_max      30000                  8    petrol        ford         NaN   \n",
       "9      golf     150000                  0       NaN  volkswagen         NaN   \n",
       "10  3_reihe     150000                 12    petrol       mazda          no   \n",
       "11   passat     150000                 12  gasoline  volkswagen         yes   \n",
       "12   passat     150000                 11    petrol  volkswagen         NaN   \n",
       "13   passat     150000                  2       NaN  volkswagen          no   \n",
       "14   navara      70000                  3  gasoline      nissan          no   \n",
       "\n",
       "            DateCreated  NumberOfPictures  PostalCode             LastSeen  \n",
       "0   2016-03-24 00:00:00                 0       70435  2016-04-07 03:16:57  \n",
       "1   2016-03-24 00:00:00                 0       66954  2016-04-07 01:46:50  \n",
       "2   2016-03-14 00:00:00                 0       90480  2016-04-05 12:47:46  \n",
       "3   2016-03-17 00:00:00                 0       91074  2016-03-17 17:40:17  \n",
       "4   2016-03-31 00:00:00                 0       60437  2016-04-06 10:17:21  \n",
       "5   2016-04-04 00:00:00                 0       33775  2016-04-06 19:17:07  \n",
       "6   2016-04-01 00:00:00                 0       67112  2016-04-05 18:18:39  \n",
       "7   2016-03-21 00:00:00                 0       19348  2016-03-25 16:47:58  \n",
       "8   2016-04-04 00:00:00                 0       94505  2016-04-04 23:42:13  \n",
       "9   2016-03-17 00:00:00                 0       27472  2016-03-31 17:17:06  \n",
       "10  2016-03-26 00:00:00                 0       96224  2016-04-06 10:45:34  \n",
       "11  2016-04-07 00:00:00                 0       57290  2016-04-07 10:25:17  \n",
       "12  2016-03-15 00:00:00                 0       37269  2016-04-01 13:16:16  \n",
       "13  2016-03-21 00:00:00                 0       90762  2016-03-23 02:50:54  \n",
       "14  2016-03-21 00:00:00                 0        4177  2016-04-06 07:45:42  "
      ]
     },
     "execution_count": 4,
     "metadata": {},
     "output_type": "execute_result"
    }
   ],
   "source": [
    "autos.head(15)"
   ]
  },
  {
   "cell_type": "markdown",
   "metadata": {},
   "source": [
    "Видим, что датасет содержит 16 столбцов и 354 тысячи строк.\n",
    "\n",
    "**Заметны следующие проблемы:**\n",
    "\n",
    "- Пропуски в некоторых столбцах, особенно в **VehicleType, FuelType, NotRepaired**.\n",
    "- Даты событий записаны в формате object\n",
    "- Цена, мощность и месяц регистрации некоторых автомобилей равны нулю, что говорит об отсутствии этих данных."
   ]
  },
  {
   "cell_type": "markdown",
   "metadata": {},
   "source": [
    "## Предобработка\n",
    "\n",
    "Предобработка данных будет состоять из:\n",
    "\n",
    "- Удаление нерелевантных задаче столбцов\n",
    "- Приведение различных дат в соответствующий формат\n",
    "- Удаление записей, в которых отсутствует целевой признак (**Price** = 0)\n",
    "- Проверка на наличие дубликатов\n",
    "- Обработка пропусков"
   ]
  },
  {
   "cell_type": "markdown",
   "metadata": {},
   "source": [
    "### Удаление лишних столбцов\n",
    "\n",
    "Столбцы\n",
    "- **DateCrawled** — дата скачивания анкеты из базы\n",
    "- **PostalCode** — почтовый индекс владельца анкеты (пользователя)\n",
    "- **LastSeen** — дата последней активности пользователя\n",
    "- **DateCreated** — дата последней активности пользователя\n",
    "- **RegistrationMonth** - месяц регистрации автомобиля\n",
    "- **NumberOfPictures** - количество изображений\n",
    "\n",
    "не имеют отношения ни к автомобилю ни к анкете, а значит не влияют на его цену.\\\n",
    "Можно смело их удалять.\n",
    "\n",
    "Удаляем указанные выше стобцы:"
   ]
  },
  {
   "cell_type": "code",
   "execution_count": 5,
   "metadata": {},
   "outputs": [
    {
     "data": {
      "text/html": [
       "<div>\n",
       "<style scoped>\n",
       "    .dataframe tbody tr th:only-of-type {\n",
       "        vertical-align: middle;\n",
       "    }\n",
       "\n",
       "    .dataframe tbody tr th {\n",
       "        vertical-align: top;\n",
       "    }\n",
       "\n",
       "    .dataframe thead th {\n",
       "        text-align: right;\n",
       "    }\n",
       "</style>\n",
       "<table border=\"1\" class=\"dataframe\">\n",
       "  <thead>\n",
       "    <tr style=\"text-align: right;\">\n",
       "      <th></th>\n",
       "      <th>Price</th>\n",
       "      <th>VehicleType</th>\n",
       "      <th>RegistrationYear</th>\n",
       "      <th>Gearbox</th>\n",
       "      <th>Power</th>\n",
       "      <th>Model</th>\n",
       "      <th>Kilometer</th>\n",
       "      <th>FuelType</th>\n",
       "      <th>Brand</th>\n",
       "      <th>NotRepaired</th>\n",
       "    </tr>\n",
       "  </thead>\n",
       "  <tbody>\n",
       "    <tr>\n",
       "      <td>0</td>\n",
       "      <td>480</td>\n",
       "      <td>NaN</td>\n",
       "      <td>1993</td>\n",
       "      <td>manual</td>\n",
       "      <td>0</td>\n",
       "      <td>golf</td>\n",
       "      <td>150000</td>\n",
       "      <td>petrol</td>\n",
       "      <td>volkswagen</td>\n",
       "      <td>NaN</td>\n",
       "    </tr>\n",
       "    <tr>\n",
       "      <td>1</td>\n",
       "      <td>18300</td>\n",
       "      <td>coupe</td>\n",
       "      <td>2011</td>\n",
       "      <td>manual</td>\n",
       "      <td>190</td>\n",
       "      <td>NaN</td>\n",
       "      <td>125000</td>\n",
       "      <td>gasoline</td>\n",
       "      <td>audi</td>\n",
       "      <td>yes</td>\n",
       "    </tr>\n",
       "    <tr>\n",
       "      <td>2</td>\n",
       "      <td>9800</td>\n",
       "      <td>suv</td>\n",
       "      <td>2004</td>\n",
       "      <td>auto</td>\n",
       "      <td>163</td>\n",
       "      <td>grand</td>\n",
       "      <td>125000</td>\n",
       "      <td>gasoline</td>\n",
       "      <td>jeep</td>\n",
       "      <td>NaN</td>\n",
       "    </tr>\n",
       "  </tbody>\n",
       "</table>\n",
       "</div>"
      ],
      "text/plain": [
       "   Price VehicleType  RegistrationYear Gearbox  Power  Model  Kilometer  \\\n",
       "0    480         NaN              1993  manual      0   golf     150000   \n",
       "1  18300       coupe              2011  manual    190    NaN     125000   \n",
       "2   9800         suv              2004    auto    163  grand     125000   \n",
       "\n",
       "   FuelType       Brand NotRepaired  \n",
       "0    petrol  volkswagen         NaN  \n",
       "1  gasoline        audi         yes  \n",
       "2  gasoline        jeep         NaN  "
      ]
     },
     "execution_count": 5,
     "metadata": {},
     "output_type": "execute_result"
    }
   ],
   "source": [
    "autos = autos.drop(['DateCrawled', 'PostalCode',\n",
    "                    'LastSeen', 'DateCreated',\n",
    "                    'RegistrationMonth',\n",
    "                    'NumberOfPictures'], axis=1)\n",
    "\n",
    "autos.head(3)"
   ]
  },
  {
   "cell_type": "markdown",
   "metadata": {},
   "source": [
    "### Приведение даты в соответствующий формат\n",
    "\n",
    "Поскольку после предыдущего шага не осталось столбцов с датами, то и приводить к нужному формату неичего не нужно.\\\n",
    "Переходим к следующему шагу."
   ]
  },
  {
   "cell_type": "markdown",
   "metadata": {},
   "source": [
    "### Удаление записей без целевого признака\n",
    "\n",
    "Видно, что в таблице присутствует некоторое количество записей с нулевой ценой, что, очевидно, не соответствует действительности.\\\n",
    "Узнаем, сколько таких записей:"
   ]
  },
  {
   "cell_type": "code",
   "execution_count": 6,
   "metadata": {},
   "outputs": [
    {
     "data": {
      "text/plain": [
       "10772"
      ]
     },
     "execution_count": 6,
     "metadata": {},
     "output_type": "execute_result"
    }
   ],
   "source": [
    "len(autos[autos['Price'] == 0])"
   ]
  },
  {
   "cell_type": "markdown",
   "metadata": {},
   "source": [
    "10.7 тысяч записей.\\\n",
    "Это приблизительно 3% от общего числа, значит проблем с нехваткой данных для обучения не возникнет.\n",
    "\n",
    "Удалим эти строки:"
   ]
  },
  {
   "cell_type": "code",
   "execution_count": 7,
   "metadata": {},
   "outputs": [
    {
     "data": {
      "text/plain": [
       "0"
      ]
     },
     "execution_count": 7,
     "metadata": {},
     "output_type": "execute_result"
    }
   ],
   "source": [
    "autos = autos[autos['Price'] != 0].reset_index(drop=True)\n",
    "len(autos[autos['Price'] == 0])"
   ]
  },
  {
   "cell_type": "markdown",
   "metadata": {},
   "source": [
    "Также по первой строке видно, что встречаются некорректные значения в столбце **Power** (0).\\\n",
    "Возможно, это говорит о том, что машина не на ходу, либо пользователь просто не указал значение мощности автомобиля.\\\n",
    "В любом случае это информация может быть полезна, поэтому оставим как есть."
   ]
  },
  {
   "cell_type": "markdown",
   "metadata": {},
   "source": [
    "### Проверка на дубликаты\n",
    "\n",
    "По различным причинам (объявление считалось несколько раз, пользователь опубликовал одинаковые объявления и др.) в данных могли появиться дубликаты.\\\n",
    "Проверим, так ли это:"
   ]
  },
  {
   "cell_type": "code",
   "execution_count": 8,
   "metadata": {},
   "outputs": [
    {
     "data": {
      "text/plain": [
       "43172"
      ]
     },
     "execution_count": 8,
     "metadata": {},
     "output_type": "execute_result"
    }
   ],
   "source": [
    "autos.duplicated().sum()"
   ]
  },
  {
   "cell_type": "markdown",
   "metadata": {},
   "source": [
    "Дубликатов довольно много, это может привести к тому, что при разделении данных на выборки, в них может оказаться много одинаковых записей, что приведет к ложному завышению качества модели.\\\n",
    "Удалим их:"
   ]
  },
  {
   "cell_type": "code",
   "execution_count": 9,
   "metadata": {},
   "outputs": [
    {
     "data": {
      "text/plain": [
       "0"
      ]
     },
     "execution_count": 9,
     "metadata": {},
     "output_type": "execute_result"
    }
   ],
   "source": [
    "autos = autos.drop_duplicates().reset_index(drop=True)\n",
    "autos.duplicated().sum()"
   ]
  },
  {
   "cell_type": "markdown",
   "metadata": {},
   "source": [
    "### Обработка пропусков\n",
    "\n",
    "Еще раз взглянем на информацию о таблице:"
   ]
  },
  {
   "cell_type": "code",
   "execution_count": 10,
   "metadata": {},
   "outputs": [
    {
     "name": "stdout",
     "output_type": "stream",
     "text": [
      "<class 'pandas.core.frame.DataFrame'>\n",
      "RangeIndex: 300425 entries, 0 to 300424\n",
      "Data columns (total 10 columns):\n",
      "Price               300425 non-null int64\n",
      "VehicleType         268755 non-null object\n",
      "RegistrationYear    300425 non-null int64\n",
      "Gearbox             285004 non-null object\n",
      "Power               300425 non-null int64\n",
      "Model               283748 non-null object\n",
      "Kilometer           300425 non-null int64\n",
      "FuelType            272354 non-null object\n",
      "Brand               300425 non-null object\n",
      "NotRepaired         240106 non-null object\n",
      "dtypes: int64(4), object(6)\n",
      "memory usage: 22.9+ MB\n"
     ]
    }
   ],
   "source": [
    "autos.info()"
   ]
  },
  {
   "cell_type": "markdown",
   "metadata": {},
   "source": [
    "Почти во всех столбцах, содержащих категориальные переменные, содержатся пропуски.\\\n",
    "Удаление записей с пропусками нежелательно, поскольку информация о наличии пропуска также может быть полезной.\n",
    "\n",
    "Поскольку предстоит кодировать эти признаки, заполним пропуски в этих столбцах на произвольное значение, например **hidden**."
   ]
  },
  {
   "cell_type": "code",
   "execution_count": 11,
   "metadata": {},
   "outputs": [
    {
     "name": "stdout",
     "output_type": "stream",
     "text": [
      "<class 'pandas.core.frame.DataFrame'>\n",
      "RangeIndex: 300425 entries, 0 to 300424\n",
      "Data columns (total 10 columns):\n",
      "Price               300425 non-null int64\n",
      "VehicleType         300425 non-null object\n",
      "RegistrationYear    300425 non-null int64\n",
      "Gearbox             300425 non-null object\n",
      "Power               300425 non-null int64\n",
      "Model               300425 non-null object\n",
      "Kilometer           300425 non-null int64\n",
      "FuelType            300425 non-null object\n",
      "Brand               300425 non-null object\n",
      "NotRepaired         300425 non-null object\n",
      "dtypes: int64(4), object(6)\n",
      "memory usage: 22.9+ MB\n"
     ]
    }
   ],
   "source": [
    "autos = autos.fillna('hidden')\n",
    "autos.info()"
   ]
  },
  {
   "cell_type": "markdown",
   "metadata": {},
   "source": [
    "Остались следующие столбцы с пропусками: **VehicleType, Gearbox, Model, FuelType, Brand**.\\\n",
    "Каждый из этих столбцов содержит категориальные переменные, поэтому уместно использовать **OrdinalEncoder**:"
   ]
  },
  {
   "cell_type": "code",
   "execution_count": 12,
   "metadata": {},
   "outputs": [
    {
     "data": {
      "text/html": [
       "<div>\n",
       "<style scoped>\n",
       "    .dataframe tbody tr th:only-of-type {\n",
       "        vertical-align: middle;\n",
       "    }\n",
       "\n",
       "    .dataframe tbody tr th {\n",
       "        vertical-align: top;\n",
       "    }\n",
       "\n",
       "    .dataframe thead th {\n",
       "        text-align: right;\n",
       "    }\n",
       "</style>\n",
       "<table border=\"1\" class=\"dataframe\">\n",
       "  <thead>\n",
       "    <tr style=\"text-align: right;\">\n",
       "      <th></th>\n",
       "      <th>Price</th>\n",
       "      <th>VehicleType</th>\n",
       "      <th>RegistrationYear</th>\n",
       "      <th>Gearbox</th>\n",
       "      <th>Power</th>\n",
       "      <th>Model</th>\n",
       "      <th>Kilometer</th>\n",
       "      <th>FuelType</th>\n",
       "      <th>Brand</th>\n",
       "      <th>NotRepaired</th>\n",
       "    </tr>\n",
       "  </thead>\n",
       "  <tbody>\n",
       "    <tr>\n",
       "      <td>0</td>\n",
       "      <td>480</td>\n",
       "      <td>3.0</td>\n",
       "      <td>1993</td>\n",
       "      <td>2.0</td>\n",
       "      <td>0</td>\n",
       "      <td>116.0</td>\n",
       "      <td>150000</td>\n",
       "      <td>7.0</td>\n",
       "      <td>38.0</td>\n",
       "      <td>0.0</td>\n",
       "    </tr>\n",
       "    <tr>\n",
       "      <td>1</td>\n",
       "      <td>18300</td>\n",
       "      <td>2.0</td>\n",
       "      <td>2011</td>\n",
       "      <td>2.0</td>\n",
       "      <td>190</td>\n",
       "      <td>118.0</td>\n",
       "      <td>125000</td>\n",
       "      <td>2.0</td>\n",
       "      <td>1.0</td>\n",
       "      <td>2.0</td>\n",
       "    </tr>\n",
       "    <tr>\n",
       "      <td>2</td>\n",
       "      <td>9800</td>\n",
       "      <td>7.0</td>\n",
       "      <td>2004</td>\n",
       "      <td>0.0</td>\n",
       "      <td>163</td>\n",
       "      <td>117.0</td>\n",
       "      <td>125000</td>\n",
       "      <td>2.0</td>\n",
       "      <td>14.0</td>\n",
       "      <td>0.0</td>\n",
       "    </tr>\n",
       "    <tr>\n",
       "      <td>3</td>\n",
       "      <td>1500</td>\n",
       "      <td>6.0</td>\n",
       "      <td>2001</td>\n",
       "      <td>2.0</td>\n",
       "      <td>75</td>\n",
       "      <td>116.0</td>\n",
       "      <td>150000</td>\n",
       "      <td>7.0</td>\n",
       "      <td>38.0</td>\n",
       "      <td>1.0</td>\n",
       "    </tr>\n",
       "    <tr>\n",
       "      <td>4</td>\n",
       "      <td>3600</td>\n",
       "      <td>6.0</td>\n",
       "      <td>2008</td>\n",
       "      <td>2.0</td>\n",
       "      <td>69</td>\n",
       "      <td>101.0</td>\n",
       "      <td>90000</td>\n",
       "      <td>2.0</td>\n",
       "      <td>31.0</td>\n",
       "      <td>1.0</td>\n",
       "    </tr>\n",
       "  </tbody>\n",
       "</table>\n",
       "</div>"
      ],
      "text/plain": [
       "   Price  VehicleType  RegistrationYear  Gearbox  Power  Model  Kilometer  \\\n",
       "0    480          3.0              1993      2.0      0  116.0     150000   \n",
       "1  18300          2.0              2011      2.0    190  118.0     125000   \n",
       "2   9800          7.0              2004      0.0    163  117.0     125000   \n",
       "3   1500          6.0              2001      2.0     75  116.0     150000   \n",
       "4   3600          6.0              2008      2.0     69  101.0      90000   \n",
       "\n",
       "   FuelType  Brand  NotRepaired  \n",
       "0       7.0   38.0          0.0  \n",
       "1       2.0    1.0          2.0  \n",
       "2       2.0   14.0          0.0  \n",
       "3       7.0   38.0          1.0  \n",
       "4       2.0   31.0          1.0  "
      ]
     },
     "execution_count": 12,
     "metadata": {},
     "output_type": "execute_result"
    }
   ],
   "source": [
    "from sklearn.preprocessing import OrdinalEncoder\n",
    "\n",
    "categorical_features = ['VehicleType', 'Gearbox', 'Model', 'FuelType', 'Brand', 'NotRepaired']\n",
    "\n",
    "oe = OrdinalEncoder()\n",
    "autos[categorical_features] = oe.fit_transform(autos[categorical_features])\n",
    "autos.head()"
   ]
  },
  {
   "cell_type": "markdown",
   "metadata": {},
   "source": [
    "Посмотрим на значения в столбце **RegistrationYear**:"
   ]
  },
  {
   "cell_type": "code",
   "execution_count": 13,
   "metadata": {},
   "outputs": [
    {
     "data": {
      "image/png": "[encoded data removed]",
      "text/plain": [
       "<Figure size 1440x864 with 1 Axes>"
      ]
     },
     "metadata": {
      "needs_background": "light"
     },
     "output_type": "display_data"
    }
   ],
   "source": [
    "plt.figure(figsize=(20,12))\n",
    "plt.scatter(autos.index, autos['RegistrationYear'])\n",
    "plt.grid(True)"
   ]
  },
  {
   "cell_type": "markdown",
   "metadata": {},
   "source": [
    "Видим, что встречаются аномальные значения.\n",
    "\n",
    "Посмотрим сколько их:\\\n",
    "(Считаем, что год должен быть в диапазоне от 1885 г. до 2020 г.)"
   ]
  },
  {
   "cell_type": "code",
   "execution_count": 14,
   "metadata": {},
   "outputs": [
    {
     "data": {
      "text/html": [
       "<div>\n",
       "<style scoped>\n",
       "    .dataframe tbody tr th:only-of-type {\n",
       "        vertical-align: middle;\n",
       "    }\n",
       "\n",
       "    .dataframe tbody tr th {\n",
       "        vertical-align: top;\n",
       "    }\n",
       "\n",
       "    .dataframe thead th {\n",
       "        text-align: right;\n",
       "    }\n",
       "</style>\n",
       "<table border=\"1\" class=\"dataframe\">\n",
       "  <thead>\n",
       "    <tr style=\"text-align: right;\">\n",
       "      <th></th>\n",
       "      <th>Price</th>\n",
       "      <th>VehicleType</th>\n",
       "      <th>RegistrationYear</th>\n",
       "      <th>Gearbox</th>\n",
       "      <th>Power</th>\n",
       "      <th>Model</th>\n",
       "      <th>Kilometer</th>\n",
       "      <th>FuelType</th>\n",
       "      <th>Brand</th>\n",
       "      <th>NotRepaired</th>\n",
       "    </tr>\n",
       "  </thead>\n",
       "  <tbody>\n",
       "    <tr>\n",
       "      <td>12447</td>\n",
       "      <td>49</td>\n",
       "      <td>3.0</td>\n",
       "      <td>5000</td>\n",
       "      <td>1.0</td>\n",
       "      <td>0</td>\n",
       "      <td>116.0</td>\n",
       "      <td>5000</td>\n",
       "      <td>3.0</td>\n",
       "      <td>38.0</td>\n",
       "      <td>0.0</td>\n",
       "    </tr>\n",
       "    <tr>\n",
       "      <td>15227</td>\n",
       "      <td>1700</td>\n",
       "      <td>3.0</td>\n",
       "      <td>3200</td>\n",
       "      <td>1.0</td>\n",
       "      <td>0</td>\n",
       "      <td>118.0</td>\n",
       "      <td>5000</td>\n",
       "      <td>3.0</td>\n",
       "      <td>33.0</td>\n",
       "      <td>0.0</td>\n",
       "    </tr>\n",
       "    <tr>\n",
       "      <td>15406</td>\n",
       "      <td>190</td>\n",
       "      <td>3.0</td>\n",
       "      <td>1000</td>\n",
       "      <td>1.0</td>\n",
       "      <td>0</td>\n",
       "      <td>155.0</td>\n",
       "      <td>5000</td>\n",
       "      <td>3.0</td>\n",
       "      <td>10.0</td>\n",
       "      <td>0.0</td>\n",
       "    </tr>\n",
       "    <tr>\n",
       "      <td>16553</td>\n",
       "      <td>700</td>\n",
       "      <td>3.0</td>\n",
       "      <td>9999</td>\n",
       "      <td>1.0</td>\n",
       "      <td>0</td>\n",
       "      <td>167.0</td>\n",
       "      <td>10000</td>\n",
       "      <td>3.0</td>\n",
       "      <td>24.0</td>\n",
       "      <td>0.0</td>\n",
       "    </tr>\n",
       "    <tr>\n",
       "      <td>16621</td>\n",
       "      <td>6500</td>\n",
       "      <td>3.0</td>\n",
       "      <td>8888</td>\n",
       "      <td>1.0</td>\n",
       "      <td>0</td>\n",
       "      <td>118.0</td>\n",
       "      <td>10000</td>\n",
       "      <td>3.0</td>\n",
       "      <td>33.0</td>\n",
       "      <td>0.0</td>\n",
       "    </tr>\n",
       "    <tr>\n",
       "      <td>...</td>\n",
       "      <td>...</td>\n",
       "      <td>...</td>\n",
       "      <td>...</td>\n",
       "      <td>...</td>\n",
       "      <td>...</td>\n",
       "      <td>...</td>\n",
       "      <td>...</td>\n",
       "      <td>...</td>\n",
       "      <td>...</td>\n",
       "      <td>...</td>\n",
       "    </tr>\n",
       "    <tr>\n",
       "      <td>288562</td>\n",
       "      <td>50</td>\n",
       "      <td>3.0</td>\n",
       "      <td>3000</td>\n",
       "      <td>1.0</td>\n",
       "      <td>3000</td>\n",
       "      <td>116.0</td>\n",
       "      <td>100000</td>\n",
       "      <td>3.0</td>\n",
       "      <td>38.0</td>\n",
       "      <td>2.0</td>\n",
       "    </tr>\n",
       "    <tr>\n",
       "      <td>290045</td>\n",
       "      <td>700</td>\n",
       "      <td>3.0</td>\n",
       "      <td>1600</td>\n",
       "      <td>2.0</td>\n",
       "      <td>1600</td>\n",
       "      <td>28.0</td>\n",
       "      <td>150000</td>\n",
       "      <td>7.0</td>\n",
       "      <td>1.0</td>\n",
       "      <td>1.0</td>\n",
       "    </tr>\n",
       "    <tr>\n",
       "      <td>290826</td>\n",
       "      <td>1</td>\n",
       "      <td>3.0</td>\n",
       "      <td>3000</td>\n",
       "      <td>1.0</td>\n",
       "      <td>0</td>\n",
       "      <td>250.0</td>\n",
       "      <td>5000</td>\n",
       "      <td>3.0</td>\n",
       "      <td>24.0</td>\n",
       "      <td>0.0</td>\n",
       "    </tr>\n",
       "    <tr>\n",
       "      <td>296210</td>\n",
       "      <td>1</td>\n",
       "      <td>3.0</td>\n",
       "      <td>1000</td>\n",
       "      <td>1.0</td>\n",
       "      <td>1000</td>\n",
       "      <td>118.0</td>\n",
       "      <td>150000</td>\n",
       "      <td>3.0</td>\n",
       "      <td>33.0</td>\n",
       "      <td>0.0</td>\n",
       "    </tr>\n",
       "    <tr>\n",
       "      <td>298350</td>\n",
       "      <td>11500</td>\n",
       "      <td>3.0</td>\n",
       "      <td>1800</td>\n",
       "      <td>1.0</td>\n",
       "      <td>16</td>\n",
       "      <td>167.0</td>\n",
       "      <td>5000</td>\n",
       "      <td>7.0</td>\n",
       "      <td>9.0</td>\n",
       "      <td>0.0</td>\n",
       "    </tr>\n",
       "  </tbody>\n",
       "</table>\n",
       "<p>134 rows × 10 columns</p>\n",
       "</div>"
      ],
      "text/plain": [
       "        Price  VehicleType  RegistrationYear  Gearbox  Power  Model  \\\n",
       "12447      49          3.0              5000      1.0      0  116.0   \n",
       "15227    1700          3.0              3200      1.0      0  118.0   \n",
       "15406     190          3.0              1000      1.0      0  155.0   \n",
       "16553     700          3.0              9999      1.0      0  167.0   \n",
       "16621    6500          3.0              8888      1.0      0  118.0   \n",
       "...       ...          ...               ...      ...    ...    ...   \n",
       "288562     50          3.0              3000      1.0   3000  116.0   \n",
       "290045    700          3.0              1600      2.0   1600   28.0   \n",
       "290826      1          3.0              3000      1.0      0  250.0   \n",
       "296210      1          3.0              1000      1.0   1000  118.0   \n",
       "298350  11500          3.0              1800      1.0     16  167.0   \n",
       "\n",
       "        Kilometer  FuelType  Brand  NotRepaired  \n",
       "12447        5000       3.0   38.0          0.0  \n",
       "15227        5000       3.0   33.0          0.0  \n",
       "15406        5000       3.0   10.0          0.0  \n",
       "16553       10000       3.0   24.0          0.0  \n",
       "16621       10000       3.0   33.0          0.0  \n",
       "...           ...       ...    ...          ...  \n",
       "288562     100000       3.0   38.0          2.0  \n",
       "290045     150000       7.0    1.0          1.0  \n",
       "290826       5000       3.0   24.0          0.0  \n",
       "296210     150000       3.0   33.0          0.0  \n",
       "298350       5000       7.0    9.0          0.0  \n",
       "\n",
       "[134 rows x 10 columns]"
      ]
     },
     "execution_count": 14,
     "metadata": {},
     "output_type": "execute_result"
    }
   ],
   "source": [
    "autos[(autos['RegistrationYear'] < 1885) | (autos['RegistrationYear'] > 2020)]"
   ]
  },
  {
   "cell_type": "markdown",
   "metadata": {},
   "source": [
    "Всего 134 строки с невозможными значениями столбца **RegistrationYear**.\\\n",
    "Лучше их удалить, поскольку они составляют ничтожно малую часть от всего датасета."
   ]
  },
  {
   "cell_type": "code",
   "execution_count": 15,
   "metadata": {},
   "outputs": [
    {
     "data": {
      "text/plain": [
       "300291"
      ]
     },
     "execution_count": 15,
     "metadata": {},
     "output_type": "execute_result"
    }
   ],
   "source": [
    "autos = autos[(autos['RegistrationYear'] > 1885) & (autos['RegistrationYear'] < 2020)].reset_index(drop=True)\n",
    "len(autos)"
   ]
  },
  {
   "cell_type": "markdown",
   "metadata": {},
   "source": [
    "### Разделение данных на выборки\n",
    "\n",
    "В конце воспользуемся методами библитоеки **sklearn** для разделения данных на **3** выборки в соотношении **3:1:1**.\n",
    "- Обучающая (60%)\n",
    "- Валидационная (20%)\n",
    "- Тестовая (20%)"
   ]
  },
  {
   "cell_type": "code",
   "execution_count": 16,
   "metadata": {},
   "outputs": [],
   "source": [
    "from sklearn.model_selection import train_test_split\n",
    "\n",
    "features_train, features_test_valid, target_train, target_test_valid = train_test_split(\n",
    "autos.drop(['Price'], axis=1), autos['Price'], test_size=0.4, random_state=42\n",
    ")\n",
    "\n",
    "features_test, features_valid, target_test, target_valid = train_test_split(\n",
    "features_test_valid, target_test_valid, test_size=0.5, random_state=42)"
   ]
  },
  {
   "cell_type": "markdown",
   "metadata": {},
   "source": [
    "Данные разбиты на выборки, можно приступать к построению и настройке моделей."
   ]
  },
  {
   "cell_type": "markdown",
   "metadata": {},
   "source": [
    "---"
   ]
  },
  {
   "cell_type": "markdown",
   "metadata": {},
   "source": [
    "# 2. Обучение моделей"
   ]
  },
  {
   "cell_type": "markdown",
   "metadata": {},
   "source": [
    "Обучение будем проводить с помощью библиотеки **LightGBM**.\\\n",
    "Ключевая метрика, по условию задачи - **RMSE**.\n",
    "\n",
    "Последовательность при работе будет следующая:\n",
    "- Создание и оценка константной модели (для дальнейшего сравнения)\n",
    "- Создание базовой модели регрессии и её оценка\n",
    "- Тюнинг гиперпараметров\n",
    "- Выбор оптимальной модели по точности и скорости работы."
   ]
  },
  {
   "cell_type": "markdown",
   "metadata": {},
   "source": [
    "#### Импортируем необходимые библиотеки"
   ]
  },
  {
   "cell_type": "code",
   "execution_count": 17,
   "metadata": {},
   "outputs": [],
   "source": [
    "from sklearn.metrics import mean_squared_error\n",
    "import lightgbm as lgb"
   ]
  },
  {
   "cell_type": "markdown",
   "metadata": {},
   "source": [
    "#### Создадим функцию для подсчета *RMSE*"
   ]
  },
  {
   "cell_type": "code",
   "execution_count": 18,
   "metadata": {},
   "outputs": [],
   "source": [
    "def rmse(target, prediction):\n",
    "    return mean_squared_error(target, prediction)**0.5"
   ]
  },
  {
   "cell_type": "markdown",
   "metadata": {},
   "source": [
    "## Построение константной модели\n",
    "\n",
    "Данная модель будет предсказывать **среднюю цену** (оптимально для **rmse**) автомобилей во всех объявлениях."
   ]
  },
  {
   "cell_type": "code",
   "execution_count": 19,
   "metadata": {},
   "outputs": [
    {
     "data": {
      "text/plain": [
       "4570.086796127868"
      ]
     },
     "execution_count": 19,
     "metadata": {},
     "output_type": "execute_result"
    }
   ],
   "source": [
    "constant_pred = pd.Series(target_valid.mean(), index=target_valid.index)\n",
    "rmse(target_valid, constant_pred)"
   ]
  },
  {
   "cell_type": "markdown",
   "metadata": {},
   "source": [
    "Получили значение метрики 4.5к - в дальнейшем будем использовать его для проверки адекватности моделей."
   ]
  },
  {
   "cell_type": "markdown",
   "metadata": {},
   "source": [
    "## Создание базовой модели\n",
    "\n",
    "Предварительно необходимо создать датасеты для LightGBM:"
   ]
  },
  {
   "cell_type": "code",
   "execution_count": 20,
   "metadata": {},
   "outputs": [],
   "source": [
    "lgb_train = lgb.Dataset(features_train, target_train, free_raw_data=False,\n",
    "                        categorical_feature = categorical_features)\n",
    "lgb_eval = lgb.Dataset(features_valid, target_valid, reference=lgb_train, free_raw_data=False,\n",
    "                      categorical_feature = categorical_features)"
   ]
  },
  {
   "cell_type": "markdown",
   "metadata": {},
   "source": [
    "Зададим начальные параметры, метрику выбираем **mse**, поскольку **RMSE** является производной от нее:"
   ]
  },
  {
   "cell_type": "code",
   "execution_count": 21,
   "metadata": {},
   "outputs": [],
   "source": [
    "params = {\n",
    "    'boosting_type': 'gbdt',\n",
    "    'objective': 'regression',\n",
    "    'metric' : 'mse',\n",
    "    'learning_rate' : 0.01,\n",
    "    'bagging_fraction' : 0.8,\n",
    "    'bagging_freq' : 5,\n",
    "}"
   ]
  },
  {
   "cell_type": "markdown",
   "metadata": {},
   "source": [
    "Обучим и оценим модель. Для начала укажем 100 итераций:"
   ]
  },
  {
   "cell_type": "code",
   "execution_count": 22,
   "metadata": {},
   "outputs": [
    {
     "name": "stderr",
     "output_type": "stream",
     "text": [
      "/opt/conda/lib/python3.7/site-packages/lightgbm/basic.py:1291: UserWarning: Using categorical_feature in Dataset.\n",
      "  warnings.warn('Using categorical_feature in Dataset.')\n"
     ]
    },
    {
     "name": "stdout",
     "output_type": "stream",
     "text": [
      "[1]\tvalid_0's l2: 2.0588e+07\n",
      "Training until validation scores don't improve for 5 rounds\n",
      "[2]\tvalid_0's l2: 2.02959e+07\n",
      "[3]\tvalid_0's l2: 2.00094e+07\n",
      "[4]\tvalid_0's l2: 1.97286e+07\n",
      "[5]\tvalid_0's l2: 1.94544e+07\n",
      "[6]\tvalid_0's l2: 1.91854e+07\n",
      "[7]\tvalid_0's l2: 1.89218e+07\n",
      "[8]\tvalid_0's l2: 1.86634e+07\n",
      "[9]\tvalid_0's l2: 1.84098e+07\n",
      "[10]\tvalid_0's l2: 1.81613e+07\n",
      "[11]\tvalid_0's l2: 1.79163e+07\n",
      "[12]\tvalid_0's l2: 1.76761e+07\n",
      "[13]\tvalid_0's l2: 1.74404e+07\n",
      "[14]\tvalid_0's l2: 1.72109e+07\n",
      "[15]\tvalid_0's l2: 1.69847e+07\n",
      "[16]\tvalid_0's l2: 1.6763e+07\n",
      "[17]\tvalid_0's l2: 1.65426e+07\n",
      "[18]\tvalid_0's l2: 1.63282e+07\n",
      "[19]\tvalid_0's l2: 1.61167e+07\n",
      "[20]\tvalid_0's l2: 1.59075e+07\n",
      "[21]\tvalid_0's l2: 1.57026e+07\n",
      "[22]\tvalid_0's l2: 1.55044e+07\n",
      "[23]\tvalid_0's l2: 1.53075e+07\n",
      "[24]\tvalid_0's l2: 1.51171e+07\n",
      "[25]\tvalid_0's l2: 1.49258e+07\n",
      "[26]\tvalid_0's l2: 1.47408e+07\n",
      "[27]\tvalid_0's l2: 1.45576e+07\n",
      "[28]\tvalid_0's l2: 1.43781e+07\n",
      "[29]\tvalid_0's l2: 1.42043e+07\n",
      "[30]\tvalid_0's l2: 1.4032e+07\n",
      "[31]\tvalid_0's l2: 1.38637e+07\n",
      "[32]\tvalid_0's l2: 1.3699e+07\n",
      "[33]\tvalid_0's l2: 1.35358e+07\n",
      "[34]\tvalid_0's l2: 1.33772e+07\n",
      "[35]\tvalid_0's l2: 1.32201e+07\n",
      "[36]\tvalid_0's l2: 1.30659e+07\n",
      "[37]\tvalid_0's l2: 1.29151e+07\n",
      "[38]\tvalid_0's l2: 1.27652e+07\n",
      "[39]\tvalid_0's l2: 1.26194e+07\n",
      "[40]\tvalid_0's l2: 1.24748e+07\n",
      "[41]\tvalid_0's l2: 1.23344e+07\n",
      "[42]\tvalid_0's l2: 1.21954e+07\n",
      "[43]\tvalid_0's l2: 1.20587e+07\n",
      "[44]\tvalid_0's l2: 1.19266e+07\n",
      "[45]\tvalid_0's l2: 1.17947e+07\n",
      "[46]\tvalid_0's l2: 1.16629e+07\n",
      "[47]\tvalid_0's l2: 1.15336e+07\n",
      "[48]\tvalid_0's l2: 1.14065e+07\n",
      "[49]\tvalid_0's l2: 1.12816e+07\n",
      "[50]\tvalid_0's l2: 1.11589e+07\n",
      "[51]\tvalid_0's l2: 1.10414e+07\n",
      "[52]\tvalid_0's l2: 1.09249e+07\n",
      "[53]\tvalid_0's l2: 1.08108e+07\n",
      "[54]\tvalid_0's l2: 1.06973e+07\n",
      "[55]\tvalid_0's l2: 1.05873e+07\n",
      "[56]\tvalid_0's l2: 1.04793e+07\n",
      "[57]\tvalid_0's l2: 1.03703e+07\n",
      "[58]\tvalid_0's l2: 1.02664e+07\n",
      "[59]\tvalid_0's l2: 1.01605e+07\n",
      "[60]\tvalid_0's l2: 1.00586e+07\n",
      "[61]\tvalid_0's l2: 9.95616e+06\n",
      "[62]\tvalid_0's l2: 9.85609e+06\n",
      "[63]\tvalid_0's l2: 9.75706e+06\n",
      "[64]\tvalid_0's l2: 9.6618e+06\n",
      "[65]\tvalid_0's l2: 9.56847e+06\n",
      "[66]\tvalid_0's l2: 9.4745e+06\n",
      "[67]\tvalid_0's l2: 9.38322e+06\n",
      "[68]\tvalid_0's l2: 9.29316e+06\n",
      "[69]\tvalid_0's l2: 9.20719e+06\n",
      "[70]\tvalid_0's l2: 9.12235e+06\n",
      "[71]\tvalid_0's l2: 9.03662e+06\n",
      "[72]\tvalid_0's l2: 8.95217e+06\n",
      "[73]\tvalid_0's l2: 8.86893e+06\n",
      "[74]\tvalid_0's l2: 8.78651e+06\n",
      "[75]\tvalid_0's l2: 8.70655e+06\n",
      "[76]\tvalid_0's l2: 8.62757e+06\n",
      "[77]\tvalid_0's l2: 8.54983e+06\n",
      "[78]\tvalid_0's l2: 8.47316e+06\n",
      "[79]\tvalid_0's l2: 8.39954e+06\n",
      "[80]\tvalid_0's l2: 8.32568e+06\n",
      "[81]\tvalid_0's l2: 8.251e+06\n",
      "[82]\tvalid_0's l2: 8.17961e+06\n",
      "[83]\tvalid_0's l2: 8.10786e+06\n",
      "[84]\tvalid_0's l2: 8.03709e+06\n",
      "[85]\tvalid_0's l2: 7.96951e+06\n",
      "[86]\tvalid_0's l2: 7.90223e+06\n",
      "[87]\tvalid_0's l2: 7.83593e+06\n",
      "[88]\tvalid_0's l2: 7.77115e+06\n",
      "[89]\tvalid_0's l2: 7.70725e+06\n",
      "[90]\tvalid_0's l2: 7.64506e+06\n",
      "[91]\tvalid_0's l2: 7.5833e+06\n",
      "[92]\tvalid_0's l2: 7.52241e+06\n",
      "[93]\tvalid_0's l2: 7.46286e+06\n",
      "[94]\tvalid_0's l2: 7.40407e+06\n",
      "[95]\tvalid_0's l2: 7.34643e+06\n",
      "[96]\tvalid_0's l2: 7.28847e+06\n",
      "[97]\tvalid_0's l2: 7.2311e+06\n",
      "[98]\tvalid_0's l2: 7.17525e+06\n",
      "[99]\tvalid_0's l2: 7.12053e+06\n",
      "[100]\tvalid_0's l2: 7.06632e+06\n",
      "Did not meet early stopping. Best iteration is:\n",
      "[100]\tvalid_0's l2: 7.06632e+06\n",
      "CPU times: user 7min 50s, sys: 4.18 s, total: 7min 54s\n",
      "Wall time: 7min 57s\n"
     ]
    }
   ],
   "source": [
    "%%time\n",
    "\n",
    "gbm_model = lgb.train(params,\n",
    "                      lgb_train,\n",
    "                      valid_sets=lgb_eval,\n",
    "                      early_stopping_rounds=5)"
   ]
  },
  {
   "cell_type": "code",
   "execution_count": 23,
   "metadata": {
    "scrolled": false
   },
   "outputs": [
    {
     "name": "stdout",
     "output_type": "stream",
     "text": [
      "RMSE Train: 2651.195525548925\n",
      "RMSE Valid: 2658.254390671997\n",
      "RMSE Test: 2669.327130424343\n"
     ]
    }
   ],
   "source": [
    "prediction = gbm_model.predict(features_train, num_iteration=gbm_model.best_iteration)\n",
    "print('RMSE Train:', rmse(target_train, prediction))\n",
    "\n",
    "prediction = gbm_model.predict(features_valid, num_iteration=gbm_model.best_iteration)\n",
    "print('RMSE Valid:', rmse(target_valid, prediction))\n",
    "\n",
    "prediction = gbm_model.predict(features_test, num_iteration=gbm_model.best_iteration)\n",
    "print('RMSE Test:', rmse(target_test, prediction))"
   ]
  },
  {
   "cell_type": "markdown",
   "metadata": {},
   "source": [
    "Получаем RMSE значительно лучше - 2648 без настройки параметров.\\\n",
    "Время обучения - 0.7 секунд.\n",
    "\n",
    "Опытным путем подберем оптимальное значение следующих параметров:\n",
    "- learning_rate\n",
    "- num_leaves\n",
    "- max_depth\n",
    "- min_data_in_leaf\n",
    "- max_bin\n",
    "- learning_rate\n",
    "- feature_fraction\n",
    "\n",
    "Также изменим **boosting_type** на **dart**, поскольку этот алгоритм, как правило, дает лучшие результаты. Недостатком же является повышенное время обучения."
   ]
  },
  {
   "cell_type": "code",
   "execution_count": null,
   "metadata": {},
   "outputs": [],
   "source": [
    "%%time\n",
    "params_optimal = {\n",
    "    'boosting_type': 'dart',\n",
    "    'objective': 'regression',\n",
    "    'metric' : 'mse',\n",
    "    'learning_rate' : 0.1,\n",
    "    'feature_fraction' : 0.7,\n",
    "    'bagging_fraction' : 0.8,\n",
    "    'bagging_freq' : 5,\n",
    "    'num_leaves' : 80,\n",
    "    'max_depth' : 9,\n",
    "    'max_bin' : 20,\n",
    "    'min_data_in_leaf' : 15,\n",
    "}\n",
    "\n",
    "gbm_model = lgb.train(params_optimal,\n",
    "                      lgb_train,\n",
    "                      num_boost_round=2000,\n",
    "                      valid_sets=lgb_eval,\n",
    "                      early_stopping_rounds=5)"
   ]
  },
  {
   "cell_type": "code",
   "execution_count": null,
   "metadata": {
    "scrolled": false
   },
   "outputs": [],
   "source": [
    "%%time\n",
    "prediction = gbm_model.predict(features_train, num_iteration=gbm_model.best_iteration)\n",
    "print('RMSE Train:', rmse(target_train, prediction))\n",
    "\n",
    "prediction = gbm_model.predict(features_valid, num_iteration=gbm_model.best_iteration)\n",
    "print('RMSE Valid:', rmse(target_valid, prediction))"
   ]
  },
  {
   "cell_type": "markdown",
   "metadata": {},
   "source": [
    "Построенная модель достаточно сильно переобучилась, однако значение метрики на валидационной выборке при таких параметрах минимально.\n",
    "\n",
    "Дальнейшее улучшение целевой метрики потребует значительных временных затрат и вычислительных мощностей, необоснованно повышающих время на обучение моделей, что в рамках данной задачи является нежелательным.\n",
    "\n",
    "RMSE на валидационной выборке - 1615.\\\n",
    "Время обучения модели 4 мин. 8 с."
   ]
  },
  {
   "cell_type": "markdown",
   "metadata": {},
   "source": [
    "Посчитаем конечное значение RMSE на тестовой выборке:"
   ]
  },
  {
   "cell_type": "code",
   "execution_count": null,
   "metadata": {},
   "outputs": [],
   "source": [
    "%%time\n",
    "prediction = gbm_model.predict(features_test, num_iteration=gbm_model.best_iteration)\n",
    "print('RMSE Test:', rmse(target_test, prediction))"
   ]
  },
  {
   "cell_type": "markdown",
   "metadata": {},
   "source": [
    "---"
   ]
  },
  {
   "cell_type": "markdown",
   "metadata": {},
   "source": [
    "### Для сравнения, посмотрим какие показатели покажут модели линейной регрессии и случайного леса."
   ]
  },
  {
   "cell_type": "markdown",
   "metadata": {},
   "source": [
    "#### Линейная регрессия"
   ]
  },
  {
   "cell_type": "code",
   "execution_count": 19,
   "metadata": {},
   "outputs": [],
   "source": [
    "from sklearn.linear_model import LinearRegression"
   ]
  },
  {
   "cell_type": "markdown",
   "metadata": {},
   "source": [
    "Перед обучением требуется закодировать категориальные признаки методом OHE, с параметром drop_first=True, чтобы избежать дамми-ловушки:"
   ]
  },
  {
   "cell_type": "code",
   "execution_count": 20,
   "metadata": {},
   "outputs": [
    {
     "data": {
      "text/html": [
       "<div>\n",
       "<style scoped>\n",
       "    .dataframe tbody tr th:only-of-type {\n",
       "        vertical-align: middle;\n",
       "    }\n",
       "\n",
       "    .dataframe tbody tr th {\n",
       "        vertical-align: top;\n",
       "    }\n",
       "\n",
       "    .dataframe thead th {\n",
       "        text-align: right;\n",
       "    }\n",
       "</style>\n",
       "<table border=\"1\" class=\"dataframe\">\n",
       "  <thead>\n",
       "    <tr style=\"text-align: right;\">\n",
       "      <th></th>\n",
       "      <th>Price</th>\n",
       "      <th>RegistrationYear</th>\n",
       "      <th>Power</th>\n",
       "      <th>Kilometer</th>\n",
       "      <th>VehicleType_1.0</th>\n",
       "      <th>VehicleType_2.0</th>\n",
       "      <th>VehicleType_3.0</th>\n",
       "      <th>VehicleType_4.0</th>\n",
       "      <th>VehicleType_5.0</th>\n",
       "      <th>VehicleType_6.0</th>\n",
       "      <th>...</th>\n",
       "      <th>Brand_32.0</th>\n",
       "      <th>Brand_33.0</th>\n",
       "      <th>Brand_34.0</th>\n",
       "      <th>Brand_35.0</th>\n",
       "      <th>Brand_36.0</th>\n",
       "      <th>Brand_37.0</th>\n",
       "      <th>Brand_38.0</th>\n",
       "      <th>Brand_39.0</th>\n",
       "      <th>NotRepaired_1.0</th>\n",
       "      <th>NotRepaired_2.0</th>\n",
       "    </tr>\n",
       "  </thead>\n",
       "  <tbody>\n",
       "    <tr>\n",
       "      <td>0</td>\n",
       "      <td>480</td>\n",
       "      <td>1993</td>\n",
       "      <td>0</td>\n",
       "      <td>150000</td>\n",
       "      <td>0</td>\n",
       "      <td>0</td>\n",
       "      <td>1</td>\n",
       "      <td>0</td>\n",
       "      <td>0</td>\n",
       "      <td>0</td>\n",
       "      <td>...</td>\n",
       "      <td>0</td>\n",
       "      <td>0</td>\n",
       "      <td>0</td>\n",
       "      <td>0</td>\n",
       "      <td>0</td>\n",
       "      <td>0</td>\n",
       "      <td>1</td>\n",
       "      <td>0</td>\n",
       "      <td>0</td>\n",
       "      <td>0</td>\n",
       "    </tr>\n",
       "    <tr>\n",
       "      <td>1</td>\n",
       "      <td>18300</td>\n",
       "      <td>2011</td>\n",
       "      <td>190</td>\n",
       "      <td>125000</td>\n",
       "      <td>0</td>\n",
       "      <td>1</td>\n",
       "      <td>0</td>\n",
       "      <td>0</td>\n",
       "      <td>0</td>\n",
       "      <td>0</td>\n",
       "      <td>...</td>\n",
       "      <td>0</td>\n",
       "      <td>0</td>\n",
       "      <td>0</td>\n",
       "      <td>0</td>\n",
       "      <td>0</td>\n",
       "      <td>0</td>\n",
       "      <td>0</td>\n",
       "      <td>0</td>\n",
       "      <td>0</td>\n",
       "      <td>1</td>\n",
       "    </tr>\n",
       "    <tr>\n",
       "      <td>2</td>\n",
       "      <td>9800</td>\n",
       "      <td>2004</td>\n",
       "      <td>163</td>\n",
       "      <td>125000</td>\n",
       "      <td>0</td>\n",
       "      <td>0</td>\n",
       "      <td>0</td>\n",
       "      <td>0</td>\n",
       "      <td>0</td>\n",
       "      <td>0</td>\n",
       "      <td>...</td>\n",
       "      <td>0</td>\n",
       "      <td>0</td>\n",
       "      <td>0</td>\n",
       "      <td>0</td>\n",
       "      <td>0</td>\n",
       "      <td>0</td>\n",
       "      <td>0</td>\n",
       "      <td>0</td>\n",
       "      <td>0</td>\n",
       "      <td>0</td>\n",
       "    </tr>\n",
       "  </tbody>\n",
       "</table>\n",
       "<p>3 rows × 312 columns</p>\n",
       "</div>"
      ],
      "text/plain": [
       "   Price  RegistrationYear  Power  Kilometer  VehicleType_1.0  \\\n",
       "0    480              1993      0     150000                0   \n",
       "1  18300              2011    190     125000                0   \n",
       "2   9800              2004    163     125000                0   \n",
       "\n",
       "   VehicleType_2.0  VehicleType_3.0  VehicleType_4.0  VehicleType_5.0  \\\n",
       "0                0                1                0                0   \n",
       "1                1                0                0                0   \n",
       "2                0                0                0                0   \n",
       "\n",
       "   VehicleType_6.0  ...  Brand_32.0  Brand_33.0  Brand_34.0  Brand_35.0  \\\n",
       "0                0  ...           0           0           0           0   \n",
       "1                0  ...           0           0           0           0   \n",
       "2                0  ...           0           0           0           0   \n",
       "\n",
       "   Brand_36.0  Brand_37.0  Brand_38.0  Brand_39.0  NotRepaired_1.0  \\\n",
       "0           0           0           1           0                0   \n",
       "1           0           0           0           0                0   \n",
       "2           0           0           0           0                0   \n",
       "\n",
       "   NotRepaired_2.0  \n",
       "0                0  \n",
       "1                1  \n",
       "2                0  \n",
       "\n",
       "[3 rows x 312 columns]"
      ]
     },
     "execution_count": 20,
     "metadata": {},
     "output_type": "execute_result"
    }
   ],
   "source": [
    "autos_OHE = pd.get_dummies(autos, columns=categorical_features, drop_first=True)\n",
    "autos_OHE.head(3)"
   ]
  },
  {
   "cell_type": "markdown",
   "metadata": {},
   "source": [
    "Снова разделим на выборки:"
   ]
  },
  {
   "cell_type": "code",
   "execution_count": 21,
   "metadata": {},
   "outputs": [],
   "source": [
    "from sklearn.model_selection import train_test_split\n",
    "\n",
    "features_train_OHE, features_test_valid_OHE, target_train_OHE, target_test_valid_OHE = train_test_split(\n",
    "autos_OHE.drop(['Price'], axis=1), autos_OHE['Price'], test_size=0.4, random_state=42\n",
    ")\n",
    "\n",
    "features_test_OHE, features_valid_OHE, target_test_OHE, target_valid_OHE = train_test_split(\n",
    "features_test_valid_OHE, target_test_valid_OHE, test_size=0.5, random_state=42)"
   ]
  },
  {
   "cell_type": "markdown",
   "metadata": {},
   "source": [
    "Обучение модели:"
   ]
  },
  {
   "cell_type": "code",
   "execution_count": 22,
   "metadata": {},
   "outputs": [
    {
     "name": "stdout",
     "output_type": "stream",
     "text": [
      "CPU times: user 14.2 s, sys: 7.96 s, total: 22.1 s\n",
      "Wall time: 22.1 s\n"
     ]
    },
    {
     "data": {
      "text/plain": [
       "LinearRegression(copy_X=True, fit_intercept=True, n_jobs=None, normalize=True)"
      ]
     },
     "execution_count": 22,
     "metadata": {},
     "output_type": "execute_result"
    }
   ],
   "source": [
    "%%time\n",
    "reg_model = LinearRegression(normalize=True)\n",
    "reg_model.fit(features_train_OHE, target_train_OHE)"
   ]
  },
  {
   "cell_type": "markdown",
   "metadata": {},
   "source": [
    "Оценка модели"
   ]
  },
  {
   "cell_type": "code",
   "execution_count": 23,
   "metadata": {
    "scrolled": false
   },
   "outputs": [
    {
     "name": "stdout",
     "output_type": "stream",
     "text": [
      "RMSE Train: 2892.1961935106315\n",
      "RMSE Valid: 2908.7990894804257\n",
      "RMSE Test: 2937.7182606580386\n",
      "CPU times: user 376 ms, sys: 720 ms, total: 1.1 s\n",
      "Wall time: 1.04 s\n"
     ]
    }
   ],
   "source": [
    "%%time\n",
    "prediction = reg_model.predict(features_train_OHE)\n",
    "print('RMSE Train:', rmse(target_train_OHE, prediction))\n",
    "\n",
    "prediction = reg_model.predict(features_valid_OHE)\n",
    "print('RMSE Valid:', rmse(target_valid_OHE, prediction))\n",
    "\n",
    "prediction = reg_model.predict(features_test_OHE)\n",
    "print('RMSE Test:', rmse(target_test_OHE, prediction))"
   ]
  },
  {
   "cell_type": "markdown",
   "metadata": {},
   "source": [
    "Видим, что модель обучается и делает предсказания практически мгновенно, однако значение **RMSE** довольно высоко, хотя и лучше, чем константной модели. Переобучения нет.\n",
    "\n",
    "То есть **качество модели удовлетворительное**, проверку на адекватность проходит.\n",
    "\n",
    "---"
   ]
  },
  {
   "cell_type": "markdown",
   "metadata": {},
   "source": [
    "#### Случайный лес\n",
    "\n",
    "Настройку гиперпараметров для случайного леса будем проводить с помощью метода **RandomzedSearchCV**.\\\n",
    "Оценку проводим при помощи созданной ранее функции **rmse**."
   ]
  },
  {
   "cell_type": "code",
   "execution_count": 30,
   "metadata": {},
   "outputs": [],
   "source": [
    "from sklearn.ensemble import RandomForestRegressor\n",
    "from sklearn.model_selection import RandomizedSearchCV\n",
    "from sklearn.metrics import make_scorer"
   ]
  },
  {
   "cell_type": "markdown",
   "metadata": {},
   "source": [
    "Функция для оценки качества модели:"
   ]
  },
  {
   "cell_type": "code",
   "execution_count": 31,
   "metadata": {},
   "outputs": [],
   "source": [
    "rmse_score = make_scorer(rmse, greater_is_better=False)"
   ]
  },
  {
   "cell_type": "markdown",
   "metadata": {},
   "source": [
    "Обучение модели:"
   ]
  },
  {
   "cell_type": "code",
   "execution_count": 32,
   "metadata": {},
   "outputs": [
    {
     "name": "stdout",
     "output_type": "stream",
     "text": [
      "Fitting 4 folds for each of 6 candidates, totalling 24 fits\n",
      "[CV] n_estimators=20, min_samples_split=10, min_samples_leaf=2, max_features=auto, max_depth=12, bootstrap=True \n"
     ]
    },
    {
     "name": "stderr",
     "output_type": "stream",
     "text": [
      "[Parallel(n_jobs=-1)]: Using backend SequentialBackend with 1 concurrent workers.\n"
     ]
    },
    {
     "name": "stdout",
     "output_type": "stream",
     "text": [
      "[CV]  n_estimators=20, min_samples_split=10, min_samples_leaf=2, max_features=auto, max_depth=12, bootstrap=True, total=   5.2s\n",
      "[CV] n_estimators=20, min_samples_split=10, min_samples_leaf=2, max_features=auto, max_depth=12, bootstrap=True \n"
     ]
    },
    {
     "name": "stderr",
     "output_type": "stream",
     "text": [
      "[Parallel(n_jobs=-1)]: Done   1 out of   1 | elapsed:    5.2s remaining:    0.0s\n"
     ]
    },
    {
     "name": "stdout",
     "output_type": "stream",
     "text": [
      "[CV]  n_estimators=20, min_samples_split=10, min_samples_leaf=2, max_features=auto, max_depth=12, bootstrap=True, total=   5.2s\n",
      "[CV] n_estimators=20, min_samples_split=10, min_samples_leaf=2, max_features=auto, max_depth=12, bootstrap=True \n",
      "[CV]  n_estimators=20, min_samples_split=10, min_samples_leaf=2, max_features=auto, max_depth=12, bootstrap=True, total=   5.2s\n",
      "[CV] n_estimators=20, min_samples_split=10, min_samples_leaf=2, max_features=auto, max_depth=12, bootstrap=True \n",
      "[CV]  n_estimators=20, min_samples_split=10, min_samples_leaf=2, max_features=auto, max_depth=12, bootstrap=True, total=   5.1s\n",
      "[CV] n_estimators=100, min_samples_split=2, min_samples_leaf=2, max_features=log2, max_depth=15, bootstrap=True \n",
      "[CV]  n_estimators=100, min_samples_split=2, min_samples_leaf=2, max_features=log2, max_depth=15, bootstrap=True, total=  13.4s\n",
      "[CV] n_estimators=100, min_samples_split=2, min_samples_leaf=2, max_features=log2, max_depth=15, bootstrap=True \n",
      "[CV]  n_estimators=100, min_samples_split=2, min_samples_leaf=2, max_features=log2, max_depth=15, bootstrap=True, total=  13.6s\n",
      "[CV] n_estimators=100, min_samples_split=2, min_samples_leaf=2, max_features=log2, max_depth=15, bootstrap=True \n",
      "[CV]  n_estimators=100, min_samples_split=2, min_samples_leaf=2, max_features=log2, max_depth=15, bootstrap=True, total=  15.5s\n",
      "[CV] n_estimators=100, min_samples_split=2, min_samples_leaf=2, max_features=log2, max_depth=15, bootstrap=True \n",
      "[CV]  n_estimators=100, min_samples_split=2, min_samples_leaf=2, max_features=log2, max_depth=15, bootstrap=True, total=  13.6s\n",
      "[CV] n_estimators=20, min_samples_split=10, min_samples_leaf=2, max_features=auto, max_depth=15, bootstrap=True \n",
      "[CV]  n_estimators=20, min_samples_split=10, min_samples_leaf=2, max_features=auto, max_depth=15, bootstrap=True, total=   6.1s\n",
      "[CV] n_estimators=20, min_samples_split=10, min_samples_leaf=2, max_features=auto, max_depth=15, bootstrap=True \n",
      "[CV]  n_estimators=20, min_samples_split=10, min_samples_leaf=2, max_features=auto, max_depth=15, bootstrap=True, total=   6.1s\n",
      "[CV] n_estimators=20, min_samples_split=10, min_samples_leaf=2, max_features=auto, max_depth=15, bootstrap=True \n",
      "[CV]  n_estimators=20, min_samples_split=10, min_samples_leaf=2, max_features=auto, max_depth=15, bootstrap=True, total=   6.1s\n",
      "[CV] n_estimators=20, min_samples_split=10, min_samples_leaf=2, max_features=auto, max_depth=15, bootstrap=True \n",
      "[CV]  n_estimators=20, min_samples_split=10, min_samples_leaf=2, max_features=auto, max_depth=15, bootstrap=True, total=   6.1s\n",
      "[CV] n_estimators=120, min_samples_split=5, min_samples_leaf=1, max_features=auto, max_depth=15, bootstrap=True \n",
      "[CV]  n_estimators=120, min_samples_split=5, min_samples_leaf=1, max_features=auto, max_depth=15, bootstrap=True, total=  38.1s\n",
      "[CV] n_estimators=120, min_samples_split=5, min_samples_leaf=1, max_features=auto, max_depth=15, bootstrap=True \n",
      "[CV]  n_estimators=120, min_samples_split=5, min_samples_leaf=1, max_features=auto, max_depth=15, bootstrap=True, total=  38.5s\n",
      "[CV] n_estimators=120, min_samples_split=5, min_samples_leaf=1, max_features=auto, max_depth=15, bootstrap=True \n",
      "[CV]  n_estimators=120, min_samples_split=5, min_samples_leaf=1, max_features=auto, max_depth=15, bootstrap=True, total=  48.3s\n",
      "[CV] n_estimators=120, min_samples_split=5, min_samples_leaf=1, max_features=auto, max_depth=15, bootstrap=True \n",
      "[CV]  n_estimators=120, min_samples_split=5, min_samples_leaf=1, max_features=auto, max_depth=15, bootstrap=True, total=  55.5s\n",
      "[CV] n_estimators=180, min_samples_split=5, min_samples_leaf=1, max_features=auto, max_depth=7, bootstrap=False \n",
      "[CV]  n_estimators=180, min_samples_split=5, min_samples_leaf=1, max_features=auto, max_depth=7, bootstrap=False, total=  54.1s\n",
      "[CV] n_estimators=180, min_samples_split=5, min_samples_leaf=1, max_features=auto, max_depth=7, bootstrap=False \n",
      "[CV]  n_estimators=180, min_samples_split=5, min_samples_leaf=1, max_features=auto, max_depth=7, bootstrap=False, total= 1.1min\n",
      "[CV] n_estimators=180, min_samples_split=5, min_samples_leaf=1, max_features=auto, max_depth=7, bootstrap=False \n",
      "[CV]  n_estimators=180, min_samples_split=5, min_samples_leaf=1, max_features=auto, max_depth=7, bootstrap=False, total= 1.1min\n",
      "[CV] n_estimators=180, min_samples_split=5, min_samples_leaf=1, max_features=auto, max_depth=7, bootstrap=False \n",
      "[CV]  n_estimators=180, min_samples_split=5, min_samples_leaf=1, max_features=auto, max_depth=7, bootstrap=False, total=  49.5s\n",
      "[CV] n_estimators=200, min_samples_split=2, min_samples_leaf=1, max_features=auto, max_depth=12, bootstrap=False \n",
      "[CV]  n_estimators=200, min_samples_split=2, min_samples_leaf=1, max_features=auto, max_depth=12, bootstrap=False, total= 1.3min\n",
      "[CV] n_estimators=200, min_samples_split=2, min_samples_leaf=1, max_features=auto, max_depth=12, bootstrap=False \n",
      "[CV]  n_estimators=200, min_samples_split=2, min_samples_leaf=1, max_features=auto, max_depth=12, bootstrap=False, total= 1.3min\n",
      "[CV] n_estimators=200, min_samples_split=2, min_samples_leaf=1, max_features=auto, max_depth=12, bootstrap=False \n",
      "[CV]  n_estimators=200, min_samples_split=2, min_samples_leaf=1, max_features=auto, max_depth=12, bootstrap=False, total= 1.3min\n",
      "[CV] n_estimators=200, min_samples_split=2, min_samples_leaf=1, max_features=auto, max_depth=12, bootstrap=False \n",
      "[CV]  n_estimators=200, min_samples_split=2, min_samples_leaf=1, max_features=auto, max_depth=12, bootstrap=False, total= 1.3min\n"
     ]
    },
    {
     "name": "stderr",
     "output_type": "stream",
     "text": [
      "[Parallel(n_jobs=-1)]: Done  24 out of  24 | elapsed: 13.8min finished\n"
     ]
    },
    {
     "name": "stdout",
     "output_type": "stream",
     "text": [
      "CPU times: user 13min 55s, sys: 684 ms, total: 13min 55s\n",
      "Wall time: 14min 5s\n"
     ]
    },
    {
     "data": {
      "text/plain": [
       "{'n_estimators': 100,\n",
       " 'min_samples_split': 2,\n",
       " 'min_samples_leaf': 2,\n",
       " 'max_features': 'log2',\n",
       " 'max_depth': 15,\n",
       " 'bootstrap': True}"
      ]
     },
     "execution_count": 32,
     "metadata": {},
     "output_type": "execute_result"
    }
   ],
   "source": [
    "%%time\n",
    "\n",
    "n_estimators = [int(x) for x in np.linspace(start = 20, stop = 200, num = 10)]\n",
    "\n",
    "max_features = ['auto', 'sqrt', 'log2']\n",
    "max_depth = [int(x) for x in np.linspace(5, 15, num = 5)]\n",
    "\n",
    "min_samples_split = [2, 5, 10]\n",
    "min_samples_leaf = [1, 2, 4]\n",
    "bootstrap = [True, False]\n",
    "\n",
    "random_grid = {'n_estimators': n_estimators,\n",
    "               'max_features': max_features,\n",
    "               'max_depth': max_depth,\n",
    "               'min_samples_split': min_samples_split,\n",
    "               'min_samples_leaf': min_samples_leaf,\n",
    "               'bootstrap': bootstrap}\n",
    "\n",
    "forest_model = RandomForestRegressor()\n",
    "\n",
    "forest_random = RandomizedSearchCV(estimator = forest_model,\n",
    "                                   scoring=rmse_score,\n",
    "                                   param_distributions = random_grid,\n",
    "                                   n_iter = 6, cv = 4,\n",
    "                                   verbose=2, random_state=42, n_jobs = -1)\n",
    "\n",
    "forest_random.fit(features_train, target_train)\n",
    "forest_random.best_params_"
   ]
  },
  {
   "cell_type": "markdown",
   "metadata": {},
   "source": [
    "Сохраняем и оцениваем модель:"
   ]
  },
  {
   "cell_type": "code",
   "execution_count": 33,
   "metadata": {
    "scrolled": false
   },
   "outputs": [
    {
     "name": "stdout",
     "output_type": "stream",
     "text": [
      "RMSE Train: 1495.663733304604\n",
      "RMSE Valid: 1753.6612885690167\n",
      "RMSE Test: 1757.4097139748264\n",
      "CPU times: user 6.67 s, sys: 0 ns, total: 6.67 s\n",
      "Wall time: 6.71 s\n"
     ]
    }
   ],
   "source": [
    "%%time\n",
    "forest_model = forest_random.best_estimator_\n",
    "\n",
    "prediction = forest_model.predict(features_train)\n",
    "print('RMSE Train:', rmse(target_train, prediction))\n",
    "\n",
    "prediction = forest_model.predict(features_valid)\n",
    "print('RMSE Valid:', rmse(target_valid, prediction))\n",
    "\n",
    "prediction = forest_model.predict(features_test)\n",
    "print('RMSE Test:', rmse(target_test, prediction))"
   ]
  },
  {
   "cell_type": "markdown",
   "metadata": {},
   "source": [
    "Модель **Случайного леса** несколько переобучилась, однако значение **RMSE** близко к модели **LightGBM**.\n",
    "\n",
    "То есть качество приемлемое, хоть и уступает алгоритму бустинга.\n",
    "\n",
    "Непосредственное обучение модели происходит довольно быстро, в пределах 30 секунд, однако требуется время на подбор гиперпараметров.\n",
    "\n",
    "Выходит, случайный лес является золотой серединой, поскольку обучение не требует больших временных затрат, а конечное качество модели довольно высоко."
   ]
  },
  {
   "cell_type": "markdown",
   "metadata": {},
   "source": [
    "---"
   ]
  },
  {
   "cell_type": "markdown",
   "metadata": {},
   "source": [
    "# Вывод:"
   ]
  },
  {
   "cell_type": "markdown",
   "metadata": {},
   "source": [
    "При решении задачи удалось добиться следующих показателей работы моделей:\n",
    "\n",
    "#### Градиентный бустинг\n",
    "\n",
    "- **Конечное значение RMSE: 1630**\n",
    "- **Время обучения модели: 4 мин. 12 с.**\n",
    "- **Время дачи предсказаний на тестовой выборке: 6 секунд.**\n",
    "\n",
    "#### Линейная регрессия\n",
    "\n",
    "- **Конечное значение RMSE: 2937**\n",
    "- **Время обучения модели: меньше 1 с.**\n",
    "- **Время дачи предсказаний на тестовой выборке: меньше 1 с.**\n",
    "\n",
    "#### Случайный лес\n",
    "\n",
    "- **Конечное значение RMSE: 1644**\n",
    "- **Время обучения модели: 2 мин. 35 с.**\n",
    "- **Время дачи предсказаний на тестовой выборке: 4 секунд.**\n",
    "\n",
    "Модель линейной регресси дает показания не сильно лучше константной, то есть едва проходит проверку на адекватность. Единственный плюс - высокая скорость работы\n",
    "\n",
    "Модели бустинга и Случайного леса напротив же, не отличаются высокой скоростью, однако дают качество предсказаний значительно выше.\n",
    "\n",
    "---\n",
    "### Предпочтение стоит отдать модели Градинентного бустинга, поскольку она обладает наибольшей точностью, а время работы остается в приемлемых рамках.\n",
    "\n",
    "---\n",
    "\n",
    "Отдельно стоит уточнить природу появления дубликатов. Довольно большая часть (порядка 40 тысяч записей) данных состояла из дубликатов, и была удалена в ходе предобработки.\\\n",
    "Если это не ошибка в данных, и удалять их не требуется, то конечное значение метрики, очевидно, было бы ниже.\n",
    "\n",
    "Также стоит узнать причину, по которой цена некоторых автомобилей была равна нулю, что также привело к удалению части записей, т.к. в них отстутствовал целевой признак.\n",
    "\n",
    "### Задача выполнена, учтены все пожелания заказчика."
   ]
  }
 ],
 "metadata": {
  "kernelspec": {
   "display_name": "Python 3",
   "language": "python",
   "name": "python3"
  },
  "language_info": {
   "codemirror_mode": {
    "name": "ipython",
    "version": 3
   },
   "file_extension": ".py",
   "mimetype": "text/x-python",
   "name": "python",
   "nbconvert_exporter": "python",
   "pygments_lexer": "ipython3",
   "version": "3.7.4"
  }
 },
 "nbformat": 4,
 "nbformat_minor": 2
}
